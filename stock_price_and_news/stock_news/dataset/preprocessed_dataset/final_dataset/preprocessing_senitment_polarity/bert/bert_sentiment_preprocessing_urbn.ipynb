{
 "cells": [
  {
   "cell_type": "code",
   "execution_count": 1,
   "metadata": {},
   "outputs": [
    {
     "name": "stderr",
     "output_type": "stream",
     "text": [
      "C:\\Users\\User\\AppData\\Local\\Packages\\PythonSoftwareFoundation.Python.3.10_qbz5n2kfra8p0\\LocalCache\\local-packages\\Python310\\site-packages\\tqdm\\auto.py:22: TqdmWarning: IProgress not found. Please update jupyter and ipywidgets. See https://ipywidgets.readthedocs.io/en/stable/user_install.html\n",
      "  from .autonotebook import tqdm as notebook_tqdm\n"
     ]
    }
   ],
   "source": [
    "from bs4 import BeautifulSoup\n",
    "import re\n",
    "import json\n",
    "from datasets import Dataset\n",
    "import torch\n",
    "from sklearn.preprocessing import MinMaxScaler\n",
    "import pandas as pd\n",
    "import numpy as np\n",
    "import pandas as pd \n",
    "import yfinance as yf \n",
    "from yahoofinancials import YahooFinancials\n",
    "from datetime import datetime"
   ]
  },
  {
   "cell_type": "code",
   "execution_count": 2,
   "metadata": {},
   "outputs": [],
   "source": [
    "urbn_soup = BeautifulSoup(open(r\"\\Users\\User\\Desktop\\new_model\\stock_price_and_news\\stock_news\\dataset\\urbn_final\\urbn_2003.html\", encoding=\"utf8\"),\"html.parser\")\n"
   ]
  },
  {
   "cell_type": "code",
   "execution_count": 3,
   "metadata": {},
   "outputs": [],
   "source": [
    "urbn_timestamp = []\n",
    "for e in urbn_soup.find_all(\"span\", {\"class\": \"article__timestamp\"}):\n",
    "    urbn_timestamp.append(e.get_text())\n"
   ]
  },
  {
   "cell_type": "code",
   "execution_count": 4,
   "metadata": {},
   "outputs": [],
   "source": [
    "urbn_file = []\n",
    "for urbn_text in urbn_soup.find_all(\"h3\"):\n",
    "    urbn_file.append(urbn_text.get_text())\n",
    "urbn_clean1 = []\n",
    "for urbn_text1 in urbn_file:\n",
    "    urbn_clean1.append(urbn_text1.replace(\"\\n\", \"\"))\n",
    "urbn_remove = []\n",
    "for e in urbn_clean1:\n",
    "    if e not in (\n",
    " 'No Recent Tickers',\n",
    " 'Overview'\n",
    " ):\n",
    "        urbn_remove.append(e)\n",
    "urbn_space = []\n",
    "for e in urbn_remove:\n",
    "    urbn_space.append(e.strip())\n",
    "urbn_fullstop = []\n",
    "for e in urbn_space:\n",
    "    urbn_fullstop.append(e.replace(\".\",\"\"))\n",
    "urbn_q = []\n",
    "for e in urbn_fullstop:\n",
    "    urbn_q.append(e.replace(\"?\",\"\"))\n",
    "urbn_colon = []\n",
    "for e in urbn_q:\n",
    "    urbn_colon.append(e.replace(\":\",\"\"))\n",
    "urbn_comma = []\n",
    "for e in urbn_colon:\n",
    "    urbn_comma.append(e.replace(\",\",\"\"))\n",
    "urbn_percent = []\n",
    "for e in urbn_comma:\n",
    "    urbn_percent.append(e.replace(\"%\",\"percent\"))\n",
    "urbn_lower = []\n",
    "for i in range(len(urbn_percent)):\n",
    "    urbn_lower.append(urbn_percent[i].lower())\n",
    "urbn_barr = []\n",
    "for e in urbn_lower:\n",
    "    urbn_barr.append(e.replace(\"barron's\",\"\"))\n",
    "urbn_pain = []\n",
    "for e in urbn_barr:\n",
    "    if e not in ( 'marketwatch',\n",
    " 'company',\n",
    " 'dow jones network'):\n",
    "        urbn_pain.append(e)\n",
    "        "
   ]
  },
  {
   "cell_type": "code",
   "execution_count": 5,
   "metadata": {},
   "outputs": [
    {
     "data": {
      "text/plain": [
       "['urban outfitters (urbn) q4 earnings miss sales improve y/y',\n",
       " 'analysts offer insights on consumer goods companies ross stores (rost) and urban outfitters (urbn)',\n",
       " 'urban outfitters (urbn) q4 earnings miss estimates',\n",
       " '5 key earnings charts this week',\n",
       " 'urban outfitters (urbn) to post q4 earnings things to note',\n",
       " '7 luxury apparel stocks that will strut their way through 2022',\n",
       " 'hyperion capital advisors lp buys sotera health co american eagle outfitters inc urban ',\n",
       " 'turtle creek asset management inc buys euronet worldwide inc alliance data systems corp ',\n",
       " 'analysts offer insights on consumer goods companies cvs health (cvs) mohawk (mhk) and urban outfitters (urbn)',\n",
       " \"urban outfitters' (urbn) q4 sales increase on brand strength\"]"
      ]
     },
     "execution_count": 5,
     "metadata": {},
     "output_type": "execute_result"
    }
   ],
   "source": [
    "urbn_pain[-10:]"
   ]
  },
  {
   "cell_type": "code",
   "execution_count": 6,
   "metadata": {},
   "outputs": [],
   "source": [
    "device = torch.device(\"cpu\")"
   ]
  },
  {
   "cell_type": "code",
   "execution_count": 7,
   "metadata": {},
   "outputs": [
    {
     "name": "stderr",
     "output_type": "stream",
     "text": [
      "Some weights of the model checkpoint at bert-base-uncased were not used when initializing BertForSequenceClassification: ['cls.predictions.bias', 'cls.predictions.transform.LayerNorm.weight', 'cls.seq_relationship.bias', 'cls.predictions.transform.dense.weight', 'cls.seq_relationship.weight', 'cls.predictions.decoder.weight', 'cls.predictions.transform.LayerNorm.bias', 'cls.predictions.transform.dense.bias']\n",
      "- This IS expected if you are initializing BertForSequenceClassification from the checkpoint of a model trained on another task or with another architecture (e.g. initializing a BertForSequenceClassification model from a BertForPreTraining model).\n",
      "- This IS NOT expected if you are initializing BertForSequenceClassification from the checkpoint of a model that you expect to be exactly identical (initializing a BertForSequenceClassification model from a BertForSequenceClassification model).\n",
      "Some weights of BertForSequenceClassification were not initialized from the model checkpoint at bert-base-uncased and are newly initialized: ['classifier.bias', 'classifier.weight']\n",
      "You should probably TRAIN this model on a down-stream task to be able to use it for predictions and inference.\n"
     ]
    }
   ],
   "source": [
    "from transformers import BertModel, BertTokenizer,AutoModelForSequenceClassification\n",
    "tokenizer = BertTokenizer.from_pretrained('bert-base-uncased')\n",
    "\n",
    "model = AutoModelForSequenceClassification.from_pretrained('bert-base-uncased',num_labels = 3)"
   ]
  },
  {
   "cell_type": "code",
   "execution_count": 8,
   "metadata": {},
   "outputs": [],
   "source": [
    "def softmax(x):\n",
    "    \"\"\"Compute softmax values for each sets of scores in x.\"\"\"\n",
    "    e_x = np.exp(x - np.max(x, axis=1)[:, None])\n",
    "    return e_x / np.sum(e_x, axis=1)[:, None]"
   ]
  },
  {
   "cell_type": "code",
   "execution_count": 9,
   "metadata": {},
   "outputs": [
    {
     "name": "stdout",
     "output_type": "stream",
     "text": [
      "[-0.00750959 -0.00627327]\n"
     ]
    }
   ],
   "source": [
    "label_dict = {0: 'positive', 1: 'negative', 2: 'neutral'}\n",
    "\n",
    "urbn_out = []\n",
    "urbn_score = []\n",
    "for i in range(0, len(urbn_pain), 10):\n",
    "    tokenized_urbn = tokenizer(urbn_pain[i:i+10], truncation = True, padding = True, return_tensors = \"pt\")\n",
    "    urbn_output = model(tokenized_urbn['input_ids'])\n",
    "    soft_logits_urbn = softmax(np.array(urbn_output.logits.detach().cpu()))\n",
    "    sentiment_score_urbn = soft_logits_urbn[:,0]-soft_logits_urbn[:,1]\n",
    "    urbn_pred = np.squeeze(np.argmax(soft_logits_urbn, axis = 1))\n",
    "    urbn_out.extend(urbn_pred)\n",
    "    urbn_score.extend(sentiment_score_urbn)\n",
    "#print(gps_out) \n",
    "print(sentiment_score_urbn)"
   ]
  },
  {
   "cell_type": "code",
   "execution_count": 10,
   "metadata": {},
   "outputs": [
    {
     "name": "stdout",
     "output_type": "stream",
     "text": [
      "1312\n",
      "1312\n"
     ]
    }
   ],
   "source": [
    "print(len(urbn_out))\n",
    "urbn_class = [label_dict[pred] for pred in urbn_out]\n",
    "print(len(urbn_class))\n",
    "#print(gps_class)"
   ]
  },
  {
   "cell_type": "code",
   "execution_count": 11,
   "metadata": {},
   "outputs": [
    {
     "name": "stdout",
     "output_type": "stream",
     "text": [
      "[*********************100%***********************]  1 of 1 completed\n"
     ]
    }
   ],
   "source": [
    "urbn_stock_price  = yf.download('urbn', start='2003-09-23', end='2022-04-03', time_interval = 'daily')\n"
   ]
  },
  {
   "cell_type": "code",
   "execution_count": 12,
   "metadata": {},
   "outputs": [],
   "source": [
    "urbn_stock_price = urbn_stock_price.drop(['Open', 'High','Low','Volume', 'Adj Close'], axis = 1)\n"
   ]
  },
  {
   "cell_type": "code",
   "execution_count": 13,
   "metadata": {},
   "outputs": [],
   "source": [
    "urbn_et = []\n",
    "for e in urbn_timestamp:\n",
    "    urbn_et.append(e.replace(\"ET\",\"\"))\n",
    "urbn_at1 = []\n",
    "for e in urbn_et:\n",
    "    urbn_at1.append(e.replace(\"at\",\"\"))\n",
    "urbn_pm1 = []\n",
    "for e in urbn_at1:\n",
    "    urbn_pm1.append(e.replace(\"p.m.\",\"\"))\n",
    "urbn_am1 = []\n",
    "for e in urbn_pm1:\n",
    "    urbn_am1.append(e.replace(\"a.m.\",\"\"))\n",
    "urbn_commas = []\n",
    "for e in urbn_am1:\n",
    "    urbn_commas.append(e.replace(\",\",\"\"))\n",
    "urbn_fullstops = []\n",
    "for e in urbn_commas:\n",
    "    urbn_fullstops.append(e.replace(\".\",\"\"))\n",
    "urbn_timestamp_final = urbn_fullstops"
   ]
  },
  {
   "cell_type": "code",
   "execution_count": 14,
   "metadata": {},
   "outputs": [
    {
     "data": {
      "text/plain": [
       "['Feb 22 2022  1:46  ',\n",
       " 'Feb 18 2022  7:38  ',\n",
       " 'Feb 15 2022  10:38  ',\n",
       " 'Feb 13 2022  9:55  ',\n",
       " 'Feb 11 2022  3:38  ']"
      ]
     },
     "execution_count": 14,
     "metadata": {},
     "output_type": "execute_result"
    }
   ],
   "source": [
    "urbn_timestamp_final[-5:]\n"
   ]
  },
  {
   "cell_type": "code",
   "execution_count": 15,
   "metadata": {},
   "outputs": [],
   "source": [
    "urbn_date = [datetime.strptime(x,'%b %d %Y  %I:%M ') for x in urbn_timestamp_final]\n"
   ]
  },
  {
   "cell_type": "code",
   "execution_count": 16,
   "metadata": {},
   "outputs": [
    {
     "data": {
      "text/plain": [
       "[datetime.datetime(2022, 2, 22, 1, 46),\n",
       " datetime.datetime(2022, 2, 18, 7, 38),\n",
       " datetime.datetime(2022, 2, 15, 10, 38),\n",
       " datetime.datetime(2022, 2, 13, 9, 55),\n",
       " datetime.datetime(2022, 2, 11, 3, 38)]"
      ]
     },
     "execution_count": 16,
     "metadata": {},
     "output_type": "execute_result"
    }
   ],
   "source": [
    "urbn_date[-5:]"
   ]
  },
  {
   "cell_type": "code",
   "execution_count": 17,
   "metadata": {},
   "outputs": [],
   "source": [
    "urbn_score = pd.DataFrame (urbn_score, columns = ['sentiment_score'])\n",
    "scaler = MinMaxScaler(feature_range=(0, 1))\n",
    "urbn_senti_scaler = scaler.fit_transform(urbn_score.values.reshape(-1,1))\n",
    "urbn_date = pd.DataFrame (urbn_date, columns = ['Date'])\n",
    "urbn_senti_scaler = pd.DataFrame (urbn_senti_scaler, columns = ['sentiment_score'])\n",
    "\n",
    "urbn_news_table = pd.concat([urbn_date, urbn_senti_scaler], axis=1)"
   ]
  },
  {
   "cell_type": "code",
   "execution_count": 18,
   "metadata": {},
   "outputs": [
    {
     "data": {
      "text/plain": [
       "False"
      ]
     },
     "execution_count": 18,
     "metadata": {},
     "output_type": "execute_result"
    }
   ],
   "source": [
    "urbn_news_table.isnull().values.any()\n"
   ]
  },
  {
   "cell_type": "code",
   "execution_count": null,
   "metadata": {},
   "outputs": [],
   "source": []
  },
  {
   "cell_type": "code",
   "execution_count": 19,
   "metadata": {},
   "outputs": [
    {
     "data": {
      "text/html": [
       "<div>\n",
       "<style scoped>\n",
       "    .dataframe tbody tr th:only-of-type {\n",
       "        vertical-align: middle;\n",
       "    }\n",
       "\n",
       "    .dataframe tbody tr th {\n",
       "        vertical-align: top;\n",
       "    }\n",
       "\n",
       "    .dataframe thead th {\n",
       "        text-align: right;\n",
       "    }\n",
       "</style>\n",
       "<table border=\"1\" class=\"dataframe\">\n",
       "  <thead>\n",
       "    <tr style=\"text-align: right;\">\n",
       "      <th></th>\n",
       "      <th>Date</th>\n",
       "      <th>sentiment_score</th>\n",
       "    </tr>\n",
       "  </thead>\n",
       "  <tbody>\n",
       "    <tr>\n",
       "      <th>0</th>\n",
       "      <td>2022-04-01 02:29:00</td>\n",
       "      <td>0.536092</td>\n",
       "    </tr>\n",
       "    <tr>\n",
       "      <th>1</th>\n",
       "      <td>2022-02-15 00:53:00</td>\n",
       "      <td>0.178522</td>\n",
       "    </tr>\n",
       "    <tr>\n",
       "      <th>2</th>\n",
       "      <td>2022-01-11 08:28:00</td>\n",
       "      <td>0.677281</td>\n",
       "    </tr>\n",
       "    <tr>\n",
       "      <th>3</th>\n",
       "      <td>2022-01-11 08:10:00</td>\n",
       "      <td>0.504616</td>\n",
       "    </tr>\n",
       "    <tr>\n",
       "      <th>4</th>\n",
       "      <td>2022-01-11 08:10:00</td>\n",
       "      <td>0.553535</td>\n",
       "    </tr>\n",
       "    <tr>\n",
       "      <th>...</th>\n",
       "      <td>...</td>\n",
       "      <td>...</td>\n",
       "    </tr>\n",
       "    <tr>\n",
       "      <th>1307</th>\n",
       "      <td>2022-02-22 01:46:00</td>\n",
       "      <td>0.594336</td>\n",
       "    </tr>\n",
       "    <tr>\n",
       "      <th>1308</th>\n",
       "      <td>2022-02-18 07:38:00</td>\n",
       "      <td>0.645936</td>\n",
       "    </tr>\n",
       "    <tr>\n",
       "      <th>1309</th>\n",
       "      <td>2022-02-15 10:38:00</td>\n",
       "      <td>0.621654</td>\n",
       "    </tr>\n",
       "    <tr>\n",
       "      <th>1310</th>\n",
       "      <td>2022-02-13 09:55:00</td>\n",
       "      <td>0.685893</td>\n",
       "    </tr>\n",
       "    <tr>\n",
       "      <th>1311</th>\n",
       "      <td>2022-02-11 03:38:00</td>\n",
       "      <td>0.691948</td>\n",
       "    </tr>\n",
       "  </tbody>\n",
       "</table>\n",
       "<p>1312 rows × 2 columns</p>\n",
       "</div>"
      ],
      "text/plain": [
       "                    Date  sentiment_score\n",
       "0    2022-04-01 02:29:00         0.536092\n",
       "1    2022-02-15 00:53:00         0.178522\n",
       "2    2022-01-11 08:28:00         0.677281\n",
       "3    2022-01-11 08:10:00         0.504616\n",
       "4    2022-01-11 08:10:00         0.553535\n",
       "...                  ...              ...\n",
       "1307 2022-02-22 01:46:00         0.594336\n",
       "1308 2022-02-18 07:38:00         0.645936\n",
       "1309 2022-02-15 10:38:00         0.621654\n",
       "1310 2022-02-13 09:55:00         0.685893\n",
       "1311 2022-02-11 03:38:00         0.691948\n",
       "\n",
       "[1312 rows x 2 columns]"
      ]
     },
     "execution_count": 19,
     "metadata": {},
     "output_type": "execute_result"
    }
   ],
   "source": [
    "urbn_news_table"
   ]
  },
  {
   "cell_type": "code",
   "execution_count": 20,
   "metadata": {},
   "outputs": [],
   "source": [
    "urbn_news = urbn_news_table.sort_values(by =\"Date\")"
   ]
  },
  {
   "cell_type": "code",
   "execution_count": 21,
   "metadata": {},
   "outputs": [],
   "source": [
    "scaler = MinMaxScaler(feature_range=(0, 1))\n",
    "urbn_scaler = scaler.fit_transform(urbn_stock_price.values.reshape(-1,1))"
   ]
  },
  {
   "cell_type": "code",
   "execution_count": 22,
   "metadata": {},
   "outputs": [],
   "source": [
    "urbn_pure_price = pd.DataFrame(urbn_scaler, columns = ['Closing_price'])\n",
    "urbn_pure_price = urbn_pure_price.reset_index()\n",
    "#urbn_pure_price = urbn_pure_price.drop(columns= ['Date'])\n",
    "\n",
    "urbn_stock_price1 = urbn_stock_price.reset_index()\n",
    "urbn_stockprice_date = urbn_stock_price1[\"Date\"]\n",
    "urbn_stockprice_date = pd.DataFrame({ 'Stock_price_date':urbn_stockprice_date.values})\n"
   ]
  },
  {
   "cell_type": "code",
   "execution_count": 23,
   "metadata": {},
   "outputs": [
    {
     "data": {
      "text/html": [
       "<div>\n",
       "<style scoped>\n",
       "    .dataframe tbody tr th:only-of-type {\n",
       "        vertical-align: middle;\n",
       "    }\n",
       "\n",
       "    .dataframe tbody tr th {\n",
       "        vertical-align: top;\n",
       "    }\n",
       "\n",
       "    .dataframe thead th {\n",
       "        text-align: right;\n",
       "    }\n",
       "</style>\n",
       "<table border=\"1\" class=\"dataframe\">\n",
       "  <thead>\n",
       "    <tr style=\"text-align: right;\">\n",
       "      <th></th>\n",
       "      <th>Stock_price_date</th>\n",
       "    </tr>\n",
       "  </thead>\n",
       "  <tbody>\n",
       "    <tr>\n",
       "      <th>0</th>\n",
       "      <td>2003-09-22</td>\n",
       "    </tr>\n",
       "    <tr>\n",
       "      <th>1</th>\n",
       "      <td>2003-09-23</td>\n",
       "    </tr>\n",
       "    <tr>\n",
       "      <th>2</th>\n",
       "      <td>2003-09-24</td>\n",
       "    </tr>\n",
       "    <tr>\n",
       "      <th>3</th>\n",
       "      <td>2003-09-25</td>\n",
       "    </tr>\n",
       "    <tr>\n",
       "      <th>4</th>\n",
       "      <td>2003-09-26</td>\n",
       "    </tr>\n",
       "    <tr>\n",
       "      <th>...</th>\n",
       "      <td>...</td>\n",
       "    </tr>\n",
       "    <tr>\n",
       "      <th>4661</th>\n",
       "      <td>2022-03-28</td>\n",
       "    </tr>\n",
       "    <tr>\n",
       "      <th>4662</th>\n",
       "      <td>2022-03-29</td>\n",
       "    </tr>\n",
       "    <tr>\n",
       "      <th>4663</th>\n",
       "      <td>2022-03-30</td>\n",
       "    </tr>\n",
       "    <tr>\n",
       "      <th>4664</th>\n",
       "      <td>2022-03-31</td>\n",
       "    </tr>\n",
       "    <tr>\n",
       "      <th>4665</th>\n",
       "      <td>2022-04-01</td>\n",
       "    </tr>\n",
       "  </tbody>\n",
       "</table>\n",
       "<p>4666 rows × 1 columns</p>\n",
       "</div>"
      ],
      "text/plain": [
       "     Stock_price_date\n",
       "0          2003-09-22\n",
       "1          2003-09-23\n",
       "2          2003-09-24\n",
       "3          2003-09-25\n",
       "4          2003-09-26\n",
       "...               ...\n",
       "4661       2022-03-28\n",
       "4662       2022-03-29\n",
       "4663       2022-03-30\n",
       "4664       2022-03-31\n",
       "4665       2022-04-01\n",
       "\n",
       "[4666 rows x 1 columns]"
      ]
     },
     "execution_count": 23,
     "metadata": {},
     "output_type": "execute_result"
    }
   ],
   "source": [
    "urbn_stockprice_date"
   ]
  },
  {
   "cell_type": "code",
   "execution_count": 24,
   "metadata": {},
   "outputs": [
    {
     "name": "stdout",
     "output_type": "stream",
     "text": [
      "False\n"
     ]
    }
   ],
   "source": [
    "urbn_stock_table =pd.concat([urbn_stockprice_date,urbn_pure_price], axis=1)\n",
    "print(urbn_stock_table.isnull().values.any())\n",
    "urbn_stock_table1 = urbn_stock_table.set_index('Stock_price_date')\n",
    "urbn_stock_table1 = urbn_stock_table1.drop(['index'],axis= 1)"
   ]
  },
  {
   "cell_type": "code",
   "execution_count": 25,
   "metadata": {},
   "outputs": [
    {
     "data": {
      "text/html": [
       "<div>\n",
       "<style scoped>\n",
       "    .dataframe tbody tr th:only-of-type {\n",
       "        vertical-align: middle;\n",
       "    }\n",
       "\n",
       "    .dataframe tbody tr th {\n",
       "        vertical-align: top;\n",
       "    }\n",
       "\n",
       "    .dataframe thead th {\n",
       "        text-align: right;\n",
       "    }\n",
       "</style>\n",
       "<table border=\"1\" class=\"dataframe\">\n",
       "  <thead>\n",
       "    <tr style=\"text-align: right;\">\n",
       "      <th></th>\n",
       "      <th>Date</th>\n",
       "      <th>sentiment_score</th>\n",
       "    </tr>\n",
       "  </thead>\n",
       "  <tbody>\n",
       "    <tr>\n",
       "      <th>1291</th>\n",
       "      <td>2003-09-26 10:15:00</td>\n",
       "      <td>0.085076</td>\n",
       "    </tr>\n",
       "    <tr>\n",
       "      <th>1290</th>\n",
       "      <td>2003-10-02 10:37:00</td>\n",
       "      <td>0.282076</td>\n",
       "    </tr>\n",
       "    <tr>\n",
       "      <th>1289</th>\n",
       "      <td>2003-10-21 10:47:00</td>\n",
       "      <td>0.074614</td>\n",
       "    </tr>\n",
       "    <tr>\n",
       "      <th>1288</th>\n",
       "      <td>2004-04-06 09:43:00</td>\n",
       "      <td>0.361402</td>\n",
       "    </tr>\n",
       "    <tr>\n",
       "      <th>1287</th>\n",
       "      <td>2004-05-28 09:49:00</td>\n",
       "      <td>0.491611</td>\n",
       "    </tr>\n",
       "    <tr>\n",
       "      <th>1286</th>\n",
       "      <td>2004-10-28 09:27:00</td>\n",
       "      <td>0.398118</td>\n",
       "    </tr>\n",
       "    <tr>\n",
       "      <th>1285</th>\n",
       "      <td>2004-11-05 09:19:00</td>\n",
       "      <td>0.269345</td>\n",
       "    </tr>\n",
       "    <tr>\n",
       "      <th>1284</th>\n",
       "      <td>2004-11-09 09:26:00</td>\n",
       "      <td>0.358851</td>\n",
       "    </tr>\n",
       "    <tr>\n",
       "      <th>1283</th>\n",
       "      <td>2005-03-02 09:16:00</td>\n",
       "      <td>0.260440</td>\n",
       "    </tr>\n",
       "    <tr>\n",
       "      <th>1282</th>\n",
       "      <td>2005-03-11 10:33:00</td>\n",
       "      <td>0.187051</td>\n",
       "    </tr>\n",
       "  </tbody>\n",
       "</table>\n",
       "</div>"
      ],
      "text/plain": [
       "                    Date  sentiment_score\n",
       "1291 2003-09-26 10:15:00         0.085076\n",
       "1290 2003-10-02 10:37:00         0.282076\n",
       "1289 2003-10-21 10:47:00         0.074614\n",
       "1288 2004-04-06 09:43:00         0.361402\n",
       "1287 2004-05-28 09:49:00         0.491611\n",
       "1286 2004-10-28 09:27:00         0.398118\n",
       "1285 2004-11-05 09:19:00         0.269345\n",
       "1284 2004-11-09 09:26:00         0.358851\n",
       "1283 2005-03-02 09:16:00         0.260440\n",
       "1282 2005-03-11 10:33:00         0.187051"
      ]
     },
     "execution_count": 25,
     "metadata": {},
     "output_type": "execute_result"
    }
   ],
   "source": [
    "urbn_news_table2 = urbn_news_table.sort_values(\"Date\")\n",
    "urbn_news_table2.head(10)"
   ]
  },
  {
   "cell_type": "code",
   "execution_count": 26,
   "metadata": {},
   "outputs": [],
   "source": [
    "urbn_news_table3 = urbn_news_table2.set_index('Date')"
   ]
  },
  {
   "cell_type": "code",
   "execution_count": 27,
   "metadata": {},
   "outputs": [
    {
     "data": {
      "text/html": [
       "<div>\n",
       "<style scoped>\n",
       "    .dataframe tbody tr th:only-of-type {\n",
       "        vertical-align: middle;\n",
       "    }\n",
       "\n",
       "    .dataframe tbody tr th {\n",
       "        vertical-align: top;\n",
       "    }\n",
       "\n",
       "    .dataframe thead th {\n",
       "        text-align: right;\n",
       "    }\n",
       "</style>\n",
       "<table border=\"1\" class=\"dataframe\">\n",
       "  <thead>\n",
       "    <tr style=\"text-align: right;\">\n",
       "      <th></th>\n",
       "      <th>sentiment_score</th>\n",
       "    </tr>\n",
       "    <tr>\n",
       "      <th>Date</th>\n",
       "      <th></th>\n",
       "    </tr>\n",
       "  </thead>\n",
       "  <tbody>\n",
       "    <tr>\n",
       "      <th>2003-09-26 10:15:00</th>\n",
       "      <td>0.085076</td>\n",
       "    </tr>\n",
       "    <tr>\n",
       "      <th>2003-10-02 10:37:00</th>\n",
       "      <td>0.282076</td>\n",
       "    </tr>\n",
       "    <tr>\n",
       "      <th>2003-10-21 10:47:00</th>\n",
       "      <td>0.074614</td>\n",
       "    </tr>\n",
       "    <tr>\n",
       "      <th>2004-04-06 09:43:00</th>\n",
       "      <td>0.361402</td>\n",
       "    </tr>\n",
       "    <tr>\n",
       "      <th>2004-05-28 09:49:00</th>\n",
       "      <td>0.491611</td>\n",
       "    </tr>\n",
       "    <tr>\n",
       "      <th>...</th>\n",
       "      <td>...</td>\n",
       "    </tr>\n",
       "    <tr>\n",
       "      <th>2022-03-31 11:30:00</th>\n",
       "      <td>0.560864</td>\n",
       "    </tr>\n",
       "    <tr>\n",
       "      <th>2022-04-01 02:29:00</th>\n",
       "      <td>0.536092</td>\n",
       "    </tr>\n",
       "    <tr>\n",
       "      <th>2022-04-12 10:43:00</th>\n",
       "      <td>0.419552</td>\n",
       "    </tr>\n",
       "    <tr>\n",
       "      <th>2022-04-13 00:29:00</th>\n",
       "      <td>0.125792</td>\n",
       "    </tr>\n",
       "    <tr>\n",
       "      <th>2022-04-13 11:06:00</th>\n",
       "      <td>0.466742</td>\n",
       "    </tr>\n",
       "  </tbody>\n",
       "</table>\n",
       "<p>1312 rows × 1 columns</p>\n",
       "</div>"
      ],
      "text/plain": [
       "                     sentiment_score\n",
       "Date                                \n",
       "2003-09-26 10:15:00         0.085076\n",
       "2003-10-02 10:37:00         0.282076\n",
       "2003-10-21 10:47:00         0.074614\n",
       "2004-04-06 09:43:00         0.361402\n",
       "2004-05-28 09:49:00         0.491611\n",
       "...                              ...\n",
       "2022-03-31 11:30:00         0.560864\n",
       "2022-04-01 02:29:00         0.536092\n",
       "2022-04-12 10:43:00         0.419552\n",
       "2022-04-13 00:29:00         0.125792\n",
       "2022-04-13 11:06:00         0.466742\n",
       "\n",
       "[1312 rows x 1 columns]"
      ]
     },
     "execution_count": 27,
     "metadata": {},
     "output_type": "execute_result"
    }
   ],
   "source": [
    "urbn_news_table3"
   ]
  },
  {
   "cell_type": "code",
   "execution_count": 28,
   "metadata": {},
   "outputs": [
    {
     "name": "stderr",
     "output_type": "stream",
     "text": [
      "C:\\Users\\User\\AppData\\Local\\Temp\\ipykernel_25728\\4185542038.py:2: FutureWarning: In a future version of pandas all arguments of DataFrame.drop except for the argument 'labels' will be keyword-only.\n",
      "  .merge(urbn_stock_table1, left_on='key', right_index=True, how='left').drop('key', 1)\n"
     ]
    }
   ],
   "source": [
    "urbn_final_table = urbn_news_table3.assign(key=urbn_news_table3.index.normalize())\\\n",
    "   .merge(urbn_stock_table1, left_on='key', right_index=True, how='left').drop('key', 1)"
   ]
  },
  {
   "cell_type": "code",
   "execution_count": 29,
   "metadata": {},
   "outputs": [
    {
     "data": {
      "text/html": [
       "<div>\n",
       "<style scoped>\n",
       "    .dataframe tbody tr th:only-of-type {\n",
       "        vertical-align: middle;\n",
       "    }\n",
       "\n",
       "    .dataframe tbody tr th {\n",
       "        vertical-align: top;\n",
       "    }\n",
       "\n",
       "    .dataframe thead th {\n",
       "        text-align: right;\n",
       "    }\n",
       "</style>\n",
       "<table border=\"1\" class=\"dataframe\">\n",
       "  <thead>\n",
       "    <tr style=\"text-align: right;\">\n",
       "      <th></th>\n",
       "      <th>sentiment_score</th>\n",
       "      <th>Closing_price</th>\n",
       "    </tr>\n",
       "    <tr>\n",
       "      <th>Date</th>\n",
       "      <th></th>\n",
       "      <th></th>\n",
       "    </tr>\n",
       "  </thead>\n",
       "  <tbody>\n",
       "    <tr>\n",
       "      <th>2003-09-26 10:15:00</th>\n",
       "      <td>0.085076</td>\n",
       "      <td>0.005820</td>\n",
       "    </tr>\n",
       "    <tr>\n",
       "      <th>2003-10-02 10:37:00</th>\n",
       "      <td>0.282076</td>\n",
       "      <td>0.014638</td>\n",
       "    </tr>\n",
       "    <tr>\n",
       "      <th>2003-10-21 10:47:00</th>\n",
       "      <td>0.074614</td>\n",
       "      <td>0.046678</td>\n",
       "    </tr>\n",
       "    <tr>\n",
       "      <th>2004-04-06 09:43:00</th>\n",
       "      <td>0.361402</td>\n",
       "      <td>0.145209</td>\n",
       "    </tr>\n",
       "    <tr>\n",
       "      <th>2004-05-28 09:49:00</th>\n",
       "      <td>0.491611</td>\n",
       "      <td>0.176661</td>\n",
       "    </tr>\n",
       "    <tr>\n",
       "      <th>...</th>\n",
       "      <td>...</td>\n",
       "      <td>...</td>\n",
       "    </tr>\n",
       "    <tr>\n",
       "      <th>2022-03-31 11:30:00</th>\n",
       "      <td>0.560864</td>\n",
       "      <td>0.444327</td>\n",
       "    </tr>\n",
       "    <tr>\n",
       "      <th>2022-04-01 02:29:00</th>\n",
       "      <td>0.536092</td>\n",
       "      <td>0.434921</td>\n",
       "    </tr>\n",
       "    <tr>\n",
       "      <th>2022-04-12 10:43:00</th>\n",
       "      <td>0.419552</td>\n",
       "      <td>NaN</td>\n",
       "    </tr>\n",
       "    <tr>\n",
       "      <th>2022-04-13 00:29:00</th>\n",
       "      <td>0.125792</td>\n",
       "      <td>NaN</td>\n",
       "    </tr>\n",
       "    <tr>\n",
       "      <th>2022-04-13 11:06:00</th>\n",
       "      <td>0.466742</td>\n",
       "      <td>NaN</td>\n",
       "    </tr>\n",
       "  </tbody>\n",
       "</table>\n",
       "<p>1312 rows × 2 columns</p>\n",
       "</div>"
      ],
      "text/plain": [
       "                     sentiment_score  Closing_price\n",
       "Date                                               \n",
       "2003-09-26 10:15:00         0.085076       0.005820\n",
       "2003-10-02 10:37:00         0.282076       0.014638\n",
       "2003-10-21 10:47:00         0.074614       0.046678\n",
       "2004-04-06 09:43:00         0.361402       0.145209\n",
       "2004-05-28 09:49:00         0.491611       0.176661\n",
       "...                              ...            ...\n",
       "2022-03-31 11:30:00         0.560864       0.444327\n",
       "2022-04-01 02:29:00         0.536092       0.434921\n",
       "2022-04-12 10:43:00         0.419552            NaN\n",
       "2022-04-13 00:29:00         0.125792            NaN\n",
       "2022-04-13 11:06:00         0.466742            NaN\n",
       "\n",
       "[1312 rows x 2 columns]"
      ]
     },
     "execution_count": 29,
     "metadata": {},
     "output_type": "execute_result"
    }
   ],
   "source": [
    "urbn_final_table"
   ]
  },
  {
   "cell_type": "code",
   "execution_count": 30,
   "metadata": {},
   "outputs": [],
   "source": [
    "urbn_for_lstm = urbn_final_table.dropna()"
   ]
  },
  {
   "cell_type": "code",
   "execution_count": 31,
   "metadata": {},
   "outputs": [
    {
     "data": {
      "text/plain": [
       "sentiment_score    False\n",
       "Closing_price      False\n",
       "dtype: bool"
      ]
     },
     "execution_count": 31,
     "metadata": {},
     "output_type": "execute_result"
    }
   ],
   "source": [
    "urbn_for_lstm.isnull().any()"
   ]
  },
  {
   "cell_type": "code",
   "execution_count": 32,
   "metadata": {},
   "outputs": [],
   "source": [
    "urbn_for_lstm_chakky = urbn_final_table.fillna(method = \"ffill\")"
   ]
  },
  {
   "cell_type": "code",
   "execution_count": 34,
   "metadata": {},
   "outputs": [],
   "source": [
    "urbn_for_lstm_chakky = urbn_for_lstm_chakky.fillna(method = \"bfill\")"
   ]
  },
  {
   "cell_type": "code",
   "execution_count": 47,
   "metadata": {},
   "outputs": [],
   "source": [
    "urbn_for_lstm_chakky.to_csv('urbn_ffill_bert_new.csv', index = True)\n",
    "urbn_for_lstm.to_csv('urbn_lstm_bert_new.csv', index = True)"
   ]
  },
  {
   "cell_type": "code",
   "execution_count": null,
   "metadata": {},
   "outputs": [],
   "source": []
  }
 ],
 "metadata": {
  "interpreter": {
   "hash": "3b7e9cb8e453d6cda0fe8c8dd13f891a1f09162f0e7c66ffeae7751a7aecf00d"
  },
  "kernelspec": {
   "display_name": "Python 3.10.4 64-bit (windows store)",
   "language": "python",
   "name": "python3"
  },
  "language_info": {
   "codemirror_mode": {
    "name": "ipython",
    "version": 3
   },
   "file_extension": ".py",
   "mimetype": "text/x-python",
   "name": "python",
   "nbconvert_exporter": "python",
   "pygments_lexer": "ipython3",
   "version": "3.10.5"
  },
  "orig_nbformat": 4
 },
 "nbformat": 4,
 "nbformat_minor": 2
}
