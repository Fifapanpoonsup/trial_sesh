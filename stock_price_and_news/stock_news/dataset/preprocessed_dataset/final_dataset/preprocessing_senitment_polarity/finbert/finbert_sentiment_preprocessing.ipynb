{
 "cells": [
  {
   "cell_type": "code",
   "execution_count": 62,
   "metadata": {},
   "outputs": [],
   "source": [
    "from bs4 import BeautifulSoup\n",
    "import re\n",
    "import json\n",
    "from datasets import Dataset\n",
    "import torch\n",
    "from sklearn.preprocessing import MinMaxScaler\n",
    "import pandas as pd\n",
    "import numpy as np\n",
    "import pandas as pd \n",
    "import yfinance as yf \n",
    "from yahoofinancials import YahooFinancials\n",
    "from datetime import datetime"
   ]
  },
  {
   "cell_type": "code",
   "execution_count": 63,
   "metadata": {},
   "outputs": [],
   "source": [
    "gps_soup = BeautifulSoup(open(r\"C:\\Users\\User\\Desktop\\thesis_final\\stock_price_and_news\\stock_news\\dataset\\gps_final\\gps_jan_2007.html\", encoding=\"utf8\"), \n",
    "                     \"html.parser\")\n",
    "tsla_soup = BeautifulSoup(open(r\"C:\\Users\\User\\Desktop\\thesis_final\\stock_price_and_news\\stock_news\\dataset\\tsla_final\\tsla_2017_jan.html\", encoding=\"utf8\"), \n",
    "                     \"html.parser\")\n",
    "jpm_soup = BeautifulSoup(open(r\"C:\\Users\\User\\Desktop\\thesis_final\\stock_price_and_news\\stock_news\\dataset\\jpm_final\\jpm_2012_jan.html\", encoding=\"utf8\"), \n",
    "                     \"html.parser\")\n",
    "\n"
   ]
  },
  {
   "cell_type": "markdown",
   "metadata": {},
   "source": [
    "# getting timestamps"
   ]
  },
  {
   "cell_type": "code",
   "execution_count": 64,
   "metadata": {},
   "outputs": [],
   "source": [
    "gps_timestamp = []\n",
    "for e in gps_soup.find_all(\"span\", {\"class\": \"article__timestamp\"}):\n",
    "    gps_timestamp.append(e.get_text())\n",
    "tsla_timestamp = []\n",
    "for e in tsla_soup.find_all(\"span\", {\"class\": \"article__timestamp\"}):\n",
    "    tsla_timestamp.append(e.get_text())\n",
    "jpm_timestamp = []\n",
    "for e in jpm_soup.find_all(\"span\", {\"class\": \"article__timestamp\"}):\n",
    "    jpm_timestamp.append(e.get_text())"
   ]
  },
  {
   "cell_type": "markdown",
   "metadata": {},
   "source": [
    "# getting text"
   ]
  },
  {
   "cell_type": "code",
   "execution_count": 65,
   "metadata": {},
   "outputs": [],
   "source": [
    "tsla_file = []\n",
    "for tsla_text in tsla_soup.find_all(\"h3\"):\n",
    "    tsla_file.append(tsla_text.get_text())\n",
    "gps_file = []\n",
    "for gps_text in gps_soup.find_all(\"h3\"):\n",
    "    gps_file.append(gps_text.get_text())\n",
    "jpm_file = []\n",
    "for jpm_text in jpm_soup.find_all(\"h3\"):\n",
    "    jpm_file.append(jpm_text.get_text())"
   ]
  },
  {
   "cell_type": "code",
   "execution_count": 66,
   "metadata": {},
   "outputs": [
    {
     "data": {
      "text/plain": [
       "['\\n\\n                            \\n                            DCM Advisors, LLC Buys Apple Inc, Microsoft Corp, Alphabet Inc, Sells MetLife Inc, Qorvo Inc, ...\\n                        \\n',\n",
       " '\\n\\n                            \\n                            Down 38% From Its High, Is This Fintech a Buy?\\n                        \\n',\n",
       " '\\n\\n                            \\n                            1 Key Metric Shows How Wells Fargo Can Recover\\n                        \\n',\n",
       " \"\\n\\n                            \\n                            Here's Another Reason Why Shopify Is an Unstoppable E-Commerce Stock to Buy in 2022\\n                        \\n\",\n",
       " '\\n\\n                            \\n                            ING Groep NV Buys Amazon.com Inc, Micron Technology Inc, JPMorgan Chase, Sells Enterprise ...\\n                        \\n',\n",
       " '\\n\\n                            \\n                            Goodbye Accommodating Fed, JPMorgan Could Rise Sharply\\n                        \\n',\n",
       " '\\n\\n                            \\n                            Carl P. Sherr & Co., LLC Buys Apple Inc, Safety Insurance Group Inc, American Express Co, ...\\n                        \\n',\n",
       " 'MarketWatch',\n",
       " 'Company',\n",
       " 'Dow Jones Network']"
      ]
     },
     "execution_count": 66,
     "metadata": {},
     "output_type": "execute_result"
    }
   ],
   "source": [
    "jpm_file[-10:]"
   ]
  },
  {
   "cell_type": "code",
   "execution_count": 67,
   "metadata": {},
   "outputs": [],
   "source": [
    "gps_clean1 = []\n",
    "for gps_text1 in gps_file:\n",
    "    gps_clean1.append(gps_text1.replace(\"\\n\", \"\"))\n",
    "tsla_clean1 = []\n",
    "for tsla_text1 in tsla_file:\n",
    "    tsla_clean1.append(tsla_text1.replace(\"\\n\", \"\"))\n",
    "jpm_clean1 = []\n",
    "for jpm_text1 in jpm_file:\n",
    "    jpm_clean1.append(jpm_text1.replace(\"\\n\", \"\"))"
   ]
  },
  {
   "cell_type": "code",
   "execution_count": 68,
   "metadata": {},
   "outputs": [],
   "source": [
    "gps_remove = []\n",
    "for e in gps_clean1:\n",
    "    if e not in ('Intel announces $5.4 billion deal to buy Tower Semiconductor',\n",
    " 'Intel announces $5.4 billion deal to buy Tower Semiconductor',\n",
    " 'The most common excuses for not buying an electric vehicle are mostly unfounded',\n",
    " 'Ray Dalio’s Bridgewater boosts its bets on China',\n",
    " 'What is the Alfa Romeo Tonale, and why does it come with a non-fungible token?',\n",
    " 'What is a multicurrency account, and should you get one?',\n",
    " '‘Those years passed, and here I am.’ What it’s like to live to 100.',\n",
    " \"Barron'sInvestors, Beware: These Funds Could Pose a 'Flight Risk' for Junk Bond Markets\",\n",
    " 'No Recent Tickers',\n",
    " 'Overview'):\n",
    "        gps_remove.append(e)\n",
    "tsla_remove = []\n",
    "for e in tsla_clean1:\n",
    "    if e not in ('Virgin Galactic stock jumps 30% as space-tourism tickets to open soon',\n",
    " \"Barron'sGap Stock Gets a Downgrade. 2 Big Issues Worry the Analyst.\",\n",
    " \"Meta changes News Feed to 'Feed'\",\n",
    " 'Avis stock sinks as bears focus on revenue per day disappointment over earnings beat',\n",
    " \"BreakingBiden to give 'update' on Russia and Ukraine, White House says\",\n",
    " 'OpinionDon’t be fearful: Stock market investors could ultimately benefit from an economic recession',\n",
    " 'This Wall Street pro foresaw high inflation. Here’s what he thinks the Fed has to do',\n",
    " 'Senate Republicans plan to boycott committee vote on Powell and four other Biden Fed picks',\n",
    " \"Biden to say U.S. 'remains open to high-level diplomacy' with Russia \",\n",
    " \"Barron'sSenate Republicans to Delay Panel Vote on Raskin Fed Nomination\",\n",
    " 'Biden to speak on Russia and Ukraine situation at 3:30 p.m. Eastern, White House says',\n",
    " \"Barron'sSenate Republicans to Delay Panel Vote on Raskin Fed Nomination\",\n",
    " 'Why the Russia-Ukraine crisis may make food-price inflation even worse',\n",
    " 'PSEG boosts dividends, as implied yield remains well more than double that of the S&P 500',\n",
    " \"Barron'sVirgin Galactic Opens Reservations for Space. How to Book a Flight.\",\n",
    " 'PSEG raises quarterly dividend by nearly 6% to 54 cents a share',\n",
    " 'Lower house of parliament calls on Putin to recognize pro-Russia eastern regions of Ukraine as legitimate republics',\n",
    " \"Barron'sGE Stock Is Soaring. The Annual Report Has Provided a Boost.\",\n",
    " 'Cannabis banking firm Safe Harbor going public via SPAC deal',\n",
    " 'Over 112 million people watched the Super Bowl — up 14% from last year',\n",
    " \"Barron'sStanley Druckenmiller Got Bullish on Chevron. Should You Be?\",\n",
    " \"Barron'sFisker Is Taking Orders for Its New EV. Starting Price Is Below $30,000. \",\n",
    " 'More states are preventing local governments from requiring paid sick leave —  but low-wage workers end up paying the price',\n",
    " '‘It’s really hard for locals to compete’: Out-of-towners have one major advantage over locals in America’s hottest housing markets',\n",
    " 'Cannabis beverage company Cann gets backing from Green Thumb Industries and celebrity investors',\n",
    " 'Over 112 million people watched the Super Bowl — up 14% from last year',\n",
    " 'Prince Andrew reaches settlement with Virginia Giuffre in sexual abuse lawsuit',\n",
    " 'Over 112 million people watched the Super Bowl — up 14% from last year',\n",
    " 'CorrectionCanada announces sweeping measures to end trucker protests against virus restrictions, as U.S. COVID death toll tops 922,000',\n",
    " \"Barron'sWhy Now Is the Time to Dive Into Tech Stocks\",\n",
    " \"Barron'sAir-Taxi Stock Joby Is Soaring. An Airline Deal Shows the Sector's Potential.\",\n",
    " \"Barron'sStocks Jump After Russia Says Troops Are Pulling Back From Ukraine \",\n",
    " \"Amazon's Just Walk Out technology lands at NYC's LaGuardia Airport\",\n",
    " \"Barron'sWhy Apple Is Outpacing Netflix, Microsoft, and the Rest of Big Tech\",\n",
    " 'Sandy Hook families settle with gun maker Remington for $73 million',\n",
    " \"BreakingBoeing, Nike share gains lead Dow's 382-point rally\",\n",
    " \"Barron'sTesla Stock Needs to Break Free From Putin and Powell\",\n",
    " 'Fisker to start reservations for second EV, with production slated for November',\n",
    " \"Barron'sMastercard Is Hiring to Expand Crypto and ESG Consulting.\",\n",
    " 'Dow jumps over 400 points as Russia-Ukraine tensions ease',\n",
    " \"Barron'sTesla Stock Has Catalysts. It Needs to Break Free From Putin and Powell.\",\n",
    " 'OpinionThis fail-safe protection against inflation is back',\n",
    " \"Barron'sNvidia's Earnings Could Be a Big Win. What to Expect.\",\n",
    " \"Barron'sCoinbase Plans to Hire 2,000 Employees Because of  'Enormous' Web3 Opportunities\",\n",
    " 'Amazon lifts mask requirement for fully vaccinated workers',\n",
    " \"Barron'sWhat a Monster, Constellation Merger Might Mean and Why Coca-Cola Could Be Key\",\n",
    " \"Barron'sBitcoin Is Bouncing. Russia Is Helping. \",\n",
    " 'Pentagon report shows contractor mergers hurt U.S. economy and national security',\n",
    " 'I have $1 million and a $100,000-a-year pension. My girlfriend and I are getting married, but she’s against a prenup. What should I do?',\n",
    " 'Iamgold upgraded to outperform from market perform at BMO Capital',\n",
    " 'Petroshale started at outperform at BMO Capital',\n",
    " 'This is what you’re getting wrong about ESG ratings',\n",
    " 'Gap stock price target cut to $14 from $26 at BofA Securities',\n",
    " 'Gap downgraded to underperform from neutral at BofA Securities',\n",
    " 'Oil drops more than 4% from a 7-year high as Russia says some troops returning to base',\n",
    " 'DTE Energy double upgraded to buy from underperform at BofA Securities',\n",
    " 'Canada announces sweeping measures to end trucker protests against virus restrictions, as U.S. COVID death toll tops 922,000',\n",
    " \"Barron'sFamed Spelling Manor in Los Angeles Lists for $165 Million\",\n",
    " '‘I offered a $10,000 reward for the person who introduces me to my future partner’: I’m 34, single and disabled. How do I meet the woman of my dreams?',\n",
    " 'OpinionInflation is making some seniors choose between food and medications — what you can do',\n",
    " 'No Recent Tickers',\n",
    " 'Overview'):\n",
    "        tsla_remove.append(e)\n",
    "jpm_remove = []\n",
    "for e in jpm_clean1:\n",
    "    if e not in (\"Barron'sStocks Wobble With Fed Minutes Ahead\",\n",
    " '',\n",
    " \"Barron'sUpstart Stock Surges on Strong Revenue Forecast and Buyback Plans\",\n",
    " 'Personal loans and taxes: Don’t let this ‘unpleasant surprise’ happen to you if you take out a personal loan',\n",
    " 'Midcareer millennials now have negotiating power—how to get the job you want, on the terms you want',\n",
    " 'The 2022 Ford Mustang Mach-E—practical and high tech, with performance that lives up to its name',\n",
    " 'Trying to build a business in midlife? Here are 7 tips from 2 marketing masters',\n",
    " \"Barron'sNvidia's Earnings Are Today. Gaming and Data Center Are the Money Makers.\",\n",
    " \"Barron'sThe largest Fancy Vivid Blue Diamond to Hit Auction for $48 Million\",\n",
    " 'UpdatedEricsson shares slump as telecommunications firm says it may have made payments to Islamic State',\n",
    " 'Ericsson shares slump as telecommunications firm says it may have made payments to Islamic State',\n",
    " 'With a tiger and Jamie Dimon, JPMorgan enters the metaverse',\n",
    " 'Ericsson discloses ‘serious breach of compliance rules’ in Iraq dealings',\n",
    " 'The end of the pandemic may be in sight, says Moderna CEO',\n",
    " \"Barron'sPublicly Traded Companies Are Vanishing. Does Private Equity Have an Edge?\",\n",
    " \"Barron'sWynn Stock Falls After Quarterly Loss Wider Than Estimates\",\n",
    " \"Barron'sThe ARK Innovation Selloff Looks Like the Dot-Com Bust. History Says It Gets Worse.\",\n",
    " \"Barron'sWynn Stock Falls After Quarterly Loss Wider Than Estimates\",\n",
    " \"Barron'sCisco Earnings Are Coming. Watch Hardware Production. \",\n",
    " 'No Recent Tickers',\n",
    " 'Overview'):\n",
    "        jpm_remove.append(e)\n"
   ]
  },
  {
   "cell_type": "code",
   "execution_count": 69,
   "metadata": {},
   "outputs": [
    {
     "data": {
      "text/plain": [
       "7603"
      ]
     },
     "execution_count": 69,
     "metadata": {},
     "output_type": "execute_result"
    }
   ],
   "source": [
    "len(tsla_remove)"
   ]
  },
  {
   "cell_type": "code",
   "execution_count": 70,
   "metadata": {},
   "outputs": [],
   "source": [
    "gps_space = []\n",
    "for e in gps_remove:\n",
    "    gps_space.append(e.strip())\n",
    "jpm_space = []\n",
    "for e in jpm_remove:\n",
    "    jpm_space.append(e.strip())\n",
    "tsla_space = []\n",
    "for e in tsla_remove:\n",
    "    tsla_space.append(e.strip())"
   ]
  },
  {
   "cell_type": "code",
   "execution_count": 71,
   "metadata": {},
   "outputs": [],
   "source": [
    "gps_fullstop = []\n",
    "for e in gps_space:\n",
    "    gps_fullstop.append(e.replace(\".\",\"\"))\n",
    "jpm_fullstop = []\n",
    "for e in jpm_space:\n",
    "    jpm_fullstop.append(e.replace(\".\",\"\"))\n",
    "tsla_fullstop = []\n",
    "for e in tsla_space:\n",
    "    tsla_fullstop.append(e.replace(\".\",\"\"))"
   ]
  },
  {
   "cell_type": "code",
   "execution_count": 72,
   "metadata": {},
   "outputs": [],
   "source": [
    "gps_q = []\n",
    "for e in gps_fullstop:\n",
    "    gps_q.append(e.replace(\"?\",\"\"))\n",
    "jpm_q = []\n",
    "for e in jpm_fullstop:\n",
    "    jpm_q.append(e.replace(\"?\",\"\"))\n",
    "tsla_q = []\n",
    "for e in tsla_fullstop:\n",
    "    tsla_q.append(e.replace(\"?\",\"\"))\n"
   ]
  },
  {
   "cell_type": "code",
   "execution_count": 73,
   "metadata": {},
   "outputs": [],
   "source": [
    "gps_colon = []\n",
    "for e in gps_q:\n",
    "    gps_colon.append(e.replace(\":\",\"\"))\n",
    "jpm_colon = []\n",
    "for e in jpm_q:\n",
    "    jpm_colon.append(e.replace(\":\",\"\"))\n",
    "tsla_colon = []\n",
    "for e in tsla_q:\n",
    "    tsla_colon.append(e.replace(\":\",\"\"))"
   ]
  },
  {
   "cell_type": "code",
   "execution_count": 74,
   "metadata": {},
   "outputs": [],
   "source": [
    "gps_comma = []\n",
    "for e in gps_colon:\n",
    "    gps_comma.append(e.replace(\",\",\"\"))\n",
    "jpm_comma = []\n",
    "for e in jpm_colon:\n",
    "    jpm_comma.append(e.replace(\",\",\"\"))\n",
    "tsla_comma = []\n",
    "for e in tsla_colon:\n",
    "    tsla_comma.append(e.replace(\",\",\"\"))\n"
   ]
  },
  {
   "cell_type": "code",
   "execution_count": 75,
   "metadata": {},
   "outputs": [],
   "source": [
    "gps_percent = []\n",
    "for e in gps_comma:\n",
    "    gps_percent.append(e.replace(\"%\",\"percent\"))\n",
    "jpm_percent = []\n",
    "for e in jpm_comma:\n",
    "    jpm_percent.append(e.replace(\"%\",\"percent\"))\n",
    "tsla_percent = []\n",
    "for e in tsla_comma:\n",
    "    tsla_percent.append(e.replace(\"%\",\"percent\"))"
   ]
  },
  {
   "cell_type": "code",
   "execution_count": 76,
   "metadata": {},
   "outputs": [],
   "source": [
    "tsla_lower = []\n",
    "for i in range(len(tsla_percent)):\n",
    "    tsla_lower.append(tsla_percent[i].lower())\n",
    "jpm_lower = []\n",
    "for i in range(len(jpm_percent)):\n",
    "    jpm_lower.append(jpm_percent[i].lower())\n",
    "gps_lower = []\n",
    "for i in range(len(gps_percent)):\n",
    "    gps_lower.append(gps_percent[i].lower())"
   ]
  },
  {
   "cell_type": "code",
   "execution_count": 77,
   "metadata": {},
   "outputs": [
    {
     "data": {
      "text/plain": [
       "7603"
      ]
     },
     "execution_count": 77,
     "metadata": {},
     "output_type": "execute_result"
    }
   ],
   "source": [
    "len(tsla_lower)"
   ]
  },
  {
   "cell_type": "code",
   "execution_count": 78,
   "metadata": {},
   "outputs": [],
   "source": [
    "jpm_pain = []\n",
    "for e in jpm_lower:\n",
    "    if e not in ( 'marketwatch',\n",
    " 'company',\n",
    " 'dow jones network'):\n",
    "        jpm_pain.append(e)\n",
    "gps_pain = []\n",
    "for e in gps_lower:\n",
    "    if e not in ( 'marketwatch',\n",
    " 'company',\n",
    " 'dow jones network'):\n",
    "        gps_pain.append(e)\n",
    "tsla_pain = []\n",
    "for e in tsla_lower:\n",
    "    if e not in ( 'marketwatch',\n",
    " 'company',\n",
    " 'dow jones network'):\n",
    "        tsla_pain.append(e)\n"
   ]
  },
  {
   "cell_type": "code",
   "execution_count": 79,
   "metadata": {},
   "outputs": [
    {
     "data": {
      "text/plain": [
       "7183"
      ]
     },
     "execution_count": 79,
     "metadata": {},
     "output_type": "execute_result"
    }
   ],
   "source": [
    "len(jpm_lower)"
   ]
  },
  {
   "cell_type": "code",
   "execution_count": 80,
   "metadata": {},
   "outputs": [
    {
     "data": {
      "text/plain": [
       "['eulav asset management buys uber technologies inc tesla inc roku inc sells ball corp ',\n",
       " \"big tech's big returns and sports business in the spotlight\",\n",
       " '7 stocks to love for a long long time',\n",
       " 'coatue management llc buys rivian automotive inc pfizer inc visa inc sells doordash inc ',\n",
       " 'myriad asset management ltd buys tesla inc mirion technologies inc enphase energy inc sells ',\n",
       " '7 top stocks for february ready for v-shaped bounce',\n",
       " 'why tesla stock raced ahead on monday',\n",
       " 'twilio stock has disaster stats but it also has great potential',\n",
       " 'nio’s results should show the tesla competitor is real competition',\n",
       " '3 top ev stocks to buy during the market correction']"
      ]
     },
     "execution_count": 80,
     "metadata": {},
     "output_type": "execute_result"
    }
   ],
   "source": [
    "tsla_pain[-10:]"
   ]
  },
  {
   "cell_type": "code",
   "execution_count": 81,
   "metadata": {},
   "outputs": [],
   "source": [
    "device = 'cpu'"
   ]
  },
  {
   "cell_type": "markdown",
   "metadata": {},
   "source": [
    "## import pretrained finbert from huggingface"
   ]
  },
  {
   "cell_type": "code",
   "execution_count": 82,
   "metadata": {},
   "outputs": [],
   "source": [
    "from transformers import AutoTokenizer, AutoModelForSequenceClassification\n",
    "\n",
    "tokenizer = AutoTokenizer.from_pretrained(\"ProsusAI/finbert\")\n",
    "\n",
    "model = AutoModelForSequenceClassification.from_pretrained(\"ProsusAI/finbert\")\n",
    "\n",
    "#model = model.to(device)"
   ]
  },
  {
   "cell_type": "markdown",
   "metadata": {},
   "source": [
    "## Create softmax to rescale data"
   ]
  },
  {
   "cell_type": "code",
   "execution_count": 83,
   "metadata": {},
   "outputs": [],
   "source": [
    "def softmax(x):\n",
    "    \"\"\"Compute softmax values for each sets of scores in x.\"\"\"\n",
    "    e_x = np.exp(x - np.max(x, axis=1)[:, None])\n",
    "    return e_x / np.sum(e_x, axis=1)[:, None]"
   ]
  },
  {
   "cell_type": "markdown",
   "metadata": {},
   "source": [
    "# classify and rescale sentiment output"
   ]
  },
  {
   "cell_type": "markdown",
   "metadata": {},
   "source": [
    "## Gap"
   ]
  },
  {
   "cell_type": "code",
   "execution_count": 84,
   "metadata": {},
   "outputs": [
    {
     "name": "stdout",
     "output_type": "stream",
     "text": [
      "[ 0.08874428 -0.1351273   0.03656105  0.05744809  0.06736011 -0.81953037\n",
      "  0.03958848 -0.1611551   0.10339079 -0.23154226]\n"
     ]
    }
   ],
   "source": [
    "label_dict = {0: 'positive', 1: 'negative', 2: 'neutral'}\n",
    "\n",
    "gps_out = []\n",
    "gps_score = []\n",
    "for i in range(0, len(gps_pain), 10):\n",
    "    tokenized_gps = tokenizer(gps_pain[i:i+10], truncation = True, padding = True, return_tensors = \"pt\")\n",
    "    gps_output = model(tokenized_gps['input_ids'])\n",
    "    soft_logits_gps = softmax(np.array(gps_output.logits.detach().cpu()))\n",
    "    sentiment_score_gps = soft_logits_gps[:,0]-soft_logits_gps[:,1]\n",
    "    gps_pred = np.squeeze(np.argmax(soft_logits_gps, axis = 1))\n",
    "    gps_out.extend(gps_pred)\n",
    "    gps_score.extend(sentiment_score_gps)\n",
    "#print(gps_out) \n",
    "print(sentiment_score_gps)"
   ]
  },
  {
   "cell_type": "code",
   "execution_count": 85,
   "metadata": {},
   "outputs": [
    {
     "name": "stdout",
     "output_type": "stream",
     "text": [
      "2940\n",
      "2940\n"
     ]
    }
   ],
   "source": [
    "print(len(gps_out))\n",
    "gps_class = [label_dict[pred] for pred in gps_out]\n",
    "print(len(gps_class))\n",
    "#print(gps_class)"
   ]
  },
  {
   "cell_type": "markdown",
   "metadata": {},
   "source": [
    "## Tesla"
   ]
  },
  {
   "cell_type": "code",
   "execution_count": 86,
   "metadata": {},
   "outputs": [
    {
     "name": "stdout",
     "output_type": "stream",
     "text": [
      "[0.02990519 0.11737353 0.10327338 0.04139102 0.03391223 0.13352133\n",
      " 0.06096146 0.1937255  0.3334345  0.1706433 ]\n"
     ]
    }
   ],
   "source": [
    "tsla_out = []\n",
    "tsla_score = []\n",
    "for i in range(0, len(tsla_pain), 10):\n",
    "    tokenized_tsla = tokenizer(tsla_pain[i:i+10], truncation = True, padding = True, return_tensors = \"pt\")\n",
    "    tsla_output = model(tokenized_tsla['input_ids'])\n",
    "    soft_logits_tsla = softmax(np.array(tsla_output.logits.detach().cpu()))\n",
    "    sentiment_score_tsla = soft_logits_tsla[:,0]-soft_logits_tsla[:,1]\n",
    "    tsla_pred = np.squeeze(np.argmax(soft_logits_tsla, axis = 1))\n",
    "    tsla_out.extend(tsla_pred)\n",
    "    tsla_score.extend(sentiment_score_tsla)\n",
    "#print(tsla_out) \n",
    "print(sentiment_score_tsla)"
   ]
  },
  {
   "cell_type": "code",
   "execution_count": 87,
   "metadata": {},
   "outputs": [
    {
     "name": "stdout",
     "output_type": "stream",
     "text": [
      "7600\n",
      "7600\n"
     ]
    }
   ],
   "source": [
    "print(len(tsla_out))\n",
    "tsla_class = [label_dict[pred] for pred in tsla_out]\n",
    "print(len(tsla_class))\n",
    "#print(tsla_class)"
   ]
  },
  {
   "cell_type": "markdown",
   "metadata": {},
   "source": [
    "## JP Morgan Chase"
   ]
  },
  {
   "cell_type": "code",
   "execution_count": 88,
   "metadata": {},
   "outputs": [
    {
     "name": "stdout",
     "output_type": "stream",
     "text": [
      "[ 0.03611869  0.22267441 -0.35389128  0.01807062 -0.5303399   0.1397978\n",
      "  0.10331743  0.02986314  0.38122702  0.03484188]\n"
     ]
    }
   ],
   "source": [
    "jpm_out = []\n",
    "jpm_score = []\n",
    "for i in range(0, len(jpm_pain), 10):\n",
    "    tokenized_jpm = tokenizer(jpm_pain[i:i+10], truncation = True, padding = True, return_tensors = \"pt\")\n",
    "    jpm_output = model(tokenized_jpm['input_ids'])\n",
    "    soft_logits = softmax(np.array(jpm_output.logits.detach().cpu()))\n",
    "    sentiment_score = soft_logits[:,0]-soft_logits[:,1]\n",
    "    jpm_pred = np.squeeze(np.argmax(soft_logits, axis = 1))\n",
    "    jpm_out.extend(jpm_pred)\n",
    "    jpm_score.extend(sentiment_score)\n",
    "#print(jpm_out) \n",
    "print(sentiment_score)"
   ]
  },
  {
   "cell_type": "code",
   "execution_count": 89,
   "metadata": {},
   "outputs": [
    {
     "data": {
      "text/plain": [
       "7180"
      ]
     },
     "execution_count": 89,
     "metadata": {},
     "output_type": "execute_result"
    }
   ],
   "source": [
    "len(jpm_score)"
   ]
  },
  {
   "cell_type": "code",
   "execution_count": 90,
   "metadata": {},
   "outputs": [
    {
     "name": "stdout",
     "output_type": "stream",
     "text": [
      "7180\n",
      "7180\n"
     ]
    }
   ],
   "source": [
    "print(len(jpm_out))\n",
    "jpm_class = [label_dict[pred] for pred in jpm_out]\n",
    "print(len(jpm_class))\n",
    "#print(jpm_class)"
   ]
  },
  {
   "cell_type": "code",
   "execution_count": 91,
   "metadata": {},
   "outputs": [
    {
     "data": {
      "text/plain": [
       "7600"
      ]
     },
     "execution_count": 91,
     "metadata": {},
     "output_type": "execute_result"
    }
   ],
   "source": [
    "len(tsla_score)"
   ]
  },
  {
   "cell_type": "markdown",
   "metadata": {},
   "source": [
    "## Download Stock price "
   ]
  },
  {
   "cell_type": "code",
   "execution_count": 92,
   "metadata": {},
   "outputs": [
    {
     "name": "stdout",
     "output_type": "stream",
     "text": [
      "[*********************100%***********************]  1 of 1 completed\n",
      "[*********************100%***********************]  1 of 1 completed\n",
      "[*********************100%***********************]  1 of 1 completed\n"
     ]
    }
   ],
   "source": [
    "gps_stock_price  = yf.download('gps', start='2006-11-30', end='2022-02-15', time_interval = 'daily')\n",
    "tsla_stock_price  = yf.download('tsla', start='2016-11-30', end='2022-02-15', time_interval = 'daily')\n",
    "jpm_stock_price  = yf.download('jpm,', start='2011-10-20', end='2022-02-15', time_interval = 'daily')\n"
   ]
  },
  {
   "cell_type": "code",
   "execution_count": 93,
   "metadata": {},
   "outputs": [
    {
     "data": {
      "text/html": [
       "<div>\n",
       "<style scoped>\n",
       "    .dataframe tbody tr th:only-of-type {\n",
       "        vertical-align: middle;\n",
       "    }\n",
       "\n",
       "    .dataframe tbody tr th {\n",
       "        vertical-align: top;\n",
       "    }\n",
       "\n",
       "    .dataframe thead th {\n",
       "        text-align: right;\n",
       "    }\n",
       "</style>\n",
       "<table border=\"1\" class=\"dataframe\">\n",
       "  <thead>\n",
       "    <tr style=\"text-align: right;\">\n",
       "      <th></th>\n",
       "      <th>Open</th>\n",
       "      <th>High</th>\n",
       "      <th>Low</th>\n",
       "      <th>Close</th>\n",
       "      <th>Adj Close</th>\n",
       "      <th>Volume</th>\n",
       "    </tr>\n",
       "    <tr>\n",
       "      <th>Date</th>\n",
       "      <th></th>\n",
       "      <th></th>\n",
       "      <th></th>\n",
       "      <th></th>\n",
       "      <th></th>\n",
       "      <th></th>\n",
       "    </tr>\n",
       "  </thead>\n",
       "  <tbody>\n",
       "    <tr>\n",
       "      <th>2022-02-01</th>\n",
       "      <td>17.940001</td>\n",
       "      <td>18.440001</td>\n",
       "      <td>17.900000</td>\n",
       "      <td>18.280001</td>\n",
       "      <td>18.087038</td>\n",
       "      <td>9614900</td>\n",
       "    </tr>\n",
       "    <tr>\n",
       "      <th>2022-02-02</th>\n",
       "      <td>18.459999</td>\n",
       "      <td>18.459999</td>\n",
       "      <td>17.610001</td>\n",
       "      <td>17.680000</td>\n",
       "      <td>17.493372</td>\n",
       "      <td>61993900</td>\n",
       "    </tr>\n",
       "    <tr>\n",
       "      <th>2022-02-03</th>\n",
       "      <td>17.110001</td>\n",
       "      <td>17.900000</td>\n",
       "      <td>17.020000</td>\n",
       "      <td>17.110001</td>\n",
       "      <td>16.929388</td>\n",
       "      <td>12809700</td>\n",
       "    </tr>\n",
       "    <tr>\n",
       "      <th>2022-02-04</th>\n",
       "      <td>17.100000</td>\n",
       "      <td>17.299999</td>\n",
       "      <td>16.580000</td>\n",
       "      <td>17.010000</td>\n",
       "      <td>16.830444</td>\n",
       "      <td>7819000</td>\n",
       "    </tr>\n",
       "    <tr>\n",
       "      <th>2022-02-07</th>\n",
       "      <td>17.139999</td>\n",
       "      <td>17.500000</td>\n",
       "      <td>16.820000</td>\n",
       "      <td>16.920000</td>\n",
       "      <td>16.741394</td>\n",
       "      <td>6817900</td>\n",
       "    </tr>\n",
       "    <tr>\n",
       "      <th>2022-02-08</th>\n",
       "      <td>17.000000</td>\n",
       "      <td>17.580000</td>\n",
       "      <td>16.870001</td>\n",
       "      <td>17.379999</td>\n",
       "      <td>17.196537</td>\n",
       "      <td>6194500</td>\n",
       "    </tr>\n",
       "    <tr>\n",
       "      <th>2022-02-09</th>\n",
       "      <td>17.480000</td>\n",
       "      <td>17.540001</td>\n",
       "      <td>17.190001</td>\n",
       "      <td>17.340000</td>\n",
       "      <td>17.156960</td>\n",
       "      <td>8041200</td>\n",
       "    </tr>\n",
       "    <tr>\n",
       "      <th>2022-02-10</th>\n",
       "      <td>17.190001</td>\n",
       "      <td>17.879999</td>\n",
       "      <td>17.139999</td>\n",
       "      <td>17.270000</td>\n",
       "      <td>17.087700</td>\n",
       "      <td>7120600</td>\n",
       "    </tr>\n",
       "    <tr>\n",
       "      <th>2022-02-11</th>\n",
       "      <td>17.270000</td>\n",
       "      <td>17.270000</td>\n",
       "      <td>15.800000</td>\n",
       "      <td>15.940000</td>\n",
       "      <td>15.771738</td>\n",
       "      <td>15844300</td>\n",
       "    </tr>\n",
       "    <tr>\n",
       "      <th>2022-02-14</th>\n",
       "      <td>16.040001</td>\n",
       "      <td>16.180000</td>\n",
       "      <td>15.360000</td>\n",
       "      <td>15.370000</td>\n",
       "      <td>15.207755</td>\n",
       "      <td>11528600</td>\n",
       "    </tr>\n",
       "  </tbody>\n",
       "</table>\n",
       "</div>"
      ],
      "text/plain": [
       "                 Open       High        Low      Close  Adj Close    Volume\n",
       "Date                                                                       \n",
       "2022-02-01  17.940001  18.440001  17.900000  18.280001  18.087038   9614900\n",
       "2022-02-02  18.459999  18.459999  17.610001  17.680000  17.493372  61993900\n",
       "2022-02-03  17.110001  17.900000  17.020000  17.110001  16.929388  12809700\n",
       "2022-02-04  17.100000  17.299999  16.580000  17.010000  16.830444   7819000\n",
       "2022-02-07  17.139999  17.500000  16.820000  16.920000  16.741394   6817900\n",
       "2022-02-08  17.000000  17.580000  16.870001  17.379999  17.196537   6194500\n",
       "2022-02-09  17.480000  17.540001  17.190001  17.340000  17.156960   8041200\n",
       "2022-02-10  17.190001  17.879999  17.139999  17.270000  17.087700   7120600\n",
       "2022-02-11  17.270000  17.270000  15.800000  15.940000  15.771738  15844300\n",
       "2022-02-14  16.040001  16.180000  15.360000  15.370000  15.207755  11528600"
      ]
     },
     "execution_count": 93,
     "metadata": {},
     "output_type": "execute_result"
    }
   ],
   "source": [
    "gps_stock_price.tail(10)"
   ]
  },
  {
   "cell_type": "code",
   "execution_count": 94,
   "metadata": {},
   "outputs": [
    {
     "data": {
      "text/html": [
       "<div>\n",
       "<style scoped>\n",
       "    .dataframe tbody tr th:only-of-type {\n",
       "        vertical-align: middle;\n",
       "    }\n",
       "\n",
       "    .dataframe tbody tr th {\n",
       "        vertical-align: top;\n",
       "    }\n",
       "\n",
       "    .dataframe thead th {\n",
       "        text-align: right;\n",
       "    }\n",
       "</style>\n",
       "<table border=\"1\" class=\"dataframe\">\n",
       "  <thead>\n",
       "    <tr style=\"text-align: right;\">\n",
       "      <th></th>\n",
       "      <th>Open</th>\n",
       "      <th>High</th>\n",
       "      <th>Low</th>\n",
       "      <th>Close</th>\n",
       "      <th>Adj Close</th>\n",
       "      <th>Volume</th>\n",
       "    </tr>\n",
       "    <tr>\n",
       "      <th>Date</th>\n",
       "      <th></th>\n",
       "      <th></th>\n",
       "      <th></th>\n",
       "      <th></th>\n",
       "      <th></th>\n",
       "      <th></th>\n",
       "    </tr>\n",
       "  </thead>\n",
       "  <tbody>\n",
       "    <tr>\n",
       "      <th>2022-02-01</th>\n",
       "      <td>935.210022</td>\n",
       "      <td>943.700012</td>\n",
       "      <td>905.000000</td>\n",
       "      <td>931.250000</td>\n",
       "      <td>931.250000</td>\n",
       "      <td>24379400</td>\n",
       "    </tr>\n",
       "    <tr>\n",
       "      <th>2022-02-02</th>\n",
       "      <td>928.179993</td>\n",
       "      <td>931.500000</td>\n",
       "      <td>889.409973</td>\n",
       "      <td>905.659973</td>\n",
       "      <td>905.659973</td>\n",
       "      <td>22264300</td>\n",
       "    </tr>\n",
       "    <tr>\n",
       "      <th>2022-02-03</th>\n",
       "      <td>882.000000</td>\n",
       "      <td>937.000000</td>\n",
       "      <td>880.520020</td>\n",
       "      <td>891.140015</td>\n",
       "      <td>891.140015</td>\n",
       "      <td>26285200</td>\n",
       "    </tr>\n",
       "    <tr>\n",
       "      <th>2022-02-04</th>\n",
       "      <td>897.219971</td>\n",
       "      <td>936.500000</td>\n",
       "      <td>881.169983</td>\n",
       "      <td>923.320007</td>\n",
       "      <td>923.320007</td>\n",
       "      <td>24541800</td>\n",
       "    </tr>\n",
       "    <tr>\n",
       "      <th>2022-02-07</th>\n",
       "      <td>923.789978</td>\n",
       "      <td>947.770020</td>\n",
       "      <td>902.710022</td>\n",
       "      <td>907.340027</td>\n",
       "      <td>907.340027</td>\n",
       "      <td>20331500</td>\n",
       "    </tr>\n",
       "    <tr>\n",
       "      <th>2022-02-08</th>\n",
       "      <td>905.530029</td>\n",
       "      <td>926.289978</td>\n",
       "      <td>894.799988</td>\n",
       "      <td>922.000000</td>\n",
       "      <td>922.000000</td>\n",
       "      <td>16909700</td>\n",
       "    </tr>\n",
       "    <tr>\n",
       "      <th>2022-02-09</th>\n",
       "      <td>935.000000</td>\n",
       "      <td>946.270020</td>\n",
       "      <td>920.000000</td>\n",
       "      <td>932.000000</td>\n",
       "      <td>932.000000</td>\n",
       "      <td>17419800</td>\n",
       "    </tr>\n",
       "    <tr>\n",
       "      <th>2022-02-10</th>\n",
       "      <td>908.369995</td>\n",
       "      <td>943.809998</td>\n",
       "      <td>896.700012</td>\n",
       "      <td>904.549988</td>\n",
       "      <td>904.549988</td>\n",
       "      <td>22042300</td>\n",
       "    </tr>\n",
       "    <tr>\n",
       "      <th>2022-02-11</th>\n",
       "      <td>909.630005</td>\n",
       "      <td>915.960022</td>\n",
       "      <td>850.700012</td>\n",
       "      <td>860.000000</td>\n",
       "      <td>860.000000</td>\n",
       "      <td>26548600</td>\n",
       "    </tr>\n",
       "    <tr>\n",
       "      <th>2022-02-14</th>\n",
       "      <td>861.570007</td>\n",
       "      <td>898.880005</td>\n",
       "      <td>853.150024</td>\n",
       "      <td>875.760010</td>\n",
       "      <td>875.760010</td>\n",
       "      <td>22585500</td>\n",
       "    </tr>\n",
       "  </tbody>\n",
       "</table>\n",
       "</div>"
      ],
      "text/plain": [
       "                  Open        High         Low       Close   Adj Close  \\\n",
       "Date                                                                     \n",
       "2022-02-01  935.210022  943.700012  905.000000  931.250000  931.250000   \n",
       "2022-02-02  928.179993  931.500000  889.409973  905.659973  905.659973   \n",
       "2022-02-03  882.000000  937.000000  880.520020  891.140015  891.140015   \n",
       "2022-02-04  897.219971  936.500000  881.169983  923.320007  923.320007   \n",
       "2022-02-07  923.789978  947.770020  902.710022  907.340027  907.340027   \n",
       "2022-02-08  905.530029  926.289978  894.799988  922.000000  922.000000   \n",
       "2022-02-09  935.000000  946.270020  920.000000  932.000000  932.000000   \n",
       "2022-02-10  908.369995  943.809998  896.700012  904.549988  904.549988   \n",
       "2022-02-11  909.630005  915.960022  850.700012  860.000000  860.000000   \n",
       "2022-02-14  861.570007  898.880005  853.150024  875.760010  875.760010   \n",
       "\n",
       "              Volume  \n",
       "Date                  \n",
       "2022-02-01  24379400  \n",
       "2022-02-02  22264300  \n",
       "2022-02-03  26285200  \n",
       "2022-02-04  24541800  \n",
       "2022-02-07  20331500  \n",
       "2022-02-08  16909700  \n",
       "2022-02-09  17419800  \n",
       "2022-02-10  22042300  \n",
       "2022-02-11  26548600  \n",
       "2022-02-14  22585500  "
      ]
     },
     "execution_count": 94,
     "metadata": {},
     "output_type": "execute_result"
    }
   ],
   "source": [
    "tsla_stock_price.tail(10)"
   ]
  },
  {
   "cell_type": "code",
   "execution_count": 95,
   "metadata": {},
   "outputs": [
    {
     "data": {
      "text/html": [
       "<div>\n",
       "<style scoped>\n",
       "    .dataframe tbody tr th:only-of-type {\n",
       "        vertical-align: middle;\n",
       "    }\n",
       "\n",
       "    .dataframe tbody tr th {\n",
       "        vertical-align: top;\n",
       "    }\n",
       "\n",
       "    .dataframe thead th {\n",
       "        text-align: right;\n",
       "    }\n",
       "</style>\n",
       "<table border=\"1\" class=\"dataframe\">\n",
       "  <thead>\n",
       "    <tr style=\"text-align: right;\">\n",
       "      <th></th>\n",
       "      <th>Open</th>\n",
       "      <th>High</th>\n",
       "      <th>Low</th>\n",
       "      <th>Close</th>\n",
       "      <th>Adj Close</th>\n",
       "      <th>Volume</th>\n",
       "    </tr>\n",
       "    <tr>\n",
       "      <th>Date</th>\n",
       "      <th></th>\n",
       "      <th></th>\n",
       "      <th></th>\n",
       "      <th></th>\n",
       "      <th></th>\n",
       "      <th></th>\n",
       "    </tr>\n",
       "  </thead>\n",
       "  <tbody>\n",
       "    <tr>\n",
       "      <th>2022-02-01</th>\n",
       "      <td>148.690002</td>\n",
       "      <td>151.470001</td>\n",
       "      <td>148.300003</td>\n",
       "      <td>151.149994</td>\n",
       "      <td>150.037857</td>\n",
       "      <td>14584900</td>\n",
       "    </tr>\n",
       "    <tr>\n",
       "      <th>2022-02-02</th>\n",
       "      <td>150.500000</td>\n",
       "      <td>150.940002</td>\n",
       "      <td>148.070007</td>\n",
       "      <td>149.940002</td>\n",
       "      <td>148.836761</td>\n",
       "      <td>12441100</td>\n",
       "    </tr>\n",
       "    <tr>\n",
       "      <th>2022-02-03</th>\n",
       "      <td>150.000000</td>\n",
       "      <td>151.649994</td>\n",
       "      <td>148.289993</td>\n",
       "      <td>148.699997</td>\n",
       "      <td>147.605881</td>\n",
       "      <td>12474900</td>\n",
       "    </tr>\n",
       "    <tr>\n",
       "      <th>2022-02-04</th>\n",
       "      <td>149.100006</td>\n",
       "      <td>153.500000</td>\n",
       "      <td>148.770004</td>\n",
       "      <td>152.559998</td>\n",
       "      <td>151.437485</td>\n",
       "      <td>16654400</td>\n",
       "    </tr>\n",
       "    <tr>\n",
       "      <th>2022-02-07</th>\n",
       "      <td>153.270004</td>\n",
       "      <td>153.619995</td>\n",
       "      <td>150.850006</td>\n",
       "      <td>153.070007</td>\n",
       "      <td>151.943741</td>\n",
       "      <td>12572300</td>\n",
       "    </tr>\n",
       "    <tr>\n",
       "      <th>2022-02-08</th>\n",
       "      <td>155.000000</td>\n",
       "      <td>158.479996</td>\n",
       "      <td>154.800003</td>\n",
       "      <td>155.949997</td>\n",
       "      <td>154.802536</td>\n",
       "      <td>20411400</td>\n",
       "    </tr>\n",
       "    <tr>\n",
       "      <th>2022-02-09</th>\n",
       "      <td>156.589996</td>\n",
       "      <td>157.429993</td>\n",
       "      <td>155.820007</td>\n",
       "      <td>156.600006</td>\n",
       "      <td>155.447769</td>\n",
       "      <td>9131100</td>\n",
       "    </tr>\n",
       "    <tr>\n",
       "      <th>2022-02-10</th>\n",
       "      <td>156.660004</td>\n",
       "      <td>159.029999</td>\n",
       "      <td>155.220001</td>\n",
       "      <td>155.949997</td>\n",
       "      <td>154.802536</td>\n",
       "      <td>16455600</td>\n",
       "    </tr>\n",
       "    <tr>\n",
       "      <th>2022-02-11</th>\n",
       "      <td>155.610001</td>\n",
       "      <td>158.190002</td>\n",
       "      <td>152.970001</td>\n",
       "      <td>153.919998</td>\n",
       "      <td>152.787476</td>\n",
       "      <td>16830000</td>\n",
       "    </tr>\n",
       "    <tr>\n",
       "      <th>2022-02-14</th>\n",
       "      <td>152.729996</td>\n",
       "      <td>153.679993</td>\n",
       "      <td>150.320007</td>\n",
       "      <td>152.490005</td>\n",
       "      <td>151.368011</td>\n",
       "      <td>17026500</td>\n",
       "    </tr>\n",
       "  </tbody>\n",
       "</table>\n",
       "</div>"
      ],
      "text/plain": [
       "                  Open        High         Low       Close   Adj Close  \\\n",
       "Date                                                                     \n",
       "2022-02-01  148.690002  151.470001  148.300003  151.149994  150.037857   \n",
       "2022-02-02  150.500000  150.940002  148.070007  149.940002  148.836761   \n",
       "2022-02-03  150.000000  151.649994  148.289993  148.699997  147.605881   \n",
       "2022-02-04  149.100006  153.500000  148.770004  152.559998  151.437485   \n",
       "2022-02-07  153.270004  153.619995  150.850006  153.070007  151.943741   \n",
       "2022-02-08  155.000000  158.479996  154.800003  155.949997  154.802536   \n",
       "2022-02-09  156.589996  157.429993  155.820007  156.600006  155.447769   \n",
       "2022-02-10  156.660004  159.029999  155.220001  155.949997  154.802536   \n",
       "2022-02-11  155.610001  158.190002  152.970001  153.919998  152.787476   \n",
       "2022-02-14  152.729996  153.679993  150.320007  152.490005  151.368011   \n",
       "\n",
       "              Volume  \n",
       "Date                  \n",
       "2022-02-01  14584900  \n",
       "2022-02-02  12441100  \n",
       "2022-02-03  12474900  \n",
       "2022-02-04  16654400  \n",
       "2022-02-07  12572300  \n",
       "2022-02-08  20411400  \n",
       "2022-02-09   9131100  \n",
       "2022-02-10  16455600  \n",
       "2022-02-11  16830000  \n",
       "2022-02-14  17026500  "
      ]
     },
     "execution_count": 95,
     "metadata": {},
     "output_type": "execute_result"
    }
   ],
   "source": [
    "jpm_stock_price.tail(10)"
   ]
  },
  {
   "cell_type": "code",
   "execution_count": 96,
   "metadata": {},
   "outputs": [],
   "source": [
    "\n",
    "gps_stock_price = gps_stock_price.drop(['Open', 'High','Low','Volume', 'Adj Close'], axis = 1)\n",
    "jpm_stock_price = jpm_stock_price.drop(['Open', 'High','Low','Volume', 'Adj Close'], axis = 1)\n",
    "tsla_stock_price = tsla_stock_price.drop(['Open', 'High','Low','Volume', 'Adj Close'], axis = 1)\n"
   ]
  },
  {
   "cell_type": "code",
   "execution_count": 97,
   "metadata": {},
   "outputs": [
    {
     "data": {
      "text/html": [
       "<div>\n",
       "<style scoped>\n",
       "    .dataframe tbody tr th:only-of-type {\n",
       "        vertical-align: middle;\n",
       "    }\n",
       "\n",
       "    .dataframe tbody tr th {\n",
       "        vertical-align: top;\n",
       "    }\n",
       "\n",
       "    .dataframe thead th {\n",
       "        text-align: right;\n",
       "    }\n",
       "</style>\n",
       "<table border=\"1\" class=\"dataframe\">\n",
       "  <thead>\n",
       "    <tr style=\"text-align: right;\">\n",
       "      <th></th>\n",
       "      <th>Close</th>\n",
       "    </tr>\n",
       "    <tr>\n",
       "      <th>Date</th>\n",
       "      <th></th>\n",
       "    </tr>\n",
       "  </thead>\n",
       "  <tbody>\n",
       "    <tr>\n",
       "      <th>2006-11-29</th>\n",
       "      <td>19.070000</td>\n",
       "    </tr>\n",
       "    <tr>\n",
       "      <th>2006-11-30</th>\n",
       "      <td>18.719999</td>\n",
       "    </tr>\n",
       "    <tr>\n",
       "      <th>2006-12-01</th>\n",
       "      <td>18.680000</td>\n",
       "    </tr>\n",
       "    <tr>\n",
       "      <th>2006-12-04</th>\n",
       "      <td>18.959999</td>\n",
       "    </tr>\n",
       "    <tr>\n",
       "      <th>2006-12-05</th>\n",
       "      <td>18.889999</td>\n",
       "    </tr>\n",
       "    <tr>\n",
       "      <th>...</th>\n",
       "      <td>...</td>\n",
       "    </tr>\n",
       "    <tr>\n",
       "      <th>2022-02-08</th>\n",
       "      <td>17.379999</td>\n",
       "    </tr>\n",
       "    <tr>\n",
       "      <th>2022-02-09</th>\n",
       "      <td>17.340000</td>\n",
       "    </tr>\n",
       "    <tr>\n",
       "      <th>2022-02-10</th>\n",
       "      <td>17.270000</td>\n",
       "    </tr>\n",
       "    <tr>\n",
       "      <th>2022-02-11</th>\n",
       "      <td>15.940000</td>\n",
       "    </tr>\n",
       "    <tr>\n",
       "      <th>2022-02-14</th>\n",
       "      <td>15.370000</td>\n",
       "    </tr>\n",
       "  </tbody>\n",
       "</table>\n",
       "<p>3829 rows × 1 columns</p>\n",
       "</div>"
      ],
      "text/plain": [
       "                Close\n",
       "Date                 \n",
       "2006-11-29  19.070000\n",
       "2006-11-30  18.719999\n",
       "2006-12-01  18.680000\n",
       "2006-12-04  18.959999\n",
       "2006-12-05  18.889999\n",
       "...               ...\n",
       "2022-02-08  17.379999\n",
       "2022-02-09  17.340000\n",
       "2022-02-10  17.270000\n",
       "2022-02-11  15.940000\n",
       "2022-02-14  15.370000\n",
       "\n",
       "[3829 rows x 1 columns]"
      ]
     },
     "execution_count": 97,
     "metadata": {},
     "output_type": "execute_result"
    }
   ],
   "source": [
    "gps_stock_price"
   ]
  },
  {
   "cell_type": "markdown",
   "metadata": {},
   "source": [
    "## preprocessed and merge data"
   ]
  },
  {
   "cell_type": "code",
   "execution_count": 98,
   "metadata": {},
   "outputs": [
    {
     "data": {
      "text/plain": [
       "['Feb. 15, 2022 at 10:00 a.m. ET',\n",
       " 'Feb. 15, 2022 at 8:23 a.m. ET',\n",
       " 'Feb. 15, 2022 at 8:17 a.m. ET',\n",
       " 'Feb. 15, 2022 at 5:05 a.m. ET',\n",
       " 'Feb. 14, 2022 at 9:33 p.m. ET']"
      ]
     },
     "execution_count": 98,
     "metadata": {},
     "output_type": "execute_result"
    }
   ],
   "source": [
    "tsla_timestamp[:5]"
   ]
  },
  {
   "cell_type": "code",
   "execution_count": 99,
   "metadata": {},
   "outputs": [
    {
     "data": {
      "text/plain": [
       "2940"
      ]
     },
     "execution_count": 99,
     "metadata": {},
     "output_type": "execute_result"
    }
   ],
   "source": [
    "len(gps_timestamp)"
   ]
  },
  {
   "cell_type": "code",
   "execution_count": 100,
   "metadata": {},
   "outputs": [
    {
     "data": {
      "text/plain": [
       "7600"
      ]
     },
     "execution_count": 100,
     "metadata": {},
     "output_type": "execute_result"
    }
   ],
   "source": [
    "len(tsla_timestamp)"
   ]
  },
  {
   "cell_type": "code",
   "execution_count": 101,
   "metadata": {},
   "outputs": [],
   "source": [
    "gps_et = []\n",
    "for e in gps_timestamp:\n",
    "    gps_et.append(e.replace(\"ET\",\"\"))\n",
    "jpm_et = []\n",
    "for e in jpm_timestamp:\n",
    "    jpm_et.append(e.replace(\"ET\",\"\"))\n",
    "tsla_et = []\n",
    "for e in tsla_timestamp:\n",
    "    tsla_et.append(e.replace(\"ET\",\"\"))"
   ]
  },
  {
   "cell_type": "code",
   "execution_count": 102,
   "metadata": {},
   "outputs": [
    {
     "data": {
      "text/plain": [
       "2940"
      ]
     },
     "execution_count": 102,
     "metadata": {},
     "output_type": "execute_result"
    }
   ],
   "source": [
    "len(gps_et)"
   ]
  },
  {
   "cell_type": "code",
   "execution_count": 103,
   "metadata": {},
   "outputs": [],
   "source": [
    "gps_at1 = []\n",
    "for e in gps_et:\n",
    "    gps_at1.append(e.replace(\"at\",\"\"))\n",
    "jpm_at1 = []\n",
    "for e in jpm_et:\n",
    "    jpm_at1.append(e.replace(\"at\",\"\"))\n",
    "tsla_at1 = []\n",
    "for e in tsla_et:\n",
    "    tsla_at1.append(e.replace(\"at\",\"\"))"
   ]
  },
  {
   "cell_type": "code",
   "execution_count": 104,
   "metadata": {},
   "outputs": [
    {
     "data": {
      "text/plain": [
       "7180"
      ]
     },
     "execution_count": 104,
     "metadata": {},
     "output_type": "execute_result"
    }
   ],
   "source": [
    "len(jpm_at1)"
   ]
  },
  {
   "cell_type": "code",
   "execution_count": 105,
   "metadata": {},
   "outputs": [],
   "source": [
    "gps_pm1 = []\n",
    "for e in gps_at1:\n",
    "    gps_pm1.append(e.replace(\"p.m.\",\"\"))\n",
    "jpm_pm1 = []\n",
    "for e in jpm_at1:\n",
    "    jpm_pm1.append(e.replace(\"p.m.\",\"\"))\n",
    "tsla_pm1 = []\n",
    "for e in tsla_at1:\n",
    "    tsla_pm1.append(e.replace(\"p.m.\",\"\"))"
   ]
  },
  {
   "cell_type": "code",
   "execution_count": 106,
   "metadata": {},
   "outputs": [
    {
     "data": {
      "text/plain": [
       "7180"
      ]
     },
     "execution_count": 106,
     "metadata": {},
     "output_type": "execute_result"
    }
   ],
   "source": [
    "len(jpm_pm1)"
   ]
  },
  {
   "cell_type": "code",
   "execution_count": 107,
   "metadata": {},
   "outputs": [],
   "source": [
    "gps_am1 = []\n",
    "for e in gps_pm1:\n",
    "    gps_am1.append(e.replace(\"a.m.\",\"\"))\n",
    "jpm_am1 = []\n",
    "for e in jpm_pm1:\n",
    "    jpm_am1.append(e.replace(\"a.m.\",\"\"))\n",
    "tsla_am1 = []\n",
    "for e in tsla_pm1:\n",
    "    tsla_am1.append(e.replace(\"a.m.\",\"\"))"
   ]
  },
  {
   "cell_type": "code",
   "execution_count": 108,
   "metadata": {},
   "outputs": [],
   "source": [
    "gps_commas = []\n",
    "for e in gps_am1:\n",
    "    gps_commas.append(e.replace(\",\",\"\"))\n",
    "jpm_commas = []\n",
    "for e in jpm_am1:\n",
    "    jpm_commas.append(e.replace(\",\",\"\"))\n",
    "tsla_commas = []\n",
    "for e in tsla_am1:\n",
    "    tsla_commas.append(e.replace(\",\",\"\"))"
   ]
  },
  {
   "cell_type": "code",
   "execution_count": 109,
   "metadata": {},
   "outputs": [],
   "source": [
    "gps_fullstops = []\n",
    "for e in gps_commas:\n",
    "    gps_fullstops.append(e.replace(\".\",\"\"))\n",
    "jpm_fullstops = []\n",
    "for e in jpm_commas:\n",
    "    jpm_fullstops.append(e.replace(\".\",\"\"))\n",
    "tsla_fullstops = []\n",
    "for e in tsla_commas:\n",
    "    tsla_fullstops.append(e.replace(\".\",\"\"))"
   ]
  },
  {
   "cell_type": "code",
   "execution_count": 110,
   "metadata": {},
   "outputs": [],
   "source": [
    "tsla_timestamp_final = tsla_fullstops\n",
    "gps_timestamp_final = gps_fullstops\n",
    "jpm_timestamp_final = jpm_fullstops\n"
   ]
  },
  {
   "cell_type": "code",
   "execution_count": 111,
   "metadata": {},
   "outputs": [
    {
     "data": {
      "text/plain": [
       "['Jan 10 2022  8:57  ',\n",
       " 'Jan 7 2022  3:49  ',\n",
       " 'Dec 19 2021  9:43  ',\n",
       " 'Dec 14 2021  11:31  ',\n",
       " 'Dec 13 2021  11:24  ']"
      ]
     },
     "execution_count": 111,
     "metadata": {},
     "output_type": "execute_result"
    }
   ],
   "source": [
    "gps_timestamp_final[-5:]"
   ]
  },
  {
   "cell_type": "markdown",
   "metadata": {},
   "source": [
    "## input data into dataframe"
   ]
  },
  {
   "cell_type": "code",
   "execution_count": 112,
   "metadata": {},
   "outputs": [],
   "source": [
    "#datetime_object = datetime.strptime(gps_timestamp_final, '%b %d %Y %H:%M')\n",
    "#df_datetime_gps = pd.to_datetime(pd.Series(gps_timestamp_final), format='%b %d %YH:%M')\n",
    "gps_date = [datetime.strptime(x,'%b %d %Y  %I:%M ') for x in gps_timestamp_final]\n",
    "#gps_date"
   ]
  },
  {
   "cell_type": "code",
   "execution_count": 113,
   "metadata": {},
   "outputs": [],
   "source": [
    "tsla_date = [datetime.strptime(x,'%b %d %Y  %I:%M ') for x in tsla_timestamp_final]\n",
    "jpm_date = [datetime.strptime(x,'%b %d %Y  %I:%M ') for x in jpm_timestamp_final]\n"
   ]
  },
  {
   "cell_type": "code",
   "execution_count": 114,
   "metadata": {},
   "outputs": [
    {
     "data": {
      "text/plain": [
       "[datetime.datetime(2022, 2, 14, 2, 21),\n",
       " datetime.datetime(2022, 2, 14, 11, 28),\n",
       " datetime.datetime(2022, 2, 14, 10, 50),\n",
       " datetime.datetime(2022, 2, 14, 10, 31),\n",
       " datetime.datetime(2022, 2, 14, 10, 15)]"
      ]
     },
     "execution_count": 114,
     "metadata": {},
     "output_type": "execute_result"
    }
   ],
   "source": [
    "jpm_date[-5:]\n",
    "tsla_date[-5:]"
   ]
  },
  {
   "cell_type": "markdown",
   "metadata": {},
   "source": [
    "## create a dataframe"
   ]
  },
  {
   "cell_type": "code",
   "execution_count": 115,
   "metadata": {},
   "outputs": [
    {
     "name": "stdout",
     "output_type": "stream",
     "text": [
      "datetime\n",
      "tsla date: 7600\n",
      "gps date: 2940\n",
      "jpm date: 7180\n",
      "stock price\n",
      "tsla price: 1312\n",
      "gps price: 3829\n",
      "jpm price: 2598\n",
      "sentiment\n",
      "tsla sentiment: 7600\n",
      "gps sentiment: 2940\n",
      "jpm sentiment: 7180\n"
     ]
    }
   ],
   "source": [
    "print('datetime')\n",
    "print('tsla date:',len(tsla_date))\n",
    "print('gps date:',len(gps_date))\n",
    "print('jpm date:' ,len(jpm_date))\n",
    "\n",
    "print('stock price') \n",
    "print('tsla price:' ,len(tsla_stock_price))\n",
    "print('gps price:' ,len(gps_stock_price))\n",
    "print('jpm price:' ,len(jpm_stock_price))\n",
    "\n",
    "print('sentiment')\n",
    "print('tsla sentiment:' ,len(tsla_score))\n",
    "print('gps sentiment:' ,len(gps_score))\n",
    "print('jpm sentiment:' ,len(jpm_score))\n"
   ]
  },
  {
   "cell_type": "code",
   "execution_count": 116,
   "metadata": {},
   "outputs": [
    {
     "name": "stdout",
     "output_type": "stream",
     "text": [
      "<class 'list'>\n"
     ]
    }
   ],
   "source": [
    "print(type(tsla_date))"
   ]
  },
  {
   "cell_type": "code",
   "execution_count": 117,
   "metadata": {},
   "outputs": [],
   "source": [
    "gps_score = pd.DataFrame (gps_score, columns = ['sentiment_score'])"
   ]
  },
  {
   "cell_type": "code",
   "execution_count": 118,
   "metadata": {},
   "outputs": [],
   "source": [
    "tsla_score = pd.DataFrame (tsla_score, columns = ['sentiment_score'])\n",
    "jpm_score = pd.DataFrame (jpm_score, columns = ['sentiment_score'])"
   ]
  },
  {
   "cell_type": "code",
   "execution_count": 119,
   "metadata": {},
   "outputs": [],
   "source": [
    "scaler = MinMaxScaler(feature_range=(0, 1))\n",
    "gps_senti_scaler = scaler.fit_transform(gps_score.values.reshape(-1,1))\n",
    "tsla_senti_scaler = scaler.fit_transform(tsla_score.values.reshape(-1,1))\n",
    "jpm_senti_scaler = scaler.fit_transform(jpm_score.values.reshape(-1,1))"
   ]
  },
  {
   "cell_type": "code",
   "execution_count": 123,
   "metadata": {},
   "outputs": [],
   "source": [
    "gps_date = pd.DataFrame (gps_date, columns = ['Date'])\n",
    "tsla_date = pd.DataFrame (tsla_date, columns = ['Date'])\n",
    "jpm_date = pd.DataFrame (jpm_date, columns = ['Date'])"
   ]
  },
  {
   "cell_type": "code",
   "execution_count": 126,
   "metadata": {},
   "outputs": [],
   "source": [
    "gps_senti_scaler = pd.DataFrame (gps_senti_scaler, columns = ['sentiment_score'])\n",
    "tsla_senti_scaler = pd.DataFrame (tsla_senti_scaler, columns = ['sentiment_score'])\n",
    "jpm_senti_scaler = pd.DataFrame (jpm_senti_scaler, columns = ['sentiment_score'])"
   ]
  },
  {
   "cell_type": "code",
   "execution_count": 128,
   "metadata": {},
   "outputs": [],
   "source": [
    "\n",
    "gps_news_table = pd.concat([gps_date, gps_senti_scaler], axis=1)\n",
    "\n",
    "tsla_news_table = pd.concat([tsla_date, tsla_senti_scaler], axis=1)\n",
    "\n",
    "jpm_news_table = pd.concat([jpm_date, tsla_senti_scaler], axis=1)"
   ]
  },
  {
   "cell_type": "markdown",
   "metadata": {},
   "source": [
    "gps_score = pd.DataFrame (gps_score, columns = ['sentiment_score'])\n",
    "tsla_score = pd.DataFrame (tsla_score, columns = ['sentiment_score'])\n",
    "jpm_score = pd.DataFrame (jpm_score, columns = ['sentiment_score'])"
   ]
  },
  {
   "cell_type": "markdown",
   "metadata": {},
   "source": [
    "scaler = MinMaxScaler(feature_range=(0, 1))\n",
    "gps_senti_scaler = scaler.fit_transform(gps_score.values.reshape(-1,1))\n",
    "\n",
    "tsla_senti_scaler = scaler.fit_transform(tsla_score.values.reshape(-1,1))\n",
    "jpm_senti_scaler = scaler.fit_transform(jpm_score.values.reshape(-1,1))"
   ]
  },
  {
   "cell_type": "code",
   "execution_count": 129,
   "metadata": {},
   "outputs": [],
   "source": [
    "scaler = MinMaxScaler(feature_range=(0, 1))\n",
    "gps_scaler = scaler.fit_transform(gps_stock_price.values.reshape(-1,1))\n",
    "tsla_scaler = scaler.fit_transform(tsla_stock_price.values.reshape(-1,1))\n",
    "jpm_scaler = scaler.fit_transform(jpm_stock_price.values.reshape(-1,1))\n"
   ]
  },
  {
   "cell_type": "markdown",
   "metadata": {},
   "source": [
    "gps_senti_scaler = gps_senti_scaler.tolist()\n",
    "tsla_senti_scaler = tsla_senti_scaler.tolist()\n",
    "jpm_senti_scaler =jpm_senti_scaler.tolist()"
   ]
  },
  {
   "cell_type": "code",
   "execution_count": null,
   "metadata": {},
   "outputs": [],
   "source": []
  },
  {
   "cell_type": "code",
   "execution_count": null,
   "metadata": {},
   "outputs": [],
   "source": []
  },
  {
   "cell_type": "code",
   "execution_count": 130,
   "metadata": {},
   "outputs": [
    {
     "name": "stdout",
     "output_type": "stream",
     "text": [
      "2940\n"
     ]
    },
    {
     "data": {
      "text/plain": [
       "False"
      ]
     },
     "execution_count": 130,
     "metadata": {},
     "output_type": "execute_result"
    }
   ],
   "source": [
    "print(len(gps_news_table))\n",
    "\n",
    "gps_news_table.isnull().values.any()"
   ]
  },
  {
   "cell_type": "code",
   "execution_count": 131,
   "metadata": {},
   "outputs": [
    {
     "name": "stdout",
     "output_type": "stream",
     "text": [
      "7600\n"
     ]
    },
    {
     "data": {
      "text/plain": [
       "False"
      ]
     },
     "execution_count": 131,
     "metadata": {},
     "output_type": "execute_result"
    }
   ],
   "source": [
    "print(len(tsla_news_table))\n",
    "\n",
    "tsla_news_table.isnull().values.any()"
   ]
  },
  {
   "cell_type": "code",
   "execution_count": 132,
   "metadata": {},
   "outputs": [
    {
     "name": "stdout",
     "output_type": "stream",
     "text": [
      "7600\n"
     ]
    },
    {
     "data": {
      "text/plain": [
       "True"
      ]
     },
     "execution_count": 132,
     "metadata": {},
     "output_type": "execute_result"
    }
   ],
   "source": [
    "print(len(jpm_news_table))\n",
    "\n",
    "jpm_news_table.isnull().values.any()"
   ]
  },
  {
   "cell_type": "code",
   "execution_count": 133,
   "metadata": {},
   "outputs": [
    {
     "data": {
      "text/html": [
       "<div>\n",
       "<style scoped>\n",
       "    .dataframe tbody tr th:only-of-type {\n",
       "        vertical-align: middle;\n",
       "    }\n",
       "\n",
       "    .dataframe tbody tr th {\n",
       "        vertical-align: top;\n",
       "    }\n",
       "\n",
       "    .dataframe thead th {\n",
       "        text-align: right;\n",
       "    }\n",
       "</style>\n",
       "<table border=\"1\" class=\"dataframe\">\n",
       "  <thead>\n",
       "    <tr style=\"text-align: right;\">\n",
       "      <th></th>\n",
       "      <th>Date</th>\n",
       "      <th>sentiment_score</th>\n",
       "    </tr>\n",
       "  </thead>\n",
       "  <tbody>\n",
       "    <tr>\n",
       "      <th>0</th>\n",
       "      <td>2022-02-14 05:12:00</td>\n",
       "      <td>0.540694</td>\n",
       "    </tr>\n",
       "    <tr>\n",
       "      <th>1</th>\n",
       "      <td>2022-02-14 04:56:00</td>\n",
       "      <td>0.286930</td>\n",
       "    </tr>\n",
       "    <tr>\n",
       "      <th>2</th>\n",
       "      <td>2022-02-11 04:56:00</td>\n",
       "      <td>0.290438</td>\n",
       "    </tr>\n",
       "    <tr>\n",
       "      <th>3</th>\n",
       "      <td>2022-02-10 04:57:00</td>\n",
       "      <td>0.376313</td>\n",
       "    </tr>\n",
       "    <tr>\n",
       "      <th>4</th>\n",
       "      <td>2022-02-09 04:56:00</td>\n",
       "      <td>0.355849</td>\n",
       "    </tr>\n",
       "    <tr>\n",
       "      <th>...</th>\n",
       "      <td>...</td>\n",
       "      <td>...</td>\n",
       "    </tr>\n",
       "    <tr>\n",
       "      <th>2935</th>\n",
       "      <td>2022-01-10 08:57:00</td>\n",
       "      <td>0.078783</td>\n",
       "    </tr>\n",
       "    <tr>\n",
       "      <th>2936</th>\n",
       "      <td>2022-01-07 03:49:00</td>\n",
       "      <td>0.531698</td>\n",
       "    </tr>\n",
       "    <tr>\n",
       "      <th>2937</th>\n",
       "      <td>2021-12-19 09:43:00</td>\n",
       "      <td>0.425869</td>\n",
       "    </tr>\n",
       "    <tr>\n",
       "      <th>2938</th>\n",
       "      <td>2021-12-14 11:31:00</td>\n",
       "      <td>0.565334</td>\n",
       "    </tr>\n",
       "    <tr>\n",
       "      <th>2939</th>\n",
       "      <td>2021-12-13 11:24:00</td>\n",
       "      <td>0.388762</td>\n",
       "    </tr>\n",
       "  </tbody>\n",
       "</table>\n",
       "<p>2940 rows × 2 columns</p>\n",
       "</div>"
      ],
      "text/plain": [
       "                    Date  sentiment_score\n",
       "0    2022-02-14 05:12:00         0.540694\n",
       "1    2022-02-14 04:56:00         0.286930\n",
       "2    2022-02-11 04:56:00         0.290438\n",
       "3    2022-02-10 04:57:00         0.376313\n",
       "4    2022-02-09 04:56:00         0.355849\n",
       "...                  ...              ...\n",
       "2935 2022-01-10 08:57:00         0.078783\n",
       "2936 2022-01-07 03:49:00         0.531698\n",
       "2937 2021-12-19 09:43:00         0.425869\n",
       "2938 2021-12-14 11:31:00         0.565334\n",
       "2939 2021-12-13 11:24:00         0.388762\n",
       "\n",
       "[2940 rows x 2 columns]"
      ]
     },
     "execution_count": 133,
     "metadata": {},
     "output_type": "execute_result"
    }
   ],
   "source": [
    "gps_news_table"
   ]
  },
  {
   "cell_type": "code",
   "execution_count": 134,
   "metadata": {},
   "outputs": [
    {
     "data": {
      "text/html": [
       "<div>\n",
       "<style scoped>\n",
       "    .dataframe tbody tr th:only-of-type {\n",
       "        vertical-align: middle;\n",
       "    }\n",
       "\n",
       "    .dataframe tbody tr th {\n",
       "        vertical-align: top;\n",
       "    }\n",
       "\n",
       "    .dataframe thead th {\n",
       "        text-align: right;\n",
       "    }\n",
       "</style>\n",
       "<table border=\"1\" class=\"dataframe\">\n",
       "  <thead>\n",
       "    <tr style=\"text-align: right;\">\n",
       "      <th></th>\n",
       "      <th>Date</th>\n",
       "      <th>sentiment_score</th>\n",
       "    </tr>\n",
       "  </thead>\n",
       "  <tbody>\n",
       "    <tr>\n",
       "      <th>0</th>\n",
       "      <td>2022-02-14 05:12:00</td>\n",
       "      <td>0.540694</td>\n",
       "    </tr>\n",
       "    <tr>\n",
       "      <th>1</th>\n",
       "      <td>2022-02-14 04:56:00</td>\n",
       "      <td>0.286930</td>\n",
       "    </tr>\n",
       "    <tr>\n",
       "      <th>2</th>\n",
       "      <td>2022-02-11 04:56:00</td>\n",
       "      <td>0.290438</td>\n",
       "    </tr>\n",
       "    <tr>\n",
       "      <th>3</th>\n",
       "      <td>2022-02-10 04:57:00</td>\n",
       "      <td>0.376313</td>\n",
       "    </tr>\n",
       "    <tr>\n",
       "      <th>4</th>\n",
       "      <td>2022-02-09 04:56:00</td>\n",
       "      <td>0.355849</td>\n",
       "    </tr>\n",
       "    <tr>\n",
       "      <th>...</th>\n",
       "      <td>...</td>\n",
       "      <td>...</td>\n",
       "    </tr>\n",
       "    <tr>\n",
       "      <th>2935</th>\n",
       "      <td>2022-01-10 08:57:00</td>\n",
       "      <td>0.078783</td>\n",
       "    </tr>\n",
       "    <tr>\n",
       "      <th>2936</th>\n",
       "      <td>2022-01-07 03:49:00</td>\n",
       "      <td>0.531698</td>\n",
       "    </tr>\n",
       "    <tr>\n",
       "      <th>2937</th>\n",
       "      <td>2021-12-19 09:43:00</td>\n",
       "      <td>0.425869</td>\n",
       "    </tr>\n",
       "    <tr>\n",
       "      <th>2938</th>\n",
       "      <td>2021-12-14 11:31:00</td>\n",
       "      <td>0.565334</td>\n",
       "    </tr>\n",
       "    <tr>\n",
       "      <th>2939</th>\n",
       "      <td>2021-12-13 11:24:00</td>\n",
       "      <td>0.388762</td>\n",
       "    </tr>\n",
       "  </tbody>\n",
       "</table>\n",
       "<p>2940 rows × 2 columns</p>\n",
       "</div>"
      ],
      "text/plain": [
       "                    Date  sentiment_score\n",
       "0    2022-02-14 05:12:00         0.540694\n",
       "1    2022-02-14 04:56:00         0.286930\n",
       "2    2022-02-11 04:56:00         0.290438\n",
       "3    2022-02-10 04:57:00         0.376313\n",
       "4    2022-02-09 04:56:00         0.355849\n",
       "...                  ...              ...\n",
       "2935 2022-01-10 08:57:00         0.078783\n",
       "2936 2022-01-07 03:49:00         0.531698\n",
       "2937 2021-12-19 09:43:00         0.425869\n",
       "2938 2021-12-14 11:31:00         0.565334\n",
       "2939 2021-12-13 11:24:00         0.388762\n",
       "\n",
       "[2940 rows x 2 columns]"
      ]
     },
     "execution_count": 134,
     "metadata": {},
     "output_type": "execute_result"
    }
   ],
   "source": [
    "gps_news_table"
   ]
  },
  {
   "cell_type": "code",
   "execution_count": 135,
   "metadata": {},
   "outputs": [],
   "source": [
    "jpm_news = jpm_news_table.sort_values(by =\"Date\")\n",
    "gps_news = gps_news_table.sort_values(by =\"Date\")\n",
    "tsla_news = tsla_news_table.sort_values(by =\"Date\")\n",
    "\n"
   ]
  },
  {
   "cell_type": "code",
   "execution_count": 136,
   "metadata": {},
   "outputs": [
    {
     "data": {
      "text/html": [
       "<div>\n",
       "<style scoped>\n",
       "    .dataframe tbody tr th:only-of-type {\n",
       "        vertical-align: middle;\n",
       "    }\n",
       "\n",
       "    .dataframe tbody tr th {\n",
       "        vertical-align: top;\n",
       "    }\n",
       "\n",
       "    .dataframe thead th {\n",
       "        text-align: right;\n",
       "    }\n",
       "</style>\n",
       "<table border=\"1\" class=\"dataframe\">\n",
       "  <thead>\n",
       "    <tr style=\"text-align: right;\">\n",
       "      <th></th>\n",
       "      <th>Date</th>\n",
       "      <th>sentiment_score</th>\n",
       "    </tr>\n",
       "  </thead>\n",
       "  <tbody>\n",
       "    <tr>\n",
       "      <th>4119</th>\n",
       "      <td>2010-12-06 00:01:00</td>\n",
       "      <td>0.869969</td>\n",
       "    </tr>\n",
       "    <tr>\n",
       "      <th>7159</th>\n",
       "      <td>2011-10-20 05:06:00</td>\n",
       "      <td>0.530473</td>\n",
       "    </tr>\n",
       "    <tr>\n",
       "      <th>7158</th>\n",
       "      <td>2011-10-21 00:01:00</td>\n",
       "      <td>0.322909</td>\n",
       "    </tr>\n",
       "    <tr>\n",
       "      <th>7156</th>\n",
       "      <td>2011-10-21 04:39:00</td>\n",
       "      <td>0.033791</td>\n",
       "    </tr>\n",
       "    <tr>\n",
       "      <th>7155</th>\n",
       "      <td>2011-10-21 06:09:00</td>\n",
       "      <td>0.029845</td>\n",
       "    </tr>\n",
       "    <tr>\n",
       "      <th>...</th>\n",
       "      <td>...</td>\n",
       "      <td>...</td>\n",
       "    </tr>\n",
       "    <tr>\n",
       "      <th>7595</th>\n",
       "      <td>NaT</td>\n",
       "      <td>0.578116</td>\n",
       "    </tr>\n",
       "    <tr>\n",
       "      <th>7596</th>\n",
       "      <td>NaT</td>\n",
       "      <td>0.539988</td>\n",
       "    </tr>\n",
       "    <tr>\n",
       "      <th>7597</th>\n",
       "      <td>NaT</td>\n",
       "      <td>0.609752</td>\n",
       "    </tr>\n",
       "    <tr>\n",
       "      <th>7598</th>\n",
       "      <td>NaT</td>\n",
       "      <td>0.683167</td>\n",
       "    </tr>\n",
       "    <tr>\n",
       "      <th>7599</th>\n",
       "      <td>NaT</td>\n",
       "      <td>0.597623</td>\n",
       "    </tr>\n",
       "  </tbody>\n",
       "</table>\n",
       "<p>7600 rows × 2 columns</p>\n",
       "</div>"
      ],
      "text/plain": [
       "                    Date  sentiment_score\n",
       "4119 2010-12-06 00:01:00         0.869969\n",
       "7159 2011-10-20 05:06:00         0.530473\n",
       "7158 2011-10-21 00:01:00         0.322909\n",
       "7156 2011-10-21 04:39:00         0.033791\n",
       "7155 2011-10-21 06:09:00         0.029845\n",
       "...                  ...              ...\n",
       "7595                 NaT         0.578116\n",
       "7596                 NaT         0.539988\n",
       "7597                 NaT         0.609752\n",
       "7598                 NaT         0.683167\n",
       "7599                 NaT         0.597623\n",
       "\n",
       "[7600 rows x 2 columns]"
      ]
     },
     "execution_count": 136,
     "metadata": {},
     "output_type": "execute_result"
    }
   ],
   "source": [
    "jpm_news"
   ]
  },
  {
   "cell_type": "code",
   "execution_count": 137,
   "metadata": {},
   "outputs": [],
   "source": [
    "gps_pure_price = pd.DataFrame(gps_scaler, columns = ['Closing_price'])\n",
    "tsla_pure_price = pd.DataFrame(tsla_scaler, columns = ['Closing_price'])\n",
    "jpm_pure_price = pd.DataFrame(jpm_scaler, columns = ['Closing_price'])\n"
   ]
  },
  {
   "cell_type": "code",
   "execution_count": 138,
   "metadata": {},
   "outputs": [],
   "source": [
    "gps_pure_price = gps_pure_price.reset_index()\n",
    "tsla_pure_price = tsla_pure_price.reset_index()\n",
    "jpm_pure_price = jpm_pure_price.reset_index()"
   ]
  },
  {
   "cell_type": "markdown",
   "metadata": {},
   "source": [
    "gps_pure_price = gps_pure_price.drop(columns= ['Date'])"
   ]
  },
  {
   "cell_type": "markdown",
   "metadata": {},
   "source": [
    "tsla_pure_price =tsla_pure_price.drop(columns= ['Date'])\n",
    "jpm_pure_price =jpm_pure_price.drop(columns= ['Date'])\n",
    "\n"
   ]
  },
  {
   "cell_type": "code",
   "execution_count": null,
   "metadata": {},
   "outputs": [],
   "source": []
  },
  {
   "cell_type": "markdown",
   "metadata": {},
   "source": [
    "## merge table "
   ]
  },
  {
   "cell_type": "code",
   "execution_count": 139,
   "metadata": {},
   "outputs": [],
   "source": [
    "jpm_stock_price1 = jpm_stock_price.reset_index()\n",
    "tsla_stock_price1 = tsla_stock_price.reset_index()\n",
    "gps_stock_price1 = gps_stock_price.reset_index()\n"
   ]
  },
  {
   "cell_type": "code",
   "execution_count": 140,
   "metadata": {},
   "outputs": [],
   "source": [
    "jpm_stockprice_date = jpm_stock_price1[\"Date\"]\n",
    "tsla_stockprice_date = tsla_stock_price1[\"Date\"]\n",
    "gps_stockprice_date = gps_stock_price1[\"Date\"]\n"
   ]
  },
  {
   "cell_type": "code",
   "execution_count": 141,
   "metadata": {},
   "outputs": [],
   "source": [
    "tsla_stockprice_date = pd.DataFrame({ 'Stock_price_date':tsla_stockprice_date.values})\n",
    "jpm_stockprice_date = pd.DataFrame({ 'Stock_price_date':jpm_stockprice_date.values})\n",
    "gps_stockprice_date = pd.DataFrame({ 'Stock_price_date':gps_stockprice_date.values})"
   ]
  },
  {
   "cell_type": "code",
   "execution_count": 142,
   "metadata": {},
   "outputs": [
    {
     "data": {
      "text/html": [
       "<div>\n",
       "<style scoped>\n",
       "    .dataframe tbody tr th:only-of-type {\n",
       "        vertical-align: middle;\n",
       "    }\n",
       "\n",
       "    .dataframe tbody tr th {\n",
       "        vertical-align: top;\n",
       "    }\n",
       "\n",
       "    .dataframe thead th {\n",
       "        text-align: right;\n",
       "    }\n",
       "</style>\n",
       "<table border=\"1\" class=\"dataframe\">\n",
       "  <thead>\n",
       "    <tr style=\"text-align: right;\">\n",
       "      <th></th>\n",
       "      <th>Stock_price_date</th>\n",
       "    </tr>\n",
       "  </thead>\n",
       "  <tbody>\n",
       "    <tr>\n",
       "      <th>0</th>\n",
       "      <td>2006-11-29</td>\n",
       "    </tr>\n",
       "    <tr>\n",
       "      <th>1</th>\n",
       "      <td>2006-11-30</td>\n",
       "    </tr>\n",
       "    <tr>\n",
       "      <th>2</th>\n",
       "      <td>2006-12-01</td>\n",
       "    </tr>\n",
       "    <tr>\n",
       "      <th>3</th>\n",
       "      <td>2006-12-04</td>\n",
       "    </tr>\n",
       "    <tr>\n",
       "      <th>4</th>\n",
       "      <td>2006-12-05</td>\n",
       "    </tr>\n",
       "    <tr>\n",
       "      <th>...</th>\n",
       "      <td>...</td>\n",
       "    </tr>\n",
       "    <tr>\n",
       "      <th>3824</th>\n",
       "      <td>2022-02-08</td>\n",
       "    </tr>\n",
       "    <tr>\n",
       "      <th>3825</th>\n",
       "      <td>2022-02-09</td>\n",
       "    </tr>\n",
       "    <tr>\n",
       "      <th>3826</th>\n",
       "      <td>2022-02-10</td>\n",
       "    </tr>\n",
       "    <tr>\n",
       "      <th>3827</th>\n",
       "      <td>2022-02-11</td>\n",
       "    </tr>\n",
       "    <tr>\n",
       "      <th>3828</th>\n",
       "      <td>2022-02-14</td>\n",
       "    </tr>\n",
       "  </tbody>\n",
       "</table>\n",
       "<p>3829 rows × 1 columns</p>\n",
       "</div>"
      ],
      "text/plain": [
       "     Stock_price_date\n",
       "0          2006-11-29\n",
       "1          2006-11-30\n",
       "2          2006-12-01\n",
       "3          2006-12-04\n",
       "4          2006-12-05\n",
       "...               ...\n",
       "3824       2022-02-08\n",
       "3825       2022-02-09\n",
       "3826       2022-02-10\n",
       "3827       2022-02-11\n",
       "3828       2022-02-14\n",
       "\n",
       "[3829 rows x 1 columns]"
      ]
     },
     "execution_count": 142,
     "metadata": {},
     "output_type": "execute_result"
    }
   ],
   "source": [
    "gps_stockprice_date"
   ]
  },
  {
   "cell_type": "code",
   "execution_count": 143,
   "metadata": {},
   "outputs": [],
   "source": [
    "gps_stock_table =pd.concat([gps_stockprice_date,gps_pure_price], axis=1)\n",
    "tsla_stock_table =pd.concat([tsla_stockprice_date,tsla_pure_price], axis=1)\n",
    "jpm_stock_table =pd.concat([jpm_stockprice_date,jpm_pure_price], axis=1)\n"
   ]
  },
  {
   "cell_type": "code",
   "execution_count": 144,
   "metadata": {},
   "outputs": [
    {
     "data": {
      "text/html": [
       "<div>\n",
       "<style scoped>\n",
       "    .dataframe tbody tr th:only-of-type {\n",
       "        vertical-align: middle;\n",
       "    }\n",
       "\n",
       "    .dataframe tbody tr th {\n",
       "        vertical-align: top;\n",
       "    }\n",
       "\n",
       "    .dataframe thead th {\n",
       "        text-align: right;\n",
       "    }\n",
       "</style>\n",
       "<table border=\"1\" class=\"dataframe\">\n",
       "  <thead>\n",
       "    <tr style=\"text-align: right;\">\n",
       "      <th></th>\n",
       "      <th>Stock_price_date</th>\n",
       "      <th>index</th>\n",
       "      <th>Closing_price</th>\n",
       "    </tr>\n",
       "  </thead>\n",
       "  <tbody>\n",
       "    <tr>\n",
       "      <th>0</th>\n",
       "      <td>2006-11-29</td>\n",
       "      <td>0</td>\n",
       "      <td>0.330251</td>\n",
       "    </tr>\n",
       "    <tr>\n",
       "      <th>1</th>\n",
       "      <td>2006-11-30</td>\n",
       "      <td>1</td>\n",
       "      <td>0.321733</td>\n",
       "    </tr>\n",
       "    <tr>\n",
       "      <th>2</th>\n",
       "      <td>2006-12-01</td>\n",
       "      <td>2</td>\n",
       "      <td>0.320759</td>\n",
       "    </tr>\n",
       "    <tr>\n",
       "      <th>3</th>\n",
       "      <td>2006-12-04</td>\n",
       "      <td>3</td>\n",
       "      <td>0.327574</td>\n",
       "    </tr>\n",
       "    <tr>\n",
       "      <th>4</th>\n",
       "      <td>2006-12-05</td>\n",
       "      <td>4</td>\n",
       "      <td>0.325870</td>\n",
       "    </tr>\n",
       "    <tr>\n",
       "      <th>...</th>\n",
       "      <td>...</td>\n",
       "      <td>...</td>\n",
       "      <td>...</td>\n",
       "    </tr>\n",
       "    <tr>\n",
       "      <th>3824</th>\n",
       "      <td>2022-02-08</td>\n",
       "      <td>3824</td>\n",
       "      <td>0.289121</td>\n",
       "    </tr>\n",
       "    <tr>\n",
       "      <th>3825</th>\n",
       "      <td>2022-02-09</td>\n",
       "      <td>3825</td>\n",
       "      <td>0.288148</td>\n",
       "    </tr>\n",
       "    <tr>\n",
       "      <th>3826</th>\n",
       "      <td>2022-02-10</td>\n",
       "      <td>3826</td>\n",
       "      <td>0.286444</td>\n",
       "    </tr>\n",
       "    <tr>\n",
       "      <th>3827</th>\n",
       "      <td>2022-02-11</td>\n",
       "      <td>3827</td>\n",
       "      <td>0.254076</td>\n",
       "    </tr>\n",
       "    <tr>\n",
       "      <th>3828</th>\n",
       "      <td>2022-02-14</td>\n",
       "      <td>3828</td>\n",
       "      <td>0.240204</td>\n",
       "    </tr>\n",
       "  </tbody>\n",
       "</table>\n",
       "<p>3829 rows × 3 columns</p>\n",
       "</div>"
      ],
      "text/plain": [
       "     Stock_price_date  index  Closing_price\n",
       "0          2006-11-29      0       0.330251\n",
       "1          2006-11-30      1       0.321733\n",
       "2          2006-12-01      2       0.320759\n",
       "3          2006-12-04      3       0.327574\n",
       "4          2006-12-05      4       0.325870\n",
       "...               ...    ...            ...\n",
       "3824       2022-02-08   3824       0.289121\n",
       "3825       2022-02-09   3825       0.288148\n",
       "3826       2022-02-10   3826       0.286444\n",
       "3827       2022-02-11   3827       0.254076\n",
       "3828       2022-02-14   3828       0.240204\n",
       "\n",
       "[3829 rows x 3 columns]"
      ]
     },
     "execution_count": 144,
     "metadata": {},
     "output_type": "execute_result"
    }
   ],
   "source": [
    "gps_stock_table"
   ]
  },
  {
   "cell_type": "code",
   "execution_count": 145,
   "metadata": {},
   "outputs": [
    {
     "name": "stdout",
     "output_type": "stream",
     "text": [
      "False\n",
      "False\n",
      "False\n"
     ]
    }
   ],
   "source": [
    "print(tsla_stock_table.isnull().values.any())\n",
    "print(gps_stock_table.isnull().values.any())\n",
    "print(jpm_stock_table.isnull().values.any())\n"
   ]
  },
  {
   "cell_type": "code",
   "execution_count": 146,
   "metadata": {},
   "outputs": [],
   "source": [
    "gps_stock_table1 = gps_stock_table.set_index('Stock_price_date')\n",
    "tsla_stock_table1 = tsla_stock_table.set_index('Stock_price_date')\n",
    "jpm_stock_table1 = jpm_stock_table.set_index('Stock_price_date')\n"
   ]
  },
  {
   "cell_type": "code",
   "execution_count": 147,
   "metadata": {},
   "outputs": [
    {
     "data": {
      "text/html": [
       "<div>\n",
       "<style scoped>\n",
       "    .dataframe tbody tr th:only-of-type {\n",
       "        vertical-align: middle;\n",
       "    }\n",
       "\n",
       "    .dataframe tbody tr th {\n",
       "        vertical-align: top;\n",
       "    }\n",
       "\n",
       "    .dataframe thead th {\n",
       "        text-align: right;\n",
       "    }\n",
       "</style>\n",
       "<table border=\"1\" class=\"dataframe\">\n",
       "  <thead>\n",
       "    <tr style=\"text-align: right;\">\n",
       "      <th></th>\n",
       "      <th>index</th>\n",
       "      <th>Closing_price</th>\n",
       "    </tr>\n",
       "    <tr>\n",
       "      <th>Stock_price_date</th>\n",
       "      <th></th>\n",
       "      <th></th>\n",
       "    </tr>\n",
       "  </thead>\n",
       "  <tbody>\n",
       "    <tr>\n",
       "      <th>2006-11-29</th>\n",
       "      <td>0</td>\n",
       "      <td>0.330251</td>\n",
       "    </tr>\n",
       "    <tr>\n",
       "      <th>2006-11-30</th>\n",
       "      <td>1</td>\n",
       "      <td>0.321733</td>\n",
       "    </tr>\n",
       "    <tr>\n",
       "      <th>2006-12-01</th>\n",
       "      <td>2</td>\n",
       "      <td>0.320759</td>\n",
       "    </tr>\n",
       "    <tr>\n",
       "      <th>2006-12-04</th>\n",
       "      <td>3</td>\n",
       "      <td>0.327574</td>\n",
       "    </tr>\n",
       "    <tr>\n",
       "      <th>2006-12-05</th>\n",
       "      <td>4</td>\n",
       "      <td>0.325870</td>\n",
       "    </tr>\n",
       "    <tr>\n",
       "      <th>...</th>\n",
       "      <td>...</td>\n",
       "      <td>...</td>\n",
       "    </tr>\n",
       "    <tr>\n",
       "      <th>2022-02-08</th>\n",
       "      <td>3824</td>\n",
       "      <td>0.289121</td>\n",
       "    </tr>\n",
       "    <tr>\n",
       "      <th>2022-02-09</th>\n",
       "      <td>3825</td>\n",
       "      <td>0.288148</td>\n",
       "    </tr>\n",
       "    <tr>\n",
       "      <th>2022-02-10</th>\n",
       "      <td>3826</td>\n",
       "      <td>0.286444</td>\n",
       "    </tr>\n",
       "    <tr>\n",
       "      <th>2022-02-11</th>\n",
       "      <td>3827</td>\n",
       "      <td>0.254076</td>\n",
       "    </tr>\n",
       "    <tr>\n",
       "      <th>2022-02-14</th>\n",
       "      <td>3828</td>\n",
       "      <td>0.240204</td>\n",
       "    </tr>\n",
       "  </tbody>\n",
       "</table>\n",
       "<p>3829 rows × 2 columns</p>\n",
       "</div>"
      ],
      "text/plain": [
       "                  index  Closing_price\n",
       "Stock_price_date                      \n",
       "2006-11-29            0       0.330251\n",
       "2006-11-30            1       0.321733\n",
       "2006-12-01            2       0.320759\n",
       "2006-12-04            3       0.327574\n",
       "2006-12-05            4       0.325870\n",
       "...                 ...            ...\n",
       "2022-02-08         3824       0.289121\n",
       "2022-02-09         3825       0.288148\n",
       "2022-02-10         3826       0.286444\n",
       "2022-02-11         3827       0.254076\n",
       "2022-02-14         3828       0.240204\n",
       "\n",
       "[3829 rows x 2 columns]"
      ]
     },
     "execution_count": 147,
     "metadata": {},
     "output_type": "execute_result"
    }
   ],
   "source": [
    "gps_stock_table1\n"
   ]
  },
  {
   "cell_type": "code",
   "execution_count": 148,
   "metadata": {},
   "outputs": [
    {
     "data": {
      "text/html": [
       "<div>\n",
       "<style scoped>\n",
       "    .dataframe tbody tr th:only-of-type {\n",
       "        vertical-align: middle;\n",
       "    }\n",
       "\n",
       "    .dataframe tbody tr th {\n",
       "        vertical-align: top;\n",
       "    }\n",
       "\n",
       "    .dataframe thead th {\n",
       "        text-align: right;\n",
       "    }\n",
       "</style>\n",
       "<table border=\"1\" class=\"dataframe\">\n",
       "  <thead>\n",
       "    <tr style=\"text-align: right;\">\n",
       "      <th></th>\n",
       "      <th>index</th>\n",
       "      <th>Closing_price</th>\n",
       "    </tr>\n",
       "    <tr>\n",
       "      <th>Stock_price_date</th>\n",
       "      <th></th>\n",
       "      <th></th>\n",
       "    </tr>\n",
       "  </thead>\n",
       "  <tbody>\n",
       "    <tr>\n",
       "      <th>2006-11-29</th>\n",
       "      <td>0</td>\n",
       "      <td>0.330251</td>\n",
       "    </tr>\n",
       "    <tr>\n",
       "      <th>2006-11-30</th>\n",
       "      <td>1</td>\n",
       "      <td>0.321733</td>\n",
       "    </tr>\n",
       "    <tr>\n",
       "      <th>2006-12-01</th>\n",
       "      <td>2</td>\n",
       "      <td>0.320759</td>\n",
       "    </tr>\n",
       "    <tr>\n",
       "      <th>2006-12-04</th>\n",
       "      <td>3</td>\n",
       "      <td>0.327574</td>\n",
       "    </tr>\n",
       "    <tr>\n",
       "      <th>2006-12-05</th>\n",
       "      <td>4</td>\n",
       "      <td>0.325870</td>\n",
       "    </tr>\n",
       "    <tr>\n",
       "      <th>...</th>\n",
       "      <td>...</td>\n",
       "      <td>...</td>\n",
       "    </tr>\n",
       "    <tr>\n",
       "      <th>2022-02-08</th>\n",
       "      <td>3824</td>\n",
       "      <td>0.289121</td>\n",
       "    </tr>\n",
       "    <tr>\n",
       "      <th>2022-02-09</th>\n",
       "      <td>3825</td>\n",
       "      <td>0.288148</td>\n",
       "    </tr>\n",
       "    <tr>\n",
       "      <th>2022-02-10</th>\n",
       "      <td>3826</td>\n",
       "      <td>0.286444</td>\n",
       "    </tr>\n",
       "    <tr>\n",
       "      <th>2022-02-11</th>\n",
       "      <td>3827</td>\n",
       "      <td>0.254076</td>\n",
       "    </tr>\n",
       "    <tr>\n",
       "      <th>2022-02-14</th>\n",
       "      <td>3828</td>\n",
       "      <td>0.240204</td>\n",
       "    </tr>\n",
       "  </tbody>\n",
       "</table>\n",
       "<p>3829 rows × 2 columns</p>\n",
       "</div>"
      ],
      "text/plain": [
       "                  index  Closing_price\n",
       "Stock_price_date                      \n",
       "2006-11-29            0       0.330251\n",
       "2006-11-30            1       0.321733\n",
       "2006-12-01            2       0.320759\n",
       "2006-12-04            3       0.327574\n",
       "2006-12-05            4       0.325870\n",
       "...                 ...            ...\n",
       "2022-02-08         3824       0.289121\n",
       "2022-02-09         3825       0.288148\n",
       "2022-02-10         3826       0.286444\n",
       "2022-02-11         3827       0.254076\n",
       "2022-02-14         3828       0.240204\n",
       "\n",
       "[3829 rows x 2 columns]"
      ]
     },
     "execution_count": 148,
     "metadata": {},
     "output_type": "execute_result"
    }
   ],
   "source": [
    "gps_stock_table1"
   ]
  },
  {
   "cell_type": "code",
   "execution_count": 149,
   "metadata": {},
   "outputs": [],
   "source": [
    "gps_news_table2 = gps_news_table.sort_values(\"Date\")\n",
    "tsla_news_table2 = tsla_news_table.sort_values(\"Date\")\n",
    "jpm_news_table2 = jpm_news_table.sort_values(\"Date\")\n"
   ]
  },
  {
   "cell_type": "code",
   "execution_count": 150,
   "metadata": {},
   "outputs": [
    {
     "data": {
      "text/html": [
       "<div>\n",
       "<style scoped>\n",
       "    .dataframe tbody tr th:only-of-type {\n",
       "        vertical-align: middle;\n",
       "    }\n",
       "\n",
       "    .dataframe tbody tr th {\n",
       "        vertical-align: top;\n",
       "    }\n",
       "\n",
       "    .dataframe thead th {\n",
       "        text-align: right;\n",
       "    }\n",
       "</style>\n",
       "<table border=\"1\" class=\"dataframe\">\n",
       "  <thead>\n",
       "    <tr style=\"text-align: right;\">\n",
       "      <th></th>\n",
       "      <th>Date</th>\n",
       "      <th>sentiment_score</th>\n",
       "    </tr>\n",
       "  </thead>\n",
       "  <tbody>\n",
       "    <tr>\n",
       "      <th>2918</th>\n",
       "      <td>2006-11-30 04:20:00</td>\n",
       "      <td>0.061003</td>\n",
       "    </tr>\n",
       "    <tr>\n",
       "      <th>2917</th>\n",
       "      <td>2006-11-30 04:27:00</td>\n",
       "      <td>0.055345</td>\n",
       "    </tr>\n",
       "    <tr>\n",
       "      <th>2916</th>\n",
       "      <td>2006-11-30 04:42:00</td>\n",
       "      <td>0.042419</td>\n",
       "    </tr>\n",
       "    <tr>\n",
       "      <th>2915</th>\n",
       "      <td>2006-11-30 04:51:00</td>\n",
       "      <td>0.487357</td>\n",
       "    </tr>\n",
       "    <tr>\n",
       "      <th>2919</th>\n",
       "      <td>2006-11-30 08:41:00</td>\n",
       "      <td>0.919276</td>\n",
       "    </tr>\n",
       "    <tr>\n",
       "      <th>2914</th>\n",
       "      <td>2006-12-06 10:38:00</td>\n",
       "      <td>0.466296</td>\n",
       "    </tr>\n",
       "    <tr>\n",
       "      <th>2913</th>\n",
       "      <td>2006-12-07 06:23:00</td>\n",
       "      <td>0.117843</td>\n",
       "    </tr>\n",
       "    <tr>\n",
       "      <th>2912</th>\n",
       "      <td>2006-12-14 04:41:00</td>\n",
       "      <td>0.949304</td>\n",
       "    </tr>\n",
       "    <tr>\n",
       "      <th>2911</th>\n",
       "      <td>2006-12-15 03:42:00</td>\n",
       "      <td>0.523530</td>\n",
       "    </tr>\n",
       "    <tr>\n",
       "      <th>2910</th>\n",
       "      <td>2006-12-15 04:52:00</td>\n",
       "      <td>0.681805</td>\n",
       "    </tr>\n",
       "  </tbody>\n",
       "</table>\n",
       "</div>"
      ],
      "text/plain": [
       "                    Date  sentiment_score\n",
       "2918 2006-11-30 04:20:00         0.061003\n",
       "2917 2006-11-30 04:27:00         0.055345\n",
       "2916 2006-11-30 04:42:00         0.042419\n",
       "2915 2006-11-30 04:51:00         0.487357\n",
       "2919 2006-11-30 08:41:00         0.919276\n",
       "2914 2006-12-06 10:38:00         0.466296\n",
       "2913 2006-12-07 06:23:00         0.117843\n",
       "2912 2006-12-14 04:41:00         0.949304\n",
       "2911 2006-12-15 03:42:00         0.523530\n",
       "2910 2006-12-15 04:52:00         0.681805"
      ]
     },
     "execution_count": 150,
     "metadata": {},
     "output_type": "execute_result"
    }
   ],
   "source": [
    "gps_news_table2.head(10)"
   ]
  },
  {
   "cell_type": "code",
   "execution_count": 151,
   "metadata": {},
   "outputs": [
    {
     "data": {
      "text/html": [
       "<div>\n",
       "<style scoped>\n",
       "    .dataframe tbody tr th:only-of-type {\n",
       "        vertical-align: middle;\n",
       "    }\n",
       "\n",
       "    .dataframe tbody tr th {\n",
       "        vertical-align: top;\n",
       "    }\n",
       "\n",
       "    .dataframe thead th {\n",
       "        text-align: right;\n",
       "    }\n",
       "</style>\n",
       "<table border=\"1\" class=\"dataframe\">\n",
       "  <thead>\n",
       "    <tr style=\"text-align: right;\">\n",
       "      <th></th>\n",
       "      <th>Date</th>\n",
       "      <th>sentiment_score</th>\n",
       "    </tr>\n",
       "  </thead>\n",
       "  <tbody>\n",
       "    <tr>\n",
       "      <th>4119</th>\n",
       "      <td>2010-12-06 00:01:00</td>\n",
       "      <td>0.869969</td>\n",
       "    </tr>\n",
       "    <tr>\n",
       "      <th>7159</th>\n",
       "      <td>2011-10-20 05:06:00</td>\n",
       "      <td>0.530473</td>\n",
       "    </tr>\n",
       "    <tr>\n",
       "      <th>7158</th>\n",
       "      <td>2011-10-21 00:01:00</td>\n",
       "      <td>0.322909</td>\n",
       "    </tr>\n",
       "    <tr>\n",
       "      <th>7156</th>\n",
       "      <td>2011-10-21 04:39:00</td>\n",
       "      <td>0.033791</td>\n",
       "    </tr>\n",
       "    <tr>\n",
       "      <th>7155</th>\n",
       "      <td>2011-10-21 06:09:00</td>\n",
       "      <td>0.029845</td>\n",
       "    </tr>\n",
       "    <tr>\n",
       "      <th>7157</th>\n",
       "      <td>2011-10-21 09:37:00</td>\n",
       "      <td>0.411165</td>\n",
       "    </tr>\n",
       "    <tr>\n",
       "      <th>7152</th>\n",
       "      <td>2011-10-24 00:26:00</td>\n",
       "      <td>0.486562</td>\n",
       "    </tr>\n",
       "    <tr>\n",
       "      <th>7151</th>\n",
       "      <td>2011-10-24 05:20:00</td>\n",
       "      <td>0.003717</td>\n",
       "    </tr>\n",
       "    <tr>\n",
       "      <th>7154</th>\n",
       "      <td>2011-10-24 09:49:00</td>\n",
       "      <td>0.605255</td>\n",
       "    </tr>\n",
       "    <tr>\n",
       "      <th>7153</th>\n",
       "      <td>2011-10-24 10:04:00</td>\n",
       "      <td>0.232560</td>\n",
       "    </tr>\n",
       "  </tbody>\n",
       "</table>\n",
       "</div>"
      ],
      "text/plain": [
       "                    Date  sentiment_score\n",
       "4119 2010-12-06 00:01:00         0.869969\n",
       "7159 2011-10-20 05:06:00         0.530473\n",
       "7158 2011-10-21 00:01:00         0.322909\n",
       "7156 2011-10-21 04:39:00         0.033791\n",
       "7155 2011-10-21 06:09:00         0.029845\n",
       "7157 2011-10-21 09:37:00         0.411165\n",
       "7152 2011-10-24 00:26:00         0.486562\n",
       "7151 2011-10-24 05:20:00         0.003717\n",
       "7154 2011-10-24 09:49:00         0.605255\n",
       "7153 2011-10-24 10:04:00         0.232560"
      ]
     },
     "execution_count": 151,
     "metadata": {},
     "output_type": "execute_result"
    }
   ],
   "source": [
    "jpm_news_table2.head(10)"
   ]
  },
  {
   "cell_type": "code",
   "execution_count": 152,
   "metadata": {},
   "outputs": [
    {
     "data": {
      "text/html": [
       "<div>\n",
       "<style scoped>\n",
       "    .dataframe tbody tr th:only-of-type {\n",
       "        vertical-align: middle;\n",
       "    }\n",
       "\n",
       "    .dataframe tbody tr th {\n",
       "        vertical-align: top;\n",
       "    }\n",
       "\n",
       "    .dataframe thead th {\n",
       "        text-align: right;\n",
       "    }\n",
       "</style>\n",
       "<table border=\"1\" class=\"dataframe\">\n",
       "  <thead>\n",
       "    <tr style=\"text-align: right;\">\n",
       "      <th></th>\n",
       "      <th>Date</th>\n",
       "      <th>sentiment_score</th>\n",
       "    </tr>\n",
       "  </thead>\n",
       "  <tbody>\n",
       "    <tr>\n",
       "      <th>19</th>\n",
       "      <td>2016-11-04 11:19:00</td>\n",
       "      <td>0.643564</td>\n",
       "    </tr>\n",
       "    <tr>\n",
       "      <th>579</th>\n",
       "      <td>2016-11-07 02:05:00</td>\n",
       "      <td>0.562969</td>\n",
       "    </tr>\n",
       "    <tr>\n",
       "      <th>1419</th>\n",
       "      <td>2016-11-18 10:24:00</td>\n",
       "      <td>0.521909</td>\n",
       "    </tr>\n",
       "    <tr>\n",
       "      <th>919</th>\n",
       "      <td>2016-11-30 05:36:00</td>\n",
       "      <td>0.641331</td>\n",
       "    </tr>\n",
       "    <tr>\n",
       "      <th>7575</th>\n",
       "      <td>2016-12-14 00:05:00</td>\n",
       "      <td>0.518197</td>\n",
       "    </tr>\n",
       "    <tr>\n",
       "      <th>7579</th>\n",
       "      <td>2016-12-14 03:19:00</td>\n",
       "      <td>0.572672</td>\n",
       "    </tr>\n",
       "    <tr>\n",
       "      <th>7578</th>\n",
       "      <td>2016-12-14 07:57:00</td>\n",
       "      <td>0.551298</td>\n",
       "    </tr>\n",
       "    <tr>\n",
       "      <th>7577</th>\n",
       "      <td>2016-12-14 09:41:00</td>\n",
       "      <td>0.572820</td>\n",
       "    </tr>\n",
       "    <tr>\n",
       "      <th>119</th>\n",
       "      <td>2016-12-14 10:38:00</td>\n",
       "      <td>0.579130</td>\n",
       "    </tr>\n",
       "    <tr>\n",
       "      <th>7576</th>\n",
       "      <td>2016-12-14 11:23:00</td>\n",
       "      <td>0.054735</td>\n",
       "    </tr>\n",
       "  </tbody>\n",
       "</table>\n",
       "</div>"
      ],
      "text/plain": [
       "                    Date  sentiment_score\n",
       "19   2016-11-04 11:19:00         0.643564\n",
       "579  2016-11-07 02:05:00         0.562969\n",
       "1419 2016-11-18 10:24:00         0.521909\n",
       "919  2016-11-30 05:36:00         0.641331\n",
       "7575 2016-12-14 00:05:00         0.518197\n",
       "7579 2016-12-14 03:19:00         0.572672\n",
       "7578 2016-12-14 07:57:00         0.551298\n",
       "7577 2016-12-14 09:41:00         0.572820\n",
       "119  2016-12-14 10:38:00         0.579130\n",
       "7576 2016-12-14 11:23:00         0.054735"
      ]
     },
     "execution_count": 152,
     "metadata": {},
     "output_type": "execute_result"
    }
   ],
   "source": [
    "tsla_news_table2.head(10)"
   ]
  },
  {
   "cell_type": "code",
   "execution_count": 153,
   "metadata": {},
   "outputs": [],
   "source": [
    "gps_news_table3 = gps_news_table2.set_index('Date')\n",
    "tsla_news_table3 = tsla_news_table2.set_index('Date')\n",
    "jpm_news_table3 = jpm_news_table2.set_index('Date')\n"
   ]
  },
  {
   "cell_type": "code",
   "execution_count": 154,
   "metadata": {},
   "outputs": [
    {
     "data": {
      "text/html": [
       "<div>\n",
       "<style scoped>\n",
       "    .dataframe tbody tr th:only-of-type {\n",
       "        vertical-align: middle;\n",
       "    }\n",
       "\n",
       "    .dataframe tbody tr th {\n",
       "        vertical-align: top;\n",
       "    }\n",
       "\n",
       "    .dataframe thead th {\n",
       "        text-align: right;\n",
       "    }\n",
       "</style>\n",
       "<table border=\"1\" class=\"dataframe\">\n",
       "  <thead>\n",
       "    <tr style=\"text-align: right;\">\n",
       "      <th></th>\n",
       "      <th>sentiment_score</th>\n",
       "    </tr>\n",
       "    <tr>\n",
       "      <th>Date</th>\n",
       "      <th></th>\n",
       "    </tr>\n",
       "  </thead>\n",
       "  <tbody>\n",
       "    <tr>\n",
       "      <th>2006-11-30 04:20:00</th>\n",
       "      <td>0.061003</td>\n",
       "    </tr>\n",
       "    <tr>\n",
       "      <th>2006-11-30 04:27:00</th>\n",
       "      <td>0.055345</td>\n",
       "    </tr>\n",
       "    <tr>\n",
       "      <th>2006-11-30 04:42:00</th>\n",
       "      <td>0.042419</td>\n",
       "    </tr>\n",
       "    <tr>\n",
       "      <th>2006-11-30 04:51:00</th>\n",
       "      <td>0.487357</td>\n",
       "    </tr>\n",
       "    <tr>\n",
       "      <th>2006-11-30 08:41:00</th>\n",
       "      <td>0.919276</td>\n",
       "    </tr>\n",
       "    <tr>\n",
       "      <th>...</th>\n",
       "      <td>...</td>\n",
       "    </tr>\n",
       "    <tr>\n",
       "      <th>2022-02-10 04:57:00</th>\n",
       "      <td>0.376313</td>\n",
       "    </tr>\n",
       "    <tr>\n",
       "      <th>2022-02-11 04:15:00</th>\n",
       "      <td>0.675075</td>\n",
       "    </tr>\n",
       "    <tr>\n",
       "      <th>2022-02-11 04:56:00</th>\n",
       "      <td>0.290438</td>\n",
       "    </tr>\n",
       "    <tr>\n",
       "      <th>2022-02-14 04:56:00</th>\n",
       "      <td>0.286930</td>\n",
       "    </tr>\n",
       "    <tr>\n",
       "      <th>2022-02-14 05:12:00</th>\n",
       "      <td>0.540694</td>\n",
       "    </tr>\n",
       "  </tbody>\n",
       "</table>\n",
       "<p>2940 rows × 1 columns</p>\n",
       "</div>"
      ],
      "text/plain": [
       "                     sentiment_score\n",
       "Date                                \n",
       "2006-11-30 04:20:00         0.061003\n",
       "2006-11-30 04:27:00         0.055345\n",
       "2006-11-30 04:42:00         0.042419\n",
       "2006-11-30 04:51:00         0.487357\n",
       "2006-11-30 08:41:00         0.919276\n",
       "...                              ...\n",
       "2022-02-10 04:57:00         0.376313\n",
       "2022-02-11 04:15:00         0.675075\n",
       "2022-02-11 04:56:00         0.290438\n",
       "2022-02-14 04:56:00         0.286930\n",
       "2022-02-14 05:12:00         0.540694\n",
       "\n",
       "[2940 rows x 1 columns]"
      ]
     },
     "execution_count": 154,
     "metadata": {},
     "output_type": "execute_result"
    }
   ],
   "source": [
    "gps_news_table3"
   ]
  },
  {
   "cell_type": "code",
   "execution_count": 155,
   "metadata": {},
   "outputs": [
    {
     "data": {
      "text/html": [
       "<div>\n",
       "<style scoped>\n",
       "    .dataframe tbody tr th:only-of-type {\n",
       "        vertical-align: middle;\n",
       "    }\n",
       "\n",
       "    .dataframe tbody tr th {\n",
       "        vertical-align: top;\n",
       "    }\n",
       "\n",
       "    .dataframe thead th {\n",
       "        text-align: right;\n",
       "    }\n",
       "</style>\n",
       "<table border=\"1\" class=\"dataframe\">\n",
       "  <thead>\n",
       "    <tr style=\"text-align: right;\">\n",
       "      <th></th>\n",
       "      <th>index</th>\n",
       "      <th>Closing_price</th>\n",
       "    </tr>\n",
       "    <tr>\n",
       "      <th>Stock_price_date</th>\n",
       "      <th></th>\n",
       "      <th></th>\n",
       "    </tr>\n",
       "  </thead>\n",
       "  <tbody>\n",
       "    <tr>\n",
       "      <th>2006-11-29</th>\n",
       "      <td>0</td>\n",
       "      <td>0.330251</td>\n",
       "    </tr>\n",
       "    <tr>\n",
       "      <th>2006-11-30</th>\n",
       "      <td>1</td>\n",
       "      <td>0.321733</td>\n",
       "    </tr>\n",
       "    <tr>\n",
       "      <th>2006-12-01</th>\n",
       "      <td>2</td>\n",
       "      <td>0.320759</td>\n",
       "    </tr>\n",
       "    <tr>\n",
       "      <th>2006-12-04</th>\n",
       "      <td>3</td>\n",
       "      <td>0.327574</td>\n",
       "    </tr>\n",
       "    <tr>\n",
       "      <th>2006-12-05</th>\n",
       "      <td>4</td>\n",
       "      <td>0.325870</td>\n",
       "    </tr>\n",
       "    <tr>\n",
       "      <th>...</th>\n",
       "      <td>...</td>\n",
       "      <td>...</td>\n",
       "    </tr>\n",
       "    <tr>\n",
       "      <th>2022-02-08</th>\n",
       "      <td>3824</td>\n",
       "      <td>0.289121</td>\n",
       "    </tr>\n",
       "    <tr>\n",
       "      <th>2022-02-09</th>\n",
       "      <td>3825</td>\n",
       "      <td>0.288148</td>\n",
       "    </tr>\n",
       "    <tr>\n",
       "      <th>2022-02-10</th>\n",
       "      <td>3826</td>\n",
       "      <td>0.286444</td>\n",
       "    </tr>\n",
       "    <tr>\n",
       "      <th>2022-02-11</th>\n",
       "      <td>3827</td>\n",
       "      <td>0.254076</td>\n",
       "    </tr>\n",
       "    <tr>\n",
       "      <th>2022-02-14</th>\n",
       "      <td>3828</td>\n",
       "      <td>0.240204</td>\n",
       "    </tr>\n",
       "  </tbody>\n",
       "</table>\n",
       "<p>3829 rows × 2 columns</p>\n",
       "</div>"
      ],
      "text/plain": [
       "                  index  Closing_price\n",
       "Stock_price_date                      \n",
       "2006-11-29            0       0.330251\n",
       "2006-11-30            1       0.321733\n",
       "2006-12-01            2       0.320759\n",
       "2006-12-04            3       0.327574\n",
       "2006-12-05            4       0.325870\n",
       "...                 ...            ...\n",
       "2022-02-08         3824       0.289121\n",
       "2022-02-09         3825       0.288148\n",
       "2022-02-10         3826       0.286444\n",
       "2022-02-11         3827       0.254076\n",
       "2022-02-14         3828       0.240204\n",
       "\n",
       "[3829 rows x 2 columns]"
      ]
     },
     "execution_count": 155,
     "metadata": {},
     "output_type": "execute_result"
    }
   ],
   "source": [
    "gps_stock_table1"
   ]
  },
  {
   "cell_type": "code",
   "execution_count": 156,
   "metadata": {},
   "outputs": [
    {
     "name": "stderr",
     "output_type": "stream",
     "text": [
      "C:\\Users\\User\\AppData\\Local\\Temp\\ipykernel_22868\\4207424997.py:2: FutureWarning: In a future version of pandas all arguments of DataFrame.drop except for the argument 'labels' will be keyword-only.\n",
      "  .merge(gps_stock_table1, left_on='key', right_index=True, how='left').drop('key', 1)\n"
     ]
    }
   ],
   "source": [
    "gps_final_table = gps_news_table3.assign(key=gps_news_table3.index.normalize())\\\n",
    "   .merge(gps_stock_table1, left_on='key', right_index=True, how='left').drop('key', 1)"
   ]
  },
  {
   "cell_type": "code",
   "execution_count": 157,
   "metadata": {},
   "outputs": [
    {
     "name": "stderr",
     "output_type": "stream",
     "text": [
      "C:\\Users\\User\\AppData\\Local\\Temp\\ipykernel_22868\\2021002831.py:2: FutureWarning: In a future version of pandas all arguments of DataFrame.drop except for the argument 'labels' will be keyword-only.\n",
      "  .merge(tsla_stock_table1, left_on='key', right_index=True, how='left').drop('key', 1)\n"
     ]
    }
   ],
   "source": [
    "tsla_final_table = tsla_news_table3.assign(key=tsla_news_table3.index.normalize())\\\n",
    "   .merge(tsla_stock_table1, left_on='key', right_index=True, how='left').drop('key', 1)"
   ]
  },
  {
   "cell_type": "code",
   "execution_count": 158,
   "metadata": {},
   "outputs": [
    {
     "name": "stderr",
     "output_type": "stream",
     "text": [
      "C:\\Users\\User\\AppData\\Local\\Temp\\ipykernel_22868\\2393391802.py:2: FutureWarning: In a future version of pandas all arguments of DataFrame.drop except for the argument 'labels' will be keyword-only.\n",
      "  .merge(jpm_stock_table1, left_on='key', right_index=True, how='left').drop('key', 1)\n"
     ]
    }
   ],
   "source": [
    "jpm_final_table = jpm_news_table3.assign(key=jpm_news_table3.index.normalize())\\\n",
    "   .merge(jpm_stock_table1, left_on='key', right_index=True, how='left').drop('key', 1)"
   ]
  },
  {
   "cell_type": "code",
   "execution_count": 159,
   "metadata": {},
   "outputs": [
    {
     "data": {
      "text/plain": [
       "2940"
      ]
     },
     "execution_count": 159,
     "metadata": {},
     "output_type": "execute_result"
    }
   ],
   "source": [
    "len(gps_final_table)"
   ]
  },
  {
   "cell_type": "code",
   "execution_count": 160,
   "metadata": {},
   "outputs": [],
   "source": [
    "jpm_final_table = jpm_final_table.drop(columns= ['index'])"
   ]
  },
  {
   "cell_type": "code",
   "execution_count": 161,
   "metadata": {},
   "outputs": [],
   "source": [
    "tsla_final_table = tsla_final_table.drop(columns= ['index'])\n",
    "gps_final_table = gps_final_table.drop(columns= ['index'])"
   ]
  },
  {
   "cell_type": "code",
   "execution_count": 162,
   "metadata": {},
   "outputs": [
    {
     "data": {
      "text/html": [
       "<div>\n",
       "<style scoped>\n",
       "    .dataframe tbody tr th:only-of-type {\n",
       "        vertical-align: middle;\n",
       "    }\n",
       "\n",
       "    .dataframe tbody tr th {\n",
       "        vertical-align: top;\n",
       "    }\n",
       "\n",
       "    .dataframe thead th {\n",
       "        text-align: right;\n",
       "    }\n",
       "</style>\n",
       "<table border=\"1\" class=\"dataframe\">\n",
       "  <thead>\n",
       "    <tr style=\"text-align: right;\">\n",
       "      <th></th>\n",
       "      <th>sentiment_score</th>\n",
       "      <th>Closing_price</th>\n",
       "    </tr>\n",
       "    <tr>\n",
       "      <th>Date</th>\n",
       "      <th></th>\n",
       "      <th></th>\n",
       "    </tr>\n",
       "  </thead>\n",
       "  <tbody>\n",
       "    <tr>\n",
       "      <th>2010-12-06 00:01:00</th>\n",
       "      <td>0.869969</td>\n",
       "      <td>NaN</td>\n",
       "    </tr>\n",
       "    <tr>\n",
       "      <th>2011-10-20 05:06:00</th>\n",
       "      <td>0.530473</td>\n",
       "      <td>0.033124</td>\n",
       "    </tr>\n",
       "    <tr>\n",
       "      <th>2011-10-21 00:01:00</th>\n",
       "      <td>0.322909</td>\n",
       "      <td>0.035146</td>\n",
       "    </tr>\n",
       "    <tr>\n",
       "      <th>2011-10-21 04:39:00</th>\n",
       "      <td>0.033791</td>\n",
       "      <td>0.035146</td>\n",
       "    </tr>\n",
       "    <tr>\n",
       "      <th>2011-10-21 06:09:00</th>\n",
       "      <td>0.029845</td>\n",
       "      <td>0.035146</td>\n",
       "    </tr>\n",
       "    <tr>\n",
       "      <th>...</th>\n",
       "      <td>...</td>\n",
       "      <td>...</td>\n",
       "    </tr>\n",
       "    <tr>\n",
       "      <th>NaT</th>\n",
       "      <td>0.578116</td>\n",
       "      <td>NaN</td>\n",
       "    </tr>\n",
       "    <tr>\n",
       "      <th>NaT</th>\n",
       "      <td>0.539988</td>\n",
       "      <td>NaN</td>\n",
       "    </tr>\n",
       "    <tr>\n",
       "      <th>NaT</th>\n",
       "      <td>0.609752</td>\n",
       "      <td>NaN</td>\n",
       "    </tr>\n",
       "    <tr>\n",
       "      <th>NaT</th>\n",
       "      <td>0.683167</td>\n",
       "      <td>NaN</td>\n",
       "    </tr>\n",
       "    <tr>\n",
       "      <th>NaT</th>\n",
       "      <td>0.597623</td>\n",
       "      <td>NaN</td>\n",
       "    </tr>\n",
       "  </tbody>\n",
       "</table>\n",
       "<p>7600 rows × 2 columns</p>\n",
       "</div>"
      ],
      "text/plain": [
       "                     sentiment_score  Closing_price\n",
       "Date                                               \n",
       "2010-12-06 00:01:00         0.869969            NaN\n",
       "2011-10-20 05:06:00         0.530473       0.033124\n",
       "2011-10-21 00:01:00         0.322909       0.035146\n",
       "2011-10-21 04:39:00         0.033791       0.035146\n",
       "2011-10-21 06:09:00         0.029845       0.035146\n",
       "...                              ...            ...\n",
       "NaT                         0.578116            NaN\n",
       "NaT                         0.539988            NaN\n",
       "NaT                         0.609752            NaN\n",
       "NaT                         0.683167            NaN\n",
       "NaT                         0.597623            NaN\n",
       "\n",
       "[7600 rows x 2 columns]"
      ]
     },
     "execution_count": 162,
     "metadata": {},
     "output_type": "execute_result"
    }
   ],
   "source": [
    "jpm_final_table"
   ]
  },
  {
   "cell_type": "markdown",
   "metadata": {},
   "source": [
    "## check for null values"
   ]
  },
  {
   "cell_type": "code",
   "execution_count": 163,
   "metadata": {},
   "outputs": [
    {
     "data": {
      "text/plain": [
       "sentiment_score    False\n",
       "Closing_price       True\n",
       "dtype: bool"
      ]
     },
     "execution_count": 163,
     "metadata": {},
     "output_type": "execute_result"
    }
   ],
   "source": [
    "gps_final_table.isnull().any()"
   ]
  },
  {
   "cell_type": "code",
   "execution_count": 164,
   "metadata": {},
   "outputs": [
    {
     "data": {
      "text/plain": [
       "sentiment_score    False\n",
       "Closing_price       True\n",
       "dtype: bool"
      ]
     },
     "execution_count": 164,
     "metadata": {},
     "output_type": "execute_result"
    }
   ],
   "source": [
    "tsla_final_table.isnull().any()"
   ]
  },
  {
   "cell_type": "code",
   "execution_count": 165,
   "metadata": {},
   "outputs": [
    {
     "data": {
      "text/plain": [
       "sentiment_score    False\n",
       "Closing_price       True\n",
       "dtype: bool"
      ]
     },
     "execution_count": 165,
     "metadata": {},
     "output_type": "execute_result"
    }
   ],
   "source": [
    "jpm_final_table.isnull().any()"
   ]
  },
  {
   "cell_type": "markdown",
   "metadata": {},
   "source": [
    "## remove rows with null values"
   ]
  },
  {
   "cell_type": "code",
   "execution_count": 166,
   "metadata": {},
   "outputs": [],
   "source": [
    "gps_for_lstm = gps_final_table.dropna()\n",
    "tsla_for_lstm = tsla_final_table.dropna()\n",
    "jpm_for_lstm = jpm_final_table.dropna()\n"
   ]
  },
  {
   "cell_type": "code",
   "execution_count": 169,
   "metadata": {},
   "outputs": [
    {
     "data": {
      "text/html": [
       "<div>\n",
       "<style scoped>\n",
       "    .dataframe tbody tr th:only-of-type {\n",
       "        vertical-align: middle;\n",
       "    }\n",
       "\n",
       "    .dataframe tbody tr th {\n",
       "        vertical-align: top;\n",
       "    }\n",
       "\n",
       "    .dataframe thead th {\n",
       "        text-align: right;\n",
       "    }\n",
       "</style>\n",
       "<table border=\"1\" class=\"dataframe\">\n",
       "  <thead>\n",
       "    <tr style=\"text-align: right;\">\n",
       "      <th></th>\n",
       "      <th>sentiment_score</th>\n",
       "      <th>Closing_price</th>\n",
       "    </tr>\n",
       "    <tr>\n",
       "      <th>Date</th>\n",
       "      <th></th>\n",
       "      <th></th>\n",
       "    </tr>\n",
       "  </thead>\n",
       "  <tbody>\n",
       "    <tr>\n",
       "      <th>2011-10-20 05:06:00</th>\n",
       "      <td>0.530473</td>\n",
       "      <td>0.033124</td>\n",
       "    </tr>\n",
       "    <tr>\n",
       "      <th>2011-10-21 00:01:00</th>\n",
       "      <td>0.322909</td>\n",
       "      <td>0.035146</td>\n",
       "    </tr>\n",
       "    <tr>\n",
       "      <th>2011-10-21 04:39:00</th>\n",
       "      <td>0.033791</td>\n",
       "      <td>0.035146</td>\n",
       "    </tr>\n",
       "    <tr>\n",
       "      <th>2011-10-21 06:09:00</th>\n",
       "      <td>0.029845</td>\n",
       "      <td>0.035146</td>\n",
       "    </tr>\n",
       "    <tr>\n",
       "      <th>2011-10-21 09:37:00</th>\n",
       "      <td>0.411165</td>\n",
       "      <td>0.035146</td>\n",
       "    </tr>\n",
       "  </tbody>\n",
       "</table>\n",
       "</div>"
      ],
      "text/plain": [
       "                     sentiment_score  Closing_price\n",
       "Date                                               \n",
       "2011-10-20 05:06:00         0.530473       0.033124\n",
       "2011-10-21 00:01:00         0.322909       0.035146\n",
       "2011-10-21 04:39:00         0.033791       0.035146\n",
       "2011-10-21 06:09:00         0.029845       0.035146\n",
       "2011-10-21 09:37:00         0.411165       0.035146"
      ]
     },
     "execution_count": 169,
     "metadata": {},
     "output_type": "execute_result"
    }
   ],
   "source": []
  },
  {
   "cell_type": "code",
   "execution_count": 170,
   "metadata": {},
   "outputs": [
    {
     "data": {
      "text/plain": [
       "sentiment_score    False\n",
       "Closing_price      False\n",
       "dtype: bool"
      ]
     },
     "execution_count": 170,
     "metadata": {},
     "output_type": "execute_result"
    }
   ],
   "source": [
    "gps_for_lstm.isnull().any()"
   ]
  },
  {
   "cell_type": "code",
   "execution_count": 171,
   "metadata": {},
   "outputs": [
    {
     "data": {
      "text/plain": [
       "sentiment_score    False\n",
       "Closing_price      False\n",
       "dtype: bool"
      ]
     },
     "execution_count": 171,
     "metadata": {},
     "output_type": "execute_result"
    }
   ],
   "source": [
    "tsla_for_lstm.isnull().any()\n"
   ]
  },
  {
   "cell_type": "code",
   "execution_count": 172,
   "metadata": {},
   "outputs": [
    {
     "data": {
      "text/plain": [
       "sentiment_score    False\n",
       "Closing_price      False\n",
       "dtype: bool"
      ]
     },
     "execution_count": 172,
     "metadata": {},
     "output_type": "execute_result"
    }
   ],
   "source": [
    "jpm_for_lstm.isnull().any()\n"
   ]
  },
  {
   "cell_type": "code",
   "execution_count": 173,
   "metadata": {},
   "outputs": [],
   "source": [
    "gps_for_lstm.to_csv('gps_lstm_new.csv', index = True)\n",
    "tsla_for_lstm.to_csv('tsla_lstm_new.csv', index = True)\n",
    "jpm_for_lstm.to_csv('jpm_lstm_new.csv', index = True)\n"
   ]
  },
  {
   "cell_type": "markdown",
   "metadata": {},
   "source": [
    "## Fill data with previous value"
   ]
  },
  {
   "cell_type": "code",
   "execution_count": 174,
   "metadata": {},
   "outputs": [
    {
     "name": "stderr",
     "output_type": "stream",
     "text": [
      "C:\\Users\\User\\AppData\\Local\\Packages\\PythonSoftwareFoundation.Python.3.10_qbz5n2kfra8p0\\LocalCache\\local-packages\\Python310\\site-packages\\IPython\\core\\interactiveshell.py:3361: UserWarning: Parsing '30/11/2006' in DD/MM/YYYY format. Provide format or specify infer_datetime_format=True for consistent parsing.\n",
      "  exec(code_obj, self.user_global_ns, self.user_ns)\n",
      "C:\\Users\\User\\AppData\\Local\\Packages\\PythonSoftwareFoundation.Python.3.10_qbz5n2kfra8p0\\LocalCache\\local-packages\\Python310\\site-packages\\IPython\\core\\interactiveshell.py:3361: UserWarning: Parsing '14/02/2022' in DD/MM/YYYY format. Provide format or specify infer_datetime_format=True for consistent parsing.\n",
      "  exec(code_obj, self.user_global_ns, self.user_ns)\n",
      "C:\\Users\\User\\AppData\\Local\\Packages\\PythonSoftwareFoundation.Python.3.10_qbz5n2kfra8p0\\LocalCache\\local-packages\\Python310\\site-packages\\IPython\\core\\interactiveshell.py:3361: UserWarning: Parsing '30/11/2016' in DD/MM/YYYY format. Provide format or specify infer_datetime_format=True for consistent parsing.\n",
      "  exec(code_obj, self.user_global_ns, self.user_ns)\n",
      "C:\\Users\\User\\AppData\\Local\\Packages\\PythonSoftwareFoundation.Python.3.10_qbz5n2kfra8p0\\LocalCache\\local-packages\\Python310\\site-packages\\IPython\\core\\interactiveshell.py:3361: UserWarning: Parsing '20/10/2011' in DD/MM/YYYY format. Provide format or specify infer_datetime_format=True for consistent parsing.\n",
      "  exec(code_obj, self.user_global_ns, self.user_ns)\n"
     ]
    }
   ],
   "source": [
    "gps_input_dates = pd.date_range(start='30/11/2006', end='14/02/2022', freq = \"D\")\n",
    "tsla_input_dates = pd.date_range(start='30/11/2016', end='14/02/2022', freq = \"D\")\n",
    "jpm_input_dates = pd.date_range(start='20/10/2011', end='14/02/2022', freq = \"D\")\n"
   ]
  },
  {
   "cell_type": "code",
   "execution_count": 175,
   "metadata": {},
   "outputs": [
    {
     "data": {
      "text/html": [
       "<div>\n",
       "<style scoped>\n",
       "    .dataframe tbody tr th:only-of-type {\n",
       "        vertical-align: middle;\n",
       "    }\n",
       "\n",
       "    .dataframe tbody tr th {\n",
       "        vertical-align: top;\n",
       "    }\n",
       "\n",
       "    .dataframe thead th {\n",
       "        text-align: right;\n",
       "    }\n",
       "</style>\n",
       "<table border=\"1\" class=\"dataframe\">\n",
       "  <thead>\n",
       "    <tr style=\"text-align: right;\">\n",
       "      <th></th>\n",
       "      <th>sentiment_score</th>\n",
       "      <th>Closing_price</th>\n",
       "    </tr>\n",
       "    <tr>\n",
       "      <th>Date</th>\n",
       "      <th></th>\n",
       "      <th></th>\n",
       "    </tr>\n",
       "  </thead>\n",
       "  <tbody>\n",
       "    <tr>\n",
       "      <th>2010-12-06 00:01:00</th>\n",
       "      <td>0.869969</td>\n",
       "      <td>NaN</td>\n",
       "    </tr>\n",
       "    <tr>\n",
       "      <th>2011-10-20 05:06:00</th>\n",
       "      <td>0.530473</td>\n",
       "      <td>0.033124</td>\n",
       "    </tr>\n",
       "    <tr>\n",
       "      <th>2011-10-21 00:01:00</th>\n",
       "      <td>0.322909</td>\n",
       "      <td>0.035146</td>\n",
       "    </tr>\n",
       "    <tr>\n",
       "      <th>2011-10-21 04:39:00</th>\n",
       "      <td>0.033791</td>\n",
       "      <td>0.035146</td>\n",
       "    </tr>\n",
       "    <tr>\n",
       "      <th>2011-10-21 06:09:00</th>\n",
       "      <td>0.029845</td>\n",
       "      <td>0.035146</td>\n",
       "    </tr>\n",
       "    <tr>\n",
       "      <th>...</th>\n",
       "      <td>...</td>\n",
       "      <td>...</td>\n",
       "    </tr>\n",
       "    <tr>\n",
       "      <th>NaT</th>\n",
       "      <td>0.578116</td>\n",
       "      <td>NaN</td>\n",
       "    </tr>\n",
       "    <tr>\n",
       "      <th>NaT</th>\n",
       "      <td>0.539988</td>\n",
       "      <td>NaN</td>\n",
       "    </tr>\n",
       "    <tr>\n",
       "      <th>NaT</th>\n",
       "      <td>0.609752</td>\n",
       "      <td>NaN</td>\n",
       "    </tr>\n",
       "    <tr>\n",
       "      <th>NaT</th>\n",
       "      <td>0.683167</td>\n",
       "      <td>NaN</td>\n",
       "    </tr>\n",
       "    <tr>\n",
       "      <th>NaT</th>\n",
       "      <td>0.597623</td>\n",
       "      <td>NaN</td>\n",
       "    </tr>\n",
       "  </tbody>\n",
       "</table>\n",
       "<p>7600 rows × 2 columns</p>\n",
       "</div>"
      ],
      "text/plain": [
       "                     sentiment_score  Closing_price\n",
       "Date                                               \n",
       "2010-12-06 00:01:00         0.869969            NaN\n",
       "2011-10-20 05:06:00         0.530473       0.033124\n",
       "2011-10-21 00:01:00         0.322909       0.035146\n",
       "2011-10-21 04:39:00         0.033791       0.035146\n",
       "2011-10-21 06:09:00         0.029845       0.035146\n",
       "...                              ...            ...\n",
       "NaT                         0.578116            NaN\n",
       "NaT                         0.539988            NaN\n",
       "NaT                         0.609752            NaN\n",
       "NaT                         0.683167            NaN\n",
       "NaT                         0.597623            NaN\n",
       "\n",
       "[7600 rows x 2 columns]"
      ]
     },
     "execution_count": 175,
     "metadata": {},
     "output_type": "execute_result"
    }
   ],
   "source": [
    "jpm_final_table"
   ]
  },
  {
   "cell_type": "code",
   "execution_count": 176,
   "metadata": {},
   "outputs": [],
   "source": [
    "gps_for_lstm_chakky = gps_final_table.fillna(method = \"ffill\")\n",
    "tsla_for_lstm1 = tsla_final_table.fillna(method = \"ffill\")\n",
    "jpm_for_lstm1 = jpm_final_table.fillna(method = \"ffill\")"
   ]
  },
  {
   "cell_type": "code",
   "execution_count": 177,
   "metadata": {},
   "outputs": [],
   "source": [
    "jpm_for_lstm_chakky = jpm_for_lstm1.fillna(method = \"bfill\")\n"
   ]
  },
  {
   "cell_type": "code",
   "execution_count": 178,
   "metadata": {},
   "outputs": [],
   "source": [
    "tsla_for_lstm_chakky = tsla_for_lstm1.fillna(method = \"bfill\")\n"
   ]
  },
  {
   "cell_type": "code",
   "execution_count": 179,
   "metadata": {},
   "outputs": [
    {
     "data": {
      "text/plain": [
       "sentiment_score    False\n",
       "Closing_price      False\n",
       "dtype: bool"
      ]
     },
     "execution_count": 179,
     "metadata": {},
     "output_type": "execute_result"
    }
   ],
   "source": [
    "jpm_for_lstm_chakky.isnull().any()"
   ]
  },
  {
   "cell_type": "code",
   "execution_count": 180,
   "metadata": {},
   "outputs": [
    {
     "data": {
      "text/plain": [
       "sentiment_score    False\n",
       "Closing_price      False\n",
       "dtype: bool"
      ]
     },
     "execution_count": 180,
     "metadata": {},
     "output_type": "execute_result"
    }
   ],
   "source": [
    "tsla_for_lstm_chakky.isnull().any()\n"
   ]
  },
  {
   "cell_type": "code",
   "execution_count": 181,
   "metadata": {},
   "outputs": [
    {
     "data": {
      "text/plain": [
       "sentiment_score    False\n",
       "Closing_price      False\n",
       "dtype: bool"
      ]
     },
     "execution_count": 181,
     "metadata": {},
     "output_type": "execute_result"
    }
   ],
   "source": [
    "gps_for_lstm_chakky.isnull().any()\n"
   ]
  },
  {
   "cell_type": "code",
   "execution_count": 182,
   "metadata": {},
   "outputs": [
    {
     "data": {
      "text/html": [
       "<div>\n",
       "<style scoped>\n",
       "    .dataframe tbody tr th:only-of-type {\n",
       "        vertical-align: middle;\n",
       "    }\n",
       "\n",
       "    .dataframe tbody tr th {\n",
       "        vertical-align: top;\n",
       "    }\n",
       "\n",
       "    .dataframe thead th {\n",
       "        text-align: right;\n",
       "    }\n",
       "</style>\n",
       "<table border=\"1\" class=\"dataframe\">\n",
       "  <thead>\n",
       "    <tr style=\"text-align: right;\">\n",
       "      <th></th>\n",
       "      <th>sentiment_score</th>\n",
       "      <th>Closing_price</th>\n",
       "    </tr>\n",
       "    <tr>\n",
       "      <th>Date</th>\n",
       "      <th></th>\n",
       "      <th></th>\n",
       "    </tr>\n",
       "  </thead>\n",
       "  <tbody>\n",
       "    <tr>\n",
       "      <th>2016-11-04 11:19:00</th>\n",
       "      <td>0.643564</td>\n",
       "      <td>0.001747</td>\n",
       "    </tr>\n",
       "    <tr>\n",
       "      <th>2016-11-07 02:05:00</th>\n",
       "      <td>0.562969</td>\n",
       "      <td>0.001747</td>\n",
       "    </tr>\n",
       "    <tr>\n",
       "      <th>2016-11-18 10:24:00</th>\n",
       "      <td>0.521909</td>\n",
       "      <td>0.001747</td>\n",
       "    </tr>\n",
       "    <tr>\n",
       "      <th>2016-11-30 05:36:00</th>\n",
       "      <td>0.641331</td>\n",
       "      <td>0.001747</td>\n",
       "    </tr>\n",
       "    <tr>\n",
       "      <th>2016-12-14 00:05:00</th>\n",
       "      <td>0.518197</td>\n",
       "      <td>0.003303</td>\n",
       "    </tr>\n",
       "  </tbody>\n",
       "</table>\n",
       "</div>"
      ],
      "text/plain": [
       "                     sentiment_score  Closing_price\n",
       "Date                                               \n",
       "2016-11-04 11:19:00         0.643564       0.001747\n",
       "2016-11-07 02:05:00         0.562969       0.001747\n",
       "2016-11-18 10:24:00         0.521909       0.001747\n",
       "2016-11-30 05:36:00         0.641331       0.001747\n",
       "2016-12-14 00:05:00         0.518197       0.003303"
      ]
     },
     "execution_count": 182,
     "metadata": {},
     "output_type": "execute_result"
    }
   ],
   "source": [
    "tsla_for_lstm_chakky.head()"
   ]
  },
  {
   "cell_type": "code",
   "execution_count": null,
   "metadata": {},
   "outputs": [],
   "source": [
    "gps_for_lstm_chakky.to_csv('gps_lstm_chakky_new.csv', index = True)\n",
    "tsla_for_lstm_chakky.to_csv('tsla_lstm_chakky_new.csv', index = True)\n",
    "jpm_for_lstm_chakky.to_csv('jpm_lstm_chakky_new.csv', index = True)"
   ]
  },
  {
   "cell_type": "code",
   "execution_count": null,
   "metadata": {},
   "outputs": [],
   "source": []
  },
  {
   "cell_type": "markdown",
   "metadata": {},
   "source": [
    "# Save rescale sentiment analysis"
   ]
  },
  {
   "cell_type": "markdown",
   "metadata": {},
   "source": [
    "#with open('tsla_news_rescale.txt', 'w') as filehandle:\n",
    "    for listitem in tsla_score:\n",
    "        filehandle.write('%s\\n' % listitem)\n",
    "\n",
    "with open('jpm_news_rescale.txt', 'w') as filehandle:\n",
    "    for listitem in jpm_score:\n",
    "        filehandle.write('%s\\n' % listitem)\n",
    "\n",
    "with open('gps_news_rescale.txt', 'w') as filehandle:\n",
    "    for listitem in gps_score:\n",
    "        filehandle.write('%s\\n' % listitem)"
   ]
  },
  {
   "cell_type": "markdown",
   "metadata": {},
   "source": [
    "# Save classified sentiment analysis"
   ]
  },
  {
   "cell_type": "markdown",
   "metadata": {},
   "source": [
    "\n",
    "with open('tsla_news_score.txt', 'w') as filehandle:\n",
    "    for listitem in tsla_out:\n",
    "        filehandle.write('%s\\n' % listitem)\n",
    "\n",
    "with open('jpm_news_score.txt', 'w') as filehandle:\n",
    "    for listitem in jpm_out:\n",
    "        filehandle.write('%s\\n' % listitem)\n",
    "\n",
    "with open('gps_news_score.txt', 'w') as filehandle:\n",
    "    for listitem in gps_out:\n",
    "        filehandle.write('%s\\n' % listitem)"
   ]
  },
  {
   "cell_type": "markdown",
   "metadata": {},
   "source": [
    "\n",
    "with open('tsla_news_score.txt', 'w') as filehandle:\n",
    "    for listitem in tsla_out:\n",
    "        filehandle.write('%s\\n' % listitem)\n",
    "\n",
    "with open('jpm_news_score.txt', 'w') as filehandle:\n",
    "    for listitem in jpm_out:\n",
    "        filehandle.write('%s\\n' % listitem)\n",
    "\n",
    "with open('gps_news_score.txt', 'w') as filehandle:\n",
    "    for listitem in gps_out:\n",
    "        filehandle.write('%s\\n' % listitem)\n",
    "\n"
   ]
  },
  {
   "cell_type": "markdown",
   "metadata": {},
   "source": [
    "\n",
    "with open('tsla_news_score_text.txt', 'w') as filehandle:\n",
    "    for listitem in tsla_class:\n",
    "        filehandle.write('%s\\n' % listitem)\n",
    "\n",
    "with open('jpm_news_score_text.txt', 'w') as filehandle:\n",
    "    for listitem in jpm_class:\n",
    "        filehandle.write('%s\\n' % listitem)\n",
    "\n",
    "with open('gps_news_score_text.txt', 'w') as filehandle:\n",
    "    for listitem in gps_class:\n",
    "        filehandle.write('%s\\n' % listitem)\n"
   ]
  },
  {
   "cell_type": "markdown",
   "metadata": {},
   "source": []
  },
  {
   "cell_type": "markdown",
   "metadata": {},
   "source": []
  },
  {
   "cell_type": "code",
   "execution_count": null,
   "metadata": {},
   "outputs": [],
   "source": []
  },
  {
   "cell_type": "markdown",
   "metadata": {},
   "source": [
    "\n",
    "with open('tsla_news.txt', 'w') as filehandle:\n",
    "    for listitem in tsla_final:\n",
    "        filehandle.write('%s\\n' % listitem)"
   ]
  },
  {
   "cell_type": "markdown",
   "metadata": {},
   "source": [
    "\n",
    "with open('jpm_news.txt', 'w') as filehandle:\n",
    "    for listitem in jpm_final:\n",
    "        filehandle.write('%s\\n' % listitem)"
   ]
  },
  {
   "cell_type": "markdown",
   "metadata": {},
   "source": [
    "\n",
    "with open('gps_news.txt', 'w', encoding = 'utf-8') as filehandle:\n",
    "    for listitem in gps_final:\n",
    "        filehandle.write('%s\\n' % listitem)"
   ]
  },
  {
   "cell_type": "code",
   "execution_count": null,
   "metadata": {},
   "outputs": [],
   "source": []
  },
  {
   "cell_type": "code",
   "execution_count": null,
   "metadata": {},
   "outputs": [],
   "source": []
  }
 ],
 "metadata": {
  "interpreter": {
   "hash": "3b7e9cb8e453d6cda0fe8c8dd13f891a1f09162f0e7c66ffeae7751a7aecf00d"
  },
  "kernelspec": {
   "display_name": "Python 3.10.4 64-bit (windows store)",
   "language": "python",
   "name": "python3"
  },
  "language_info": {
   "codemirror_mode": {
    "name": "ipython",
    "version": 3
   },
   "file_extension": ".py",
   "mimetype": "text/x-python",
   "name": "python",
   "nbconvert_exporter": "python",
   "pygments_lexer": "ipython3",
   "version": "3.10.5"
  }
 },
 "nbformat": 4,
 "nbformat_minor": 4
}
