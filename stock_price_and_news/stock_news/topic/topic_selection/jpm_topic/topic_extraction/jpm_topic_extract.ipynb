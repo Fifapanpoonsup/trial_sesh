{
 "cells": [
  {
   "cell_type": "code",
   "execution_count": 1,
   "metadata": {},
   "outputs": [],
   "source": [
    "import pandas as pd \n",
    "import numpy as np"
   ]
  },
  {
   "cell_type": "code",
   "execution_count": 2,
   "metadata": {},
   "outputs": [],
   "source": [
    "jpm_data = pd.read_csv(r'/root/thesis_update/thesis_update_final/topic_selection/jpm_topic_selection.csv')\n"
   ]
  },
  {
   "cell_type": "code",
   "execution_count": 4,
   "metadata": {},
   "outputs": [
    {
     "data": {
      "text/html": [
       "<div>\n",
       "<style scoped>\n",
       "    .dataframe tbody tr th:only-of-type {\n",
       "        vertical-align: middle;\n",
       "    }\n",
       "\n",
       "    .dataframe tbody tr th {\n",
       "        vertical-align: top;\n",
       "    }\n",
       "\n",
       "    .dataframe thead th {\n",
       "        text-align: right;\n",
       "    }\n",
       "</style>\n",
       "<table border=\"1\" class=\"dataframe\">\n",
       "  <thead>\n",
       "    <tr style=\"text-align: right;\">\n",
       "      <th></th>\n",
       "      <th>Unnamed: 0</th>\n",
       "      <th>Date</th>\n",
       "      <th>text_headlines</th>\n",
       "    </tr>\n",
       "  </thead>\n",
       "  <tbody>\n",
       "    <tr>\n",
       "      <th>0</th>\n",
       "      <td>0</td>\n",
       "      <td>2022-02-15 09:10:00</td>\n",
       "      <td>the beginning of the ‘new normal’ more compani...</td>\n",
       "    </tr>\n",
       "    <tr>\n",
       "      <th>1</th>\n",
       "      <td>1</td>\n",
       "      <td>2022-02-15 05:02:00</td>\n",
       "      <td>jpmorgan chase &amp; co stock rises tuesday still ...</td>\n",
       "    </tr>\n",
       "    <tr>\n",
       "      <th>2</th>\n",
       "      <td>2</td>\n",
       "      <td>2022-02-15 03:10:00</td>\n",
       "      <td>city of london’s lord mayor arrives in the us ...</td>\n",
       "    </tr>\n",
       "    <tr>\n",
       "      <th>3</th>\n",
       "      <td>3</td>\n",
       "      <td>2022-02-14 05:02:00</td>\n",
       "      <td>jpmorgan chase &amp; co stock outperforms competit...</td>\n",
       "    </tr>\n",
       "    <tr>\n",
       "      <th>4</th>\n",
       "      <td>4</td>\n",
       "      <td>2022-02-14 01:26:00</td>\n",
       "      <td>goodyear stock plunged friday this analyst say...</td>\n",
       "    </tr>\n",
       "  </tbody>\n",
       "</table>\n",
       "</div>"
      ],
      "text/plain": [
       "   Unnamed: 0                 Date  \\\n",
       "0           0  2022-02-15 09:10:00   \n",
       "1           1  2022-02-15 05:02:00   \n",
       "2           2  2022-02-15 03:10:00   \n",
       "3           3  2022-02-14 05:02:00   \n",
       "4           4  2022-02-14 01:26:00   \n",
       "\n",
       "                                      text_headlines  \n",
       "0  the beginning of the ‘new normal’ more compani...  \n",
       "1  jpmorgan chase & co stock rises tuesday still ...  \n",
       "2  city of london’s lord mayor arrives in the us ...  \n",
       "3  jpmorgan chase & co stock outperforms competit...  \n",
       "4  goodyear stock plunged friday this analyst say...  "
      ]
     },
     "execution_count": 4,
     "metadata": {},
     "output_type": "execute_result"
    }
   ],
   "source": [
    "jpm_data.head()"
   ]
  },
  {
   "cell_type": "code",
   "execution_count": 5,
   "metadata": {},
   "outputs": [],
   "source": [
    "jpm_economy_topic = jpm_data[jpm_data[\"text_headlines\"].str.contains(\"housing|mortgage|wall street|banks|jp morgan ceo\")]\n"
   ]
  },
  {
   "cell_type": "code",
   "execution_count": 6,
   "metadata": {},
   "outputs": [
    {
     "data": {
      "text/html": [
       "<div>\n",
       "<style scoped>\n",
       "    .dataframe tbody tr th:only-of-type {\n",
       "        vertical-align: middle;\n",
       "    }\n",
       "\n",
       "    .dataframe tbody tr th {\n",
       "        vertical-align: top;\n",
       "    }\n",
       "\n",
       "    .dataframe thead th {\n",
       "        text-align: right;\n",
       "    }\n",
       "</style>\n",
       "<table border=\"1\" class=\"dataframe\">\n",
       "  <thead>\n",
       "    <tr style=\"text-align: right;\">\n",
       "      <th></th>\n",
       "      <th>Unnamed: 0</th>\n",
       "      <th>Date</th>\n",
       "      <th>text_headlines</th>\n",
       "    </tr>\n",
       "  </thead>\n",
       "  <tbody>\n",
       "    <tr>\n",
       "      <th>7</th>\n",
       "      <td>7</td>\n",
       "      <td>2022-02-12 09:42:00</td>\n",
       "      <td>banks want to be a bridge to bitcoin how to in...</td>\n",
       "    </tr>\n",
       "    <tr>\n",
       "      <th>21</th>\n",
       "      <td>21</td>\n",
       "      <td>2022-02-03 07:30:00</td>\n",
       "      <td>wall street returns to the trading floor</td>\n",
       "    </tr>\n",
       "    <tr>\n",
       "      <th>22</th>\n",
       "      <td>22</td>\n",
       "      <td>2022-02-02 06:02:00</td>\n",
       "      <td>paypal stock had its worst day on record what ...</td>\n",
       "    </tr>\n",
       "    <tr>\n",
       "      <th>51</th>\n",
       "      <td>51</td>\n",
       "      <td>2022-01-21 02:00:00</td>\n",
       "      <td>how the world’s central banks are confronting ...</td>\n",
       "    </tr>\n",
       "    <tr>\n",
       "      <th>54</th>\n",
       "      <td>54</td>\n",
       "      <td>2022-01-20 08:04:00</td>\n",
       "      <td>need evidence of wage inflation check out wall...</td>\n",
       "    </tr>\n",
       "  </tbody>\n",
       "</table>\n",
       "</div>"
      ],
      "text/plain": [
       "    Unnamed: 0                 Date  \\\n",
       "7            7  2022-02-12 09:42:00   \n",
       "21          21  2022-02-03 07:30:00   \n",
       "22          22  2022-02-02 06:02:00   \n",
       "51          51  2022-01-21 02:00:00   \n",
       "54          54  2022-01-20 08:04:00   \n",
       "\n",
       "                                       text_headlines  \n",
       "7   banks want to be a bridge to bitcoin how to in...  \n",
       "21           wall street returns to the trading floor  \n",
       "22  paypal stock had its worst day on record what ...  \n",
       "51  how the world’s central banks are confronting ...  \n",
       "54  need evidence of wage inflation check out wall...  "
      ]
     },
     "execution_count": 6,
     "metadata": {},
     "output_type": "execute_result"
    }
   ],
   "source": [
    "jpm_economy_topic.head()"
   ]
  },
  {
   "cell_type": "code",
   "execution_count": 7,
   "metadata": {},
   "outputs": [
    {
     "data": {
      "text/plain": [
       "722"
      ]
     },
     "execution_count": 7,
     "metadata": {},
     "output_type": "execute_result"
    }
   ],
   "source": [
    "len(jpm_economy_topic)"
   ]
  },
  {
   "cell_type": "code",
   "execution_count": 8,
   "metadata": {},
   "outputs": [],
   "source": [
    "jpm_performance_topic = jpm_data[jpm_data[\"text_headlines\"].str.contains(\"outperforms|underperforms|dow jones|gains|stock market|revenue|q1|q2|q3|q4\")]\n"
   ]
  },
  {
   "cell_type": "code",
   "execution_count": 9,
   "metadata": {},
   "outputs": [
    {
     "data": {
      "text/html": [
       "<div>\n",
       "<style scoped>\n",
       "    .dataframe tbody tr th:only-of-type {\n",
       "        vertical-align: middle;\n",
       "    }\n",
       "\n",
       "    .dataframe tbody tr th {\n",
       "        vertical-align: top;\n",
       "    }\n",
       "\n",
       "    .dataframe thead th {\n",
       "        text-align: right;\n",
       "    }\n",
       "</style>\n",
       "<table border=\"1\" class=\"dataframe\">\n",
       "  <thead>\n",
       "    <tr style=\"text-align: right;\">\n",
       "      <th></th>\n",
       "      <th>Unnamed: 0</th>\n",
       "      <th>Date</th>\n",
       "      <th>text_headlines</th>\n",
       "    </tr>\n",
       "  </thead>\n",
       "  <tbody>\n",
       "    <tr>\n",
       "      <th>1</th>\n",
       "      <td>1</td>\n",
       "      <td>2022-02-15 05:02:00</td>\n",
       "      <td>jpmorgan chase &amp; co stock rises tuesday still ...</td>\n",
       "    </tr>\n",
       "    <tr>\n",
       "      <th>3</th>\n",
       "      <td>3</td>\n",
       "      <td>2022-02-14 05:02:00</td>\n",
       "      <td>jpmorgan chase &amp; co stock outperforms competit...</td>\n",
       "    </tr>\n",
       "    <tr>\n",
       "      <th>8</th>\n",
       "      <td>8</td>\n",
       "      <td>2022-02-11 05:02:00</td>\n",
       "      <td>jpmorgan chase &amp; co stock outperforms competit...</td>\n",
       "    </tr>\n",
       "    <tr>\n",
       "      <th>12</th>\n",
       "      <td>12</td>\n",
       "      <td>2022-02-10 05:02:00</td>\n",
       "      <td>jpmorgan chase &amp; co stock falls thursday still...</td>\n",
       "    </tr>\n",
       "    <tr>\n",
       "      <th>13</th>\n",
       "      <td>13</td>\n",
       "      <td>2022-02-09 05:03:00</td>\n",
       "      <td>jpmorgan chase &amp; co stock rises wednesday stil...</td>\n",
       "    </tr>\n",
       "  </tbody>\n",
       "</table>\n",
       "</div>"
      ],
      "text/plain": [
       "    Unnamed: 0                 Date  \\\n",
       "1            1  2022-02-15 05:02:00   \n",
       "3            3  2022-02-14 05:02:00   \n",
       "8            8  2022-02-11 05:02:00   \n",
       "12          12  2022-02-10 05:02:00   \n",
       "13          13  2022-02-09 05:03:00   \n",
       "\n",
       "                                       text_headlines  \n",
       "1   jpmorgan chase & co stock rises tuesday still ...  \n",
       "3   jpmorgan chase & co stock outperforms competit...  \n",
       "8   jpmorgan chase & co stock outperforms competit...  \n",
       "12  jpmorgan chase & co stock falls thursday still...  \n",
       "13  jpmorgan chase & co stock rises wednesday stil...  "
      ]
     },
     "execution_count": 9,
     "metadata": {},
     "output_type": "execute_result"
    }
   ],
   "source": [
    "jpm_performance_topic.head()"
   ]
  },
  {
   "cell_type": "code",
   "execution_count": 10,
   "metadata": {},
   "outputs": [
    {
     "data": {
      "text/plain": [
       "1149"
      ]
     },
     "execution_count": 10,
     "metadata": {},
     "output_type": "execute_result"
    }
   ],
   "source": [
    "len(jpm_performance_topic)"
   ]
  },
  {
   "cell_type": "code",
   "execution_count": 11,
   "metadata": {},
   "outputs": [],
   "source": [
    "jpm_industry_topic = jpm_data[jpm_data[\"text_headlines\"].str.contains(\"james dimon|fed|financial markets|fed\")]\n"
   ]
  },
  {
   "cell_type": "code",
   "execution_count": 12,
   "metadata": {},
   "outputs": [
    {
     "data": {
      "text/html": [
       "<div>\n",
       "<style scoped>\n",
       "    .dataframe tbody tr th:only-of-type {\n",
       "        vertical-align: middle;\n",
       "    }\n",
       "\n",
       "    .dataframe tbody tr th {\n",
       "        vertical-align: top;\n",
       "    }\n",
       "\n",
       "    .dataframe thead th {\n",
       "        text-align: right;\n",
       "    }\n",
       "</style>\n",
       "<table border=\"1\" class=\"dataframe\">\n",
       "  <thead>\n",
       "    <tr style=\"text-align: right;\">\n",
       "      <th></th>\n",
       "      <th>Unnamed: 0</th>\n",
       "      <th>Date</th>\n",
       "      <th>text_headlines</th>\n",
       "    </tr>\n",
       "  </thead>\n",
       "  <tbody>\n",
       "    <tr>\n",
       "      <th>37</th>\n",
       "      <td>37</td>\n",
       "      <td>2022-01-26 11:14:00</td>\n",
       "      <td>stock-market selloff is so overdone the bar is...</td>\n",
       "    </tr>\n",
       "    <tr>\n",
       "      <th>47</th>\n",
       "      <td>47</td>\n",
       "      <td>2022-01-22 11:12:00</td>\n",
       "      <td>the federal reserve’s first meeting of 2022 lo...</td>\n",
       "    </tr>\n",
       "    <tr>\n",
       "      <th>56</th>\n",
       "      <td>56</td>\n",
       "      <td>2022-01-19 03:41:00</td>\n",
       "      <td>the 60/40 portfolio ‘is in danger’ as federal ...</td>\n",
       "    </tr>\n",
       "    <tr>\n",
       "      <th>71</th>\n",
       "      <td>71</td>\n",
       "      <td>2022-01-17 02:57:00</td>\n",
       "      <td>get ready for the climb here’s what history sa...</td>\n",
       "    </tr>\n",
       "    <tr>\n",
       "      <th>76</th>\n",
       "      <td>76</td>\n",
       "      <td>2022-01-14 04:41:00</td>\n",
       "      <td>the 2-year treasury yield logs 4th straight we...</td>\n",
       "    </tr>\n",
       "  </tbody>\n",
       "</table>\n",
       "</div>"
      ],
      "text/plain": [
       "    Unnamed: 0                 Date  \\\n",
       "37          37  2022-01-26 11:14:00   \n",
       "47          47  2022-01-22 11:12:00   \n",
       "56          56  2022-01-19 03:41:00   \n",
       "71          71  2022-01-17 02:57:00   \n",
       "76          76  2022-01-14 04:41:00   \n",
       "\n",
       "                                       text_headlines  \n",
       "37  stock-market selloff is so overdone the bar is...  \n",
       "47  the federal reserve’s first meeting of 2022 lo...  \n",
       "56  the 60/40 portfolio ‘is in danger’ as federal ...  \n",
       "71  get ready for the climb here’s what history sa...  \n",
       "76  the 2-year treasury yield logs 4th straight we...  "
      ]
     },
     "execution_count": 12,
     "metadata": {},
     "output_type": "execute_result"
    }
   ],
   "source": [
    "jpm_industry_topic.head()"
   ]
  },
  {
   "cell_type": "code",
   "execution_count": 13,
   "metadata": {},
   "outputs": [],
   "source": [
    "jpm_competitors_topic = jpm_data[jpm_data[\"text_headlines\"].str.contains(\"goldman sachs|bank of america\")]\n"
   ]
  },
  {
   "cell_type": "code",
   "execution_count": 14,
   "metadata": {},
   "outputs": [
    {
     "data": {
      "text/html": [
       "<div>\n",
       "<style scoped>\n",
       "    .dataframe tbody tr th:only-of-type {\n",
       "        vertical-align: middle;\n",
       "    }\n",
       "\n",
       "    .dataframe tbody tr th {\n",
       "        vertical-align: top;\n",
       "    }\n",
       "\n",
       "    .dataframe thead th {\n",
       "        text-align: right;\n",
       "    }\n",
       "</style>\n",
       "<table border=\"1\" class=\"dataframe\">\n",
       "  <thead>\n",
       "    <tr style=\"text-align: right;\">\n",
       "      <th></th>\n",
       "      <th>Unnamed: 0</th>\n",
       "      <th>Date</th>\n",
       "      <th>text_headlines</th>\n",
       "    </tr>\n",
       "  </thead>\n",
       "  <tbody>\n",
       "    <tr>\n",
       "      <th>59</th>\n",
       "      <td>59</td>\n",
       "      <td>2022-01-18 04:36:00</td>\n",
       "      <td>goldman sachs profit drops below wall street e...</td>\n",
       "    </tr>\n",
       "    <tr>\n",
       "      <th>60</th>\n",
       "      <td>60</td>\n",
       "      <td>2022-01-18 03:52:00</td>\n",
       "      <td>goldman sachs jpmorgan chase share losses cont...</td>\n",
       "    </tr>\n",
       "    <tr>\n",
       "      <th>61</th>\n",
       "      <td>61</td>\n",
       "      <td>2022-01-18 03:06:00</td>\n",
       "      <td>bank of america's stock falls ahead of earning...</td>\n",
       "    </tr>\n",
       "    <tr>\n",
       "      <th>62</th>\n",
       "      <td>62</td>\n",
       "      <td>2022-01-18 02:51:00</td>\n",
       "      <td>dow drops 420 points on losses in goldman sach...</td>\n",
       "    </tr>\n",
       "    <tr>\n",
       "      <th>63</th>\n",
       "      <td>63</td>\n",
       "      <td>2022-01-18 01:50:00</td>\n",
       "      <td>goldman sachs jpmorgan chase share losses lead...</td>\n",
       "    </tr>\n",
       "    <tr>\n",
       "      <th>...</th>\n",
       "      <td>...</td>\n",
       "      <td>...</td>\n",
       "      <td>...</td>\n",
       "    </tr>\n",
       "    <tr>\n",
       "      <th>7108</th>\n",
       "      <td>7108</td>\n",
       "      <td>2011-11-03 09:38:00</td>\n",
       "      <td>citi bank of america rise financials rally again</td>\n",
       "    </tr>\n",
       "    <tr>\n",
       "      <th>7120</th>\n",
       "      <td>7120</td>\n",
       "      <td>2011-11-01 02:37:00</td>\n",
       "      <td>bank of america backtracks on fees</td>\n",
       "    </tr>\n",
       "    <tr>\n",
       "      <th>7121</th>\n",
       "      <td>7121</td>\n",
       "      <td>2011-11-01 00:14:00</td>\n",
       "      <td>bank of america to drop debit card fee</td>\n",
       "    </tr>\n",
       "    <tr>\n",
       "      <th>7136</th>\n",
       "      <td>7136</td>\n",
       "      <td>2011-10-28 01:29:00</td>\n",
       "      <td>bank of america leads but no one follows</td>\n",
       "    </tr>\n",
       "    <tr>\n",
       "      <th>7139</th>\n",
       "      <td>7139</td>\n",
       "      <td>2011-10-27 04:40:00</td>\n",
       "      <td>morgan stanley bank of america power financials</td>\n",
       "    </tr>\n",
       "  </tbody>\n",
       "</table>\n",
       "<p>332 rows × 3 columns</p>\n",
       "</div>"
      ],
      "text/plain": [
       "      Unnamed: 0                 Date  \\\n",
       "59            59  2022-01-18 04:36:00   \n",
       "60            60  2022-01-18 03:52:00   \n",
       "61            61  2022-01-18 03:06:00   \n",
       "62            62  2022-01-18 02:51:00   \n",
       "63            63  2022-01-18 01:50:00   \n",
       "...          ...                  ...   \n",
       "7108        7108  2011-11-03 09:38:00   \n",
       "7120        7120  2011-11-01 02:37:00   \n",
       "7121        7121  2011-11-01 00:14:00   \n",
       "7136        7136  2011-10-28 01:29:00   \n",
       "7139        7139  2011-10-27 04:40:00   \n",
       "\n",
       "                                         text_headlines  \n",
       "59    goldman sachs profit drops below wall street e...  \n",
       "60    goldman sachs jpmorgan chase share losses cont...  \n",
       "61    bank of america's stock falls ahead of earning...  \n",
       "62    dow drops 420 points on losses in goldman sach...  \n",
       "63    goldman sachs jpmorgan chase share losses lead...  \n",
       "...                                                 ...  \n",
       "7108   citi bank of america rise financials rally again  \n",
       "7120                 bank of america backtracks on fees  \n",
       "7121             bank of america to drop debit card fee  \n",
       "7136           bank of america leads but no one follows  \n",
       "7139    morgan stanley bank of america power financials  \n",
       "\n",
       "[332 rows x 3 columns]"
      ]
     },
     "execution_count": 14,
     "metadata": {},
     "output_type": "execute_result"
    }
   ],
   "source": [
    "jpm_competitors_topic"
   ]
  },
  {
   "cell_type": "code",
   "execution_count": 15,
   "metadata": {},
   "outputs": [
    {
     "data": {
      "text/plain": [
       "332"
      ]
     },
     "execution_count": 15,
     "metadata": {},
     "output_type": "execute_result"
    }
   ],
   "source": [
    "len(jpm_competitors_topic)"
   ]
  },
  {
   "cell_type": "code",
   "execution_count": 16,
   "metadata": {},
   "outputs": [],
   "source": [
    "jpm_crypto_topic = jpm_data[jpm_data[\"text_headlines\"].str.contains(\"bitcoin|btc|eth|ethereum|cathy wood|ark|etf|crypto|cryptocurrency|cryptocurrencies\")]\n"
   ]
  },
  {
   "cell_type": "code",
   "execution_count": 17,
   "metadata": {},
   "outputs": [
    {
     "data": {
      "text/html": [
       "<div>\n",
       "<style scoped>\n",
       "    .dataframe tbody tr th:only-of-type {\n",
       "        vertical-align: middle;\n",
       "    }\n",
       "\n",
       "    .dataframe tbody tr th {\n",
       "        vertical-align: top;\n",
       "    }\n",
       "\n",
       "    .dataframe thead th {\n",
       "        text-align: right;\n",
       "    }\n",
       "</style>\n",
       "<table border=\"1\" class=\"dataframe\">\n",
       "  <thead>\n",
       "    <tr style=\"text-align: right;\">\n",
       "      <th></th>\n",
       "      <th>Unnamed: 0</th>\n",
       "      <th>Date</th>\n",
       "      <th>text_headlines</th>\n",
       "    </tr>\n",
       "  </thead>\n",
       "  <tbody>\n",
       "    <tr>\n",
       "      <th>1</th>\n",
       "      <td>1</td>\n",
       "      <td>2022-02-15 05:02:00</td>\n",
       "      <td>jpmorgan chase &amp; co stock rises tuesday still ...</td>\n",
       "    </tr>\n",
       "    <tr>\n",
       "      <th>7</th>\n",
       "      <td>7</td>\n",
       "      <td>2022-02-12 09:42:00</td>\n",
       "      <td>banks want to be a bridge to bitcoin how to in...</td>\n",
       "    </tr>\n",
       "    <tr>\n",
       "      <th>11</th>\n",
       "      <td>11</td>\n",
       "      <td>2022-02-11 07:31:00</td>\n",
       "      <td>the case for bitcoin $10000 — and why it’s pro...</td>\n",
       "    </tr>\n",
       "    <tr>\n",
       "      <th>12</th>\n",
       "      <td>12</td>\n",
       "      <td>2022-02-10 05:02:00</td>\n",
       "      <td>jpmorgan chase &amp; co stock falls thursday still...</td>\n",
       "    </tr>\n",
       "    <tr>\n",
       "      <th>13</th>\n",
       "      <td>13</td>\n",
       "      <td>2022-02-09 05:03:00</td>\n",
       "      <td>jpmorgan chase &amp; co stock rises wednesday stil...</td>\n",
       "    </tr>\n",
       "    <tr>\n",
       "      <th>...</th>\n",
       "      <td>...</td>\n",
       "      <td>...</td>\n",
       "      <td>...</td>\n",
       "    </tr>\n",
       "    <tr>\n",
       "      <th>7155</th>\n",
       "      <td>7155</td>\n",
       "      <td>2011-10-21 06:09:00</td>\n",
       "      <td>marketwatch’s top 10 stories oct 17–21</td>\n",
       "    </tr>\n",
       "    <tr>\n",
       "      <th>7156</th>\n",
       "      <td>7156</td>\n",
       "      <td>2011-10-21 04:39:00</td>\n",
       "      <td>financial stocks outpace market rally</td>\n",
       "    </tr>\n",
       "    <tr>\n",
       "      <th>7163</th>\n",
       "      <td>7163</td>\n",
       "      <td>2022-02-15 02:12:00</td>\n",
       "      <td>maltese falcoin crypto report 9 things to know...</td>\n",
       "    </tr>\n",
       "    <tr>\n",
       "      <th>7166</th>\n",
       "      <td>7166</td>\n",
       "      <td>2022-02-15 10:16:00</td>\n",
       "      <td>blackrock (blk) prepares to offer crypto tradi...</td>\n",
       "    </tr>\n",
       "    <tr>\n",
       "      <th>7168</th>\n",
       "      <td>7168</td>\n",
       "      <td>2022-02-15 06:20:00</td>\n",
       "      <td>should spdr portfolio s&amp;p 500 value etf (spyv)...</td>\n",
       "    </tr>\n",
       "  </tbody>\n",
       "</table>\n",
       "<p>1007 rows × 3 columns</p>\n",
       "</div>"
      ],
      "text/plain": [
       "      Unnamed: 0                 Date  \\\n",
       "1              1  2022-02-15 05:02:00   \n",
       "7              7  2022-02-12 09:42:00   \n",
       "11            11  2022-02-11 07:31:00   \n",
       "12            12  2022-02-10 05:02:00   \n",
       "13            13  2022-02-09 05:03:00   \n",
       "...          ...                  ...   \n",
       "7155        7155  2011-10-21 06:09:00   \n",
       "7156        7156  2011-10-21 04:39:00   \n",
       "7163        7163  2022-02-15 02:12:00   \n",
       "7166        7166  2022-02-15 10:16:00   \n",
       "7168        7168  2022-02-15 06:20:00   \n",
       "\n",
       "                                         text_headlines  \n",
       "1     jpmorgan chase & co stock rises tuesday still ...  \n",
       "7     banks want to be a bridge to bitcoin how to in...  \n",
       "11    the case for bitcoin $10000 — and why it’s pro...  \n",
       "12    jpmorgan chase & co stock falls thursday still...  \n",
       "13    jpmorgan chase & co stock rises wednesday stil...  \n",
       "...                                                 ...  \n",
       "7155             marketwatch’s top 10 stories oct 17–21  \n",
       "7156              financial stocks outpace market rally  \n",
       "7163  maltese falcoin crypto report 9 things to know...  \n",
       "7166  blackrock (blk) prepares to offer crypto tradi...  \n",
       "7168  should spdr portfolio s&p 500 value etf (spyv)...  \n",
       "\n",
       "[1007 rows x 3 columns]"
      ]
     },
     "execution_count": 17,
     "metadata": {},
     "output_type": "execute_result"
    }
   ],
   "source": [
    "jpm_crypto_topic"
   ]
  },
  {
   "cell_type": "code",
   "execution_count": 18,
   "metadata": {},
   "outputs": [
    {
     "data": {
      "text/plain": [
       "1007"
      ]
     },
     "execution_count": 18,
     "metadata": {},
     "output_type": "execute_result"
    }
   ],
   "source": [
    "len(jpm_crypto_topic)"
   ]
  },
  {
   "cell_type": "code",
   "execution_count": 19,
   "metadata": {},
   "outputs": [],
   "source": [
    "jpm_economy_topic.to_csv('economy_jpm.csv', index=False)\n",
    "jpm_industry_topic.to_csv('industry_jpm.csv', index=False)\n",
    "jpm_competitors_topic.to_csv('competitors_jpm.csv', index=False)\n",
    "jpm_performance_topic.to_csv('performance_jpm.csv', index=False)\n",
    "jpm_crypto_topic.to_csv('crypto_jpm.csv', index=False)\n"
   ]
  },
  {
   "cell_type": "code",
   "execution_count": null,
   "metadata": {},
   "outputs": [],
   "source": []
  }
 ],
 "metadata": {
  "interpreter": {
   "hash": "31f2aee4e71d21fbe5cf8b01ff0e069b9275f58929596ceb00d14d90e3e16cd6"
  },
  "kernelspec": {
   "display_name": "Python 3.6.9 64-bit",
   "language": "python",
   "name": "python3"
  },
  "language_info": {
   "codemirror_mode": {
    "name": "ipython",
    "version": 3
   },
   "file_extension": ".py",
   "mimetype": "text/x-python",
   "name": "python",
   "nbconvert_exporter": "python",
   "pygments_lexer": "ipython3",
   "version": "3.6.9"
  },
  "orig_nbformat": 4
 },
 "nbformat": 4,
 "nbformat_minor": 2
}
