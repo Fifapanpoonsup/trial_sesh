{
 "cells": [
  {
   "cell_type": "code",
   "execution_count": 1,
   "metadata": {},
   "outputs": [],
   "source": [
    "import pandas as pd\n",
    "import numpy as np"
   ]
  },
  {
   "cell_type": "code",
   "execution_count": 2,
   "metadata": {},
   "outputs": [],
   "source": [
    "tsla_data = pd.read_csv(r'/root/thesis_update/thesis_update_final/topic_selection/tsla_topic_selection.csv')\n"
   ]
  },
  {
   "cell_type": "code",
   "execution_count": 3,
   "metadata": {},
   "outputs": [
    {
     "data": {
      "text/html": [
       "<div>\n",
       "<style scoped>\n",
       "    .dataframe tbody tr th:only-of-type {\n",
       "        vertical-align: middle;\n",
       "    }\n",
       "\n",
       "    .dataframe tbody tr th {\n",
       "        vertical-align: top;\n",
       "    }\n",
       "\n",
       "    .dataframe thead th {\n",
       "        text-align: right;\n",
       "    }\n",
       "</style>\n",
       "<table border=\"1\" class=\"dataframe\">\n",
       "  <thead>\n",
       "    <tr style=\"text-align: right;\">\n",
       "      <th></th>\n",
       "      <th>Unnamed: 0</th>\n",
       "      <th>Date</th>\n",
       "      <th>text_headlines</th>\n",
       "    </tr>\n",
       "  </thead>\n",
       "  <tbody>\n",
       "    <tr>\n",
       "      <th>0</th>\n",
       "      <td>0</td>\n",
       "      <td>2022-02-15 10:00:00</td>\n",
       "      <td>ethereum leads way as largest cryptocurrencies...</td>\n",
       "    </tr>\n",
       "    <tr>\n",
       "      <th>1</th>\n",
       "      <td>1</td>\n",
       "      <td>2022-02-15 08:23:00</td>\n",
       "      <td>tesla’s elon musk gave away $57 billion but to...</td>\n",
       "    </tr>\n",
       "    <tr>\n",
       "      <th>2</th>\n",
       "      <td>2</td>\n",
       "      <td>2022-02-15 08:17:00</td>\n",
       "      <td>elon musk gave 5 million tesla shares to chari...</td>\n",
       "    </tr>\n",
       "    <tr>\n",
       "      <th>3</th>\n",
       "      <td>3</td>\n",
       "      <td>2022-02-15 05:05:00</td>\n",
       "      <td>biden to tap infrastructure funds to clean up ...</td>\n",
       "    </tr>\n",
       "    <tr>\n",
       "      <th>4</th>\n",
       "      <td>4</td>\n",
       "      <td>2022-02-14 09:33:00</td>\n",
       "      <td>flurry of ev commercials during super bowl led...</td>\n",
       "    </tr>\n",
       "  </tbody>\n",
       "</table>\n",
       "</div>"
      ],
      "text/plain": [
       "   Unnamed: 0                 Date  \\\n",
       "0           0  2022-02-15 10:00:00   \n",
       "1           1  2022-02-15 08:23:00   \n",
       "2           2  2022-02-15 08:17:00   \n",
       "3           3  2022-02-15 05:05:00   \n",
       "4           4  2022-02-14 09:33:00   \n",
       "\n",
       "                                      text_headlines  \n",
       "0  ethereum leads way as largest cryptocurrencies...  \n",
       "1  tesla’s elon musk gave away $57 billion but to...  \n",
       "2  elon musk gave 5 million tesla shares to chari...  \n",
       "3  biden to tap infrastructure funds to clean up ...  \n",
       "4  flurry of ev commercials during super bowl led...  "
      ]
     },
     "execution_count": 3,
     "metadata": {},
     "output_type": "execute_result"
    }
   ],
   "source": [
    "tsla_data.head()"
   ]
  },
  {
   "cell_type": "code",
   "execution_count": 4,
   "metadata": {},
   "outputs": [],
   "source": [
    "tsla_performance_topic = tsla_data[tsla_data[\"text_headlines\"].str.contains(\"underperforms|outperforms|stock market|wallstreet|rises|dow jones|falls\")]\n"
   ]
  },
  {
   "cell_type": "code",
   "execution_count": 5,
   "metadata": {},
   "outputs": [
    {
     "data": {
      "text/html": [
       "<div>\n",
       "<style scoped>\n",
       "    .dataframe tbody tr th:only-of-type {\n",
       "        vertical-align: middle;\n",
       "    }\n",
       "\n",
       "    .dataframe tbody tr th {\n",
       "        vertical-align: top;\n",
       "    }\n",
       "\n",
       "    .dataframe thead th {\n",
       "        text-align: right;\n",
       "    }\n",
       "</style>\n",
       "<table border=\"1\" class=\"dataframe\">\n",
       "  <thead>\n",
       "    <tr style=\"text-align: right;\">\n",
       "      <th></th>\n",
       "      <th>Unnamed: 0</th>\n",
       "      <th>Date</th>\n",
       "      <th>text_headlines</th>\n",
       "    </tr>\n",
       "  </thead>\n",
       "  <tbody>\n",
       "    <tr>\n",
       "      <th>6</th>\n",
       "      <td>6</td>\n",
       "      <td>2022-02-14 04:32:00</td>\n",
       "      <td>tesla inc stock rises monday outperforms market</td>\n",
       "    </tr>\n",
       "    <tr>\n",
       "      <th>7</th>\n",
       "      <td>7</td>\n",
       "      <td>2022-02-14 10:01:00</td>\n",
       "      <td>largest cryptocurrencies mixed as dogecoin falls</td>\n",
       "    </tr>\n",
       "    <tr>\n",
       "      <th>10</th>\n",
       "      <td>10</td>\n",
       "      <td>2022-02-14 06:37:00</td>\n",
       "      <td>nio stock falls after downbeat china auto sale...</td>\n",
       "    </tr>\n",
       "    <tr>\n",
       "      <th>13</th>\n",
       "      <td>13</td>\n",
       "      <td>2022-02-11 04:32:00</td>\n",
       "      <td>tesla inc stock falls friday underperforms market</td>\n",
       "    </tr>\n",
       "    <tr>\n",
       "      <th>20</th>\n",
       "      <td>20</td>\n",
       "      <td>2022-02-10 04:32:00</td>\n",
       "      <td>tesla inc stock falls thursday underperforms m...</td>\n",
       "    </tr>\n",
       "  </tbody>\n",
       "</table>\n",
       "</div>"
      ],
      "text/plain": [
       "    Unnamed: 0                 Date  \\\n",
       "6            6  2022-02-14 04:32:00   \n",
       "7            7  2022-02-14 10:01:00   \n",
       "10          10  2022-02-14 06:37:00   \n",
       "13          13  2022-02-11 04:32:00   \n",
       "20          20  2022-02-10 04:32:00   \n",
       "\n",
       "                                       text_headlines  \n",
       "6     tesla inc stock rises monday outperforms market  \n",
       "7    largest cryptocurrencies mixed as dogecoin falls  \n",
       "10  nio stock falls after downbeat china auto sale...  \n",
       "13  tesla inc stock falls friday underperforms market  \n",
       "20  tesla inc stock falls thursday underperforms m...  "
      ]
     },
     "execution_count": 5,
     "metadata": {},
     "output_type": "execute_result"
    }
   ],
   "source": [
    "tsla_performance_topic.head()"
   ]
  },
  {
   "cell_type": "code",
   "execution_count": 6,
   "metadata": {},
   "outputs": [
    {
     "data": {
      "text/plain": [
       "992"
      ]
     },
     "execution_count": 6,
     "metadata": {},
     "output_type": "execute_result"
    }
   ],
   "source": [
    "len(tsla_performance_topic)"
   ]
  },
  {
   "cell_type": "code",
   "execution_count": 7,
   "metadata": {},
   "outputs": [],
   "source": [
    "tsla_competitors_topic = tsla_data[tsla_data[\"text_headlines\"].str.contains(\"nio|competitors|amazon|apple\")]\n"
   ]
  },
  {
   "cell_type": "code",
   "execution_count": 8,
   "metadata": {},
   "outputs": [
    {
     "data": {
      "text/html": [
       "<div>\n",
       "<style scoped>\n",
       "    .dataframe tbody tr th:only-of-type {\n",
       "        vertical-align: middle;\n",
       "    }\n",
       "\n",
       "    .dataframe tbody tr th {\n",
       "        vertical-align: top;\n",
       "    }\n",
       "\n",
       "    .dataframe thead th {\n",
       "        text-align: right;\n",
       "    }\n",
       "</style>\n",
       "<table border=\"1\" class=\"dataframe\">\n",
       "  <thead>\n",
       "    <tr style=\"text-align: right;\">\n",
       "      <th></th>\n",
       "      <th>Unnamed: 0</th>\n",
       "      <th>Date</th>\n",
       "      <th>text_headlines</th>\n",
       "    </tr>\n",
       "  </thead>\n",
       "  <tbody>\n",
       "    <tr>\n",
       "      <th>10</th>\n",
       "      <td>10</td>\n",
       "      <td>2022-02-14 06:37:00</td>\n",
       "      <td>nio stock falls after downbeat china auto sale...</td>\n",
       "    </tr>\n",
       "    <tr>\n",
       "      <th>18</th>\n",
       "      <td>18</td>\n",
       "      <td>2022-02-05 08:03:00</td>\n",
       "      <td>these us lawmakers rank as the biggest traders...</td>\n",
       "    </tr>\n",
       "    <tr>\n",
       "      <th>37</th>\n",
       "      <td>37</td>\n",
       "      <td>2022-02-08 04:32:00</td>\n",
       "      <td>tesla inc stock outperforms competitors on str...</td>\n",
       "    </tr>\n",
       "    <tr>\n",
       "      <th>44</th>\n",
       "      <td>44</td>\n",
       "      <td>2022-02-07 04:32:00</td>\n",
       "      <td>tesla inc stock underperforms monday when comp...</td>\n",
       "    </tr>\n",
       "    <tr>\n",
       "      <th>71</th>\n",
       "      <td>71</td>\n",
       "      <td>2022-02-02 04:32:00</td>\n",
       "      <td>tesla inc stock underperforms wednesday when c...</td>\n",
       "    </tr>\n",
       "  </tbody>\n",
       "</table>\n",
       "</div>"
      ],
      "text/plain": [
       "    Unnamed: 0                 Date  \\\n",
       "10          10  2022-02-14 06:37:00   \n",
       "18          18  2022-02-05 08:03:00   \n",
       "37          37  2022-02-08 04:32:00   \n",
       "44          44  2022-02-07 04:32:00   \n",
       "71          71  2022-02-02 04:32:00   \n",
       "\n",
       "                                       text_headlines  \n",
       "10  nio stock falls after downbeat china auto sale...  \n",
       "18  these us lawmakers rank as the biggest traders...  \n",
       "37  tesla inc stock outperforms competitors on str...  \n",
       "44  tesla inc stock underperforms monday when comp...  \n",
       "71  tesla inc stock underperforms wednesday when c...  "
      ]
     },
     "execution_count": 8,
     "metadata": {},
     "output_type": "execute_result"
    }
   ],
   "source": [
    "tsla_competitors_topic.head()"
   ]
  },
  {
   "cell_type": "code",
   "execution_count": 9,
   "metadata": {},
   "outputs": [
    {
     "data": {
      "text/plain": [
       "648"
      ]
     },
     "execution_count": 9,
     "metadata": {},
     "output_type": "execute_result"
    }
   ],
   "source": [
    "len(tsla_competitors_topic)"
   ]
  },
  {
   "cell_type": "code",
   "execution_count": 10,
   "metadata": {},
   "outputs": [],
   "source": [
    "tsla_industry_topic = tsla_data[tsla_data[\"text_headlines\"].str.contains(\"tech|electric|space x\")]\n"
   ]
  },
  {
   "cell_type": "code",
   "execution_count": 11,
   "metadata": {},
   "outputs": [
    {
     "data": {
      "text/html": [
       "<div>\n",
       "<style scoped>\n",
       "    .dataframe tbody tr th:only-of-type {\n",
       "        vertical-align: middle;\n",
       "    }\n",
       "\n",
       "    .dataframe tbody tr th {\n",
       "        vertical-align: top;\n",
       "    }\n",
       "\n",
       "    .dataframe thead th {\n",
       "        text-align: right;\n",
       "    }\n",
       "</style>\n",
       "<table border=\"1\" class=\"dataframe\">\n",
       "  <thead>\n",
       "    <tr style=\"text-align: right;\">\n",
       "      <th></th>\n",
       "      <th>Unnamed: 0</th>\n",
       "      <th>Date</th>\n",
       "      <th>text_headlines</th>\n",
       "    </tr>\n",
       "  </thead>\n",
       "  <tbody>\n",
       "    <tr>\n",
       "      <th>4</th>\n",
       "      <td>4</td>\n",
       "      <td>2022-02-14 09:33:00</td>\n",
       "      <td>flurry of ev commercials during super bowl led...</td>\n",
       "    </tr>\n",
       "    <tr>\n",
       "      <th>25</th>\n",
       "      <td>25</td>\n",
       "      <td>2022-02-10 09:36:00</td>\n",
       "      <td>biden tells states to roll ahead with electric...</td>\n",
       "    </tr>\n",
       "    <tr>\n",
       "      <th>35</th>\n",
       "      <td>35</td>\n",
       "      <td>2022-02-08 06:14:00</td>\n",
       "      <td>tesla finally gets a mention as biden talks up...</td>\n",
       "    </tr>\n",
       "    <tr>\n",
       "      <th>75</th>\n",
       "      <td>75</td>\n",
       "      <td>2022-02-02 08:48:00</td>\n",
       "      <td>alphabet stock split could permit tech giant t...</td>\n",
       "    </tr>\n",
       "    <tr>\n",
       "      <th>92</th>\n",
       "      <td>92</td>\n",
       "      <td>2022-01-31 10:26:00</td>\n",
       "      <td>tech stocks could sink 8percent more ubs says ...</td>\n",
       "    </tr>\n",
       "  </tbody>\n",
       "</table>\n",
       "</div>"
      ],
      "text/plain": [
       "    Unnamed: 0                 Date  \\\n",
       "4            4  2022-02-14 09:33:00   \n",
       "25          25  2022-02-10 09:36:00   \n",
       "35          35  2022-02-08 06:14:00   \n",
       "75          75  2022-02-02 08:48:00   \n",
       "92          92  2022-01-31 10:26:00   \n",
       "\n",
       "                                       text_headlines  \n",
       "4   flurry of ev commercials during super bowl led...  \n",
       "25  biden tells states to roll ahead with electric...  \n",
       "35  tesla finally gets a mention as biden talks up...  \n",
       "75  alphabet stock split could permit tech giant t...  \n",
       "92  tech stocks could sink 8percent more ubs says ...  "
      ]
     },
     "execution_count": 11,
     "metadata": {},
     "output_type": "execute_result"
    }
   ],
   "source": [
    "tsla_industry_topic.head()"
   ]
  },
  {
   "cell_type": "code",
   "execution_count": 12,
   "metadata": {},
   "outputs": [
    {
     "data": {
      "text/plain": [
       "473"
      ]
     },
     "execution_count": 12,
     "metadata": {},
     "output_type": "execute_result"
    }
   ],
   "source": [
    "len(tsla_industry_topic)"
   ]
  },
  {
   "cell_type": "code",
   "execution_count": 13,
   "metadata": {},
   "outputs": [],
   "source": [
    "tsla_crypto_topic = tsla_data[tsla_data[\"text_headlines\"].str.contains(\"bitcoin|btc|eth|ethereum|cathy wood|sec|ark|etf|fed|crypto|cryptocurrency|cryptocurrencies\")]\n"
   ]
  },
  {
   "cell_type": "code",
   "execution_count": 14,
   "metadata": {},
   "outputs": [
    {
     "data": {
      "text/html": [
       "<div>\n",
       "<style scoped>\n",
       "    .dataframe tbody tr th:only-of-type {\n",
       "        vertical-align: middle;\n",
       "    }\n",
       "\n",
       "    .dataframe tbody tr th {\n",
       "        vertical-align: top;\n",
       "    }\n",
       "\n",
       "    .dataframe thead th {\n",
       "        text-align: right;\n",
       "    }\n",
       "</style>\n",
       "<table border=\"1\" class=\"dataframe\">\n",
       "  <thead>\n",
       "    <tr style=\"text-align: right;\">\n",
       "      <th></th>\n",
       "      <th>Unnamed: 0</th>\n",
       "      <th>Date</th>\n",
       "      <th>text_headlines</th>\n",
       "    </tr>\n",
       "  </thead>\n",
       "  <tbody>\n",
       "    <tr>\n",
       "      <th>0</th>\n",
       "      <td>0</td>\n",
       "      <td>2022-02-15 10:00:00</td>\n",
       "      <td>ethereum leads way as largest cryptocurrencies...</td>\n",
       "    </tr>\n",
       "    <tr>\n",
       "      <th>3</th>\n",
       "      <td>3</td>\n",
       "      <td>2022-02-15 05:05:00</td>\n",
       "      <td>biden to tap infrastructure funds to clean up ...</td>\n",
       "    </tr>\n",
       "    <tr>\n",
       "      <th>6</th>\n",
       "      <td>6</td>\n",
       "      <td>2022-02-14 04:32:00</td>\n",
       "      <td>tesla inc stock rises monday outperforms market</td>\n",
       "    </tr>\n",
       "    <tr>\n",
       "      <th>7</th>\n",
       "      <td>7</td>\n",
       "      <td>2022-02-14 10:01:00</td>\n",
       "      <td>largest cryptocurrencies mixed as dogecoin falls</td>\n",
       "    </tr>\n",
       "    <tr>\n",
       "      <th>12</th>\n",
       "      <td>12</td>\n",
       "      <td>2022-02-11 04:46:00</td>\n",
       "      <td>these 3 funds invest like ark but didn’t fall ...</td>\n",
       "    </tr>\n",
       "  </tbody>\n",
       "</table>\n",
       "</div>"
      ],
      "text/plain": [
       "    Unnamed: 0                 Date  \\\n",
       "0            0  2022-02-15 10:00:00   \n",
       "3            3  2022-02-15 05:05:00   \n",
       "6            6  2022-02-14 04:32:00   \n",
       "7            7  2022-02-14 10:01:00   \n",
       "12          12  2022-02-11 04:46:00   \n",
       "\n",
       "                                       text_headlines  \n",
       "0   ethereum leads way as largest cryptocurrencies...  \n",
       "3   biden to tap infrastructure funds to clean up ...  \n",
       "6     tesla inc stock rises monday outperforms market  \n",
       "7    largest cryptocurrencies mixed as dogecoin falls  \n",
       "12  these 3 funds invest like ark but didn’t fall ...  "
      ]
     },
     "execution_count": 14,
     "metadata": {},
     "output_type": "execute_result"
    }
   ],
   "source": [
    "tsla_crypto_topic.head()"
   ]
  },
  {
   "cell_type": "code",
   "execution_count": 15,
   "metadata": {},
   "outputs": [
    {
     "data": {
      "text/plain": [
       "1745"
      ]
     },
     "execution_count": 15,
     "metadata": {},
     "output_type": "execute_result"
    }
   ],
   "source": [
    "len(tsla_crypto_topic)"
   ]
  },
  {
   "cell_type": "code",
   "execution_count": 16,
   "metadata": {},
   "outputs": [],
   "source": [
    "#tsla_performance_topic.to_csv('performance_tsla.csv', index=False)\n",
    "#tsla_industry_topic.to_csv('industry_tsla.csv', index=False)\n",
    "#tsla_competitors_topic.to_csv('competitors_tsla.csv', index=False)\n",
    "tsla_crypto_topic.to_csv('crypto_tsla.csv', index=False)\n"
   ]
  },
  {
   "cell_type": "code",
   "execution_count": null,
   "metadata": {},
   "outputs": [],
   "source": []
  }
 ],
 "metadata": {
  "interpreter": {
   "hash": "31f2aee4e71d21fbe5cf8b01ff0e069b9275f58929596ceb00d14d90e3e16cd6"
  },
  "kernelspec": {
   "display_name": "Python 3.6.9 64-bit",
   "language": "python",
   "name": "python3"
  },
  "language_info": {
   "codemirror_mode": {
    "name": "ipython",
    "version": 3
   },
   "file_extension": ".py",
   "mimetype": "text/x-python",
   "name": "python",
   "nbconvert_exporter": "python",
   "pygments_lexer": "ipython3",
   "version": "3.6.9"
  },
  "orig_nbformat": 4
 },
 "nbformat": 4,
 "nbformat_minor": 2
}
