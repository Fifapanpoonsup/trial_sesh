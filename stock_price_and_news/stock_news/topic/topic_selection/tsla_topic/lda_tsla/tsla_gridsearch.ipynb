{
 "cells": [
  {
   "cell_type": "code",
   "execution_count": 1,
   "metadata": {},
   "outputs": [],
   "source": [
    "from gensim import corpora, models\n",
    "\n",
    "from sklearn.decomposition import LatentDirichletAllocation\n",
    "from bs4 import BeautifulSoup\n",
    "from sklearn.preprocessing import MinMaxScaler\n",
    "import pandas as pd\n",
    "import numpy as np\n",
    "import pandas as pd \n",
    "from sklearn.feature_extraction.text import TfidfVectorizer\n",
    "from datetime import datetime\n",
    "from sklearn.feature_extraction.text import CountVectorizer\n",
    "from sklearn.manifold import TSNE\n",
    "import matplotlib.pyplot as plt"
   ]
  },
  {
   "cell_type": "code",
   "execution_count": 2,
   "metadata": {},
   "outputs": [],
   "source": [
    "tsla_soup = BeautifulSoup(open(r\"C:\\Users\\User\\Desktop\\thesis_17_3_2022\\stock_price_and_news\\stock_news\\dataset\\tsla_final\\tsla_2017_jan.html\", encoding=\"utf8\"))\n"
   ]
  },
  {
   "cell_type": "code",
   "execution_count": 3,
   "metadata": {},
   "outputs": [],
   "source": [
    "tsla_timestamp = []\n",
    "for e in tsla_soup.find_all(\"span\", {\"class\": \"article__timestamp\"}):\n",
    "    tsla_timestamp.append(e.get_text())"
   ]
  },
  {
   "cell_type": "code",
   "execution_count": 4,
   "metadata": {},
   "outputs": [],
   "source": [
    "tsla_file = []\n",
    "for tsla_text in tsla_soup.find_all(\"h3\"):\n",
    "    tsla_file.append(tsla_text.get_text())"
   ]
  },
  {
   "cell_type": "code",
   "execution_count": 5,
   "metadata": {},
   "outputs": [
    {
     "data": {
      "text/plain": [
       "['\\n\\n                            \\n                            Coatue Management Llc Buys Rivian Automotive Inc, Pfizer Inc, Visa Inc, Sells DoorDash Inc, ...\\n                        \\n',\n",
       " '\\n\\n                            \\n                            Myriad Asset Management Ltd. Buys Tesla Inc, Mirion Technologies Inc, Enphase Energy Inc, Sells ...\\n                        \\n',\n",
       " '\\n\\n                            \\n                            7 Top Stocks for February Ready for V-Shaped Bounce\\n                        \\n',\n",
       " '\\n\\n                            \\n                            Why Tesla Stock Raced Ahead on Monday\\n                        \\n',\n",
       " '\\n\\n                            \\n                            Twilio Stock Has Disaster Stats, But It Also Has Great Potential\\n                        \\n',\n",
       " '\\n\\n                            \\n                            Nio’s Results Should Show the Tesla Competitor is Real Competition\\n                        \\n',\n",
       " '\\n\\n                            \\n                            3 Top EV Stocks to Buy During the Market Correction\\n                        \\n',\n",
       " 'MarketWatch',\n",
       " 'Company',\n",
       " 'Dow Jones Network']"
      ]
     },
     "execution_count": 5,
     "metadata": {},
     "output_type": "execute_result"
    }
   ],
   "source": [
    "tsla_file[-10:]"
   ]
  },
  {
   "cell_type": "code",
   "execution_count": 6,
   "metadata": {},
   "outputs": [],
   "source": [
    "tsla_clean1 = []\n",
    "for tsla_text1 in tsla_file:\n",
    "    tsla_clean1.append(tsla_text1.replace(\"\\n\", \"\"))"
   ]
  },
  {
   "cell_type": "code",
   "execution_count": 7,
   "metadata": {},
   "outputs": [],
   "source": [
    "tsla_remove = []\n",
    "for e in tsla_clean1:\n",
    "    if e not in ('Virgin Galactic stock jumps 30% as space-tourism tickets to open soon',\n",
    " \"Barron'sGap Stock Gets a Downgrade. 2 Big Issues Worry the Analyst.\",\n",
    " \"Meta changes News Feed to 'Feed'\",\n",
    " 'Avis stock sinks as bears focus on revenue per day disappointment over earnings beat',\n",
    " \"BreakingBiden to give 'update' on Russia and Ukraine, White House says\",\n",
    " 'OpinionDon’t be fearful: Stock market investors could ultimately benefit from an economic recession',\n",
    " 'This Wall Street pro foresaw high inflation. Here’s what he thinks the Fed has to do',\n",
    " 'Senate Republicans plan to boycott committee vote on Powell and four other Biden Fed picks',\n",
    " \"Biden to say U.S. 'remains open to high-level diplomacy' with Russia \",\n",
    " \"Barron'sSenate Republicans to Delay Panel Vote on Raskin Fed Nomination\",\n",
    " 'Biden to speak on Russia and Ukraine situation at 3:30 p.m. Eastern, White House says',\n",
    " \"Barron'sSenate Republicans to Delay Panel Vote on Raskin Fed Nomination\",\n",
    " 'Why the Russia-Ukraine crisis may make food-price inflation even worse',\n",
    " 'PSEG boosts dividends, as implied yield remains well more than double that of the S&P 500',\n",
    " \"Barron'sVirgin Galactic Opens Reservations for Space. How to Book a Flight.\",\n",
    " 'PSEG raises quarterly dividend by nearly 6% to 54 cents a share',\n",
    " 'Lower house of parliament calls on Putin to recognize pro-Russia eastern regions of Ukraine as legitimate republics',\n",
    " \"Barron'sGE Stock Is Soaring. The Annual Report Has Provided a Boost.\",\n",
    " 'Cannabis banking firm Safe Harbor going public via SPAC deal',\n",
    " 'Over 112 million people watched the Super Bowl — up 14% from last year',\n",
    " \"Barron'sStanley Druckenmiller Got Bullish on Chevron. Should You Be?\",\n",
    " \"Barron'sFisker Is Taking Orders for Its New EV. Starting Price Is Below $30,000. \",\n",
    " 'More states are preventing local governments from requiring paid sick leave —  but low-wage workers end up paying the price',\n",
    " '‘It’s really hard for locals to compete’: Out-of-towners have one major advantage over locals in America’s hottest housing markets',\n",
    " 'Cannabis beverage company Cann gets backing from Green Thumb Industries and celebrity investors',\n",
    " 'Over 112 million people watched the Super Bowl — up 14% from last year',\n",
    " 'Prince Andrew reaches settlement with Virginia Giuffre in sexual abuse lawsuit',\n",
    " 'Over 112 million people watched the Super Bowl — up 14% from last year',\n",
    " 'CorrectionCanada announces sweeping measures to end trucker protests against virus restrictions, as U.S. COVID death toll tops 922,000',\n",
    " \"Barron'sWhy Now Is the Time to Dive Into Tech Stocks\",\n",
    " \"Barron'sAir-Taxi Stock Joby Is Soaring. An Airline Deal Shows the Sector's Potential.\",\n",
    " \"Barron'sStocks Jump After Russia Says Troops Are Pulling Back From Ukraine \",\n",
    " \"Amazon's Just Walk Out technology lands at NYC's LaGuardia Airport\",\n",
    " \"Barron'sWhy Apple Is Outpacing Netflix, Microsoft, and the Rest of Big Tech\",\n",
    " 'Sandy Hook families settle with gun maker Remington for $73 million',\n",
    " \"BreakingBoeing, Nike share gains lead Dow's 382-point rally\",\n",
    " \"Barron'sTesla Stock Needs to Break Free From Putin and Powell\",\n",
    " 'Fisker to start reservations for second EV, with production slated for November',\n",
    " \"Barron'sMastercard Is Hiring to Expand Crypto and ESG Consulting.\",\n",
    " 'Dow jumps over 400 points as Russia-Ukraine tensions ease',\n",
    " \"Barron'sTesla Stock Has Catalysts. It Needs to Break Free From Putin and Powell.\",\n",
    " 'OpinionThis fail-safe protection against inflation is back',\n",
    " \"Barron'sNvidia's Earnings Could Be a Big Win. What to Expect.\",\n",
    " \"Barron'sCoinbase Plans to Hire 2,000 Employees Because of  'Enormous' Web3 Opportunities\",\n",
    " 'Amazon lifts mask requirement for fully vaccinated workers',\n",
    " \"Barron'sWhat a Monster, Constellation Merger Might Mean and Why Coca-Cola Could Be Key\",\n",
    " \"Barron'sBitcoin Is Bouncing. Russia Is Helping. \",\n",
    " 'Pentagon report shows contractor mergers hurt U.S. economy and national security',\n",
    " 'I have $1 million and a $100,000-a-year pension. My girlfriend and I are getting married, but she’s against a prenup. What should I do?',\n",
    " 'Iamgold upgraded to outperform from market perform at BMO Capital',\n",
    " 'Petroshale started at outperform at BMO Capital',\n",
    " 'This is what you’re getting wrong about ESG ratings',\n",
    " 'Gap stock price target cut to $14 from $26 at BofA Securities',\n",
    " 'Gap downgraded to underperform from neutral at BofA Securities',\n",
    " 'Oil drops more than 4% from a 7-year high as Russia says some troops returning to base',\n",
    " 'DTE Energy double upgraded to buy from underperform at BofA Securities',\n",
    " 'Canada announces sweeping measures to end trucker protests against virus restrictions, as U.S. COVID death toll tops 922,000',\n",
    " \"Barron'sFamed Spelling Manor in Los Angeles Lists for $165 Million\",\n",
    " '‘I offered a $10,000 reward for the person who introduces me to my future partner’: I’m 34, single and disabled. How do I meet the woman of my dreams?',\n",
    " 'OpinionInflation is making some seniors choose between food and medications — what you can do',\n",
    " 'No Recent Tickers',\n",
    " 'Overview'):\n",
    "        tsla_remove.append(e)"
   ]
  },
  {
   "cell_type": "code",
   "execution_count": 8,
   "metadata": {},
   "outputs": [],
   "source": [
    "tsla_space = []\n",
    "for e in tsla_remove:\n",
    "    tsla_space.append(e.strip())"
   ]
  },
  {
   "cell_type": "code",
   "execution_count": 9,
   "metadata": {},
   "outputs": [],
   "source": [
    "tsla_fullstop = []\n",
    "for e in tsla_space:\n",
    "    tsla_fullstop.append(e.replace(\".\",\"\"))"
   ]
  },
  {
   "cell_type": "code",
   "execution_count": 10,
   "metadata": {},
   "outputs": [],
   "source": [
    "tsla_q = []\n",
    "for e in tsla_fullstop:\n",
    "    tsla_q.append(e.replace(\"?\",\"\"))"
   ]
  },
  {
   "cell_type": "code",
   "execution_count": 11,
   "metadata": {},
   "outputs": [],
   "source": [
    "tsla_colon = []\n",
    "for e in tsla_q:\n",
    "    tsla_colon.append(e.replace(\":\",\"\"))"
   ]
  },
  {
   "cell_type": "code",
   "execution_count": 12,
   "metadata": {},
   "outputs": [],
   "source": [
    "tsla_comma = []\n",
    "for e in tsla_colon:\n",
    "    tsla_comma.append(e.replace(\",\",\"\"))"
   ]
  },
  {
   "cell_type": "code",
   "execution_count": 13,
   "metadata": {},
   "outputs": [],
   "source": [
    "tsla_percent = []\n",
    "for e in tsla_comma:\n",
    "    tsla_percent.append(e.replace(\"%\",\"percent\"))"
   ]
  },
  {
   "cell_type": "code",
   "execution_count": 14,
   "metadata": {},
   "outputs": [],
   "source": [
    "tsla_lower = []\n",
    "for i in range(len(tsla_percent)):\n",
    "    tsla_lower.append(tsla_percent[i].lower())"
   ]
  },
  {
   "cell_type": "code",
   "execution_count": 15,
   "metadata": {},
   "outputs": [],
   "source": [
    "tsla_pain = []\n",
    "for e in tsla_lower:\n",
    "    if e not in ( 'marketwatch',\n",
    " 'company',\n",
    " 'dow jones network'):\n",
    "        tsla_pain.append(e)\n"
   ]
  },
  {
   "cell_type": "code",
   "execution_count": 16,
   "metadata": {},
   "outputs": [
    {
     "data": {
      "text/plain": [
       "['eulav asset management buys uber technologies inc tesla inc roku inc sells ball corp ',\n",
       " \"big tech's big returns and sports business in the spotlight\",\n",
       " '7 stocks to love for a long long time',\n",
       " 'coatue management llc buys rivian automotive inc pfizer inc visa inc sells doordash inc ',\n",
       " 'myriad asset management ltd buys tesla inc mirion technologies inc enphase energy inc sells ',\n",
       " '7 top stocks for february ready for v-shaped bounce',\n",
       " 'why tesla stock raced ahead on monday',\n",
       " 'twilio stock has disaster stats but it also has great potential',\n",
       " 'nio’s results should show the tesla competitor is real competition',\n",
       " '3 top ev stocks to buy during the market correction']"
      ]
     },
     "execution_count": 16,
     "metadata": {},
     "output_type": "execute_result"
    }
   ],
   "source": [
    "tsla_pain[-10:]"
   ]
  },
  {
   "cell_type": "code",
   "execution_count": 17,
   "metadata": {},
   "outputs": [],
   "source": [
    "tsla_timestamp = []\n",
    "for e in tsla_soup.find_all(\"span\", {\"class\": \"article__timestamp\"}):\n",
    "    tsla_timestamp.append(e.get_text())"
   ]
  },
  {
   "cell_type": "code",
   "execution_count": 18,
   "metadata": {},
   "outputs": [],
   "source": [
    "tsla_et = []\n",
    "for e in tsla_timestamp:\n",
    "    tsla_et.append(e.replace(\"ET\",\"\"))"
   ]
  },
  {
   "cell_type": "code",
   "execution_count": 19,
   "metadata": {},
   "outputs": [],
   "source": [
    "tsla_at1 = []\n",
    "for e in tsla_et:\n",
    "    tsla_at1.append(e.replace(\"at\",\"\"))"
   ]
  },
  {
   "cell_type": "code",
   "execution_count": 20,
   "metadata": {},
   "outputs": [],
   "source": [
    "tsla_pm1 = []\n",
    "for e in tsla_at1:\n",
    "    tsla_pm1.append(e.replace(\"p.m.\",\"\"))"
   ]
  },
  {
   "cell_type": "code",
   "execution_count": 21,
   "metadata": {},
   "outputs": [],
   "source": [
    "tsla_am1 = []\n",
    "for e in tsla_pm1:\n",
    "    tsla_am1.append(e.replace(\"a.m.\",\"\"))"
   ]
  },
  {
   "cell_type": "code",
   "execution_count": 22,
   "metadata": {},
   "outputs": [],
   "source": [
    "tsla_commas = []\n",
    "for e in tsla_am1:\n",
    "    tsla_commas.append(e.replace(\",\",\"\"))"
   ]
  },
  {
   "cell_type": "code",
   "execution_count": 23,
   "metadata": {},
   "outputs": [],
   "source": [
    "tsla_fullstops = []\n",
    "for e in tsla_commas:\n",
    "    tsla_fullstops.append(e.replace(\".\",\"\"))"
   ]
  },
  {
   "cell_type": "code",
   "execution_count": 24,
   "metadata": {},
   "outputs": [],
   "source": [
    "tsla_timestamp_final = tsla_fullstops"
   ]
  },
  {
   "cell_type": "code",
   "execution_count": 25,
   "metadata": {},
   "outputs": [
    {
     "data": {
      "text/plain": [
       "['Feb 14 2022  2:21  ',\n",
       " 'Feb 14 2022  11:28  ',\n",
       " 'Feb 14 2022  10:50  ',\n",
       " 'Feb 14 2022  10:31  ',\n",
       " 'Feb 14 2022  10:15  ']"
      ]
     },
     "execution_count": 25,
     "metadata": {},
     "output_type": "execute_result"
    }
   ],
   "source": [
    "tsla_timestamp_final[-5:]"
   ]
  },
  {
   "cell_type": "code",
   "execution_count": 26,
   "metadata": {},
   "outputs": [],
   "source": [
    "tsla_date = [datetime.strptime(x,'%b %d %Y  %I:%M ') for x in tsla_timestamp_final]\n"
   ]
  },
  {
   "cell_type": "code",
   "execution_count": 27,
   "metadata": {},
   "outputs": [],
   "source": [
    "tf_vectorizer = TfidfVectorizer(stop_words='english', max_features=500000000)"
   ]
  },
  {
   "cell_type": "code",
   "execution_count": 28,
   "metadata": {},
   "outputs": [],
   "source": [
    "\n",
    "tsla_data = pd.DataFrame(\n",
    "    {'Date': tsla_date,\n",
    "     'text_headlines': tsla_pain\n",
    "     \n",
    "    })"
   ]
  },
  {
   "cell_type": "code",
   "execution_count": 29,
   "metadata": {},
   "outputs": [],
   "source": [
    "#tsla_data.to_csv('tsla_topic_selection.csv', index = True)\n"
   ]
  },
  {
   "cell_type": "code",
   "execution_count": 30,
   "metadata": {},
   "outputs": [],
   "source": [
    "tsla_news_matrix = tf_vectorizer.fit_transform(tsla_data['text_headlines'])\n"
   ]
  },
  {
   "cell_type": "code",
   "execution_count": 31,
   "metadata": {},
   "outputs": [
    {
     "data": {
      "text/plain": [
       "0    ethereum leads way as largest cryptocurrencies...\n",
       "1    tesla’s elon musk gave away $57 billion but to...\n",
       "2    elon musk gave 5 million tesla shares to chari...\n",
       "3    biden to tap infrastructure funds to clean up ...\n",
       "4    flurry of ev commercials during super bowl led...\n",
       "Name: news_text_processed, dtype: object"
      ]
     },
     "execution_count": 31,
     "metadata": {},
     "output_type": "execute_result"
    }
   ],
   "source": [
    "import re\n",
    "tsla_data['news_text_processed'] = tsla_data['text_headlines'].map(lambda x: re.sub('[,\\.!?]', '', x))\n",
    "# Convert the titles to lowercase\n",
    "tsla_data['news_text_processed'] = tsla_data['text_headlines'].map(lambda x: x.lower())\n",
    "# Print out the first rows of papers\n",
    "tsla_data['news_text_processed'].head()"
   ]
  },
  {
   "cell_type": "code",
   "execution_count": 32,
   "metadata": {},
   "outputs": [
    {
     "name": "stdout",
     "output_type": "stream",
     "text": [
      "['ethereum', 'leads', 'way', 'as', 'largest', 'post', 'advances']\n"
     ]
    }
   ],
   "source": [
    "import gensim\n",
    "from gensim.utils import simple_preprocess\n",
    "def sent_to_words(sentences):\n",
    "    for sentence in sentences:\n",
    "        yield(gensim.utils.simple_preprocess(str(sentence), deacc=True))  # deacc=True removes punctuations\n",
    "data = tsla_data.news_text_processed.values.tolist()\n",
    "data_words = list(sent_to_words(data))\n",
    "print(data_words[:1][0][:30])"
   ]
  },
  {
   "cell_type": "code",
   "execution_count": 33,
   "metadata": {},
   "outputs": [],
   "source": [
    "# Build the bigram and trigram models\n",
    "bigram = gensim.models.Phrases(data_words, min_count=5, threshold=100) # higher threshold fewer phrases.\n",
    "trigram = gensim.models.Phrases(bigram[data_words], threshold=100)\n",
    "# Faster way to get a sentence clubbed as a trigram/bigram\n",
    "bigram_mod = gensim.models.phrases.Phraser(bigram)\n",
    "trigram_mod = gensim.models.phrases.Phraser(trigram)"
   ]
  },
  {
   "cell_type": "code",
   "execution_count": 34,
   "metadata": {},
   "outputs": [
    {
     "name": "stderr",
     "output_type": "stream",
     "text": [
      "[nltk_data] Downloading package stopwords to\n",
      "[nltk_data]     C:\\Users\\User\\AppData\\Roaming\\nltk_data...\n",
      "[nltk_data]   Package stopwords is already up-to-date!\n"
     ]
    }
   ],
   "source": [
    "# NLTK Stop words\n",
    "# import nltk\n",
    "# nltk.download('stopwords')\n",
    "import nltk\n",
    "nltk.download('stopwords')\n",
    "stop_words = nltk.corpus.stopwords.words('english')\n",
    "stop_words.extend(['from', 'subject', 're', 'edu', 'use'])\n",
    "# Define functions for stopwords, bigrams, trigrams and lemmatization\n",
    "def remove_stopwords(texts):\n",
    "    return [[word for word in simple_preprocess(str(doc)) if word not in stop_words] for doc in texts]\n",
    "def make_bigrams(texts):\n",
    "    return [bigram_mod[doc] for doc in texts]\n",
    "def make_trigrams(texts):\n",
    "    return [trigram_mod[bigram_mod[doc]] for doc in texts]\n",
    "def lemmatization(texts, allowed_postags=['NOUN', 'ADJ', 'VERB', 'ADV']):\n",
    "    \"\"\"https://spacy.io/api/annotation\"\"\"\n",
    "    texts_out = []\n",
    "    for sent in texts:\n",
    "        doc = nlp(\" \".join(sent)) \n",
    "        texts_out.append([token.lemma_ for token in doc if token.pos_ in allowed_postags])\n",
    "    return texts_out"
   ]
  },
  {
   "cell_type": "code",
   "execution_count": 35,
   "metadata": {},
   "outputs": [
    {
     "name": "stderr",
     "output_type": "stream",
     "text": [
      "C:\\Users\\User\\AppData\\Local\\Packages\\PythonSoftwareFoundation.Python.3.10_qbz5n2kfra8p0\\LocalCache\\local-packages\\Python310\\site-packages\\tqdm\\auto.py:22: TqdmWarning: IProgress not found. Please update jupyter and ipywidgets. See https://ipywidgets.readthedocs.io/en/stable/user_install.html\n",
      "  from .autonotebook import tqdm as notebook_tqdm\n"
     ]
    },
    {
     "name": "stdout",
     "output_type": "stream",
     "text": [
      "[['large', 'post', 'advance']]\n"
     ]
    }
   ],
   "source": [
    "import spacy\n",
    "# Remove Stop Words\n",
    "data_words_nostops = remove_stopwords(data_words)\n",
    "# Form Bigrams\n",
    "data_words_bigrams = make_bigrams(data_words_nostops)\n",
    "# Initialize spacy 'en' model, keeping only tagger component (for efficiency)\n",
    "nlp = spacy.load(\"en_core_web_sm\", disable=['parser', 'ner'])\n",
    "# Do lemmatization keeping only noun, adj, vb, adv\n",
    "data_lemmatized = lemmatization(data_words_bigrams, allowed_postags=['NOUN', 'ADJ', 'VERB', 'ADV'])\n",
    "print(data_lemmatized[:1])"
   ]
  },
  {
   "cell_type": "code",
   "execution_count": 36,
   "metadata": {},
   "outputs": [
    {
     "name": "stdout",
     "output_type": "stream",
     "text": [
      "[[(0, 1), (1, 1), (2, 1)]]\n"
     ]
    }
   ],
   "source": [
    "import gensim.corpora as corpora\n",
    "# Create Dictionary\n",
    "id2word = corpora.Dictionary(data_lemmatized)\n",
    "# Create Corpus\n",
    "texts = data_lemmatized\n",
    "# Term Document Frequency\n",
    "corpus = [id2word.doc2bow(text) for text in texts]\n",
    "# View\n",
    "print(corpus[:1])"
   ]
  },
  {
   "cell_type": "code",
   "execution_count": 37,
   "metadata": {},
   "outputs": [],
   "source": [
    "# Build LDA model\n",
    "lda_model = gensim.models.LdaMulticore(corpus=corpus,\n",
    "                                       id2word=id2word,\n",
    "                                       num_topics=4, \n",
    "                                       random_state=100,\n",
    "                                       chunksize=40,\n",
    "                                       passes=2,\n",
    "                                       per_word_topics=True)"
   ]
  },
  {
   "cell_type": "code",
   "execution_count": 38,
   "metadata": {},
   "outputs": [
    {
     "name": "stdout",
     "output_type": "stream",
     "text": [
      "[(0,\n",
      "  '0.082*\"tesla\" + 0.017*\"stock\" + 0.015*\"earning\" + 0.012*\"company\" + '\n",
      "  '0.011*\"report\" + 0.011*\"car\" + 0.011*\"high\" + 0.009*\"investor\" + '\n",
      "  '0.008*\"get\" + 0.008*\"say\"'),\n",
      " (1,\n",
      "  '0.018*\"tesla\" + 0.017*\"stock\" + 0.016*\"say\" + 0.015*\"car\" + 0.013*\"buy\" + '\n",
      "  '0.011*\"investor\" + 0.010*\"cut\" + 0.009*\"bitcoin\" + 0.008*\"big\" + '\n",
      "  '0.007*\"large\"'),\n",
      " (2,\n",
      "  '0.084*\"tesla\" + 0.075*\"stock\" + 0.041*\"percent\" + 0.038*\"market\" + '\n",
      "  '0.021*\"model\" + 0.019*\"rise\" + 0.018*\"outperform\" + 0.017*\"day\" + '\n",
      "  '0.017*\"premarket\" + 0.013*\"competitor\"'),\n",
      " (3,\n",
      "  '0.106*\"stock\" + 0.090*\"tesla\" + 0.014*\"market\" + 0.014*\"say\" + '\n",
      "  '0.011*\"analyst\" + 0.011*\"big\" + 0.010*\"raise\" + 0.009*\"percent\" + '\n",
      "  '0.009*\"nio\" + 0.008*\"delivery\"')]\n"
     ]
    }
   ],
   "source": [
    "from pprint import pprint\n",
    "# Print the Keyword in the 10 topics\n",
    "pprint(lda_model.print_topics())\n",
    "doc_lda = lda_model[corpus]"
   ]
  },
  {
   "cell_type": "code",
   "execution_count": 39,
   "metadata": {},
   "outputs": [
    {
     "name": "stdout",
     "output_type": "stream",
     "text": [
      "\n",
      "Coherence Score:  0.2464965632990977\n"
     ]
    }
   ],
   "source": [
    "\n",
    "# Compute Coherence Score\n",
    "coherence_model_lda = gensim.models.CoherenceModel(model=lda_model, texts=data_lemmatized, dictionary=id2word, coherence='c_v')\n",
    "coherence_lda = coherence_model_lda.get_coherence()\n",
    "print('\\nCoherence Score: ', coherence_lda)"
   ]
  },
  {
   "cell_type": "code",
   "execution_count": 40,
   "metadata": {},
   "outputs": [],
   "source": [
    "# supporting function\n",
    "def compute_coherence_values(corpus, dictionary, k, a, b):\n",
    "    \n",
    "    lda_model = gensim.models.LdaMulticore(corpus=corpus,\n",
    "                                           id2word=dictionary,\n",
    "                                           num_topics=k, \n",
    "                                           random_state=100,\n",
    "                                           chunksize=40,\n",
    "                                           passes=2,\n",
    "                                           alpha=a,\n",
    "                                           eta=b)\n",
    "    \n",
    "    coherence_model_lda = CoherenceModel(model=lda_model, texts=data_lemmatized, dictionary=id2word, coherence='c_v')\n",
    "    \n",
    "    return coherence_model_lda.get_coherence()"
   ]
  },
  {
   "cell_type": "code",
   "execution_count": 41,
   "metadata": {},
   "outputs": [
    {
     "name": "stderr",
     "output_type": "stream",
     "text": [
      " 77%|███████▋  | 418/540 [2:54:35<49:57, 24.57s/it]  C:\\Users\\User\\AppData\\Local\\Packages\\PythonSoftwareFoundation.Python.3.10_qbz5n2kfra8p0\\LocalCache\\local-packages\\Python310\\site-packages\\gensim\\topic_coherence\\direct_confirmation_measure.py:204: RuntimeWarning: divide by zero encountered in double_scalars\n",
      "  m_lr_i = np.log(numerator / denominator)\n",
      "C:\\Users\\User\\AppData\\Local\\Packages\\PythonSoftwareFoundation.Python.3.10_qbz5n2kfra8p0\\LocalCache\\local-packages\\Python310\\site-packages\\gensim\\topic_coherence\\indirect_confirmation_measure.py:323: RuntimeWarning: invalid value encountered in double_scalars\n",
      "  return cv1.T.dot(cv2)[0, 0] / (_magnitude(cv1) * _magnitude(cv2))\n",
      "100%|██████████| 540/540 [3:44:47<00:00, 24.98s/it]\n"
     ]
    }
   ],
   "source": [
    "from gensim.models import CoherenceModel\n",
    "import numpy as np\n",
    "import tqdm\n",
    "grid = {}\n",
    "grid['Validation_Set'] = {}\n",
    "# Topics range\n",
    "min_topics = 2\n",
    "max_topics = 6\n",
    "step_size = 1\n",
    "topics_range = range(min_topics, max_topics, step_size)\n",
    "# Alpha parameter\n",
    "alpha = list(np.arange(0.01, 1, 0.3))\n",
    "alpha.append('symmetric')\n",
    "alpha.append('asymmetric')\n",
    "# Beta parameter\n",
    "beta = list(np.arange(0.01, 1, 0.3))\n",
    "beta.append('symmetric')\n",
    "# Validation sets\n",
    "num_of_docs = len(corpus)\n",
    "corpus_sets = [# gensim.utils.ClippedCorpus(corpus, num_of_docs*0.25), \n",
    "               # gensim.utils.ClippedCorpus(corpus, num_of_docs*0.5), \n",
    "               gensim.utils.ClippedCorpus(corpus, int(num_of_docs*0.75)), \n",
    "               corpus]\n",
    "corpus_title = ['75% Corpus', '100% Corpus']\n",
    "model_results = {'Validation_Set': [],\n",
    "                 'Topics': [],\n",
    "                 'Alpha': [],\n",
    "                 'Beta': [],\n",
    "                 'Coherence': []\n",
    "                }\n",
    "# Can take a long time to run\n",
    "if 1 == 1:\n",
    "    pbar = tqdm.tqdm(total=540)\n",
    "    \n",
    "    # iterate through validation corpuses\n",
    "    for i in range(len(corpus_sets)):\n",
    "        # iterate through number of topics\n",
    "        for k in topics_range:\n",
    "            # iterate through alpha values\n",
    "            for a in alpha:\n",
    "                # iterare through beta values\n",
    "                for b in beta:\n",
    "                    # get the coherence score for the given parameters\n",
    "                    cv = compute_coherence_values(corpus=corpus_sets[i], dictionary=id2word, \n",
    "                                                  k=k, a=a, b=b)\n",
    "                    # Save the model results\n",
    "                    model_results['Validation_Set'].append(corpus_title[i])\n",
    "                    model_results['Topics'].append(k)\n",
    "                    model_results['Alpha'].append(a)\n",
    "                    model_results['Beta'].append(b)\n",
    "                    model_results['Coherence'].append(cv)\n",
    "                    \n",
    "                    pbar.update(1)\n",
    "    pd.DataFrame(model_results).to_csv('lda_tuning_results.csv', index=False)\n",
    "    pbar.close()"
   ]
  }
 ],
 "metadata": {
  "interpreter": {
   "hash": "3b7e9cb8e453d6cda0fe8c8dd13f891a1f09162f0e7c66ffeae7751a7aecf00d"
  },
  "kernelspec": {
   "display_name": "Python 3.10.4 64-bit (windows store)",
   "language": "python",
   "name": "python3"
  },
  "language_info": {
   "codemirror_mode": {
    "name": "ipython",
    "version": 3
   },
   "file_extension": ".py",
   "mimetype": "text/x-python",
   "name": "python",
   "nbconvert_exporter": "python",
   "pygments_lexer": "ipython3",
   "version": "3.10.4"
  },
  "orig_nbformat": 4
 },
 "nbformat": 4,
 "nbformat_minor": 2
}
