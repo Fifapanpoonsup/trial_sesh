{
 "cells": [
  {
   "cell_type": "code",
   "execution_count": 1,
   "metadata": {},
   "outputs": [],
   "source": [
    "import pandas as pd\n",
    "import numpy as np"
   ]
  },
  {
   "cell_type": "code",
   "execution_count": 2,
   "metadata": {},
   "outputs": [],
   "source": [
    "urbn_data = pd.read_csv(r'C:\\Users\\User\\Desktop\\thesis_17_3_2022\\stock_price_and_news\\topic\\topic_selection\\urbn_topic\\lda_urbn\\urbn_topic_selection.csv')\n"
   ]
  },
  {
   "cell_type": "code",
   "execution_count": 13,
   "metadata": {},
   "outputs": [],
   "source": [
    "\n",
    "urbn_management_topic = urbn_data[urbn_data[\"text_headlines\"].str.contains(\"q1|q2|q3|q4|earnings|profit|quarter|index|lower|higher\")]"
   ]
  },
  {
   "cell_type": "code",
   "execution_count": 15,
   "metadata": {},
   "outputs": [
    {
     "data": {
      "text/plain": [
       "312"
      ]
     },
     "execution_count": 15,
     "metadata": {},
     "output_type": "execute_result"
    }
   ],
   "source": [
    "len(urbn_management_topic)"
   ]
  },
  {
   "cell_type": "code",
   "execution_count": 9,
   "metadata": {},
   "outputs": [],
   "source": [
    "urbn_sales_topic = urbn_data[urbn_data[\"text_headlines\"].str.contains(\"earning|falls|rise|sector|volume|asset management|euronet|sales|selling|buy|holiday\")]\n"
   ]
  },
  {
   "cell_type": "code",
   "execution_count": 10,
   "metadata": {},
   "outputs": [
    {
     "data": {
      "text/plain": [
       "433"
      ]
     },
     "execution_count": 10,
     "metadata": {},
     "output_type": "execute_result"
    }
   ],
   "source": [
    "len(urbn_sales_topic)\n"
   ]
  },
  {
   "cell_type": "code",
   "execution_count": 11,
   "metadata": {},
   "outputs": [],
   "source": [
    "urbn_stock_topic = urbn_data[urbn_data[\"text_headlines\"].str.contains(\"urbn|stocks|shares|target|price|watch|rise|updates|nasdaq|dowjones|declining|rise|premium|support|cut\")]\n"
   ]
  },
  {
   "cell_type": "code",
   "execution_count": 12,
   "metadata": {},
   "outputs": [
    {
     "data": {
      "text/plain": [
       "590"
      ]
     },
     "execution_count": 12,
     "metadata": {},
     "output_type": "execute_result"
    }
   ],
   "source": [
    "len(urbn_stock_topic)"
   ]
  },
  {
   "cell_type": "code",
   "execution_count": 16,
   "metadata": {},
   "outputs": [],
   "source": [
    "urbn_management_topic.to_csv('management_urbn.csv', index=False)\n",
    "urbn_stock_topic.to_csv('stock_urbn.csv', index=False)\n",
    "urbn_sales_topic.to_csv('sales_urbn.csv', index=False)\n"
   ]
  },
  {
   "cell_type": "code",
   "execution_count": null,
   "metadata": {},
   "outputs": [],
   "source": []
  }
 ],
 "metadata": {
  "interpreter": {
   "hash": "0f4da20e4e7181c865f1d9f9ed5c2ac0aa92a11dcd1ce7fd311dc4224467344f"
  },
  "kernelspec": {
   "display_name": "Python 3.10.4 64-bit (windows store)",
   "language": "python",
   "name": "python3"
  },
  "language_info": {
   "codemirror_mode": {
    "name": "ipython",
    "version": 3
   },
   "file_extension": ".py",
   "mimetype": "text/x-python",
   "name": "python",
   "nbconvert_exporter": "python",
   "pygments_lexer": "ipython3",
   "version": "3.10.4"
  },
  "orig_nbformat": 4
 },
 "nbformat": 4,
 "nbformat_minor": 2
}
