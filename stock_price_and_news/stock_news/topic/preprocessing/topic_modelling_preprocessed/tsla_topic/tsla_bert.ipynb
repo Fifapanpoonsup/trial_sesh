{
 "cells": [
  {
   "cell_type": "code",
   "execution_count": 1,
   "metadata": {},
   "outputs": [
    {
     "name": "stderr",
     "output_type": "stream",
     "text": [
      "C:\\Users\\User\\AppData\\Local\\Packages\\PythonSoftwareFoundation.Python.3.10_qbz5n2kfra8p0\\LocalCache\\local-packages\\Python310\\site-packages\\tqdm\\auto.py:22: TqdmWarning: IProgress not found. Please update jupyter and ipywidgets. See https://ipywidgets.readthedocs.io/en/stable/user_install.html\n",
      "  from .autonotebook import tqdm as notebook_tqdm\n"
     ]
    }
   ],
   "source": [
    "import pandas as pd\n",
    "import yfinance as yf\n",
    "from transformers import AutoTokenizer, AutoModelForSequenceClassification\n",
    "import numpy as np\n",
    "from sklearn.preprocessing import MinMaxScaler"
   ]
  },
  {
   "cell_type": "code",
   "execution_count": 2,
   "metadata": {},
   "outputs": [],
   "source": [
    "tsla_stock_merge = pd.read_csv(r'C:\\Users\\User\\Desktop\\thesis_17_3_2022\\stock_price_and_news\\topic\\topic_selection\\tsla_topic\\performance_tsla.csv')\n",
    "tsla_competitors_merge = pd.read_csv(r'C:\\Users\\User\\Desktop\\thesis_17_3_2022\\stock_price_and_news\\topic\\topic_selection\\tsla_topic\\competitors_tsla.csv')\n",
    "tsla_industry_merge = pd.read_csv(r'C:\\Users\\User\\Desktop\\thesis_17_3_2022\\stock_price_and_news\\topic\\topic_selection\\tsla_topic\\industry_tsla.csv')\n",
    "tsla_crypto_merge = pd.read_csv(r'C:\\Users\\User\\Desktop\\thesis_17_3_2022\\stock_price_and_news\\topic\\topic_selection\\tsla_topic\\crypto_tsla.csv')\n"
   ]
  },
  {
   "cell_type": "code",
   "execution_count": 3,
   "metadata": {},
   "outputs": [],
   "source": [
    "tsla_stock_merge1 = tsla_stock_merge['text_headlines']\n",
    "tsla_competitors_merge1 = tsla_competitors_merge['text_headlines']\n",
    "tsla_industry_merge1 = tsla_industry_merge['text_headlines']\n",
    "tsla_crypto_merge1 = tsla_crypto_merge['text_headlines']\n"
   ]
  },
  {
   "cell_type": "code",
   "execution_count": 4,
   "metadata": {},
   "outputs": [],
   "source": [
    "tsla_stock_merge2 =tsla_stock_merge1.to_list()\n",
    "tsla_competitors_merge2 = tsla_competitors_merge1.to_list()\n",
    "tsla_industry_merge2 = tsla_industry_merge1.to_list()\n",
    "tsla_crypto_merge2 =tsla_crypto_merge1.to_list()"
   ]
  },
  {
   "cell_type": "code",
   "execution_count": 5,
   "metadata": {},
   "outputs": [
    {
     "data": {
      "text/plain": [
       "['the stock market’s breadth is narrower than you think',\n",
       " 'signs abound that the us stock market is headed higher',\n",
       " 'here’s how much a trump tax-plan letdown could whack the stock market',\n",
       " 'stock market closes lower as investors pump brakes ahead of earnings',\n",
       " 'what the stock market is saying now ‘in trump we trust’',\n",
       " \"tesla's stock falls further drops 27percent premarket after downgrade at goldman sach\",\n",
       " 'stock market closes at 4th straight record after yellen testimony',\n",
       " 'the stock market’s big winner in any trump-backed tax reform',\n",
       " 'stock market ends near records powered by auto sales',\n",
       " 'morning movers valeant falls on analyst comment; tesla slides']"
      ]
     },
     "execution_count": 5,
     "metadata": {},
     "output_type": "execute_result"
    }
   ],
   "source": [
    "tsla_stock_merge2[-10:]"
   ]
  },
  {
   "cell_type": "code",
   "execution_count": 6,
   "metadata": {},
   "outputs": [
    {
     "name": "stderr",
     "output_type": "stream",
     "text": [
      "Some weights of the model checkpoint at bert-base-uncased were not used when initializing BertForSequenceClassification: ['cls.predictions.transform.dense.bias', 'cls.predictions.transform.LayerNorm.bias', 'cls.predictions.bias', 'cls.predictions.decoder.weight', 'cls.seq_relationship.bias', 'cls.predictions.transform.dense.weight', 'cls.predictions.transform.LayerNorm.weight', 'cls.seq_relationship.weight']\n",
      "- This IS expected if you are initializing BertForSequenceClassification from the checkpoint of a model trained on another task or with another architecture (e.g. initializing a BertForSequenceClassification model from a BertForPreTraining model).\n",
      "- This IS NOT expected if you are initializing BertForSequenceClassification from the checkpoint of a model that you expect to be exactly identical (initializing a BertForSequenceClassification model from a BertForSequenceClassification model).\n",
      "Some weights of BertForSequenceClassification were not initialized from the model checkpoint at bert-base-uncased and are newly initialized: ['classifier.bias', 'classifier.weight']\n",
      "You should probably TRAIN this model on a down-stream task to be able to use it for predictions and inference.\n"
     ]
    }
   ],
   "source": [
    "from transformers import BertModel, BertTokenizer,AutoModelForSequenceClassification\n",
    "tokenizer = BertTokenizer.from_pretrained('bert-base-uncased')\n",
    "\n",
    "model = AutoModelForSequenceClassification.from_pretrained('bert-base-uncased',num_labels = 3)"
   ]
  },
  {
   "cell_type": "code",
   "execution_count": 7,
   "metadata": {},
   "outputs": [],
   "source": [
    "def softmax(x):\n",
    "    \"\"\"Compute softmax values for each sets of scores in x.\"\"\"\n",
    "    e_x = np.exp(x - np.max(x, axis=1)[:, None])\n",
    "    return e_x / np.sum(e_x, axis=1)[:, None]"
   ]
  },
  {
   "cell_type": "code",
   "execution_count": 8,
   "metadata": {},
   "outputs": [
    {
     "name": "stdout",
     "output_type": "stream",
     "text": [
      "[0.27441615 0.11530618]\n"
     ]
    }
   ],
   "source": [
    "label_dict = {0: 'positive', 1: 'negative', 2: 'neutral'}\n",
    "tsla_out_stock = []\n",
    "tsla_score_stock = []\n",
    "for i in range(0, len(tsla_stock_merge2), 10):\n",
    "    tokenized_tsla_stock = tokenizer(tsla_stock_merge2[i:i+10], truncation = True, padding = True, return_tensors = \"pt\")\n",
    "    tsla_output_stock = model(tokenized_tsla_stock['input_ids'])\n",
    "    soft_logits_tsla_stock = softmax(np.array(tsla_output_stock.logits.detach().cpu()))\n",
    "    sentiment_score_tsla_stock = soft_logits_tsla_stock[:,0]-soft_logits_tsla_stock[:,1]\n",
    "    tsla_pred_stock = np.squeeze(np.argmax(soft_logits_tsla_stock, axis = 1))\n",
    "    tsla_out_stock.extend(tsla_pred_stock)\n",
    "    tsla_score_stock.extend(sentiment_score_tsla_stock)\n",
    "#print(tsla_out) \n",
    "print(sentiment_score_tsla_stock)"
   ]
  },
  {
   "cell_type": "code",
   "execution_count": 9,
   "metadata": {},
   "outputs": [
    {
     "name": "stdout",
     "output_type": "stream",
     "text": [
      "992\n",
      "992\n"
     ]
    }
   ],
   "source": [
    "print(len(tsla_out_stock))\n",
    "tsla_class_stock = [label_dict[pred] for pred in tsla_out_stock]\n",
    "print(len(tsla_class_stock))\n",
    "#print(tsla_class)"
   ]
  },
  {
   "cell_type": "code",
   "execution_count": 10,
   "metadata": {},
   "outputs": [
    {
     "name": "stdout",
     "output_type": "stream",
     "text": [
      "[0.10011317 0.08830899 0.16065912 0.16334476 0.10758567 0.11533998\n",
      " 0.12789555 0.18957984]\n"
     ]
    }
   ],
   "source": [
    "tsla_out_competitors = []\n",
    "tsla_score_competitors = []\n",
    "for i in range(0, len(tsla_competitors_merge2), 10):\n",
    "    tokenized_tsla_competitors = tokenizer(tsla_competitors_merge2[i:i+10], truncation = True, padding = True, return_tensors = \"pt\")\n",
    "    tsla_output_competitors = model(tokenized_tsla_competitors['input_ids'])\n",
    "    soft_logits_tsla_competitors = softmax(np.array(tsla_output_competitors.logits.detach().cpu()))\n",
    "    sentiment_score_tsla_competitors = soft_logits_tsla_competitors[:,0]-soft_logits_tsla_competitors[:,1]\n",
    "    tsla_pred_competitors = np.squeeze(np.argmax(soft_logits_tsla_competitors, axis = 1))\n",
    "    tsla_out_competitors.extend(tsla_pred_competitors)\n",
    "    tsla_score_competitors.extend(sentiment_score_tsla_competitors)\n",
    "#print(tsla_out) \n",
    "print(sentiment_score_tsla_competitors)"
   ]
  },
  {
   "cell_type": "code",
   "execution_count": 11,
   "metadata": {},
   "outputs": [
    {
     "name": "stdout",
     "output_type": "stream",
     "text": [
      "648\n",
      "648\n"
     ]
    }
   ],
   "source": [
    "print(len(tsla_out_competitors))\n",
    "tsla_class_competitors = [label_dict[pred] for pred in tsla_out_competitors]\n",
    "print(len(tsla_class_competitors))\n",
    "#print(tsla_class)"
   ]
  },
  {
   "cell_type": "code",
   "execution_count": 12,
   "metadata": {},
   "outputs": [
    {
     "name": "stdout",
     "output_type": "stream",
     "text": [
      "[0.1568065  0.10861309 0.12889941]\n"
     ]
    }
   ],
   "source": [
    "tsla_out_industry = []\n",
    "tsla_score_industry = []\n",
    "for i in range(0, len(tsla_industry_merge2), 10):\n",
    "    tokenized_tsla_industry = tokenizer(tsla_industry_merge2[i:i+10], truncation = True, padding = True, return_tensors = \"pt\")\n",
    "    tsla_output_industry = model(tokenized_tsla_industry['input_ids'])\n",
    "    soft_logits_tsla_industry = softmax(np.array(tsla_output_industry.logits.detach().cpu()))\n",
    "    sentiment_score_tsla_industry = soft_logits_tsla_industry[:,0]-soft_logits_tsla_industry[:,1]\n",
    "    tsla_pred_industry = np.squeeze(np.argmax(soft_logits_tsla_industry, axis = 1))\n",
    "    tsla_out_industry.extend(tsla_pred_industry)\n",
    "    tsla_score_industry.extend(sentiment_score_tsla_industry)\n",
    "#print(tsla_out) \n",
    "print(sentiment_score_tsla_industry)"
   ]
  },
  {
   "cell_type": "code",
   "execution_count": 13,
   "metadata": {},
   "outputs": [
    {
     "name": "stdout",
     "output_type": "stream",
     "text": [
      "473\n",
      "473\n"
     ]
    }
   ],
   "source": [
    "print(len(tsla_out_industry))\n",
    "tsla_class_industry = [label_dict[pred] for pred in tsla_out_industry]\n",
    "print(len(tsla_class_industry))\n",
    "#print(tsla_class)"
   ]
  },
  {
   "cell_type": "code",
   "execution_count": 14,
   "metadata": {},
   "outputs": [
    {
     "name": "stdout",
     "output_type": "stream",
     "text": [
      "[0.1568065  0.10861309 0.12889941]\n"
     ]
    }
   ],
   "source": [
    "tsla_out_crypto = []\n",
    "tsla_score_crypto = []\n",
    "for i in range(0, len(tsla_crypto_merge2), 10):\n",
    "    tokenized_tsla_crypto = tokenizer(tsla_crypto_merge2[i:i+10], truncation = True, padding = True, return_tensors = \"pt\")\n",
    "    tsla_output_crypto = model(tokenized_tsla_crypto['input_ids'])\n",
    "    soft_logits_tsla_crypto = softmax(np.array(tsla_output_crypto.logits.detach().cpu()))\n",
    "    sentiment_score_tsla_crypto = soft_logits_tsla_crypto[:,0]-soft_logits_tsla_crypto[:,1]\n",
    "    tsla_pred_crypto = np.squeeze(np.argmax(soft_logits_tsla_crypto, axis = 1))\n",
    "    tsla_out_crypto.extend(tsla_pred_crypto)\n",
    "    tsla_score_crypto.extend(sentiment_score_tsla_crypto)\n",
    "#print(tsla_out) \n",
    "print(sentiment_score_tsla_industry)"
   ]
  },
  {
   "cell_type": "code",
   "execution_count": 15,
   "metadata": {},
   "outputs": [
    {
     "name": "stdout",
     "output_type": "stream",
     "text": [
      "1745\n",
      "1745\n"
     ]
    }
   ],
   "source": [
    "print(len(tsla_out_crypto))\n",
    "tsla_class_crypto = [label_dict[pred] for pred in tsla_out_crypto]\n",
    "print(len(tsla_class_crypto))\n",
    "#print(tsla_class)"
   ]
  },
  {
   "cell_type": "code",
   "execution_count": 16,
   "metadata": {},
   "outputs": [
    {
     "name": "stdout",
     "output_type": "stream",
     "text": [
      "[*********************100%***********************]  1 of 1 completed\n"
     ]
    }
   ],
   "source": [
    "tsla_stock_price  = yf.download('tsla', start='2016-11-30', end='2022-02-15', time_interval = 'daily')\n"
   ]
  },
  {
   "cell_type": "code",
   "execution_count": 17,
   "metadata": {},
   "outputs": [],
   "source": [
    "tsla_stock_price = tsla_stock_price.drop(['Open', 'High','Low','Volume', 'Adj Close'], axis = 1)"
   ]
  },
  {
   "cell_type": "code",
   "execution_count": 18,
   "metadata": {},
   "outputs": [],
   "source": [
    "scaler = MinMaxScaler(feature_range=(0, 1))\n",
    "tsla_scaler_price = scaler.fit_transform(tsla_stock_price.values.reshape(-1,1))"
   ]
  },
  {
   "cell_type": "code",
   "execution_count": 19,
   "metadata": {},
   "outputs": [],
   "source": [
    "tsla_stock_date = tsla_stock_merge['Date']\n",
    "tsla_competitors_date = tsla_competitors_merge['Date']\n",
    "tsla_industry_date = tsla_industry_merge['Date']\n",
    "tsla_crypto_date = tsla_crypto_merge['Date']\n"
   ]
  },
  {
   "cell_type": "code",
   "execution_count": 20,
   "metadata": {},
   "outputs": [],
   "source": [
    "tsla_score_stock = pd.DataFrame (tsla_score_stock, columns = ['sentiment_score'])\n",
    "tsla_score_industry = pd.DataFrame (tsla_score_industry, columns = ['sentiment_score'])\n",
    "tsla_score_competitors = pd.DataFrame (tsla_score_competitors, columns = ['sentiment_score'])\n",
    "tsla_score_crypto = pd.DataFrame (tsla_score_crypto, columns = ['sentiment_score'])\n",
    "scaler = MinMaxScaler(feature_range=(0, 1))\n",
    "tsla_stock_scaler = scaler.fit_transform(tsla_score_stock.values.reshape(-1,1))\n",
    "tsla_industry_scaler = scaler.fit_transform(tsla_score_industry.values.reshape(-1,1))\n",
    "tsla_competitors_scaler = scaler.fit_transform(tsla_score_competitors.values.reshape(-1,1))\n",
    "tsla_crypto_scaler = scaler.fit_transform(tsla_score_crypto.values.reshape(-1,1))\n"
   ]
  },
  {
   "cell_type": "code",
   "execution_count": 26,
   "metadata": {},
   "outputs": [],
   "source": [
    "tsla_stock_scaler = pd.DataFrame (tsla_stock_scaler, columns = ['sentiment_score'])\n",
    "tsla_industry_scaler = pd.DataFrame (tsla_industry_scaler, columns = ['sentiment_score'])\n",
    "tsla_competitors_scaler = pd.DataFrame (tsla_competitors_scaler, columns = ['sentiment_score'])\n",
    "tsla_crypto_scaler = pd.DataFrame (tsla_crypto_scaler, columns = ['sentiment_score'])"
   ]
  },
  {
   "cell_type": "code",
   "execution_count": 27,
   "metadata": {},
   "outputs": [],
   "source": [
    "tsla_topic_stock_table = pd.concat([tsla_stock_date, tsla_stock_scaler], axis=1)\n",
    "tsla_topic_industry_table = pd.concat([tsla_industry_date, tsla_industry_scaler], axis=1)\n",
    "tsla_topic_competitors_table = pd.concat([tsla_competitors_date, tsla_competitors_scaler], axis=1)\n",
    "tsla_topic_crypto_table = pd.concat([tsla_crypto_date, tsla_crypto_scaler], axis=1)"
   ]
  },
  {
   "cell_type": "code",
   "execution_count": 28,
   "metadata": {},
   "outputs": [],
   "source": [
    "tsla_stock_topic = tsla_topic_stock_table.sort_values(by =\"Date\")\n",
    "tsla_industry_topic = tsla_topic_industry_table.sort_values(by =\"Date\")\n",
    "tsla_crypto_topic = tsla_topic_crypto_table.sort_values(by =\"Date\")\n",
    "tsla_competitors_topic = tsla_topic_competitors_table.sort_values(by =\"Date\")"
   ]
  },
  {
   "cell_type": "code",
   "execution_count": 29,
   "metadata": {},
   "outputs": [],
   "source": [
    "tsla_stock_topic['Date'] = pd.to_datetime(tsla_stock_topic['Date'])\n",
    "tsla_industry_topic['Date'] = pd.to_datetime(tsla_industry_topic['Date'])\n",
    "tsla_crypto_topic['Date'] = pd.to_datetime(tsla_crypto_topic['Date'])\n",
    "tsla_competitors_topic['Date'] = pd.to_datetime(tsla_competitors_topic['Date'])"
   ]
  },
  {
   "cell_type": "code",
   "execution_count": 30,
   "metadata": {},
   "outputs": [
    {
     "name": "stdout",
     "output_type": "stream",
     "text": [
      "<class 'pandas.core.frame.DataFrame'>\n",
      "Int64Index: 992 entries, 990 to 1\n",
      "Data columns (total 2 columns):\n",
      " #   Column           Non-Null Count  Dtype         \n",
      "---  ------           --------------  -----         \n",
      " 0   Date             992 non-null    datetime64[ns]\n",
      " 1   sentiment_score  992 non-null    float32       \n",
      "dtypes: datetime64[ns](1), float32(1)\n",
      "memory usage: 19.4 KB\n"
     ]
    }
   ],
   "source": [
    "tsla_stock_topic.info()"
   ]
  },
  {
   "cell_type": "code",
   "execution_count": 31,
   "metadata": {},
   "outputs": [],
   "source": [
    "tsla_pure_price = pd.DataFrame(tsla_scaler_price, columns = ['Closing_price'])\n"
   ]
  },
  {
   "cell_type": "code",
   "execution_count": 32,
   "metadata": {},
   "outputs": [],
   "source": [
    "tsla_stock_price1 = tsla_stock_price.reset_index()"
   ]
  },
  {
   "cell_type": "code",
   "execution_count": 33,
   "metadata": {},
   "outputs": [],
   "source": [
    "tsla_stockprice_date = tsla_stock_price1[\"Date\"]"
   ]
  },
  {
   "cell_type": "code",
   "execution_count": 34,
   "metadata": {},
   "outputs": [],
   "source": [
    "tsla_stockprice_date = pd.DataFrame({ 'Stock_price_date':tsla_stockprice_date.values})\n"
   ]
  },
  {
   "cell_type": "code",
   "execution_count": 35,
   "metadata": {},
   "outputs": [
    {
     "data": {
      "text/html": [
       "<div>\n",
       "<style scoped>\n",
       "    .dataframe tbody tr th:only-of-type {\n",
       "        vertical-align: middle;\n",
       "    }\n",
       "\n",
       "    .dataframe tbody tr th {\n",
       "        vertical-align: top;\n",
       "    }\n",
       "\n",
       "    .dataframe thead th {\n",
       "        text-align: right;\n",
       "    }\n",
       "</style>\n",
       "<table border=\"1\" class=\"dataframe\">\n",
       "  <thead>\n",
       "    <tr style=\"text-align: right;\">\n",
       "      <th></th>\n",
       "      <th>Stock_price_date</th>\n",
       "    </tr>\n",
       "  </thead>\n",
       "  <tbody>\n",
       "    <tr>\n",
       "      <th>0</th>\n",
       "      <td>2016-11-29</td>\n",
       "    </tr>\n",
       "    <tr>\n",
       "      <th>1</th>\n",
       "      <td>2016-11-30</td>\n",
       "    </tr>\n",
       "    <tr>\n",
       "      <th>2</th>\n",
       "      <td>2016-12-01</td>\n",
       "    </tr>\n",
       "    <tr>\n",
       "      <th>3</th>\n",
       "      <td>2016-12-02</td>\n",
       "    </tr>\n",
       "    <tr>\n",
       "      <th>4</th>\n",
       "      <td>2016-12-05</td>\n",
       "    </tr>\n",
       "    <tr>\n",
       "      <th>...</th>\n",
       "      <td>...</td>\n",
       "    </tr>\n",
       "    <tr>\n",
       "      <th>1307</th>\n",
       "      <td>2022-02-08</td>\n",
       "    </tr>\n",
       "    <tr>\n",
       "      <th>1308</th>\n",
       "      <td>2022-02-09</td>\n",
       "    </tr>\n",
       "    <tr>\n",
       "      <th>1309</th>\n",
       "      <td>2022-02-10</td>\n",
       "    </tr>\n",
       "    <tr>\n",
       "      <th>1310</th>\n",
       "      <td>2022-02-11</td>\n",
       "    </tr>\n",
       "    <tr>\n",
       "      <th>1311</th>\n",
       "      <td>2022-02-14</td>\n",
       "    </tr>\n",
       "  </tbody>\n",
       "</table>\n",
       "<p>1312 rows × 1 columns</p>\n",
       "</div>"
      ],
      "text/plain": [
       "     Stock_price_date\n",
       "0          2016-11-29\n",
       "1          2016-11-30\n",
       "2          2016-12-01\n",
       "3          2016-12-02\n",
       "4          2016-12-05\n",
       "...               ...\n",
       "1307       2022-02-08\n",
       "1308       2022-02-09\n",
       "1309       2022-02-10\n",
       "1310       2022-02-11\n",
       "1311       2022-02-14\n",
       "\n",
       "[1312 rows x 1 columns]"
      ]
     },
     "execution_count": 35,
     "metadata": {},
     "output_type": "execute_result"
    }
   ],
   "source": [
    "tsla_stockprice_date\n"
   ]
  },
  {
   "cell_type": "code",
   "execution_count": 36,
   "metadata": {},
   "outputs": [],
   "source": [
    "tsla_stock_table =pd.concat([tsla_stockprice_date,tsla_pure_price], axis=1)\n"
   ]
  },
  {
   "cell_type": "code",
   "execution_count": 37,
   "metadata": {},
   "outputs": [
    {
     "name": "stdout",
     "output_type": "stream",
     "text": [
      "False\n"
     ]
    }
   ],
   "source": [
    "print(tsla_stock_table.isnull().values.any())"
   ]
  },
  {
   "cell_type": "code",
   "execution_count": 38,
   "metadata": {},
   "outputs": [],
   "source": [
    "tsla_stock_table1 = tsla_stock_table.set_index('Stock_price_date')\n"
   ]
  },
  {
   "cell_type": "code",
   "execution_count": 39,
   "metadata": {},
   "outputs": [
    {
     "data": {
      "text/html": [
       "<div>\n",
       "<style scoped>\n",
       "    .dataframe tbody tr th:only-of-type {\n",
       "        vertical-align: middle;\n",
       "    }\n",
       "\n",
       "    .dataframe tbody tr th {\n",
       "        vertical-align: top;\n",
       "    }\n",
       "\n",
       "    .dataframe thead th {\n",
       "        text-align: right;\n",
       "    }\n",
       "</style>\n",
       "<table border=\"1\" class=\"dataframe\">\n",
       "  <thead>\n",
       "    <tr style=\"text-align: right;\">\n",
       "      <th></th>\n",
       "      <th>Closing_price</th>\n",
       "    </tr>\n",
       "    <tr>\n",
       "      <th>Stock_price_date</th>\n",
       "      <th></th>\n",
       "    </tr>\n",
       "  </thead>\n",
       "  <tbody>\n",
       "    <tr>\n",
       "      <th>2016-11-29</th>\n",
       "      <td>0.001775</td>\n",
       "    </tr>\n",
       "    <tr>\n",
       "      <th>2016-11-30</th>\n",
       "      <td>0.001747</td>\n",
       "    </tr>\n",
       "    <tr>\n",
       "      <th>2016-12-01</th>\n",
       "      <td>0.000487</td>\n",
       "    </tr>\n",
       "    <tr>\n",
       "      <th>2016-12-02</th>\n",
       "      <td>0.000419</td>\n",
       "    </tr>\n",
       "    <tr>\n",
       "      <th>2016-12-05</th>\n",
       "      <td>0.001311</td>\n",
       "    </tr>\n",
       "    <tr>\n",
       "      <th>...</th>\n",
       "      <td>...</td>\n",
       "    </tr>\n",
       "    <tr>\n",
       "      <th>2022-02-08</th>\n",
       "      <td>0.742144</td>\n",
       "    </tr>\n",
       "    <tr>\n",
       "      <th>2022-02-09</th>\n",
       "      <td>0.750518</td>\n",
       "    </tr>\n",
       "    <tr>\n",
       "      <th>2022-02-10</th>\n",
       "      <td>0.727531</td>\n",
       "    </tr>\n",
       "    <tr>\n",
       "      <th>2022-02-11</th>\n",
       "      <td>0.690223</td>\n",
       "    </tr>\n",
       "    <tr>\n",
       "      <th>2022-02-14</th>\n",
       "      <td>0.703421</td>\n",
       "    </tr>\n",
       "  </tbody>\n",
       "</table>\n",
       "<p>1312 rows × 1 columns</p>\n",
       "</div>"
      ],
      "text/plain": [
       "                  Closing_price\n",
       "Stock_price_date               \n",
       "2016-11-29             0.001775\n",
       "2016-11-30             0.001747\n",
       "2016-12-01             0.000487\n",
       "2016-12-02             0.000419\n",
       "2016-12-05             0.001311\n",
       "...                         ...\n",
       "2022-02-08             0.742144\n",
       "2022-02-09             0.750518\n",
       "2022-02-10             0.727531\n",
       "2022-02-11             0.690223\n",
       "2022-02-14             0.703421\n",
       "\n",
       "[1312 rows x 1 columns]"
      ]
     },
     "execution_count": 39,
     "metadata": {},
     "output_type": "execute_result"
    }
   ],
   "source": [
    "tsla_stock_table1\n"
   ]
  },
  {
   "cell_type": "code",
   "execution_count": 40,
   "metadata": {},
   "outputs": [],
   "source": [
    "tsla_stock_topic2 = tsla_stock_topic.sort_values(\"Date\")\n",
    "tsla_industry_topic2 = tsla_industry_topic.sort_values(\"Date\")\n",
    "tsla_competitors_topic2 = tsla_competitors_topic.sort_values(\"Date\")\n",
    "tsla_crypto_topic2 = tsla_crypto_topic.sort_values(\"Date\")\n"
   ]
  },
  {
   "cell_type": "code",
   "execution_count": 41,
   "metadata": {},
   "outputs": [],
   "source": [
    "tsla_stock_topic3 = tsla_stock_topic2.set_index(\"Date\")\n",
    "tsla_industry_topic3 = tsla_industry_topic2.set_index(\"Date\")\n",
    "tsla_competitors_topic3 = tsla_competitors_topic2.set_index(\"Date\")\n",
    "tsla_crypto_topic3 = tsla_crypto_topic2.set_index(\"Date\")\n"
   ]
  },
  {
   "cell_type": "code",
   "execution_count": 42,
   "metadata": {},
   "outputs": [
    {
     "data": {
      "text/html": [
       "<div>\n",
       "<style scoped>\n",
       "    .dataframe tbody tr th:only-of-type {\n",
       "        vertical-align: middle;\n",
       "    }\n",
       "\n",
       "    .dataframe tbody tr th {\n",
       "        vertical-align: top;\n",
       "    }\n",
       "\n",
       "    .dataframe thead th {\n",
       "        text-align: right;\n",
       "    }\n",
       "</style>\n",
       "<table border=\"1\" class=\"dataframe\">\n",
       "  <thead>\n",
       "    <tr style=\"text-align: right;\">\n",
       "      <th></th>\n",
       "      <th>sentiment_score</th>\n",
       "    </tr>\n",
       "    <tr>\n",
       "      <th>Date</th>\n",
       "      <th></th>\n",
       "    </tr>\n",
       "  </thead>\n",
       "  <tbody>\n",
       "    <tr>\n",
       "      <th>2017-01-04 04:33:00</th>\n",
       "      <td>0.864431</td>\n",
       "    </tr>\n",
       "    <tr>\n",
       "      <th>2017-01-04 09:01:00</th>\n",
       "      <td>0.274446</td>\n",
       "    </tr>\n",
       "    <tr>\n",
       "      <th>2017-02-09 09:08:00</th>\n",
       "      <td>0.309787</td>\n",
       "    </tr>\n",
       "    <tr>\n",
       "      <th>2017-02-14 04:35:00</th>\n",
       "      <td>0.464146</td>\n",
       "    </tr>\n",
       "    <tr>\n",
       "      <th>2017-02-27 08:09:00</th>\n",
       "      <td>0.703170</td>\n",
       "    </tr>\n",
       "  </tbody>\n",
       "</table>\n",
       "</div>"
      ],
      "text/plain": [
       "                     sentiment_score\n",
       "Date                                \n",
       "2017-01-04 04:33:00         0.864431\n",
       "2017-01-04 09:01:00         0.274446\n",
       "2017-02-09 09:08:00         0.309787\n",
       "2017-02-14 04:35:00         0.464146\n",
       "2017-02-27 08:09:00         0.703170"
      ]
     },
     "execution_count": 42,
     "metadata": {},
     "output_type": "execute_result"
    }
   ],
   "source": [
    "tsla_stock_topic3.head()"
   ]
  },
  {
   "cell_type": "code",
   "execution_count": 43,
   "metadata": {},
   "outputs": [
    {
     "data": {
      "text/html": [
       "<div>\n",
       "<style scoped>\n",
       "    .dataframe tbody tr th:only-of-type {\n",
       "        vertical-align: middle;\n",
       "    }\n",
       "\n",
       "    .dataframe tbody tr th {\n",
       "        vertical-align: top;\n",
       "    }\n",
       "\n",
       "    .dataframe thead th {\n",
       "        text-align: right;\n",
       "    }\n",
       "</style>\n",
       "<table border=\"1\" class=\"dataframe\">\n",
       "  <thead>\n",
       "    <tr style=\"text-align: right;\">\n",
       "      <th></th>\n",
       "      <th>Closing_price</th>\n",
       "    </tr>\n",
       "    <tr>\n",
       "      <th>Stock_price_date</th>\n",
       "      <th></th>\n",
       "    </tr>\n",
       "  </thead>\n",
       "  <tbody>\n",
       "    <tr>\n",
       "      <th>2016-11-29</th>\n",
       "      <td>0.001775</td>\n",
       "    </tr>\n",
       "    <tr>\n",
       "      <th>2016-11-30</th>\n",
       "      <td>0.001747</td>\n",
       "    </tr>\n",
       "    <tr>\n",
       "      <th>2016-12-01</th>\n",
       "      <td>0.000487</td>\n",
       "    </tr>\n",
       "    <tr>\n",
       "      <th>2016-12-02</th>\n",
       "      <td>0.000419</td>\n",
       "    </tr>\n",
       "    <tr>\n",
       "      <th>2016-12-05</th>\n",
       "      <td>0.001311</td>\n",
       "    </tr>\n",
       "  </tbody>\n",
       "</table>\n",
       "</div>"
      ],
      "text/plain": [
       "                  Closing_price\n",
       "Stock_price_date               \n",
       "2016-11-29             0.001775\n",
       "2016-11-30             0.001747\n",
       "2016-12-01             0.000487\n",
       "2016-12-02             0.000419\n",
       "2016-12-05             0.001311"
      ]
     },
     "execution_count": 43,
     "metadata": {},
     "output_type": "execute_result"
    }
   ],
   "source": [
    "tsla_stock_table1.head()"
   ]
  },
  {
   "cell_type": "code",
   "execution_count": 44,
   "metadata": {},
   "outputs": [
    {
     "name": "stderr",
     "output_type": "stream",
     "text": [
      "C:\\Users\\User\\AppData\\Local\\Temp\\ipykernel_30556\\3356433636.py:2: FutureWarning: In a future version of pandas all arguments of DataFrame.drop except for the argument 'labels' will be keyword-only.\n",
      "  .merge(tsla_stock_table1, left_on='key', right_index=True, how='left').drop('key', 1)\n",
      "C:\\Users\\User\\AppData\\Local\\Temp\\ipykernel_30556\\3356433636.py:4: FutureWarning: In a future version of pandas all arguments of DataFrame.drop except for the argument 'labels' will be keyword-only.\n",
      "  .merge(tsla_stock_table1, left_on='key', right_index=True, how='left').drop('key', 1)\n",
      "C:\\Users\\User\\AppData\\Local\\Temp\\ipykernel_30556\\3356433636.py:6: FutureWarning: In a future version of pandas all arguments of DataFrame.drop except for the argument 'labels' will be keyword-only.\n",
      "  .merge(tsla_stock_table1, left_on='key', right_index=True, how='left').drop('key', 1)\n",
      "C:\\Users\\User\\AppData\\Local\\Temp\\ipykernel_30556\\3356433636.py:8: FutureWarning: In a future version of pandas all arguments of DataFrame.drop except for the argument 'labels' will be keyword-only.\n",
      "  .merge(tsla_stock_table1, left_on='key', right_index=True, how='left').drop('key', 1)\n"
     ]
    }
   ],
   "source": [
    "tsla_stock_topic_final = tsla_stock_topic3.assign(key=tsla_stock_topic3.index.normalize())\\\n",
    "   .merge(tsla_stock_table1, left_on='key', right_index=True, how='left').drop('key', 1)\n",
    "tsla_industry_topic_final = tsla_industry_topic3.assign(key=tsla_industry_topic3.index.normalize())\\\n",
    "   .merge(tsla_stock_table1, left_on='key', right_index=True, how='left').drop('key', 1)\n",
    "tsla_crypto_topic_final = tsla_crypto_topic3.assign(key=tsla_crypto_topic3.index.normalize())\\\n",
    "   .merge(tsla_stock_table1, left_on='key', right_index=True, how='left').drop('key', 1)\n",
    "tsla_competitors_topic_final = tsla_competitors_topic3.assign(key=tsla_competitors_topic3.index.normalize())\\\n",
    "   .merge(tsla_stock_table1, left_on='key', right_index=True, how='left').drop('key', 1)"
   ]
  },
  {
   "cell_type": "code",
   "execution_count": 45,
   "metadata": {},
   "outputs": [
    {
     "data": {
      "text/html": [
       "<div>\n",
       "<style scoped>\n",
       "    .dataframe tbody tr th:only-of-type {\n",
       "        vertical-align: middle;\n",
       "    }\n",
       "\n",
       "    .dataframe tbody tr th {\n",
       "        vertical-align: top;\n",
       "    }\n",
       "\n",
       "    .dataframe thead th {\n",
       "        text-align: right;\n",
       "    }\n",
       "</style>\n",
       "<table border=\"1\" class=\"dataframe\">\n",
       "  <thead>\n",
       "    <tr style=\"text-align: right;\">\n",
       "      <th></th>\n",
       "      <th>sentiment_score</th>\n",
       "      <th>Closing_price</th>\n",
       "    </tr>\n",
       "    <tr>\n",
       "      <th>Date</th>\n",
       "      <th></th>\n",
       "      <th></th>\n",
       "    </tr>\n",
       "  </thead>\n",
       "  <tbody>\n",
       "    <tr>\n",
       "      <th>2017-01-03 11:11:00</th>\n",
       "      <td>0.800968</td>\n",
       "      <td>0.006368</td>\n",
       "    </tr>\n",
       "    <tr>\n",
       "      <th>2017-01-04 04:33:00</th>\n",
       "      <td>0.518748</td>\n",
       "      <td>0.008043</td>\n",
       "    </tr>\n",
       "    <tr>\n",
       "      <th>2017-01-04 08:21:00</th>\n",
       "      <td>0.382966</td>\n",
       "      <td>0.008043</td>\n",
       "    </tr>\n",
       "    <tr>\n",
       "      <th>2017-01-04 11:58:00</th>\n",
       "      <td>0.345504</td>\n",
       "      <td>0.008043</td>\n",
       "    </tr>\n",
       "    <tr>\n",
       "      <th>2017-01-23 11:41:00</th>\n",
       "      <td>0.562696</td>\n",
       "      <td>0.011716</td>\n",
       "    </tr>\n",
       "    <tr>\n",
       "      <th>...</th>\n",
       "      <td>...</td>\n",
       "      <td>...</td>\n",
       "    </tr>\n",
       "    <tr>\n",
       "      <th>2022-02-14 10:15:00</th>\n",
       "      <td>0.378890</td>\n",
       "      <td>0.703421</td>\n",
       "    </tr>\n",
       "    <tr>\n",
       "      <th>2022-02-15 05:05:00</th>\n",
       "      <td>0.144877</td>\n",
       "      <td>NaN</td>\n",
       "    </tr>\n",
       "    <tr>\n",
       "      <th>2022-02-15 06:10:00</th>\n",
       "      <td>0.383990</td>\n",
       "      <td>NaN</td>\n",
       "    </tr>\n",
       "    <tr>\n",
       "      <th>2022-02-15 06:20:00</th>\n",
       "      <td>0.278149</td>\n",
       "      <td>NaN</td>\n",
       "    </tr>\n",
       "    <tr>\n",
       "      <th>2022-02-15 10:00:00</th>\n",
       "      <td>0.490634</td>\n",
       "      <td>NaN</td>\n",
       "    </tr>\n",
       "  </tbody>\n",
       "</table>\n",
       "<p>1745 rows × 2 columns</p>\n",
       "</div>"
      ],
      "text/plain": [
       "                     sentiment_score  Closing_price\n",
       "Date                                               \n",
       "2017-01-03 11:11:00         0.800968       0.006368\n",
       "2017-01-04 04:33:00         0.518748       0.008043\n",
       "2017-01-04 08:21:00         0.382966       0.008043\n",
       "2017-01-04 11:58:00         0.345504       0.008043\n",
       "2017-01-23 11:41:00         0.562696       0.011716\n",
       "...                              ...            ...\n",
       "2022-02-14 10:15:00         0.378890       0.703421\n",
       "2022-02-15 05:05:00         0.144877            NaN\n",
       "2022-02-15 06:10:00         0.383990            NaN\n",
       "2022-02-15 06:20:00         0.278149            NaN\n",
       "2022-02-15 10:00:00         0.490634            NaN\n",
       "\n",
       "[1745 rows x 2 columns]"
      ]
     },
     "execution_count": 45,
     "metadata": {},
     "output_type": "execute_result"
    }
   ],
   "source": [
    "tsla_crypto_topic_final"
   ]
  },
  {
   "cell_type": "code",
   "execution_count": 54,
   "metadata": {},
   "outputs": [],
   "source": [
    "tsla_stock_topic_lstm = tsla_stock_topic_final.dropna()\n",
    "tsla_industry_topic_lstm = tsla_industry_topic_final.dropna()\n",
    "tsla_crypto_topic_lstm = tsla_crypto_topic_final.dropna()\n",
    "tsla_competitors_topic_lstm = tsla_competitors_topic_final.dropna()\n"
   ]
  },
  {
   "cell_type": "code",
   "execution_count": 47,
   "metadata": {},
   "outputs": [],
   "source": [
    "tsla_stock_topic_lstm = tsla_stock_topic_final.fillna(method='bfill')\n",
    "tsla_industry_topic_lstm = tsla_industry_topic_final.fillna(method='bfill')\n",
    "tsla_crypto_topic_lstm = tsla_crypto_topic_final.fillna(method= 'bfill')\n",
    "tsla_competitors_topic_lstm = tsla_competitors_topic_final.fillna(method= 'bfill')\n"
   ]
  },
  {
   "cell_type": "code",
   "execution_count": 48,
   "metadata": {},
   "outputs": [
    {
     "data": {
      "text/html": [
       "<div>\n",
       "<style scoped>\n",
       "    .dataframe tbody tr th:only-of-type {\n",
       "        vertical-align: middle;\n",
       "    }\n",
       "\n",
       "    .dataframe tbody tr th {\n",
       "        vertical-align: top;\n",
       "    }\n",
       "\n",
       "    .dataframe thead th {\n",
       "        text-align: right;\n",
       "    }\n",
       "</style>\n",
       "<table border=\"1\" class=\"dataframe\">\n",
       "  <thead>\n",
       "    <tr style=\"text-align: right;\">\n",
       "      <th></th>\n",
       "      <th>sentiment_score</th>\n",
       "      <th>Closing_price</th>\n",
       "    </tr>\n",
       "    <tr>\n",
       "      <th>Date</th>\n",
       "      <th></th>\n",
       "      <th></th>\n",
       "    </tr>\n",
       "  </thead>\n",
       "  <tbody>\n",
       "    <tr>\n",
       "      <th>2017-01-03 11:11:00</th>\n",
       "      <td>0.800968</td>\n",
       "      <td>0.006368</td>\n",
       "    </tr>\n",
       "    <tr>\n",
       "      <th>2017-01-04 04:33:00</th>\n",
       "      <td>0.518748</td>\n",
       "      <td>0.008043</td>\n",
       "    </tr>\n",
       "    <tr>\n",
       "      <th>2017-01-04 08:21:00</th>\n",
       "      <td>0.382966</td>\n",
       "      <td>0.008043</td>\n",
       "    </tr>\n",
       "    <tr>\n",
       "      <th>2017-01-04 11:58:00</th>\n",
       "      <td>0.345504</td>\n",
       "      <td>0.008043</td>\n",
       "    </tr>\n",
       "    <tr>\n",
       "      <th>2017-01-23 11:41:00</th>\n",
       "      <td>0.562696</td>\n",
       "      <td>0.011716</td>\n",
       "    </tr>\n",
       "    <tr>\n",
       "      <th>...</th>\n",
       "      <td>...</td>\n",
       "      <td>...</td>\n",
       "    </tr>\n",
       "    <tr>\n",
       "      <th>2022-02-14 10:15:00</th>\n",
       "      <td>0.378890</td>\n",
       "      <td>0.703421</td>\n",
       "    </tr>\n",
       "    <tr>\n",
       "      <th>2022-02-15 05:05:00</th>\n",
       "      <td>0.144877</td>\n",
       "      <td>NaN</td>\n",
       "    </tr>\n",
       "    <tr>\n",
       "      <th>2022-02-15 06:10:00</th>\n",
       "      <td>0.383990</td>\n",
       "      <td>NaN</td>\n",
       "    </tr>\n",
       "    <tr>\n",
       "      <th>2022-02-15 06:20:00</th>\n",
       "      <td>0.278149</td>\n",
       "      <td>NaN</td>\n",
       "    </tr>\n",
       "    <tr>\n",
       "      <th>2022-02-15 10:00:00</th>\n",
       "      <td>0.490634</td>\n",
       "      <td>NaN</td>\n",
       "    </tr>\n",
       "  </tbody>\n",
       "</table>\n",
       "<p>1745 rows × 2 columns</p>\n",
       "</div>"
      ],
      "text/plain": [
       "                     sentiment_score  Closing_price\n",
       "Date                                               \n",
       "2017-01-03 11:11:00         0.800968       0.006368\n",
       "2017-01-04 04:33:00         0.518748       0.008043\n",
       "2017-01-04 08:21:00         0.382966       0.008043\n",
       "2017-01-04 11:58:00         0.345504       0.008043\n",
       "2017-01-23 11:41:00         0.562696       0.011716\n",
       "...                              ...            ...\n",
       "2022-02-14 10:15:00         0.378890       0.703421\n",
       "2022-02-15 05:05:00         0.144877            NaN\n",
       "2022-02-15 06:10:00         0.383990            NaN\n",
       "2022-02-15 06:20:00         0.278149            NaN\n",
       "2022-02-15 10:00:00         0.490634            NaN\n",
       "\n",
       "[1745 rows x 2 columns]"
      ]
     },
     "execution_count": 48,
     "metadata": {},
     "output_type": "execute_result"
    }
   ],
   "source": [
    "tsla_crypto_topic_lstm"
   ]
  },
  {
   "cell_type": "code",
   "execution_count": 49,
   "metadata": {},
   "outputs": [],
   "source": [
    "tsla_stock_topic_lstm.to_csv('tsla_stock_topic_lstm_bert.csv', index = True)\n",
    "tsla_industry_topic_lstm.to_csv('tsla_industry_topic_lstm_bert.csv', index = True)\n",
    "tsla_competitors_topic_lstm.to_csv('tsla_competitors_topic_lstm_bert.csv', index = True)\n",
    "tsla_crypto_topic_lstm.to_csv('tsla_crypto_topic_lstm_bert.csv', index = True)"
   ]
  },
  {
   "cell_type": "code",
   "execution_count": 50,
   "metadata": {},
   "outputs": [
    {
     "data": {
      "text/plain": [
       "sentiment_score    False\n",
       "Closing_price       True\n",
       "dtype: bool"
      ]
     },
     "execution_count": 50,
     "metadata": {},
     "output_type": "execute_result"
    }
   ],
   "source": [
    "tsla_competitors_topic_lstm.isnull().any()"
   ]
  },
  {
   "cell_type": "code",
   "execution_count": 52,
   "metadata": {},
   "outputs": [],
   "source": [
    "tsla_stock_topic_lstm_ffill = tsla_stock_topic_final.fillna(method='bfill')\n",
    "\n",
    "tsla_industry_topic_lstm_ffill = tsla_industry_topic_final.fillna(method='ffill')\n",
    "tsla_crypto_topic_lstm_ffill = tsla_crypto_topic_final.fillna(method= 'ffill')\n",
    "tsla_competitors_topic_lstm_ffill = tsla_competitors_topic_final.fillna(method= 'ffill')\n"
   ]
  },
  {
   "cell_type": "code",
   "execution_count": 53,
   "metadata": {},
   "outputs": [],
   "source": [
    "tsla_stock_topic_lstm_ffill.to_csv('tsla_stock_topic_lstm_ffill_bert.csv', index = True)\n",
    "tsla_industry_topic_lstm_ffill.to_csv('tsla_industry_topic_lstm_ffill_bert.csv', index = True)\n",
    "tsla_competitors_topic_lstm_ffill.to_csv('tsla_competitors_topic_lstm_ffill_bert.csv', index = True)\n",
    "tsla_crypto_topic_lstm_ffill.to_csv('tsla_crypto_topic_lstm_ffill_bert.csv', index = True)"
   ]
  },
  {
   "cell_type": "code",
   "execution_count": 56,
   "metadata": {},
   "outputs": [
    {
     "data": {
      "text/plain": [
       "960"
      ]
     },
     "execution_count": 56,
     "metadata": {},
     "output_type": "execute_result"
    }
   ],
   "source": [
    "len(tsla_stock_topic_lstm)"
   ]
  },
  {
   "cell_type": "code",
   "execution_count": null,
   "metadata": {},
   "outputs": [],
   "source": []
  }
 ],
 "metadata": {
  "interpreter": {
   "hash": "3b7e9cb8e453d6cda0fe8c8dd13f891a1f09162f0e7c66ffeae7751a7aecf00d"
  },
  "kernelspec": {
   "display_name": "Python 3.10.4 64-bit (windows store)",
   "language": "python",
   "name": "python3"
  },
  "language_info": {
   "codemirror_mode": {
    "name": "ipython",
    "version": 3
   },
   "file_extension": ".py",
   "mimetype": "text/x-python",
   "name": "python",
   "nbconvert_exporter": "python",
   "pygments_lexer": "ipython3",
   "version": "3.10.5"
  },
  "orig_nbformat": 4
 },
 "nbformat": 4,
 "nbformat_minor": 2
}
