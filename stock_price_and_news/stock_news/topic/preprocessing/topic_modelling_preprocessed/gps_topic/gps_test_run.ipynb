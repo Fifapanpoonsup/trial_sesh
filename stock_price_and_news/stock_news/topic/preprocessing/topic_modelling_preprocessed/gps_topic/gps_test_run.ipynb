{
 "cells": [
  {
   "cell_type": "code",
   "execution_count": 1,
   "metadata": {},
   "outputs": [],
   "source": [
    "import pandas as pd\n",
    "import yfinance as yf\n",
    "from transformers import AutoTokenizer, AutoModelForSequenceClassification\n",
    "import numpy as np\n",
    "from sklearn.preprocessing import MinMaxScaler"
   ]
  },
  {
   "cell_type": "code",
   "execution_count": 2,
   "metadata": {},
   "outputs": [],
   "source": [
    "gps_stock_merge = pd.read_csv(r'/root/thesis_update/thesis_update_final/topic_selection/gps_topic/stock_gps.csv')\n",
    "gps_manage_merge = pd.read_csv(r'/root/thesis_update/thesis_update_final/topic_selection/gps_topic/management_gps.csv')\n",
    "gps_performance_merge = pd.read_csv(r'/root/thesis_update/thesis_update_final/topic_selection/gps_topic/performance_gps.csv')\n",
    "gps_sales_merge = pd.read_csv(r'/root/thesis_update/thesis_update_final/topic_selection/gps_topic/sales_gps.csv')\n"
   ]
  },
  {
   "cell_type": "code",
   "execution_count": 3,
   "metadata": {},
   "outputs": [
    {
     "data": {
      "text/html": [
       "<div>\n",
       "<style scoped>\n",
       "    .dataframe tbody tr th:only-of-type {\n",
       "        vertical-align: middle;\n",
       "    }\n",
       "\n",
       "    .dataframe tbody tr th {\n",
       "        vertical-align: top;\n",
       "    }\n",
       "\n",
       "    .dataframe thead th {\n",
       "        text-align: right;\n",
       "    }\n",
       "</style>\n",
       "<table border=\"1\" class=\"dataframe\">\n",
       "  <thead>\n",
       "    <tr style=\"text-align: right;\">\n",
       "      <th></th>\n",
       "      <th>Unnamed: 0</th>\n",
       "      <th>Date</th>\n",
       "      <th>text_headlines</th>\n",
       "    </tr>\n",
       "  </thead>\n",
       "  <tbody>\n",
       "    <tr>\n",
       "      <th>0</th>\n",
       "      <td>202</td>\n",
       "      <td>2021-07-08 03:05:00</td>\n",
       "      <td>how to get people to use store credit cards mo...</td>\n",
       "    </tr>\n",
       "    <tr>\n",
       "      <th>1</th>\n",
       "      <td>362</td>\n",
       "      <td>2021-02-09 06:27:00</td>\n",
       "      <td>biden and yellen discuss $19 trillion covid re...</td>\n",
       "    </tr>\n",
       "    <tr>\n",
       "      <th>2</th>\n",
       "      <td>625</td>\n",
       "      <td>2020-03-05 04:30:00</td>\n",
       "      <td>gap chooses old navy leader as new ceo</td>\n",
       "    </tr>\n",
       "    <tr>\n",
       "      <th>3</th>\n",
       "      <td>659</td>\n",
       "      <td>2019-11-09 10:26:00</td>\n",
       "      <td>old navy spinoff thrown into question by the d...</td>\n",
       "    </tr>\n",
       "    <tr>\n",
       "      <th>4</th>\n",
       "      <td>662</td>\n",
       "      <td>2019-11-08 07:45:00</td>\n",
       "      <td>gap ceo departure the latest spot of bad news ...</td>\n",
       "    </tr>\n",
       "    <tr>\n",
       "      <th>...</th>\n",
       "      <td>...</td>\n",
       "      <td>...</td>\n",
       "      <td>...</td>\n",
       "    </tr>\n",
       "    <tr>\n",
       "      <th>115</th>\n",
       "      <td>2880</td>\n",
       "      <td>2007-01-23 11:14:00</td>\n",
       "      <td>ceo pressler's out at gap inc</td>\n",
       "    </tr>\n",
       "    <tr>\n",
       "      <th>116</th>\n",
       "      <td>2883</td>\n",
       "      <td>2007-01-22 07:31:00</td>\n",
       "      <td>ti shares rise after results; gap ceo resigns</td>\n",
       "    </tr>\n",
       "    <tr>\n",
       "      <th>117</th>\n",
       "      <td>2885</td>\n",
       "      <td>2007-01-22 05:28:00</td>\n",
       "      <td>ceo pressler is out at gap inc</td>\n",
       "    </tr>\n",
       "    <tr>\n",
       "      <th>118</th>\n",
       "      <td>2897</td>\n",
       "      <td>2007-01-04 06:01:00</td>\n",
       "      <td>updates advisories and surprises</td>\n",
       "    </tr>\n",
       "    <tr>\n",
       "      <th>119</th>\n",
       "      <td>2914</td>\n",
       "      <td>2006-12-06 10:38:00</td>\n",
       "      <td>worst ceo of 2006 goes to ilia lekach of parlux</td>\n",
       "    </tr>\n",
       "  </tbody>\n",
       "</table>\n",
       "<p>120 rows × 3 columns</p>\n",
       "</div>"
      ],
      "text/plain": [
       "     Unnamed: 0                 Date  \\\n",
       "0           202  2021-07-08 03:05:00   \n",
       "1           362  2021-02-09 06:27:00   \n",
       "2           625  2020-03-05 04:30:00   \n",
       "3           659  2019-11-09 10:26:00   \n",
       "4           662  2019-11-08 07:45:00   \n",
       "..          ...                  ...   \n",
       "115        2880  2007-01-23 11:14:00   \n",
       "116        2883  2007-01-22 07:31:00   \n",
       "117        2885  2007-01-22 05:28:00   \n",
       "118        2897  2007-01-04 06:01:00   \n",
       "119        2914  2006-12-06 10:38:00   \n",
       "\n",
       "                                        text_headlines  \n",
       "0    how to get people to use store credit cards mo...  \n",
       "1    biden and yellen discuss $19 trillion covid re...  \n",
       "2               gap chooses old navy leader as new ceo  \n",
       "3    old navy spinoff thrown into question by the d...  \n",
       "4    gap ceo departure the latest spot of bad news ...  \n",
       "..                                                 ...  \n",
       "115                      ceo pressler's out at gap inc  \n",
       "116      ti shares rise after results; gap ceo resigns  \n",
       "117                     ceo pressler is out at gap inc  \n",
       "118                   updates advisories and surprises  \n",
       "119    worst ceo of 2006 goes to ilia lekach of parlux  \n",
       "\n",
       "[120 rows x 3 columns]"
      ]
     },
     "execution_count": 3,
     "metadata": {},
     "output_type": "execute_result"
    }
   ],
   "source": [
    "gps_manage_merge"
   ]
  },
  {
   "cell_type": "code",
   "execution_count": 4,
   "metadata": {},
   "outputs": [],
   "source": [
    "gps_stock_merge1 = gps_stock_merge['text_headlines']\n",
    "gps_manage_merge1 = gps_manage_merge['text_headlines']\n",
    "gps_performance_merge1 = gps_performance_merge['text_headlines']\n",
    "gps_sales_merge1 = gps_sales_merge['text_headlines']\n"
   ]
  },
  {
   "cell_type": "code",
   "execution_count": 5,
   "metadata": {},
   "outputs": [
    {
     "data": {
      "text/plain": [
       "0        gap inc stock falls monday underperforms market\n",
       "1        gap inc stock falls friday underperforms market\n",
       "2      gap inc stock underperforms thursday when comp...\n",
       "3      gap inc stock falls wednesday underperforms ma...\n",
       "4      gap inc stock outperforms market on strong tra...\n",
       "                             ...                        \n",
       "502                     updates advisories and surprises\n",
       "503                gap surprises with strong march sales\n",
       "504                     updates advisories and surprises\n",
       "505                     updates advisories and surprises\n",
       "506                     updates advisories and surprises\n",
       "Name: text_headlines, Length: 507, dtype: object"
      ]
     },
     "execution_count": 5,
     "metadata": {},
     "output_type": "execute_result"
    }
   ],
   "source": [
    "gps_stock_merge1"
   ]
  },
  {
   "cell_type": "code",
   "execution_count": 6,
   "metadata": {},
   "outputs": [],
   "source": [
    "gps_stock_merge2 = gps_stock_merge1.to_list()"
   ]
  },
  {
   "cell_type": "code",
   "execution_count": 7,
   "metadata": {},
   "outputs": [],
   "source": [
    "gps_performance_merge2 =gps_performance_merge1.to_list()\n",
    "gps_manage_merge2 =gps_manage_merge1.to_list()\n",
    "gps_sales_merge2 =gps_sales_merge1.to_list()\n"
   ]
  },
  {
   "cell_type": "code",
   "execution_count": 8,
   "metadata": {},
   "outputs": [
    {
     "data": {
      "text/plain": [
       "['updates advisories and surprises',\n",
       " 'amgen rises after results; gap names new ceo',\n",
       " 'updates advisories and surprises',\n",
       " 'updates advisories and surprises',\n",
       " 'updates advisories and surprises',\n",
       " 'updates advisories and surprises',\n",
       " 'gap surprises with strong march sales',\n",
       " 'updates advisories and surprises',\n",
       " 'updates advisories and surprises',\n",
       " 'updates advisories and surprises']"
      ]
     },
     "execution_count": 8,
     "metadata": {},
     "output_type": "execute_result"
    }
   ],
   "source": [
    "gps_stock_merge2[-10:]"
   ]
  },
  {
   "cell_type": "code",
   "execution_count": 9,
   "metadata": {},
   "outputs": [],
   "source": [
    "tokenizer = AutoTokenizer.from_pretrained(\"ProsusAI/finbert\")\n",
    "\n",
    "model = AutoModelForSequenceClassification.from_pretrained(\"ProsusAI/finbert\")"
   ]
  },
  {
   "cell_type": "code",
   "execution_count": 10,
   "metadata": {},
   "outputs": [],
   "source": [
    "def softmax(x):\n",
    "    \"\"\"Compute softmax values for each sets of scores in x.\"\"\"\n",
    "    e_x = np.exp(x - np.max(x, axis=1)[:, None])\n",
    "    return e_x / np.sum(e_x, axis=1)[:, None]"
   ]
  },
  {
   "cell_type": "code",
   "execution_count": 11,
   "metadata": {},
   "outputs": [
    {
     "name": "stdout",
     "output_type": "stream",
     "text": [
      "[-0.01834922 -0.01834922 -0.01834922  0.86940503 -0.01834922 -0.01834922\n",
      " -0.01834922]\n"
     ]
    }
   ],
   "source": [
    "label_dict = {0: 'positive', 1: 'negative', 2: 'neutral'}\n",
    "\n",
    "gps_out_stock = []\n",
    "gps_score_stock = []\n",
    "for i in range(0, len(gps_stock_merge2), 10):\n",
    "    tokenized_gps_stock = tokenizer(gps_stock_merge2[i:i+10], truncation = True, padding = True, return_tensors = \"pt\")\n",
    "    gps_output_stock = model(tokenized_gps_stock['input_ids'])\n",
    "    soft_logits_gps_stock = softmax(np.array(gps_output_stock.logits.detach().cpu()))\n",
    "    sentiment_score_gps_stock = soft_logits_gps_stock[:,0]-soft_logits_gps_stock[:,1]\n",
    "    gps_pred_stock = np.squeeze(np.argmax(soft_logits_gps_stock, axis = 1))\n",
    "    gps_out_stock.extend(gps_pred_stock)\n",
    "    gps_score_stock.extend(sentiment_score_gps_stock)\n",
    "#print(gps_out) \n",
    "print(sentiment_score_gps_stock)"
   ]
  },
  {
   "cell_type": "code",
   "execution_count": 12,
   "metadata": {},
   "outputs": [
    {
     "name": "stdout",
     "output_type": "stream",
     "text": [
      "507\n",
      "507\n"
     ]
    }
   ],
   "source": [
    "print(len(gps_out_stock))\n",
    "gps_class_stock = [label_dict[pred] for pred in gps_out_stock]\n",
    "print(len(gps_class_stock))\n",
    "#print(gps_class)"
   ]
  },
  {
   "cell_type": "code",
   "execution_count": 13,
   "metadata": {},
   "outputs": [
    {
     "name": "stdout",
     "output_type": "stream",
     "text": [
      "[ 0.0142266   0.0142266   0.0142266   0.0142266  -0.06852974  0.02177889\n",
      " -0.7803585  -0.1474294   0.0142266  -0.08446932]\n"
     ]
    }
   ],
   "source": [
    "label_dict = {0: 'positive', 1: 'negative', 2: 'neutral'}\n",
    "\n",
    "gps_out_manage = []\n",
    "gps_score_manage = []\n",
    "for i in range(0, len(gps_manage_merge2), 10):\n",
    "    tokenized_gps_manage = tokenizer(gps_manage_merge2[i:i+10], truncation = True, padding = True, return_tensors = \"pt\")\n",
    "    gps_output_manage = model(tokenized_gps_manage['input_ids'])\n",
    "    soft_logits_gps_manage = softmax(np.array(gps_output_manage.logits.detach().cpu()))\n",
    "    sentiment_score_gps_manage = soft_logits_gps_manage[:,0]-soft_logits_gps_manage[:,1]\n",
    "    gps_pred_manage = np.squeeze(np.argmax(soft_logits_gps_manage, axis = 1))\n",
    "    gps_out_manage.extend(gps_pred_manage)\n",
    "    gps_score_manage.extend(sentiment_score_gps_manage)\n",
    "#print(gps_out) \n",
    "print(sentiment_score_gps_manage)"
   ]
  },
  {
   "cell_type": "code",
   "execution_count": 14,
   "metadata": {},
   "outputs": [
    {
     "name": "stdout",
     "output_type": "stream",
     "text": [
      "120\n",
      "120\n"
     ]
    }
   ],
   "source": [
    "print(len(gps_out_manage))\n",
    "gps_class_manage = [label_dict[pred] for pred in gps_out_manage]\n",
    "print(len(gps_class_manage))"
   ]
  },
  {
   "cell_type": "code",
   "execution_count": 15,
   "metadata": {},
   "outputs": [
    {
     "name": "stdout",
     "output_type": "stream",
     "text": [
      "[1, 1, 1, 0, 1, 1, 1, 1, 0, 1, 0, 0, 0, 0, 1, 1, 1, 1, 0, 1, 1, 1, 0, 0, 1, 0, 1, 1, 0, 1, 1, 1, 0, 0, 0, 1, 0, 0, 0, 1, 2, 0, 1, 0, 1, 1, 0, 1, 0, 1, 0, 2, 1, 0, 0, 1, 0, 1, 0, 0, 0, 1, 1, 0, 0, 2, 1, 1, 0, 2, 0, 0, 0, 1, 1, 0, 0, 1, 0, 1, 0, 0, 0, 1, 0, 0, 0, 1, 0, 0, 1, 1, 0, 0, 1, 0, 0, 0, 1, 0, 0, 1, 0, 0, 1, 0, 1, 1, 0, 0, 1, 0, 0, 2, 1, 0, 1, 0, 1, 1, 0, 0, 0, 0, 0, 1, 1, 0, 0, 1, 1, 0, 0, 1, 0, 0, 0, 0, 0, 1, 0, 1, 1, 0, 2, 1, 1, 0, 1, 0, 1, 1, 0, 1, 1, 1, 0, 0, 1, 0, 0, 1, 1, 1, 1, 0, 0, 1, 1, 1, 1, 1, 2, 1, 0, 1, 0, 0, 1, 0, 1, 1, 1, 0, 0, 0, 0, 0, 0, 1, 0, 1, 1, 2, 0, 1, 0, 0, 2, 2, 1, 1, 2, 2, 2, 0, 0, 1, 2, 2, 2, 2, 0, 1, 2, 1, 2, 1, 2, 1, 1, 1, 2, 2, 1, 1, 1, 1, 2, 2, 1, 2, 1, 2, 1, 2, 2, 2, 1, 0, 1, 1, 1, 1, 0, 1, 1, 1, 1, 0, 2, 0, 2, 2, 0, 2, 2, 0, 0, 2, 1, 1, 1, 1, 1, 0, 2, 1, 2, 1, 1, 1, 0, 2, 0, 0, 0, 0, 1, 2, 1, 2, 0, 0, 0, 2, 2, 1, 0, 2, 1, 2, 1, 0, 2, 1, 2, 2, 1, 1, 2, 2, 1, 2, 1, 1, 0, 0, 0, 2, 2, 0, 0, 1, 2, 2, 0, 1, 0, 0, 2, 1, 1, 1, 1, 1, 2, 1, 1, 1, 1, 1, 0, 2, 1, 1, 1, 0, 1, 2, 1, 1, 2, 2, 2, 1, 1, 1, 1, 1, 1, 1, 0, 1, 0, 1, 0, 1, 0, 0, 1, 1, 1, 1, 2, 1, 1, 1, 2, 1, 1, 2, 1, 1, 2, 1, 2, 2, 1, 1, 1, 0, 0, 2, 1, 1, 1, 1, 2, 2, 0, 1, 1, 1, 1, 1, 1, 0, 1, 1, 1, 0, 1, 1, 1, 1, 1, 1, 1, 1, 1, 1, 1, 1, 1, 2, 2, 1, 2, 1, 1, 1, 1, 1, 1, 2, 1, 1, 1, 0, 2, 0, 0, 0, 1, 1, 1, 0, 0, 1, 1, 1, 1, 2, 1, 1, 2, 2, 1, 0, 1, 1, 2, 1, 1, 2, 1, 1, 2, 2, 1, 1, 2, 1, 1, 1, 0, 2, 1, 1, 0, 1, 1, 0, 1, 0, 2, 2, 1, 2, 1, 1, 1, 1, 2, 1, 2, 2, 0, 0, 1, 0, 1, 0, 0, 0, 2, 0, 1, 0, 0, 0, 2, 1, 2, 2, 1, 0, 2, 2, 1, 1, 2, 1, 1, 1, 1, 1, 0, 0, 2, 2, 1, 0, 2, 0, 2, 2, 2, 2, 1, 2, 1, 1, 1, 0, 1, 2, 2, 0, 0, 0, 0, 0, 0, 2, 1, 1, 1, 1, 2, 0, 2, 0, 2, 0, 2, 2, 1, 0, 2, 2, 0, 0, 0, 1, 1, 1, 0, 1, 0, 0, 2, 0, 0, 2, 2, 2, 1, 1, 0, 2, 0, 2, 0, 0, 2, 2, 1, 1, 2, 0, 2, 1, 1, 2, 0, 0, 1, 0, 2, 2, 2, 2, 0, 1, 2, 2, 1, 0, 0, 2, 2, 2, 0, 0, 1, 2, 2, 0, 2, 2, 2, 0, 2, 0, 0, 0, 1, 1, 1, 1, 0, 0, 0, 0, 0, 2, 1, 1, 1, 1, 1, 1, 1, 2, 0, 0, 0, 2, 2, 0, 0, 2, 0, 0, 0, 2, 2, 2, 1, 1, 2, 2, 1, 1, 1, 2, 2, 2, 1, 0, 2, 1, 1, 1, 0, 2, 2, 2, 2, 1, 1, 1, 2, 1, 1, 2, 1, 0, 2, 2, 2, 0, 2, 1, 1, 0, 1, 2, 1, 1, 2, 2, 1, 2, 2, 2, 2, 1, 1, 1, 2, 2, 0, 0, 2, 0, 0, 2, 2, 2, 2, 2, 2, 1, 1, 1, 0, 1, 2, 1, 1, 1, 2, 2, 2, 2, 0, 0, 0, 0, 1, 0, 0, 1, 2, 0, 1, 0, 2, 1, 1, 0, 1, 0, 0, 1, 1, 1, 2, 2, 0, 0, 1, 0, 0, 1, 1, 2, 1, 2, 1, 2, 1, 1, 2, 1, 0, 2, 0, 0, 1, 1, 0, 0, 0, 2, 1, 1, 1, 2, 2, 2, 2, 2, 0, 0, 2, 1, 1, 0, 1, 1, 0, 1, 2, 0, 1, 2, 0, 1, 2, 0, 1, 1, 2, 1, 1, 2, 0, 0, 1, 0, 0, 0, 1, 2, 2, 1, 2, 2, 0, 1, 2, 0, 0, 0, 0, 1, 1, 0, 2, 0, 1, 2, 1, 1, 1, 2, 1, 1, 1, 0, 0, 0, 1, 0, 0, 1, 0, 2, 1, 1, 2, 0, 2, 0, 0, 2, 0, 2, 1, 0, 2, 0, 0, 2, 1, 2, 0, 0, 2, 0, 0, 1, 0, 2, 2, 1, 0, 2, 0, 0, 2, 2, 1, 0, 2, 0, 2, 0, 0, 0, 0, 0, 0, 2, 2, 1, 1, 2, 2, 0, 1, 1, 0, 0, 1, 0, 2, 1, 1, 0, 0, 0, 1, 0, 1, 1, 1, 1, 1, 1, 1, 1, 2, 1, 2, 1, 0, 2, 1, 0, 2, 1, 1, 1, 0, 0, 0, 2, 1, 1, 0, 1, 1, 1, 0, 1, 2, 1, 1, 1, 1, 1, 2, 2, 1, 1, 2, 1, 1, 2, 2, 1, 1, 0, 2, 1, 1, 1, 2, 1, 2, 1, 1, 2, 1, 1, 1, 1, 1, 1, 2, 2, 0, 2, 2, 2, 1, 1, 0, 1, 0, 1, 1, 1, 1, 1, 1, 0, 0, 1, 0, 1, 2, 1, 1, 0, 0, 1, 0, 0, 1, 1, 2, 1, 1, 2, 0, 2, 1, 1, 1, 2, 0, 1, 1, 1, 1, 1, 2, 1, 2, 0, 0, 1, 1, 0, 0, 1, 1, 1, 0, 2, 2, 1, 1, 1, 1, 0, 0, 1, 1, 1, 1, 1, 1, 1, 1, 2, 1, 2, 1, 0, 0, 1, 1, 2, 1, 2, 2, 1, 1, 2, 0, 2, 1, 2, 0, 2, 0, 1, 1, 0, 2, 2, 2, 0, 2, 1, 2, 0, 2, 1, 2, 2, 0, 1, 1, 1, 2, 1, 2, 0, 2, 1, 0, 2, 0, 2, 1, 2, 2, 2, 0, 1, 2, 2, 2, 2, 2, 2, 0, 1, 2, 2, 2, 2, 2, 1, 1, 2, 0, 2, 1, 1, 1, 1, 2, 2, 2]\n",
      "[0.10269988 0.15629277 0.07102618]\n"
     ]
    }
   ],
   "source": [
    "label_dict = {0: 'positive', 1: 'negative', 2: 'neutral'}\n",
    "\n",
    "gps_out_sales = []\n",
    "gps_score_sales = []\n",
    "for i in range(0, len(gps_sales_merge2), 10):\n",
    "    tokenized_gps_sales = tokenizer(gps_sales_merge2[i:i+10], truncation = True, padding = True, return_tensors = \"pt\")\n",
    "    gps_output_sales = model(tokenized_gps_sales['input_ids'])\n",
    "    soft_logits_gps_sales = softmax(np.array(gps_output_sales.logits.detach().cpu()))\n",
    "    sentiment_score_gps_sales = soft_logits_gps_sales[:,0]-soft_logits_gps_sales[:,1]\n",
    "    gps_pred_sales = np.squeeze(np.argmax(soft_logits_gps_sales, axis = 1))\n",
    "    gps_out_sales.extend(gps_pred_sales)\n",
    "    gps_score_sales.extend(sentiment_score_gps_sales)\n",
    "print(gps_out_sales) \n",
    "print(sentiment_score_gps_sales)"
   ]
  },
  {
   "cell_type": "code",
   "execution_count": 16,
   "metadata": {},
   "outputs": [
    {
     "name": "stdout",
     "output_type": "stream",
     "text": [
      "1153\n",
      "1153\n"
     ]
    }
   ],
   "source": [
    "print(len(gps_out_sales))\n",
    "gps_class_sales = [label_dict[pred] for pred in gps_out_sales]\n",
    "print(len(gps_class_sales))"
   ]
  },
  {
   "cell_type": "code",
   "execution_count": 17,
   "metadata": {},
   "outputs": [
    {
     "name": "stdout",
     "output_type": "stream",
     "text": [
      "[0.1162264 0.0166717]\n"
     ]
    }
   ],
   "source": [
    "label_dict = {0: 'positive', 1: 'negative', 2: 'neutral'}\n",
    "\n",
    "gps_out_performance = []\n",
    "gps_score_performance = []\n",
    "for i in range(0, len(gps_performance_merge2), 10):\n",
    "    tokenized_gps_performance = tokenizer(gps_performance_merge2[i:i+10], truncation = True, padding = True, return_tensors = \"pt\")\n",
    "    gps_output_performance = model(tokenized_gps_performance['input_ids'])\n",
    "    soft_logits_gps_performance = softmax(np.array(gps_output_performance.logits.detach().cpu()))\n",
    "    sentiment_score_gps_performance = soft_logits_gps_performance[:,0]-soft_logits_gps_performance[:,1]\n",
    "    gps_pred_performance = np.squeeze(np.argmax(soft_logits_gps_performance, axis = 1))\n",
    "    gps_out_performance.extend(gps_pred_performance)\n",
    "    gps_score_performance.extend(sentiment_score_gps_performance)\n",
    "#print(gps_out_performance) \n",
    "print(sentiment_score_gps_performance)"
   ]
  },
  {
   "cell_type": "code",
   "execution_count": 18,
   "metadata": {},
   "outputs": [
    {
     "name": "stdout",
     "output_type": "stream",
     "text": [
      "262\n",
      "262\n"
     ]
    }
   ],
   "source": [
    "print(len(gps_out_performance))\n",
    "gps_class_performance = [label_dict[pred] for pred in gps_out_performance]\n",
    "print(len(gps_class_performance))"
   ]
  },
  {
   "cell_type": "code",
   "execution_count": 19,
   "metadata": {},
   "outputs": [
    {
     "name": "stdout",
     "output_type": "stream",
     "text": [
      "[*********************100%***********************]  1 of 1 completed\n"
     ]
    }
   ],
   "source": [
    "gps_stock_price  = yf.download('gps', start='2006-11-30', end='2022-02-15', time_interval = 'daily')"
   ]
  },
  {
   "cell_type": "code",
   "execution_count": 20,
   "metadata": {},
   "outputs": [
    {
     "data": {
      "text/html": [
       "<div>\n",
       "<style scoped>\n",
       "    .dataframe tbody tr th:only-of-type {\n",
       "        vertical-align: middle;\n",
       "    }\n",
       "\n",
       "    .dataframe tbody tr th {\n",
       "        vertical-align: top;\n",
       "    }\n",
       "\n",
       "    .dataframe thead th {\n",
       "        text-align: right;\n",
       "    }\n",
       "</style>\n",
       "<table border=\"1\" class=\"dataframe\">\n",
       "  <thead>\n",
       "    <tr style=\"text-align: right;\">\n",
       "      <th></th>\n",
       "      <th>Open</th>\n",
       "      <th>High</th>\n",
       "      <th>Low</th>\n",
       "      <th>Close</th>\n",
       "      <th>Adj Close</th>\n",
       "      <th>Volume</th>\n",
       "    </tr>\n",
       "    <tr>\n",
       "      <th>Date</th>\n",
       "      <th></th>\n",
       "      <th></th>\n",
       "      <th></th>\n",
       "      <th></th>\n",
       "      <th></th>\n",
       "      <th></th>\n",
       "    </tr>\n",
       "  </thead>\n",
       "  <tbody>\n",
       "    <tr>\n",
       "      <th>2006-11-30</th>\n",
       "      <td>18.500000</td>\n",
       "      <td>18.930000</td>\n",
       "      <td>18.400000</td>\n",
       "      <td>18.719999</td>\n",
       "      <td>12.923030</td>\n",
       "      <td>10621500</td>\n",
       "    </tr>\n",
       "    <tr>\n",
       "      <th>2006-12-01</th>\n",
       "      <td>18.730000</td>\n",
       "      <td>19.059999</td>\n",
       "      <td>18.559999</td>\n",
       "      <td>18.680000</td>\n",
       "      <td>12.895410</td>\n",
       "      <td>7224700</td>\n",
       "    </tr>\n",
       "    <tr>\n",
       "      <th>2006-12-04</th>\n",
       "      <td>18.719999</td>\n",
       "      <td>19.040001</td>\n",
       "      <td>18.580000</td>\n",
       "      <td>18.959999</td>\n",
       "      <td>13.088703</td>\n",
       "      <td>2819100</td>\n",
       "    </tr>\n",
       "    <tr>\n",
       "      <th>2006-12-05</th>\n",
       "      <td>18.900000</td>\n",
       "      <td>19.059999</td>\n",
       "      <td>18.740000</td>\n",
       "      <td>18.889999</td>\n",
       "      <td>13.040385</td>\n",
       "      <td>3362800</td>\n",
       "    </tr>\n",
       "    <tr>\n",
       "      <th>2006-12-06</th>\n",
       "      <td>18.740000</td>\n",
       "      <td>18.959999</td>\n",
       "      <td>18.740000</td>\n",
       "      <td>18.930000</td>\n",
       "      <td>13.067999</td>\n",
       "      <td>3145300</td>\n",
       "    </tr>\n",
       "    <tr>\n",
       "      <th>...</th>\n",
       "      <td>...</td>\n",
       "      <td>...</td>\n",
       "      <td>...</td>\n",
       "      <td>...</td>\n",
       "      <td>...</td>\n",
       "      <td>...</td>\n",
       "    </tr>\n",
       "    <tr>\n",
       "      <th>2022-02-08</th>\n",
       "      <td>17.000000</td>\n",
       "      <td>17.580000</td>\n",
       "      <td>16.870001</td>\n",
       "      <td>17.379999</td>\n",
       "      <td>17.379999</td>\n",
       "      <td>6194500</td>\n",
       "    </tr>\n",
       "    <tr>\n",
       "      <th>2022-02-09</th>\n",
       "      <td>17.480000</td>\n",
       "      <td>17.540001</td>\n",
       "      <td>17.190001</td>\n",
       "      <td>17.340000</td>\n",
       "      <td>17.340000</td>\n",
       "      <td>8041200</td>\n",
       "    </tr>\n",
       "    <tr>\n",
       "      <th>2022-02-10</th>\n",
       "      <td>17.190001</td>\n",
       "      <td>17.879999</td>\n",
       "      <td>17.139999</td>\n",
       "      <td>17.270000</td>\n",
       "      <td>17.270000</td>\n",
       "      <td>7120600</td>\n",
       "    </tr>\n",
       "    <tr>\n",
       "      <th>2022-02-11</th>\n",
       "      <td>17.270000</td>\n",
       "      <td>17.270000</td>\n",
       "      <td>15.800000</td>\n",
       "      <td>15.940000</td>\n",
       "      <td>15.940000</td>\n",
       "      <td>15840300</td>\n",
       "    </tr>\n",
       "    <tr>\n",
       "      <th>2022-02-14</th>\n",
       "      <td>16.040001</td>\n",
       "      <td>16.180000</td>\n",
       "      <td>15.360000</td>\n",
       "      <td>15.370000</td>\n",
       "      <td>15.370000</td>\n",
       "      <td>11528600</td>\n",
       "    </tr>\n",
       "  </tbody>\n",
       "</table>\n",
       "<p>3828 rows × 6 columns</p>\n",
       "</div>"
      ],
      "text/plain": [
       "                 Open       High        Low      Close  Adj Close    Volume\n",
       "Date                                                                       \n",
       "2006-11-30  18.500000  18.930000  18.400000  18.719999  12.923030  10621500\n",
       "2006-12-01  18.730000  19.059999  18.559999  18.680000  12.895410   7224700\n",
       "2006-12-04  18.719999  19.040001  18.580000  18.959999  13.088703   2819100\n",
       "2006-12-05  18.900000  19.059999  18.740000  18.889999  13.040385   3362800\n",
       "2006-12-06  18.740000  18.959999  18.740000  18.930000  13.067999   3145300\n",
       "...               ...        ...        ...        ...        ...       ...\n",
       "2022-02-08  17.000000  17.580000  16.870001  17.379999  17.379999   6194500\n",
       "2022-02-09  17.480000  17.540001  17.190001  17.340000  17.340000   8041200\n",
       "2022-02-10  17.190001  17.879999  17.139999  17.270000  17.270000   7120600\n",
       "2022-02-11  17.270000  17.270000  15.800000  15.940000  15.940000  15840300\n",
       "2022-02-14  16.040001  16.180000  15.360000  15.370000  15.370000  11528600\n",
       "\n",
       "[3828 rows x 6 columns]"
      ]
     },
     "execution_count": 20,
     "metadata": {},
     "output_type": "execute_result"
    }
   ],
   "source": [
    "gps_stock_price"
   ]
  },
  {
   "cell_type": "code",
   "execution_count": 21,
   "metadata": {},
   "outputs": [],
   "source": [
    "\n",
    "gps_stock_price = gps_stock_price.drop(['Open', 'High','Low','Volume', 'Adj Close'], axis = 1)"
   ]
  },
  {
   "cell_type": "code",
   "execution_count": 22,
   "metadata": {},
   "outputs": [
    {
     "data": {
      "text/html": [
       "<div>\n",
       "<style scoped>\n",
       "    .dataframe tbody tr th:only-of-type {\n",
       "        vertical-align: middle;\n",
       "    }\n",
       "\n",
       "    .dataframe tbody tr th {\n",
       "        vertical-align: top;\n",
       "    }\n",
       "\n",
       "    .dataframe thead th {\n",
       "        text-align: right;\n",
       "    }\n",
       "</style>\n",
       "<table border=\"1\" class=\"dataframe\">\n",
       "  <thead>\n",
       "    <tr style=\"text-align: right;\">\n",
       "      <th></th>\n",
       "      <th>Close</th>\n",
       "    </tr>\n",
       "    <tr>\n",
       "      <th>Date</th>\n",
       "      <th></th>\n",
       "    </tr>\n",
       "  </thead>\n",
       "  <tbody>\n",
       "    <tr>\n",
       "      <th>2006-11-30</th>\n",
       "      <td>18.719999</td>\n",
       "    </tr>\n",
       "    <tr>\n",
       "      <th>2006-12-01</th>\n",
       "      <td>18.680000</td>\n",
       "    </tr>\n",
       "    <tr>\n",
       "      <th>2006-12-04</th>\n",
       "      <td>18.959999</td>\n",
       "    </tr>\n",
       "    <tr>\n",
       "      <th>2006-12-05</th>\n",
       "      <td>18.889999</td>\n",
       "    </tr>\n",
       "    <tr>\n",
       "      <th>2006-12-06</th>\n",
       "      <td>18.930000</td>\n",
       "    </tr>\n",
       "    <tr>\n",
       "      <th>...</th>\n",
       "      <td>...</td>\n",
       "    </tr>\n",
       "    <tr>\n",
       "      <th>2022-02-08</th>\n",
       "      <td>17.379999</td>\n",
       "    </tr>\n",
       "    <tr>\n",
       "      <th>2022-02-09</th>\n",
       "      <td>17.340000</td>\n",
       "    </tr>\n",
       "    <tr>\n",
       "      <th>2022-02-10</th>\n",
       "      <td>17.270000</td>\n",
       "    </tr>\n",
       "    <tr>\n",
       "      <th>2022-02-11</th>\n",
       "      <td>15.940000</td>\n",
       "    </tr>\n",
       "    <tr>\n",
       "      <th>2022-02-14</th>\n",
       "      <td>15.370000</td>\n",
       "    </tr>\n",
       "  </tbody>\n",
       "</table>\n",
       "<p>3828 rows × 1 columns</p>\n",
       "</div>"
      ],
      "text/plain": [
       "                Close\n",
       "Date                 \n",
       "2006-11-30  18.719999\n",
       "2006-12-01  18.680000\n",
       "2006-12-04  18.959999\n",
       "2006-12-05  18.889999\n",
       "2006-12-06  18.930000\n",
       "...               ...\n",
       "2022-02-08  17.379999\n",
       "2022-02-09  17.340000\n",
       "2022-02-10  17.270000\n",
       "2022-02-11  15.940000\n",
       "2022-02-14  15.370000\n",
       "\n",
       "[3828 rows x 1 columns]"
      ]
     },
     "execution_count": 22,
     "metadata": {},
     "output_type": "execute_result"
    }
   ],
   "source": [
    "gps_stock_price"
   ]
  },
  {
   "cell_type": "code",
   "execution_count": 23,
   "metadata": {},
   "outputs": [],
   "source": [
    "scaler = MinMaxScaler(feature_range=(0, 1))\n",
    "gps_scaler_price = scaler.fit_transform(gps_stock_price.values.reshape(-1,1))"
   ]
  },
  {
   "cell_type": "code",
   "execution_count": 24,
   "metadata": {},
   "outputs": [],
   "source": [
    "gps_manage_date = gps_manage_merge['Date']"
   ]
  },
  {
   "cell_type": "code",
   "execution_count": 25,
   "metadata": {},
   "outputs": [],
   "source": [
    "gps_sales_date = gps_sales_merge['Date']\n",
    "gps_performance_date = gps_performance_merge['Date']\n",
    "gps_stock_date = gps_stock_merge['Date']\n"
   ]
  },
  {
   "cell_type": "code",
   "execution_count": 26,
   "metadata": {},
   "outputs": [],
   "source": [
    "gps_topic_stock_table = pd.DataFrame(\n",
    "    {'Date': gps_stock_date,\n",
    "     'sentiment_score': gps_score_stock})"
   ]
  },
  {
   "cell_type": "code",
   "execution_count": 27,
   "metadata": {},
   "outputs": [
    {
     "name": "stdout",
     "output_type": "stream",
     "text": [
      "507\n"
     ]
    },
    {
     "data": {
      "text/plain": [
       "False"
      ]
     },
     "execution_count": 27,
     "metadata": {},
     "output_type": "execute_result"
    }
   ],
   "source": [
    "print(len(gps_topic_stock_table))\n",
    "\n",
    "gps_topic_stock_table.isnull().values.any()"
   ]
  },
  {
   "cell_type": "code",
   "execution_count": 28,
   "metadata": {},
   "outputs": [],
   "source": [
    "gps_topic_performance_table = pd.DataFrame(\n",
    "    {'Date': gps_performance_date,\n",
    "     'sentiment_score': gps_score_performance})\n",
    "gps_topic_manage_table = pd.DataFrame(\n",
    "    {'Date': gps_manage_date,\n",
    "     'sentiment_score': gps_score_manage})\n",
    "gps_topic_sales_table = pd.DataFrame(\n",
    "    {'Date': gps_sales_date,\n",
    "     'sentiment_score': gps_score_sales})"
   ]
  },
  {
   "cell_type": "code",
   "execution_count": 29,
   "metadata": {},
   "outputs": [
    {
     "name": "stdout",
     "output_type": "stream",
     "text": [
      "120\n"
     ]
    },
    {
     "data": {
      "text/plain": [
       "False"
      ]
     },
     "execution_count": 29,
     "metadata": {},
     "output_type": "execute_result"
    }
   ],
   "source": [
    "print(len(gps_topic_manage_table))\n",
    "\n",
    "gps_topic_manage_table.isnull().values.any()"
   ]
  },
  {
   "cell_type": "code",
   "execution_count": 30,
   "metadata": {},
   "outputs": [
    {
     "name": "stdout",
     "output_type": "stream",
     "text": [
      "262\n"
     ]
    },
    {
     "data": {
      "text/plain": [
       "False"
      ]
     },
     "execution_count": 30,
     "metadata": {},
     "output_type": "execute_result"
    }
   ],
   "source": [
    "print(len(gps_topic_performance_table))\n",
    "\n",
    "gps_topic_performance_table.isnull().values.any()"
   ]
  },
  {
   "cell_type": "code",
   "execution_count": 31,
   "metadata": {},
   "outputs": [
    {
     "name": "stdout",
     "output_type": "stream",
     "text": [
      "1153\n"
     ]
    },
    {
     "data": {
      "text/plain": [
       "False"
      ]
     },
     "execution_count": 31,
     "metadata": {},
     "output_type": "execute_result"
    }
   ],
   "source": [
    "print(len(gps_topic_sales_table))\n",
    "\n",
    "gps_topic_sales_table.isnull().values.any()"
   ]
  },
  {
   "cell_type": "code",
   "execution_count": 32,
   "metadata": {},
   "outputs": [],
   "source": [
    "gps_stock_topic = gps_topic_stock_table.sort_values(by =\"Date\")\n",
    "gps_manage_topic = gps_topic_manage_table.sort_values(by =\"Date\")\n",
    "gps_sales_topic = gps_topic_sales_table.sort_values(by =\"Date\")\n",
    "gps_performance_topic = gps_topic_performance_table.sort_values(by =\"Date\")\n"
   ]
  },
  {
   "cell_type": "code",
   "execution_count": 33,
   "metadata": {},
   "outputs": [
    {
     "data": {
      "text/html": [
       "<div>\n",
       "<style scoped>\n",
       "    .dataframe tbody tr th:only-of-type {\n",
       "        vertical-align: middle;\n",
       "    }\n",
       "\n",
       "    .dataframe tbody tr th {\n",
       "        vertical-align: top;\n",
       "    }\n",
       "\n",
       "    .dataframe thead th {\n",
       "        text-align: right;\n",
       "    }\n",
       "</style>\n",
       "<table border=\"1\" class=\"dataframe\">\n",
       "  <thead>\n",
       "    <tr style=\"text-align: right;\">\n",
       "      <th></th>\n",
       "      <th>Date</th>\n",
       "      <th>sentiment_score</th>\n",
       "    </tr>\n",
       "  </thead>\n",
       "  <tbody>\n",
       "    <tr>\n",
       "      <th>506</th>\n",
       "      <td>2007-01-04 06:01:00</td>\n",
       "      <td>-0.018349</td>\n",
       "    </tr>\n",
       "    <tr>\n",
       "      <th>505</th>\n",
       "      <td>2007-02-26 07:01:00</td>\n",
       "      <td>-0.018349</td>\n",
       "    </tr>\n",
       "    <tr>\n",
       "      <th>504</th>\n",
       "      <td>2007-03-23 01:01:00</td>\n",
       "      <td>-0.018349</td>\n",
       "    </tr>\n",
       "    <tr>\n",
       "      <th>502</th>\n",
       "      <td>2007-04-12 07:01:00</td>\n",
       "      <td>-0.018349</td>\n",
       "    </tr>\n",
       "    <tr>\n",
       "      <th>503</th>\n",
       "      <td>2007-04-12 11:23:00</td>\n",
       "      <td>0.869405</td>\n",
       "    </tr>\n",
       "    <tr>\n",
       "      <th>...</th>\n",
       "      <td>...</td>\n",
       "      <td>...</td>\n",
       "    </tr>\n",
       "    <tr>\n",
       "      <th>4</th>\n",
       "      <td>2022-02-08 04:56:00</td>\n",
       "      <td>0.768030</td>\n",
       "    </tr>\n",
       "    <tr>\n",
       "      <th>3</th>\n",
       "      <td>2022-02-09 04:56:00</td>\n",
       "      <td>-0.487409</td>\n",
       "    </tr>\n",
       "    <tr>\n",
       "      <th>2</th>\n",
       "      <td>2022-02-10 04:57:00</td>\n",
       "      <td>-0.728392</td>\n",
       "    </tr>\n",
       "    <tr>\n",
       "      <th>1</th>\n",
       "      <td>2022-02-11 04:56:00</td>\n",
       "      <td>-0.679110</td>\n",
       "    </tr>\n",
       "    <tr>\n",
       "      <th>0</th>\n",
       "      <td>2022-02-14 04:56:00</td>\n",
       "      <td>-0.649596</td>\n",
       "    </tr>\n",
       "  </tbody>\n",
       "</table>\n",
       "<p>507 rows × 2 columns</p>\n",
       "</div>"
      ],
      "text/plain": [
       "                    Date  sentiment_score\n",
       "506  2007-01-04 06:01:00        -0.018349\n",
       "505  2007-02-26 07:01:00        -0.018349\n",
       "504  2007-03-23 01:01:00        -0.018349\n",
       "502  2007-04-12 07:01:00        -0.018349\n",
       "503  2007-04-12 11:23:00         0.869405\n",
       "..                   ...              ...\n",
       "4    2022-02-08 04:56:00         0.768030\n",
       "3    2022-02-09 04:56:00        -0.487409\n",
       "2    2022-02-10 04:57:00        -0.728392\n",
       "1    2022-02-11 04:56:00        -0.679110\n",
       "0    2022-02-14 04:56:00        -0.649596\n",
       "\n",
       "[507 rows x 2 columns]"
      ]
     },
     "execution_count": 33,
     "metadata": {},
     "output_type": "execute_result"
    }
   ],
   "source": [
    "gps_stock_topic"
   ]
  },
  {
   "cell_type": "code",
   "execution_count": 78,
   "metadata": {},
   "outputs": [
    {
     "data": {
      "text/html": [
       "<div>\n",
       "<style scoped>\n",
       "    .dataframe tbody tr th:only-of-type {\n",
       "        vertical-align: middle;\n",
       "    }\n",
       "\n",
       "    .dataframe tbody tr th {\n",
       "        vertical-align: top;\n",
       "    }\n",
       "\n",
       "    .dataframe thead th {\n",
       "        text-align: right;\n",
       "    }\n",
       "</style>\n",
       "<table border=\"1\" class=\"dataframe\">\n",
       "  <thead>\n",
       "    <tr style=\"text-align: right;\">\n",
       "      <th></th>\n",
       "      <th>Date</th>\n",
       "      <th>sentiment_score</th>\n",
       "    </tr>\n",
       "  </thead>\n",
       "  <tbody>\n",
       "    <tr>\n",
       "      <th>119</th>\n",
       "      <td>2006-12-06 10:38:00</td>\n",
       "      <td>-0.084469</td>\n",
       "    </tr>\n",
       "    <tr>\n",
       "      <th>118</th>\n",
       "      <td>2007-01-04 06:01:00</td>\n",
       "      <td>0.014227</td>\n",
       "    </tr>\n",
       "    <tr>\n",
       "      <th>117</th>\n",
       "      <td>2007-01-22 05:28:00</td>\n",
       "      <td>-0.147429</td>\n",
       "    </tr>\n",
       "    <tr>\n",
       "      <th>116</th>\n",
       "      <td>2007-01-22 07:31:00</td>\n",
       "      <td>-0.780358</td>\n",
       "    </tr>\n",
       "    <tr>\n",
       "      <th>115</th>\n",
       "      <td>2007-01-23 11:14:00</td>\n",
       "      <td>0.021779</td>\n",
       "    </tr>\n",
       "    <tr>\n",
       "      <th>...</th>\n",
       "      <td>...</td>\n",
       "      <td>...</td>\n",
       "    </tr>\n",
       "    <tr>\n",
       "      <th>4</th>\n",
       "      <td>2019-11-08 07:45:00</td>\n",
       "      <td>-0.612679</td>\n",
       "    </tr>\n",
       "    <tr>\n",
       "      <th>3</th>\n",
       "      <td>2019-11-09 10:26:00</td>\n",
       "      <td>-0.669137</td>\n",
       "    </tr>\n",
       "    <tr>\n",
       "      <th>2</th>\n",
       "      <td>2020-03-05 04:30:00</td>\n",
       "      <td>0.060883</td>\n",
       "    </tr>\n",
       "    <tr>\n",
       "      <th>1</th>\n",
       "      <td>2021-02-09 06:27:00</td>\n",
       "      <td>0.195844</td>\n",
       "    </tr>\n",
       "    <tr>\n",
       "      <th>0</th>\n",
       "      <td>2021-07-08 03:05:00</td>\n",
       "      <td>0.170631</td>\n",
       "    </tr>\n",
       "  </tbody>\n",
       "</table>\n",
       "<p>120 rows × 2 columns</p>\n",
       "</div>"
      ],
      "text/plain": [
       "                    Date  sentiment_score\n",
       "119  2006-12-06 10:38:00        -0.084469\n",
       "118  2007-01-04 06:01:00         0.014227\n",
       "117  2007-01-22 05:28:00        -0.147429\n",
       "116  2007-01-22 07:31:00        -0.780358\n",
       "115  2007-01-23 11:14:00         0.021779\n",
       "..                   ...              ...\n",
       "4    2019-11-08 07:45:00        -0.612679\n",
       "3    2019-11-09 10:26:00        -0.669137\n",
       "2    2020-03-05 04:30:00         0.060883\n",
       "1    2021-02-09 06:27:00         0.195844\n",
       "0    2021-07-08 03:05:00         0.170631\n",
       "\n",
       "[120 rows x 2 columns]"
      ]
     },
     "execution_count": 78,
     "metadata": {},
     "output_type": "execute_result"
    }
   ],
   "source": [
    "gps_manage_topic"
   ]
  },
  {
   "cell_type": "code",
   "execution_count": 80,
   "metadata": {},
   "outputs": [
    {
     "data": {
      "text/html": [
       "<div>\n",
       "<style scoped>\n",
       "    .dataframe tbody tr th:only-of-type {\n",
       "        vertical-align: middle;\n",
       "    }\n",
       "\n",
       "    .dataframe tbody tr th {\n",
       "        vertical-align: top;\n",
       "    }\n",
       "\n",
       "    .dataframe thead th {\n",
       "        text-align: right;\n",
       "    }\n",
       "</style>\n",
       "<table border=\"1\" class=\"dataframe\">\n",
       "  <thead>\n",
       "    <tr style=\"text-align: right;\">\n",
       "      <th></th>\n",
       "      <th>Date</th>\n",
       "      <th>sentiment_score</th>\n",
       "    </tr>\n",
       "  </thead>\n",
       "  <tbody>\n",
       "    <tr>\n",
       "      <th>259</th>\n",
       "      <td>2007-02-08 04:41:00</td>\n",
       "      <td>-0.941235</td>\n",
       "    </tr>\n",
       "    <tr>\n",
       "      <th>258</th>\n",
       "      <td>2007-03-01 06:30:00</td>\n",
       "      <td>-0.736695</td>\n",
       "    </tr>\n",
       "    <tr>\n",
       "      <th>257</th>\n",
       "      <td>2007-03-02 04:40:00</td>\n",
       "      <td>-0.841929</td>\n",
       "    </tr>\n",
       "    <tr>\n",
       "      <th>256</th>\n",
       "      <td>2007-05-02 04:39:00</td>\n",
       "      <td>-0.300403</td>\n",
       "    </tr>\n",
       "    <tr>\n",
       "      <th>255</th>\n",
       "      <td>2007-05-24 06:35:00</td>\n",
       "      <td>-0.830721</td>\n",
       "    </tr>\n",
       "    <tr>\n",
       "      <th>...</th>\n",
       "      <td>...</td>\n",
       "      <td>...</td>\n",
       "    </tr>\n",
       "    <tr>\n",
       "      <th>2</th>\n",
       "      <td>2021-05-28 07:44:00</td>\n",
       "      <td>0.610339</td>\n",
       "    </tr>\n",
       "    <tr>\n",
       "      <th>1</th>\n",
       "      <td>2021-05-28 09:56:00</td>\n",
       "      <td>0.276430</td>\n",
       "    </tr>\n",
       "    <tr>\n",
       "      <th>0</th>\n",
       "      <td>2021-11-24 06:41:00</td>\n",
       "      <td>-0.956817</td>\n",
       "    </tr>\n",
       "    <tr>\n",
       "      <th>261</th>\n",
       "      <td>2022-01-18 08:25:00</td>\n",
       "      <td>0.016672</td>\n",
       "    </tr>\n",
       "    <tr>\n",
       "      <th>260</th>\n",
       "      <td>2022-02-08 04:24:00</td>\n",
       "      <td>0.116226</td>\n",
       "    </tr>\n",
       "  </tbody>\n",
       "</table>\n",
       "<p>262 rows × 2 columns</p>\n",
       "</div>"
      ],
      "text/plain": [
       "                    Date  sentiment_score\n",
       "259  2007-02-08 04:41:00        -0.941235\n",
       "258  2007-03-01 06:30:00        -0.736695\n",
       "257  2007-03-02 04:40:00        -0.841929\n",
       "256  2007-05-02 04:39:00        -0.300403\n",
       "255  2007-05-24 06:35:00        -0.830721\n",
       "..                   ...              ...\n",
       "2    2021-05-28 07:44:00         0.610339\n",
       "1    2021-05-28 09:56:00         0.276430\n",
       "0    2021-11-24 06:41:00        -0.956817\n",
       "261  2022-01-18 08:25:00         0.016672\n",
       "260  2022-02-08 04:24:00         0.116226\n",
       "\n",
       "[262 rows x 2 columns]"
      ]
     },
     "execution_count": 80,
     "metadata": {},
     "output_type": "execute_result"
    }
   ],
   "source": [
    "gps_performance_topic"
   ]
  },
  {
   "cell_type": "code",
   "execution_count": 81,
   "metadata": {},
   "outputs": [
    {
     "data": {
      "text/html": [
       "<div>\n",
       "<style scoped>\n",
       "    .dataframe tbody tr th:only-of-type {\n",
       "        vertical-align: middle;\n",
       "    }\n",
       "\n",
       "    .dataframe tbody tr th {\n",
       "        vertical-align: top;\n",
       "    }\n",
       "\n",
       "    .dataframe thead th {\n",
       "        text-align: right;\n",
       "    }\n",
       "</style>\n",
       "<table border=\"1\" class=\"dataframe\">\n",
       "  <thead>\n",
       "    <tr style=\"text-align: right;\">\n",
       "      <th></th>\n",
       "      <th>Date</th>\n",
       "      <th>sentiment_score</th>\n",
       "    </tr>\n",
       "  </thead>\n",
       "  <tbody>\n",
       "    <tr>\n",
       "      <th>1149</th>\n",
       "      <td>2006-11-30 04:20:00</td>\n",
       "      <td>-0.845257</td>\n",
       "    </tr>\n",
       "    <tr>\n",
       "      <th>1148</th>\n",
       "      <td>2006-11-30 04:27:00</td>\n",
       "      <td>-0.903405</td>\n",
       "    </tr>\n",
       "    <tr>\n",
       "      <th>1147</th>\n",
       "      <td>2006-11-30 04:42:00</td>\n",
       "      <td>-0.848536</td>\n",
       "    </tr>\n",
       "    <tr>\n",
       "      <th>1146</th>\n",
       "      <td>2006-12-07 06:23:00</td>\n",
       "      <td>-0.798592</td>\n",
       "    </tr>\n",
       "    <tr>\n",
       "      <th>1145</th>\n",
       "      <td>2006-12-15 04:52:00</td>\n",
       "      <td>0.342483</td>\n",
       "    </tr>\n",
       "    <tr>\n",
       "      <th>...</th>\n",
       "      <td>...</td>\n",
       "      <td>...</td>\n",
       "    </tr>\n",
       "    <tr>\n",
       "      <th>3</th>\n",
       "      <td>2022-02-01 04:57:00</td>\n",
       "      <td>0.888219</td>\n",
       "    </tr>\n",
       "    <tr>\n",
       "      <th>2</th>\n",
       "      <td>2022-02-02 04:57:00</td>\n",
       "      <td>-0.360221</td>\n",
       "    </tr>\n",
       "    <tr>\n",
       "      <th>1150</th>\n",
       "      <td>2022-02-03 09:30:00</td>\n",
       "      <td>0.102700</td>\n",
       "    </tr>\n",
       "    <tr>\n",
       "      <th>1</th>\n",
       "      <td>2022-02-07 04:57:00</td>\n",
       "      <td>-0.279635</td>\n",
       "    </tr>\n",
       "    <tr>\n",
       "      <th>0</th>\n",
       "      <td>2022-02-10 04:57:00</td>\n",
       "      <td>-0.330542</td>\n",
       "    </tr>\n",
       "  </tbody>\n",
       "</table>\n",
       "<p>1153 rows × 2 columns</p>\n",
       "</div>"
      ],
      "text/plain": [
       "                     Date  sentiment_score\n",
       "1149  2006-11-30 04:20:00        -0.845257\n",
       "1148  2006-11-30 04:27:00        -0.903405\n",
       "1147  2006-11-30 04:42:00        -0.848536\n",
       "1146  2006-12-07 06:23:00        -0.798592\n",
       "1145  2006-12-15 04:52:00         0.342483\n",
       "...                   ...              ...\n",
       "3     2022-02-01 04:57:00         0.888219\n",
       "2     2022-02-02 04:57:00        -0.360221\n",
       "1150  2022-02-03 09:30:00         0.102700\n",
       "1     2022-02-07 04:57:00        -0.279635\n",
       "0     2022-02-10 04:57:00        -0.330542\n",
       "\n",
       "[1153 rows x 2 columns]"
      ]
     },
     "execution_count": 81,
     "metadata": {},
     "output_type": "execute_result"
    }
   ],
   "source": [
    "gps_sales_topic"
   ]
  },
  {
   "cell_type": "code",
   "execution_count": 59,
   "metadata": {},
   "outputs": [],
   "source": [
    "gps_stock_topic['Date'] = pd.to_datetime(gps_stock_topic['Date'])"
   ]
  },
  {
   "cell_type": "code",
   "execution_count": 82,
   "metadata": {},
   "outputs": [],
   "source": [
    "gps_sales_topic['Date'] = pd.to_datetime(gps_sales_topic['Date'])\n",
    "gps_manage_topic['Date'] = pd.to_datetime(gps_manage_topic['Date'])\n",
    "gps_performance_topic['Date'] = pd.to_datetime(gps_performance_topic['Date'])\n"
   ]
  },
  {
   "cell_type": "code",
   "execution_count": 61,
   "metadata": {},
   "outputs": [
    {
     "name": "stdout",
     "output_type": "stream",
     "text": [
      "<class 'pandas.core.frame.DataFrame'>\n",
      "Int64Index: 507 entries, 506 to 0\n",
      "Data columns (total 2 columns):\n",
      " #   Column           Non-Null Count  Dtype         \n",
      "---  ------           --------------  -----         \n",
      " 0   Date             507 non-null    datetime64[ns]\n",
      " 1   sentiment_score  507 non-null    float64       \n",
      "dtypes: datetime64[ns](1), float64(1)\n",
      "memory usage: 11.9 KB\n"
     ]
    }
   ],
   "source": [
    "gps_stock_topic.info()"
   ]
  },
  {
   "cell_type": "code",
   "execution_count": 62,
   "metadata": {},
   "outputs": [],
   "source": [
    "gps_pure_price = pd.DataFrame(gps_scaler_price, columns = ['Closing_price'])\n"
   ]
  },
  {
   "cell_type": "code",
   "execution_count": 63,
   "metadata": {},
   "outputs": [],
   "source": [
    "gps_stock_price1 = gps_stock_price.reset_index()\n"
   ]
  },
  {
   "cell_type": "code",
   "execution_count": 64,
   "metadata": {},
   "outputs": [],
   "source": [
    "gps_stockprice_date = gps_stock_price1[\"Date\"]\n"
   ]
  },
  {
   "cell_type": "code",
   "execution_count": 65,
   "metadata": {},
   "outputs": [],
   "source": [
    "gps_stockprice_date = pd.DataFrame({ 'Stock_price_date':gps_stockprice_date.values})\n"
   ]
  },
  {
   "cell_type": "code",
   "execution_count": 66,
   "metadata": {},
   "outputs": [
    {
     "data": {
      "text/html": [
       "<div>\n",
       "<style scoped>\n",
       "    .dataframe tbody tr th:only-of-type {\n",
       "        vertical-align: middle;\n",
       "    }\n",
       "\n",
       "    .dataframe tbody tr th {\n",
       "        vertical-align: top;\n",
       "    }\n",
       "\n",
       "    .dataframe thead th {\n",
       "        text-align: right;\n",
       "    }\n",
       "</style>\n",
       "<table border=\"1\" class=\"dataframe\">\n",
       "  <thead>\n",
       "    <tr style=\"text-align: right;\">\n",
       "      <th></th>\n",
       "      <th>Stock_price_date</th>\n",
       "    </tr>\n",
       "  </thead>\n",
       "  <tbody>\n",
       "    <tr>\n",
       "      <th>0</th>\n",
       "      <td>2006-11-30</td>\n",
       "    </tr>\n",
       "    <tr>\n",
       "      <th>1</th>\n",
       "      <td>2006-12-01</td>\n",
       "    </tr>\n",
       "    <tr>\n",
       "      <th>2</th>\n",
       "      <td>2006-12-04</td>\n",
       "    </tr>\n",
       "    <tr>\n",
       "      <th>3</th>\n",
       "      <td>2006-12-05</td>\n",
       "    </tr>\n",
       "    <tr>\n",
       "      <th>4</th>\n",
       "      <td>2006-12-06</td>\n",
       "    </tr>\n",
       "    <tr>\n",
       "      <th>...</th>\n",
       "      <td>...</td>\n",
       "    </tr>\n",
       "    <tr>\n",
       "      <th>3823</th>\n",
       "      <td>2022-02-08</td>\n",
       "    </tr>\n",
       "    <tr>\n",
       "      <th>3824</th>\n",
       "      <td>2022-02-09</td>\n",
       "    </tr>\n",
       "    <tr>\n",
       "      <th>3825</th>\n",
       "      <td>2022-02-10</td>\n",
       "    </tr>\n",
       "    <tr>\n",
       "      <th>3826</th>\n",
       "      <td>2022-02-11</td>\n",
       "    </tr>\n",
       "    <tr>\n",
       "      <th>3827</th>\n",
       "      <td>2022-02-14</td>\n",
       "    </tr>\n",
       "  </tbody>\n",
       "</table>\n",
       "<p>3828 rows × 1 columns</p>\n",
       "</div>"
      ],
      "text/plain": [
       "     Stock_price_date\n",
       "0          2006-11-30\n",
       "1          2006-12-01\n",
       "2          2006-12-04\n",
       "3          2006-12-05\n",
       "4          2006-12-06\n",
       "...               ...\n",
       "3823       2022-02-08\n",
       "3824       2022-02-09\n",
       "3825       2022-02-10\n",
       "3826       2022-02-11\n",
       "3827       2022-02-14\n",
       "\n",
       "[3828 rows x 1 columns]"
      ]
     },
     "execution_count": 66,
     "metadata": {},
     "output_type": "execute_result"
    }
   ],
   "source": []
  },
  {
   "cell_type": "code",
   "execution_count": 67,
   "metadata": {},
   "outputs": [],
   "source": [
    "gps_stock_table =pd.concat([gps_stockprice_date,gps_pure_price], axis=1)\n"
   ]
  },
  {
   "cell_type": "code",
   "execution_count": 68,
   "metadata": {},
   "outputs": [
    {
     "name": "stdout",
     "output_type": "stream",
     "text": [
      "False\n"
     ]
    }
   ],
   "source": [
    "print(gps_stock_table.isnull().values.any())\n"
   ]
  },
  {
   "cell_type": "code",
   "execution_count": 69,
   "metadata": {},
   "outputs": [],
   "source": [
    "gps_stock_table1 = gps_stock_table.set_index('Stock_price_date')\n",
    "\n"
   ]
  },
  {
   "cell_type": "code",
   "execution_count": 70,
   "metadata": {},
   "outputs": [
    {
     "data": {
      "text/html": [
       "<div>\n",
       "<style scoped>\n",
       "    .dataframe tbody tr th:only-of-type {\n",
       "        vertical-align: middle;\n",
       "    }\n",
       "\n",
       "    .dataframe tbody tr th {\n",
       "        vertical-align: top;\n",
       "    }\n",
       "\n",
       "    .dataframe thead th {\n",
       "        text-align: right;\n",
       "    }\n",
       "</style>\n",
       "<table border=\"1\" class=\"dataframe\">\n",
       "  <thead>\n",
       "    <tr style=\"text-align: right;\">\n",
       "      <th></th>\n",
       "      <th>Closing_price</th>\n",
       "    </tr>\n",
       "    <tr>\n",
       "      <th>Stock_price_date</th>\n",
       "      <th></th>\n",
       "    </tr>\n",
       "  </thead>\n",
       "  <tbody>\n",
       "    <tr>\n",
       "      <th>2006-11-30</th>\n",
       "      <td>0.321733</td>\n",
       "    </tr>\n",
       "    <tr>\n",
       "      <th>2006-12-01</th>\n",
       "      <td>0.320759</td>\n",
       "    </tr>\n",
       "    <tr>\n",
       "      <th>2006-12-04</th>\n",
       "      <td>0.327574</td>\n",
       "    </tr>\n",
       "    <tr>\n",
       "      <th>2006-12-05</th>\n",
       "      <td>0.325870</td>\n",
       "    </tr>\n",
       "    <tr>\n",
       "      <th>2006-12-06</th>\n",
       "      <td>0.326844</td>\n",
       "    </tr>\n",
       "    <tr>\n",
       "      <th>...</th>\n",
       "      <td>...</td>\n",
       "    </tr>\n",
       "    <tr>\n",
       "      <th>2022-02-08</th>\n",
       "      <td>0.289121</td>\n",
       "    </tr>\n",
       "    <tr>\n",
       "      <th>2022-02-09</th>\n",
       "      <td>0.288148</td>\n",
       "    </tr>\n",
       "    <tr>\n",
       "      <th>2022-02-10</th>\n",
       "      <td>0.286444</td>\n",
       "    </tr>\n",
       "    <tr>\n",
       "      <th>2022-02-11</th>\n",
       "      <td>0.254076</td>\n",
       "    </tr>\n",
       "    <tr>\n",
       "      <th>2022-02-14</th>\n",
       "      <td>0.240204</td>\n",
       "    </tr>\n",
       "  </tbody>\n",
       "</table>\n",
       "<p>3828 rows × 1 columns</p>\n",
       "</div>"
      ],
      "text/plain": [
       "                  Closing_price\n",
       "Stock_price_date               \n",
       "2006-11-30             0.321733\n",
       "2006-12-01             0.320759\n",
       "2006-12-04             0.327574\n",
       "2006-12-05             0.325870\n",
       "2006-12-06             0.326844\n",
       "...                         ...\n",
       "2022-02-08             0.289121\n",
       "2022-02-09             0.288148\n",
       "2022-02-10             0.286444\n",
       "2022-02-11             0.254076\n",
       "2022-02-14             0.240204\n",
       "\n",
       "[3828 rows x 1 columns]"
      ]
     },
     "execution_count": 70,
     "metadata": {},
     "output_type": "execute_result"
    }
   ],
   "source": [
    "gps_stock_table1\n"
   ]
  },
  {
   "cell_type": "code",
   "execution_count": 71,
   "metadata": {},
   "outputs": [],
   "source": [
    "gps_stock_topic2 = gps_stock_topic.sort_values(\"Date\")\n"
   ]
  },
  {
   "cell_type": "code",
   "execution_count": 84,
   "metadata": {},
   "outputs": [],
   "source": [
    "gps_manage_topic2 = gps_manage_topic.sort_values(\"Date\")\n",
    "gps_performance_topic2 = gps_performance_topic.sort_values(\"Date\")\n",
    "gps_sales_topic2 = gps_sales_topic.sort_values(\"Date\")\n"
   ]
  },
  {
   "cell_type": "code",
   "execution_count": 72,
   "metadata": {},
   "outputs": [],
   "source": [
    "gps_stock_topic3 =  gps_stock_topic2.set_index('Date')\n"
   ]
  },
  {
   "cell_type": "code",
   "execution_count": 85,
   "metadata": {},
   "outputs": [],
   "source": [
    "gps_manage_topic3 =  gps_manage_topic2.set_index('Date')\n",
    "gps_sales_topic3 =  gps_sales_topic2.set_index('Date')\n",
    "gps_performance_topic3 =  gps_performance_topic2.set_index('Date')\n"
   ]
  },
  {
   "cell_type": "code",
   "execution_count": 73,
   "metadata": {},
   "outputs": [
    {
     "data": {
      "text/html": [
       "<div>\n",
       "<style scoped>\n",
       "    .dataframe tbody tr th:only-of-type {\n",
       "        vertical-align: middle;\n",
       "    }\n",
       "\n",
       "    .dataframe tbody tr th {\n",
       "        vertical-align: top;\n",
       "    }\n",
       "\n",
       "    .dataframe thead th {\n",
       "        text-align: right;\n",
       "    }\n",
       "</style>\n",
       "<table border=\"1\" class=\"dataframe\">\n",
       "  <thead>\n",
       "    <tr style=\"text-align: right;\">\n",
       "      <th></th>\n",
       "      <th>sentiment_score</th>\n",
       "    </tr>\n",
       "    <tr>\n",
       "      <th>Date</th>\n",
       "      <th></th>\n",
       "    </tr>\n",
       "  </thead>\n",
       "  <tbody>\n",
       "    <tr>\n",
       "      <th>2007-01-04 06:01:00</th>\n",
       "      <td>-0.018349</td>\n",
       "    </tr>\n",
       "    <tr>\n",
       "      <th>2007-02-26 07:01:00</th>\n",
       "      <td>-0.018349</td>\n",
       "    </tr>\n",
       "    <tr>\n",
       "      <th>2007-03-23 01:01:00</th>\n",
       "      <td>-0.018349</td>\n",
       "    </tr>\n",
       "    <tr>\n",
       "      <th>2007-04-12 07:01:00</th>\n",
       "      <td>-0.018349</td>\n",
       "    </tr>\n",
       "    <tr>\n",
       "      <th>2007-04-12 11:23:00</th>\n",
       "      <td>0.869405</td>\n",
       "    </tr>\n",
       "  </tbody>\n",
       "</table>\n",
       "</div>"
      ],
      "text/plain": [
       "                     sentiment_score\n",
       "Date                                \n",
       "2007-01-04 06:01:00        -0.018349\n",
       "2007-02-26 07:01:00        -0.018349\n",
       "2007-03-23 01:01:00        -0.018349\n",
       "2007-04-12 07:01:00        -0.018349\n",
       "2007-04-12 11:23:00         0.869405"
      ]
     },
     "execution_count": 73,
     "metadata": {},
     "output_type": "execute_result"
    }
   ],
   "source": [
    "gps_stock_topic3.head()\n"
   ]
  },
  {
   "cell_type": "code",
   "execution_count": 74,
   "metadata": {},
   "outputs": [
    {
     "name": "stdout",
     "output_type": "stream",
     "text": [
      "<class 'pandas.core.frame.DataFrame'>\n",
      "DatetimeIndex: 507 entries, 2007-01-04 06:01:00 to 2022-02-14 04:56:00\n",
      "Data columns (total 1 columns):\n",
      " #   Column           Non-Null Count  Dtype  \n",
      "---  ------           --------------  -----  \n",
      " 0   sentiment_score  507 non-null    float64\n",
      "dtypes: float64(1)\n",
      "memory usage: 7.9 KB\n"
     ]
    }
   ],
   "source": [
    "gps_stock_topic3.info()"
   ]
  },
  {
   "cell_type": "code",
   "execution_count": 75,
   "metadata": {},
   "outputs": [
    {
     "data": {
      "text/html": [
       "<div>\n",
       "<style scoped>\n",
       "    .dataframe tbody tr th:only-of-type {\n",
       "        vertical-align: middle;\n",
       "    }\n",
       "\n",
       "    .dataframe tbody tr th {\n",
       "        vertical-align: top;\n",
       "    }\n",
       "\n",
       "    .dataframe thead th {\n",
       "        text-align: right;\n",
       "    }\n",
       "</style>\n",
       "<table border=\"1\" class=\"dataframe\">\n",
       "  <thead>\n",
       "    <tr style=\"text-align: right;\">\n",
       "      <th></th>\n",
       "      <th>Closing_price</th>\n",
       "    </tr>\n",
       "    <tr>\n",
       "      <th>Stock_price_date</th>\n",
       "      <th></th>\n",
       "    </tr>\n",
       "  </thead>\n",
       "  <tbody>\n",
       "    <tr>\n",
       "      <th>2006-11-30</th>\n",
       "      <td>0.321733</td>\n",
       "    </tr>\n",
       "    <tr>\n",
       "      <th>2006-12-01</th>\n",
       "      <td>0.320759</td>\n",
       "    </tr>\n",
       "    <tr>\n",
       "      <th>2006-12-04</th>\n",
       "      <td>0.327574</td>\n",
       "    </tr>\n",
       "    <tr>\n",
       "      <th>2006-12-05</th>\n",
       "      <td>0.325870</td>\n",
       "    </tr>\n",
       "    <tr>\n",
       "      <th>2006-12-06</th>\n",
       "      <td>0.326844</td>\n",
       "    </tr>\n",
       "  </tbody>\n",
       "</table>\n",
       "</div>"
      ],
      "text/plain": [
       "                  Closing_price\n",
       "Stock_price_date               \n",
       "2006-11-30             0.321733\n",
       "2006-12-01             0.320759\n",
       "2006-12-04             0.327574\n",
       "2006-12-05             0.325870\n",
       "2006-12-06             0.326844"
      ]
     },
     "execution_count": 75,
     "metadata": {},
     "output_type": "execute_result"
    }
   ],
   "source": [
    "gps_stock_table1.head()\n",
    "\n"
   ]
  },
  {
   "cell_type": "code",
   "execution_count": null,
   "metadata": {},
   "outputs": [],
   "source": []
  },
  {
   "cell_type": "code",
   "execution_count": 76,
   "metadata": {},
   "outputs": [],
   "source": [
    "gps_stock_topic_final = gps_stock_topic3.assign(key=gps_stock_topic3.index.normalize())\\\n",
    "   .merge(gps_stock_table1, left_on='key', right_index=True, how='left').drop('key', 1)"
   ]
  },
  {
   "cell_type": "code",
   "execution_count": 86,
   "metadata": {},
   "outputs": [],
   "source": [
    "gps_manage_topic_final = gps_manage_topic3.assign(key=gps_manage_topic3.index.normalize())\\\n",
    "   .merge(gps_stock_table1, left_on='key', right_index=True, how='left').drop('key', 1)\n",
    "gps_sales_topic_final = gps_sales_topic3.assign(key=gps_sales_topic3.index.normalize())\\\n",
    "   .merge(gps_stock_table1, left_on='key', right_index=True, how='left').drop('key', 1)\n",
    "gps_performance_topic_final = gps_performance_topic3.assign(key=gps_performance_topic3.index.normalize())\\\n",
    "   .merge(gps_stock_table1, left_on='key', right_index=True, how='left').drop('key', 1)"
   ]
  },
  {
   "cell_type": "code",
   "execution_count": 77,
   "metadata": {},
   "outputs": [
    {
     "data": {
      "text/html": [
       "<div>\n",
       "<style scoped>\n",
       "    .dataframe tbody tr th:only-of-type {\n",
       "        vertical-align: middle;\n",
       "    }\n",
       "\n",
       "    .dataframe tbody tr th {\n",
       "        vertical-align: top;\n",
       "    }\n",
       "\n",
       "    .dataframe thead th {\n",
       "        text-align: right;\n",
       "    }\n",
       "</style>\n",
       "<table border=\"1\" class=\"dataframe\">\n",
       "  <thead>\n",
       "    <tr style=\"text-align: right;\">\n",
       "      <th></th>\n",
       "      <th>sentiment_score</th>\n",
       "      <th>Closing_price</th>\n",
       "    </tr>\n",
       "    <tr>\n",
       "      <th>Date</th>\n",
       "      <th></th>\n",
       "      <th></th>\n",
       "    </tr>\n",
       "  </thead>\n",
       "  <tbody>\n",
       "    <tr>\n",
       "      <th>2007-01-04 06:01:00</th>\n",
       "      <td>-0.018349</td>\n",
       "      <td>0.339255</td>\n",
       "    </tr>\n",
       "    <tr>\n",
       "      <th>2007-02-26 07:01:00</th>\n",
       "      <td>-0.018349</td>\n",
       "      <td>0.344366</td>\n",
       "    </tr>\n",
       "    <tr>\n",
       "      <th>2007-03-23 01:01:00</th>\n",
       "      <td>-0.018349</td>\n",
       "      <td>0.300560</td>\n",
       "    </tr>\n",
       "    <tr>\n",
       "      <th>2007-04-12 07:01:00</th>\n",
       "      <td>-0.018349</td>\n",
       "      <td>0.319056</td>\n",
       "    </tr>\n",
       "    <tr>\n",
       "      <th>2007-04-12 11:23:00</th>\n",
       "      <td>0.869405</td>\n",
       "      <td>0.319056</td>\n",
       "    </tr>\n",
       "    <tr>\n",
       "      <th>...</th>\n",
       "      <td>...</td>\n",
       "      <td>...</td>\n",
       "    </tr>\n",
       "    <tr>\n",
       "      <th>2022-02-08 04:56:00</th>\n",
       "      <td>0.768030</td>\n",
       "      <td>0.289121</td>\n",
       "    </tr>\n",
       "    <tr>\n",
       "      <th>2022-02-09 04:56:00</th>\n",
       "      <td>-0.487409</td>\n",
       "      <td>0.288148</td>\n",
       "    </tr>\n",
       "    <tr>\n",
       "      <th>2022-02-10 04:57:00</th>\n",
       "      <td>-0.728392</td>\n",
       "      <td>0.286444</td>\n",
       "    </tr>\n",
       "    <tr>\n",
       "      <th>2022-02-11 04:56:00</th>\n",
       "      <td>-0.679110</td>\n",
       "      <td>0.254076</td>\n",
       "    </tr>\n",
       "    <tr>\n",
       "      <th>2022-02-14 04:56:00</th>\n",
       "      <td>-0.649596</td>\n",
       "      <td>0.240204</td>\n",
       "    </tr>\n",
       "  </tbody>\n",
       "</table>\n",
       "<p>507 rows × 2 columns</p>\n",
       "</div>"
      ],
      "text/plain": [
       "                     sentiment_score  Closing_price\n",
       "Date                                               \n",
       "2007-01-04 06:01:00        -0.018349       0.339255\n",
       "2007-02-26 07:01:00        -0.018349       0.344366\n",
       "2007-03-23 01:01:00        -0.018349       0.300560\n",
       "2007-04-12 07:01:00        -0.018349       0.319056\n",
       "2007-04-12 11:23:00         0.869405       0.319056\n",
       "...                              ...            ...\n",
       "2022-02-08 04:56:00         0.768030       0.289121\n",
       "2022-02-09 04:56:00        -0.487409       0.288148\n",
       "2022-02-10 04:57:00        -0.728392       0.286444\n",
       "2022-02-11 04:56:00        -0.679110       0.254076\n",
       "2022-02-14 04:56:00        -0.649596       0.240204\n",
       "\n",
       "[507 rows x 2 columns]"
      ]
     },
     "execution_count": 77,
     "metadata": {},
     "output_type": "execute_result"
    }
   ],
   "source": [
    "gps_stock_topic_final"
   ]
  },
  {
   "cell_type": "code",
   "execution_count": 87,
   "metadata": {},
   "outputs": [
    {
     "data": {
      "text/html": [
       "<div>\n",
       "<style scoped>\n",
       "    .dataframe tbody tr th:only-of-type {\n",
       "        vertical-align: middle;\n",
       "    }\n",
       "\n",
       "    .dataframe tbody tr th {\n",
       "        vertical-align: top;\n",
       "    }\n",
       "\n",
       "    .dataframe thead th {\n",
       "        text-align: right;\n",
       "    }\n",
       "</style>\n",
       "<table border=\"1\" class=\"dataframe\">\n",
       "  <thead>\n",
       "    <tr style=\"text-align: right;\">\n",
       "      <th></th>\n",
       "      <th>sentiment_score</th>\n",
       "      <th>Closing_price</th>\n",
       "    </tr>\n",
       "    <tr>\n",
       "      <th>Date</th>\n",
       "      <th></th>\n",
       "      <th></th>\n",
       "    </tr>\n",
       "  </thead>\n",
       "  <tbody>\n",
       "    <tr>\n",
       "      <th>2006-12-06 10:38:00</th>\n",
       "      <td>-0.084469</td>\n",
       "      <td>0.326844</td>\n",
       "    </tr>\n",
       "    <tr>\n",
       "      <th>2007-01-04 06:01:00</th>\n",
       "      <td>0.014227</td>\n",
       "      <td>0.339255</td>\n",
       "    </tr>\n",
       "    <tr>\n",
       "      <th>2007-01-22 05:28:00</th>\n",
       "      <td>-0.147429</td>\n",
       "      <td>0.350450</td>\n",
       "    </tr>\n",
       "    <tr>\n",
       "      <th>2007-01-22 07:31:00</th>\n",
       "      <td>-0.780358</td>\n",
       "      <td>0.350450</td>\n",
       "    </tr>\n",
       "    <tr>\n",
       "      <th>2007-01-23 11:14:00</th>\n",
       "      <td>0.021779</td>\n",
       "      <td>0.334875</td>\n",
       "    </tr>\n",
       "    <tr>\n",
       "      <th>...</th>\n",
       "      <td>...</td>\n",
       "      <td>...</td>\n",
       "    </tr>\n",
       "    <tr>\n",
       "      <th>2019-11-08 07:45:00</th>\n",
       "      <td>-0.612679</td>\n",
       "      <td>0.272086</td>\n",
       "    </tr>\n",
       "    <tr>\n",
       "      <th>2019-11-09 10:26:00</th>\n",
       "      <td>-0.669137</td>\n",
       "      <td>NaN</td>\n",
       "    </tr>\n",
       "    <tr>\n",
       "      <th>2020-03-05 04:30:00</th>\n",
       "      <td>0.060883</td>\n",
       "      <td>0.191287</td>\n",
       "    </tr>\n",
       "    <tr>\n",
       "      <th>2021-02-09 06:27:00</th>\n",
       "      <td>0.195844</td>\n",
       "      <td>0.399367</td>\n",
       "    </tr>\n",
       "    <tr>\n",
       "      <th>2021-07-08 03:05:00</th>\n",
       "      <td>0.170631</td>\n",
       "      <td>0.617912</td>\n",
       "    </tr>\n",
       "  </tbody>\n",
       "</table>\n",
       "<p>120 rows × 2 columns</p>\n",
       "</div>"
      ],
      "text/plain": [
       "                     sentiment_score  Closing_price\n",
       "Date                                               \n",
       "2006-12-06 10:38:00        -0.084469       0.326844\n",
       "2007-01-04 06:01:00         0.014227       0.339255\n",
       "2007-01-22 05:28:00        -0.147429       0.350450\n",
       "2007-01-22 07:31:00        -0.780358       0.350450\n",
       "2007-01-23 11:14:00         0.021779       0.334875\n",
       "...                              ...            ...\n",
       "2019-11-08 07:45:00        -0.612679       0.272086\n",
       "2019-11-09 10:26:00        -0.669137            NaN\n",
       "2020-03-05 04:30:00         0.060883       0.191287\n",
       "2021-02-09 06:27:00         0.195844       0.399367\n",
       "2021-07-08 03:05:00         0.170631       0.617912\n",
       "\n",
       "[120 rows x 2 columns]"
      ]
     },
     "execution_count": 87,
     "metadata": {},
     "output_type": "execute_result"
    }
   ],
   "source": [
    "gps_manage_topic_final"
   ]
  },
  {
   "cell_type": "code",
   "execution_count": 90,
   "metadata": {},
   "outputs": [],
   "source": [
    "gps_stock_topic_lstm = gps_stock_topic_final.dropna()\n",
    "gps_manage_topic_lstm = gps_manage_topic_final.dropna()\n",
    "gps_performance_topic_lstm = gps_performance_topic_final.dropna()\n",
    "gps_sales_topic_lstm = gps_sales_topic_final.dropna()\n"
   ]
  },
  {
   "cell_type": "code",
   "execution_count": 91,
   "metadata": {},
   "outputs": [],
   "source": [
    "#gps_stock_topic_lstm.to_csv('gps_stock_topic_lstm.csv', index = True)\n",
    "#gps_performance_topic_lstm.to_csv('gps_performance_topic_lstm.csv', index = True)\n",
    "#gps_sales_topic_lstm.to_csv('gps_sales_topic_lstm.csv', index = True)\n",
    "#gps_manage_topic_lstm.to_csv('gps_manage_topic_lstm.csv', index = True)"
   ]
  },
  {
   "cell_type": "code",
   "execution_count": null,
   "metadata": {},
   "outputs": [],
   "source": [
    "gps_stock_topic_lstm_ffill = gps_stock_topic_final.fillna(method = 'bfill')\n",
    "gps_manage_topic_lstm_fill = gps_manage_topic_final.fillna(method = 'bfill')\n",
    "gps_performance_topic_lstm_ffill = gps_performance_topic_final.fillna(method = 'bfill')\n",
    "gps_sales_topic_lstm_fill = gps_sales_topic_final.fillna(method = 'bfill')\n"
   ]
  }
 ],
 "metadata": {
  "interpreter": {
   "hash": "31f2aee4e71d21fbe5cf8b01ff0e069b9275f58929596ceb00d14d90e3e16cd6"
  },
  "kernelspec": {
   "display_name": "Python 3.6.9 64-bit",
   "language": "python",
   "name": "python3"
  },
  "language_info": {
   "codemirror_mode": {
    "name": "ipython",
    "version": 3
   },
   "file_extension": ".py",
   "mimetype": "text/x-python",
   "name": "python",
   "nbconvert_exporter": "python",
   "pygments_lexer": "ipython3",
   "version": "3.6.9"
  },
  "orig_nbformat": 4
 },
 "nbformat": 4,
 "nbformat_minor": 2
}
