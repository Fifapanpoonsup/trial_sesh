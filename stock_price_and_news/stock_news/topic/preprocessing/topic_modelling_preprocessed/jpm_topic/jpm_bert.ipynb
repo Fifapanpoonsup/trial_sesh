{
 "cells": [
  {
   "cell_type": "code",
   "execution_count": 58,
   "metadata": {},
   "outputs": [],
   "source": [
    "import pandas as pd\n",
    "import yfinance as yf\n",
    "from transformers import AutoTokenizer, AutoModelForSequenceClassification\n",
    "import numpy as np\n",
    "from sklearn.preprocessing import MinMaxScaler"
   ]
  },
  {
   "cell_type": "code",
   "execution_count": 59,
   "metadata": {},
   "outputs": [],
   "source": [
    "jpm_stock_merge = pd.read_csv(r'C:\\Users\\User\\Desktop\\thesis_17_3_2022\\stock_price_and_news\\topic\\topic_selection\\jpm_topic\\performance_jpm.csv')\n",
    "jpm_economy_merge = pd.read_csv(r'C:\\Users\\User\\Desktop\\thesis_17_3_2022\\stock_price_and_news\\topic\\topic_selection\\jpm_topic\\economy_jpm.csv')\n",
    "jpm_industry_merge = pd.read_csv(r'C:\\Users\\User\\Desktop\\thesis_17_3_2022\\stock_price_and_news\\topic\\topic_selection\\jpm_topic\\industry_jpm.csv')\n",
    "jpm_competitors_merge = pd.read_csv(r'C:\\Users\\User\\Desktop\\thesis_17_3_2022\\stock_price_and_news\\topic\\topic_selection\\jpm_topic\\competitors_jpm.csv')\n",
    "jpm_crypto_merge = pd.read_csv(r'C:\\Users\\User\\Desktop\\thesis_17_3_2022\\stock_price_and_news\\topic\\topic_selection\\jpm_topic\\crypto_jpm.csv')\n"
   ]
  },
  {
   "cell_type": "code",
   "execution_count": 60,
   "metadata": {},
   "outputs": [],
   "source": [
    "jpm_stock_merge1 = jpm_stock_merge['text_headlines']\n",
    "jpm_competitors_merge1 = jpm_competitors_merge['text_headlines']\n",
    "jpm_industry_merge1 = jpm_industry_merge['text_headlines']\n",
    "jpm_crypto_merge1 = jpm_crypto_merge['text_headlines']\n",
    "jpm_economy_merge1 = jpm_economy_merge['text_headlines']\n"
   ]
  },
  {
   "cell_type": "code",
   "execution_count": 61,
   "metadata": {},
   "outputs": [],
   "source": [
    "jpm_stock_merge2 = jpm_stock_merge1.to_list()\n",
    "jpm_competitors_merge2 = jpm_competitors_merge1.to_list()\n",
    "jpm_industry_merge2 = jpm_industry_merge1.to_list()\n",
    "jpm_crypto_merge2 = jpm_crypto_merge1.to_list()\n",
    "jpm_economy_merge2 = jpm_economy_merge1.to_list()"
   ]
  },
  {
   "cell_type": "code",
   "execution_count": 62,
   "metadata": {},
   "outputs": [
    {
     "data": {
      "text/plain": [
       "['financial stocks pare gains on s&p outlook',\n",
       " 'banks post solid gains in preopen trade',\n",
       " 'financial stocks give up gains in down market',\n",
       " 'morgan stanley gives up mbia-pact inspired gains',\n",
       " 'jp morgan sees flat ib revenue may up dividend',\n",
       " 'jp morgan sees flattening ib revenue',\n",
       " 'financial stocks pare gains on europe warning',\n",
       " 'financials pare gains as market retreats',\n",
       " 'us banks add to gains after ecb rate cut',\n",
       " 'us bank stocks add to gains after ecb rate cut']"
      ]
     },
     "execution_count": 62,
     "metadata": {},
     "output_type": "execute_result"
    }
   ],
   "source": [
    "jpm_stock_merge2[-10:]"
   ]
  },
  {
   "cell_type": "code",
   "execution_count": 63,
   "metadata": {},
   "outputs": [
    {
     "name": "stderr",
     "output_type": "stream",
     "text": [
      "Some weights of the model checkpoint at bert-base-uncased were not used when initializing BertForSequenceClassification: ['cls.predictions.bias', 'cls.seq_relationship.weight', 'cls.predictions.transform.LayerNorm.weight', 'cls.predictions.transform.dense.bias', 'cls.predictions.transform.dense.weight', 'cls.predictions.decoder.weight', 'cls.seq_relationship.bias', 'cls.predictions.transform.LayerNorm.bias']\n",
      "- This IS expected if you are initializing BertForSequenceClassification from the checkpoint of a model trained on another task or with another architecture (e.g. initializing a BertForSequenceClassification model from a BertForPreTraining model).\n",
      "- This IS NOT expected if you are initializing BertForSequenceClassification from the checkpoint of a model that you expect to be exactly identical (initializing a BertForSequenceClassification model from a BertForSequenceClassification model).\n",
      "Some weights of BertForSequenceClassification were not initialized from the model checkpoint at bert-base-uncased and are newly initialized: ['classifier.bias', 'classifier.weight']\n",
      "You should probably TRAIN this model on a down-stream task to be able to use it for predictions and inference.\n"
     ]
    }
   ],
   "source": [
    "from transformers import BertModel, BertTokenizer,AutoModelForSequenceClassification\n",
    "tokenizer = BertTokenizer.from_pretrained('bert-base-uncased')\n",
    "\n",
    "model = AutoModelForSequenceClassification.from_pretrained('bert-base-uncased',num_labels = 3)"
   ]
  },
  {
   "cell_type": "code",
   "execution_count": 64,
   "metadata": {},
   "outputs": [],
   "source": [
    "def softmax(x):\n",
    "    \"\"\"Compute softmax values for each sets of scores in x.\"\"\"\n",
    "    e_x = np.exp(x - np.max(x, axis=1)[:, None])\n",
    "    return e_x / np.sum(e_x, axis=1)[:, None]"
   ]
  },
  {
   "cell_type": "code",
   "execution_count": 65,
   "metadata": {},
   "outputs": [
    {
     "name": "stdout",
     "output_type": "stream",
     "text": [
      "[-0.14544746 -0.15728644 -0.15301248 -0.16399765 -0.14997044 -0.16886064\n",
      " -0.15557069 -0.17942566 -0.17146894]\n"
     ]
    }
   ],
   "source": [
    "label_dict = {0: 'positive', 1: 'negative', 2: 'neutral'}\n",
    "jpm_out_stock = []\n",
    "jpm_score_stock = []\n",
    "for i in range(0, len(jpm_stock_merge2), 10):\n",
    "    tokenized_jpm_stock = tokenizer(jpm_stock_merge2[i:i+10], truncation = True, padding = True, return_tensors = \"pt\")\n",
    "    jpm_output_stock = model(tokenized_jpm_stock['input_ids'])\n",
    "    soft_logits_stock = softmax(np.array(jpm_output_stock.logits.detach().cpu()))\n",
    "    sentiment_score_stock = soft_logits_stock[:,0]-soft_logits_stock[:,1]\n",
    "    jpm_pred_stock = np.squeeze(np.argmax(soft_logits_stock, axis = 1))\n",
    "    jpm_out_stock.extend(jpm_pred_stock)\n",
    "    jpm_score_stock.extend(sentiment_score_stock)\n",
    "#print(jpm_out) \n",
    "print(sentiment_score_stock)"
   ]
  },
  {
   "cell_type": "code",
   "execution_count": 66,
   "metadata": {},
   "outputs": [
    {
     "name": "stdout",
     "output_type": "stream",
     "text": [
      "1149\n",
      "1149\n"
     ]
    }
   ],
   "source": [
    "print(len(jpm_out_stock))\n",
    "jpm_class_stock = [label_dict[pred] for pred in jpm_out_stock]\n",
    "print(len(jpm_class_stock))\n",
    "#print(tsla_class)"
   ]
  },
  {
   "cell_type": "code",
   "execution_count": 67,
   "metadata": {},
   "outputs": [
    {
     "name": "stdout",
     "output_type": "stream",
     "text": [
      "[-0.15191907 -0.18643937]\n"
     ]
    }
   ],
   "source": [
    "\n",
    "jpm_out_competitors = []\n",
    "jpm_score_competitors = []\n",
    "for i in range(0, len(jpm_competitors_merge2), 10):\n",
    "    tokenized_jpm_competitors = tokenizer(jpm_competitors_merge2[i:i+10], truncation = True, padding = True, return_tensors = \"pt\")\n",
    "    jpm_output_competitors = model(tokenized_jpm_competitors['input_ids'])\n",
    "    soft_logits_competitors = softmax(np.array(jpm_output_competitors.logits.detach().cpu()))\n",
    "    sentiment_score_competitors = soft_logits_competitors[:,0]-soft_logits_competitors[:,1]\n",
    "    jpm_pred_competitors = np.squeeze(np.argmax(soft_logits_competitors, axis = 1))\n",
    "    jpm_out_competitors.extend(jpm_pred_competitors)\n",
    "    jpm_score_competitors.extend(sentiment_score_competitors)\n",
    "#print(jpm_out) \n",
    "print(sentiment_score_competitors)"
   ]
  },
  {
   "cell_type": "code",
   "execution_count": 68,
   "metadata": {},
   "outputs": [
    {
     "name": "stdout",
     "output_type": "stream",
     "text": [
      "332\n",
      "332\n"
     ]
    }
   ],
   "source": [
    "print(len(jpm_out_competitors))\n",
    "jpm_class_competitors = [label_dict[pred] for pred in jpm_out_competitors]\n",
    "print(len(jpm_class_competitors))\n",
    "#print(tsla_class)"
   ]
  },
  {
   "cell_type": "code",
   "execution_count": 69,
   "metadata": {},
   "outputs": [
    {
     "name": "stdout",
     "output_type": "stream",
     "text": [
      "[-0.15453148 -0.17710829 -0.18188438 -0.19649214 -0.14838362]\n"
     ]
    }
   ],
   "source": [
    "\n",
    "jpm_out_industry = []\n",
    "jpm_score_industry = []\n",
    "for i in range(0, len(jpm_industry_merge2), 10):\n",
    "    tokenized_jpm_industry = tokenizer(jpm_industry_merge2[i:i+10], truncation = True, padding = True, return_tensors = \"pt\")\n",
    "    jpm_output_industry = model(tokenized_jpm_industry['input_ids'])\n",
    "    soft_logits_industry = softmax(np.array(jpm_output_industry.logits.detach().cpu()))\n",
    "    sentiment_score_industry = soft_logits_industry[:,0]-soft_logits_industry[:,1]\n",
    "    jpm_pred_industry = np.squeeze(np.argmax(soft_logits_industry, axis = 1))\n",
    "    jpm_out_industry.extend(jpm_pred_industry)\n",
    "    jpm_score_industry.extend(sentiment_score_industry)\n",
    "#print(jpm_out) \n",
    "print(sentiment_score_industry)"
   ]
  },
  {
   "cell_type": "code",
   "execution_count": 70,
   "metadata": {},
   "outputs": [
    {
     "name": "stdout",
     "output_type": "stream",
     "text": [
      "285\n",
      "285\n"
     ]
    }
   ],
   "source": [
    "print(len(jpm_out_industry))\n",
    "jpm_class_industry = [label_dict[pred] for pred in jpm_out_industry]\n",
    "print(len(jpm_class_industry))\n",
    "#print(tsla_class)"
   ]
  },
  {
   "cell_type": "code",
   "execution_count": 71,
   "metadata": {},
   "outputs": [
    {
     "name": "stdout",
     "output_type": "stream",
     "text": [
      "[-0.14694762 -0.15130877 -0.15936258 -0.13830113 -0.15750909 -0.17410824\n",
      " -0.17294222]\n"
     ]
    }
   ],
   "source": [
    "\n",
    "jpm_out_crypto = []\n",
    "jpm_score_crypto = []\n",
    "for i in range(0, len(jpm_crypto_merge2), 10):\n",
    "    tokenized_jpm_crypto = tokenizer(jpm_crypto_merge2[i:i+10], truncation = True, padding = True, return_tensors = \"pt\")\n",
    "    jpm_output_crypto = model(tokenized_jpm_crypto['input_ids'])\n",
    "    soft_logits_crypto = softmax(np.array(jpm_output_crypto.logits.detach().cpu()))\n",
    "    sentiment_score_crypto = soft_logits_crypto[:,0]-soft_logits_crypto[:,1]\n",
    "    jpm_pred_crypto = np.squeeze(np.argmax(soft_logits_crypto, axis = 1))\n",
    "    jpm_out_crypto.extend(jpm_pred_crypto)\n",
    "    jpm_score_crypto.extend(sentiment_score_crypto)\n",
    "#print(jpm_out) \n",
    "print(sentiment_score_crypto)"
   ]
  },
  {
   "cell_type": "code",
   "execution_count": 72,
   "metadata": {},
   "outputs": [
    {
     "name": "stdout",
     "output_type": "stream",
     "text": [
      "1007\n",
      "1007\n"
     ]
    }
   ],
   "source": [
    "print(len(jpm_out_crypto))\n",
    "jpm_class_crypto = [label_dict[pred] for pred in jpm_out_crypto]\n",
    "print(len(jpm_class_crypto))\n",
    "#print(tsla_class)"
   ]
  },
  {
   "cell_type": "code",
   "execution_count": 73,
   "metadata": {},
   "outputs": [
    {
     "name": "stdout",
     "output_type": "stream",
     "text": [
      "[-0.14694762 -0.15130877 -0.15936258 -0.13830113 -0.15750909 -0.17410824\n",
      " -0.17294222]\n"
     ]
    }
   ],
   "source": [
    "\n",
    "jpm_out_economy = []\n",
    "jpm_score_economy = []\n",
    "for i in range(0, len(jpm_economy_merge2), 10):\n",
    "    tokenized_jpm_economy = tokenizer(jpm_economy_merge2[i:i+10], truncation = True, padding = True, return_tensors = \"pt\")\n",
    "    jpm_output_economy = model(tokenized_jpm_economy['input_ids'])\n",
    "    soft_logits_economy = softmax(np.array(jpm_output_economy.logits.detach().cpu()))\n",
    "    sentiment_score_economy = soft_logits_economy[:,0]-soft_logits_economy[:,1]\n",
    "    jpm_pred_economy = np.squeeze(np.argmax(soft_logits_economy, axis = 1))\n",
    "    jpm_out_economy.extend(jpm_pred_economy)\n",
    "    jpm_score_economy.extend(sentiment_score_economy)\n",
    "#print(jpm_out) \n",
    "print(sentiment_score_crypto)"
   ]
  },
  {
   "cell_type": "code",
   "execution_count": 74,
   "metadata": {},
   "outputs": [
    {
     "name": "stdout",
     "output_type": "stream",
     "text": [
      "722\n",
      "722\n"
     ]
    }
   ],
   "source": [
    "print(len(jpm_out_economy))\n",
    "jpm_class_economy = [label_dict[pred] for pred in jpm_out_economy]\n",
    "print(len(jpm_class_economy))\n",
    "#print(tsla_class)"
   ]
  },
  {
   "cell_type": "code",
   "execution_count": 75,
   "metadata": {},
   "outputs": [
    {
     "name": "stdout",
     "output_type": "stream",
     "text": [
      "[*********************100%***********************]  1 of 1 completed\n"
     ]
    }
   ],
   "source": [
    "jpm_stock_price  = yf.download('jpm,', start='2011-10-20', end='2022-02-15', time_interval = 'daily')\n"
   ]
  },
  {
   "cell_type": "code",
   "execution_count": 76,
   "metadata": {},
   "outputs": [],
   "source": [
    "jpm_stock_price = jpm_stock_price.drop(['Open', 'High','Low','Volume', 'Adj Close'], axis = 1)"
   ]
  },
  {
   "cell_type": "code",
   "execution_count": 77,
   "metadata": {},
   "outputs": [],
   "source": [
    "scaler = MinMaxScaler(feature_range=(0, 1))\n",
    "jpm_scaler_price = scaler.fit_transform(jpm_stock_price.values.reshape(-1,1))"
   ]
  },
  {
   "cell_type": "code",
   "execution_count": 78,
   "metadata": {},
   "outputs": [],
   "source": [
    "jpm_stock_date = jpm_stock_merge['Date']\n",
    "jpm_competitors_date = jpm_competitors_merge['Date']\n",
    "jpm_economy_date = jpm_economy_merge['Date']\n",
    "jpm_crypto_date = jpm_crypto_merge['Date']\n",
    "jpm_industry_date = jpm_industry_merge['Date']\n"
   ]
  },
  {
   "cell_type": "code",
   "execution_count": 79,
   "metadata": {},
   "outputs": [],
   "source": [
    "jpm_score_stock = pd.DataFrame (jpm_score_stock, columns = ['sentiment_score'])\n",
    "jpm_score_industry = pd.DataFrame (jpm_score_industry, columns = ['sentiment_score'])\n",
    "jpm_score_economy = pd.DataFrame (jpm_score_economy, columns = ['sentiment_score'])\n",
    "jpm_score_competitors = pd.DataFrame (jpm_score_competitors, columns = ['sentiment_score'])\n",
    "jpm_score_crypto = pd.DataFrame (jpm_score_crypto, columns = ['sentiment_score'])\n"
   ]
  },
  {
   "cell_type": "code",
   "execution_count": 80,
   "metadata": {},
   "outputs": [],
   "source": [
    "scaler = MinMaxScaler(feature_range=(0, 1))\n",
    "jpm_stock_scaler = scaler.fit_transform(jpm_score_stock.values.reshape(-1,1))\n",
    "jpm_industry_scaler = scaler.fit_transform(jpm_score_industry.values.reshape(-1,1))\n",
    "jpm_economy_scaler = scaler.fit_transform(jpm_score_economy.values.reshape(-1,1))\n",
    "jpm_competitors_scaler = scaler.fit_transform(jpm_score_competitors.values.reshape(-1,1))\n",
    "jpm_crypto_scaler = scaler.fit_transform(jpm_score_crypto.values.reshape(-1,1))\n"
   ]
  },
  {
   "cell_type": "code",
   "execution_count": 81,
   "metadata": {},
   "outputs": [],
   "source": [
    "jpm_stock_scaler = pd.DataFrame (jpm_stock_scaler, columns = ['sentiment_score'])\n",
    "jpm_industry_scaler = pd.DataFrame (jpm_industry_scaler, columns = ['sentiment_score'])\n",
    "jpm_economy_scaler = pd.DataFrame (jpm_economy_scaler, columns = ['sentiment_score'])\n",
    "jpm_competitors_scaler = pd.DataFrame (jpm_competitors_scaler, columns = ['sentiment_score'])\n",
    "jpm_crypto_scaler = pd.DataFrame (jpm_crypto_scaler, columns = ['sentiment_score'])"
   ]
  },
  {
   "cell_type": "code",
   "execution_count": 82,
   "metadata": {},
   "outputs": [],
   "source": [
    "jpm_topic_stock_table = pd.concat([jpm_stock_date, jpm_stock_scaler], axis=1)\n",
    "jpm_topic_industry_table = pd.concat([jpm_industry_date, jpm_industry_scaler], axis=1)\n",
    "jpm_topic_economy_table = pd.concat([jpm_economy_date, jpm_economy_scaler], axis=1)\n",
    "jpm_topic_competitors_table = pd.concat([jpm_competitors_date, jpm_competitors_scaler], axis=1)\n",
    "jpm_topic_crypto_table = pd.concat([jpm_crypto_date, jpm_crypto_scaler], axis=1)\n"
   ]
  },
  {
   "cell_type": "code",
   "execution_count": 83,
   "metadata": {},
   "outputs": [],
   "source": [
    "jpm_stock_topic = jpm_topic_stock_table.sort_values(by =\"Date\")\n",
    "jpm_crypto_topic = jpm_topic_crypto_table.sort_values(by =\"Date\")\n",
    "jpm_economy_topic = jpm_topic_economy_table.sort_values(by =\"Date\")\n",
    "jpm_industry_topic = jpm_topic_industry_table.sort_values(by =\"Date\")\n",
    "jpm_competitors_topic = jpm_topic_competitors_table.sort_values(by =\"Date\")\n"
   ]
  },
  {
   "cell_type": "code",
   "execution_count": 84,
   "metadata": {},
   "outputs": [],
   "source": [
    "jpm_stock_topic['Date'] = pd.to_datetime(jpm_stock_topic['Date'])\n",
    "jpm_crypto_topic['Date'] = pd.to_datetime(jpm_crypto_topic['Date'])\n",
    "jpm_economy_topic['Date'] = pd.to_datetime(jpm_economy_topic['Date'])\n",
    "jpm_industry_topic['Date'] = pd.to_datetime(jpm_industry_topic['Date'])\n",
    "jpm_competitors_topic['Date'] = pd.to_datetime(jpm_competitors_topic['Date'])\n"
   ]
  },
  {
   "cell_type": "code",
   "execution_count": 85,
   "metadata": {},
   "outputs": [
    {
     "name": "stdout",
     "output_type": "stream",
     "text": [
      "<class 'pandas.core.frame.DataFrame'>\n",
      "Int64Index: 1149 entries, 1148 to 0\n",
      "Data columns (total 2 columns):\n",
      " #   Column           Non-Null Count  Dtype         \n",
      "---  ------           --------------  -----         \n",
      " 0   Date             1149 non-null   datetime64[ns]\n",
      " 1   sentiment_score  1149 non-null   float32       \n",
      "dtypes: datetime64[ns](1), float32(1)\n",
      "memory usage: 22.4 KB\n"
     ]
    }
   ],
   "source": [
    "jpm_stock_topic.info()"
   ]
  },
  {
   "cell_type": "code",
   "execution_count": 86,
   "metadata": {},
   "outputs": [],
   "source": [
    "jpm_pure_price = pd.DataFrame(jpm_scaler_price, columns = ['Closing_price'])\n"
   ]
  },
  {
   "cell_type": "code",
   "execution_count": 87,
   "metadata": {},
   "outputs": [],
   "source": [
    "jpm_stock_price1 = jpm_stock_price.reset_index()"
   ]
  },
  {
   "cell_type": "code",
   "execution_count": 88,
   "metadata": {},
   "outputs": [],
   "source": [
    "jpm_stockprice_date = jpm_stock_price1[\"Date\"]"
   ]
  },
  {
   "cell_type": "code",
   "execution_count": 89,
   "metadata": {},
   "outputs": [],
   "source": [
    "jpm_stockprice_date = pd.DataFrame({ 'Stock_price_date':jpm_stockprice_date.values})"
   ]
  },
  {
   "cell_type": "code",
   "execution_count": 90,
   "metadata": {},
   "outputs": [
    {
     "data": {
      "text/html": [
       "<div>\n",
       "<style scoped>\n",
       "    .dataframe tbody tr th:only-of-type {\n",
       "        vertical-align: middle;\n",
       "    }\n",
       "\n",
       "    .dataframe tbody tr th {\n",
       "        vertical-align: top;\n",
       "    }\n",
       "\n",
       "    .dataframe thead th {\n",
       "        text-align: right;\n",
       "    }\n",
       "</style>\n",
       "<table border=\"1\" class=\"dataframe\">\n",
       "  <thead>\n",
       "    <tr style=\"text-align: right;\">\n",
       "      <th></th>\n",
       "      <th>Stock_price_date</th>\n",
       "    </tr>\n",
       "  </thead>\n",
       "  <tbody>\n",
       "    <tr>\n",
       "      <th>0</th>\n",
       "      <td>2011-10-19</td>\n",
       "    </tr>\n",
       "    <tr>\n",
       "      <th>1</th>\n",
       "      <td>2011-10-20</td>\n",
       "    </tr>\n",
       "    <tr>\n",
       "      <th>2</th>\n",
       "      <td>2011-10-21</td>\n",
       "    </tr>\n",
       "    <tr>\n",
       "      <th>3</th>\n",
       "      <td>2011-10-24</td>\n",
       "    </tr>\n",
       "    <tr>\n",
       "      <th>4</th>\n",
       "      <td>2011-10-25</td>\n",
       "    </tr>\n",
       "    <tr>\n",
       "      <th>...</th>\n",
       "      <td>...</td>\n",
       "    </tr>\n",
       "    <tr>\n",
       "      <th>2593</th>\n",
       "      <td>2022-02-08</td>\n",
       "    </tr>\n",
       "    <tr>\n",
       "      <th>2594</th>\n",
       "      <td>2022-02-09</td>\n",
       "    </tr>\n",
       "    <tr>\n",
       "      <th>2595</th>\n",
       "      <td>2022-02-10</td>\n",
       "    </tr>\n",
       "    <tr>\n",
       "      <th>2596</th>\n",
       "      <td>2022-02-11</td>\n",
       "    </tr>\n",
       "    <tr>\n",
       "      <th>2597</th>\n",
       "      <td>2022-02-14</td>\n",
       "    </tr>\n",
       "  </tbody>\n",
       "</table>\n",
       "<p>2598 rows × 1 columns</p>\n",
       "</div>"
      ],
      "text/plain": [
       "     Stock_price_date\n",
       "0          2011-10-19\n",
       "1          2011-10-20\n",
       "2          2011-10-21\n",
       "3          2011-10-24\n",
       "4          2011-10-25\n",
       "...               ...\n",
       "2593       2022-02-08\n",
       "2594       2022-02-09\n",
       "2595       2022-02-10\n",
       "2596       2022-02-11\n",
       "2597       2022-02-14\n",
       "\n",
       "[2598 rows x 1 columns]"
      ]
     },
     "execution_count": 90,
     "metadata": {},
     "output_type": "execute_result"
    }
   ],
   "source": [
    "jpm_stockprice_date"
   ]
  },
  {
   "cell_type": "code",
   "execution_count": 91,
   "metadata": {},
   "outputs": [],
   "source": [
    "jpm_stock_table =pd.concat([jpm_stockprice_date,jpm_pure_price], axis=1)"
   ]
  },
  {
   "cell_type": "code",
   "execution_count": 92,
   "metadata": {},
   "outputs": [
    {
     "name": "stdout",
     "output_type": "stream",
     "text": [
      "False\n"
     ]
    }
   ],
   "source": [
    "print(jpm_stock_table.isnull().values.any())\n"
   ]
  },
  {
   "cell_type": "code",
   "execution_count": 93,
   "metadata": {},
   "outputs": [],
   "source": [
    "jpm_stock_table1 = jpm_stock_table.set_index('Stock_price_date')\n"
   ]
  },
  {
   "cell_type": "code",
   "execution_count": 94,
   "metadata": {},
   "outputs": [
    {
     "data": {
      "text/html": [
       "<div>\n",
       "<style scoped>\n",
       "    .dataframe tbody tr th:only-of-type {\n",
       "        vertical-align: middle;\n",
       "    }\n",
       "\n",
       "    .dataframe tbody tr th {\n",
       "        vertical-align: top;\n",
       "    }\n",
       "\n",
       "    .dataframe thead th {\n",
       "        text-align: right;\n",
       "    }\n",
       "</style>\n",
       "<table border=\"1\" class=\"dataframe\">\n",
       "  <thead>\n",
       "    <tr style=\"text-align: right;\">\n",
       "      <th></th>\n",
       "      <th>Closing_price</th>\n",
       "    </tr>\n",
       "    <tr>\n",
       "      <th>Stock_price_date</th>\n",
       "      <th></th>\n",
       "    </tr>\n",
       "  </thead>\n",
       "  <tbody>\n",
       "    <tr>\n",
       "      <th>2011-10-19</th>\n",
       "      <td>0.026987</td>\n",
       "    </tr>\n",
       "    <tr>\n",
       "      <th>2011-10-20</th>\n",
       "      <td>0.033124</td>\n",
       "    </tr>\n",
       "    <tr>\n",
       "      <th>2011-10-21</th>\n",
       "      <td>0.035146</td>\n",
       "    </tr>\n",
       "    <tr>\n",
       "      <th>2011-10-24</th>\n",
       "      <td>0.043166</td>\n",
       "    </tr>\n",
       "    <tr>\n",
       "      <th>2011-10-25</th>\n",
       "      <td>0.035635</td>\n",
       "    </tr>\n",
       "    <tr>\n",
       "      <th>...</th>\n",
       "      <td>...</td>\n",
       "    </tr>\n",
       "    <tr>\n",
       "      <th>2022-02-08</th>\n",
       "      <td>0.889609</td>\n",
       "    </tr>\n",
       "    <tr>\n",
       "      <th>2022-02-09</th>\n",
       "      <td>0.894142</td>\n",
       "    </tr>\n",
       "    <tr>\n",
       "      <th>2022-02-10</th>\n",
       "      <td>0.889609</td>\n",
       "    </tr>\n",
       "    <tr>\n",
       "      <th>2022-02-11</th>\n",
       "      <td>0.875453</td>\n",
       "    </tr>\n",
       "    <tr>\n",
       "      <th>2022-02-14</th>\n",
       "      <td>0.865481</td>\n",
       "    </tr>\n",
       "  </tbody>\n",
       "</table>\n",
       "<p>2598 rows × 1 columns</p>\n",
       "</div>"
      ],
      "text/plain": [
       "                  Closing_price\n",
       "Stock_price_date               \n",
       "2011-10-19             0.026987\n",
       "2011-10-20             0.033124\n",
       "2011-10-21             0.035146\n",
       "2011-10-24             0.043166\n",
       "2011-10-25             0.035635\n",
       "...                         ...\n",
       "2022-02-08             0.889609\n",
       "2022-02-09             0.894142\n",
       "2022-02-10             0.889609\n",
       "2022-02-11             0.875453\n",
       "2022-02-14             0.865481\n",
       "\n",
       "[2598 rows x 1 columns]"
      ]
     },
     "execution_count": 94,
     "metadata": {},
     "output_type": "execute_result"
    }
   ],
   "source": [
    "jpm_stock_table1"
   ]
  },
  {
   "cell_type": "code",
   "execution_count": 95,
   "metadata": {},
   "outputs": [],
   "source": [
    "jpm_stock_topic2 = jpm_stock_topic.sort_values(by =\"Date\")\n",
    "jpm_crypto_topic2 = jpm_crypto_topic.sort_values(by =\"Date\")\n",
    "jpm_economy_topic2 = jpm_economy_topic.sort_values(by =\"Date\")\n",
    "jpm_industry_topic2 = jpm_industry_topic.sort_values(by =\"Date\")\n",
    "jpm_competitors_topic2 = jpm_competitors_topic.sort_values(by =\"Date\")"
   ]
  },
  {
   "cell_type": "code",
   "execution_count": 96,
   "metadata": {},
   "outputs": [],
   "source": [
    "jpm_stock_topic3 = jpm_stock_topic2.set_index(\"Date\")\n",
    "jpm_crypto_topic3 = jpm_crypto_topic2.set_index(\"Date\")\n",
    "jpm_economy_topic3 = jpm_economy_topic2.set_index(\"Date\")\n",
    "jpm_industry_topic3 = jpm_industry_topic2.set_index(\"Date\")\n",
    "jpm_competitors_topic3 = jpm_competitors_topic2.set_index(\"Date\")"
   ]
  },
  {
   "cell_type": "code",
   "execution_count": 97,
   "metadata": {},
   "outputs": [
    {
     "data": {
      "text/html": [
       "<div>\n",
       "<style scoped>\n",
       "    .dataframe tbody tr th:only-of-type {\n",
       "        vertical-align: middle;\n",
       "    }\n",
       "\n",
       "    .dataframe tbody tr th {\n",
       "        vertical-align: top;\n",
       "    }\n",
       "\n",
       "    .dataframe thead th {\n",
       "        text-align: right;\n",
       "    }\n",
       "</style>\n",
       "<table border=\"1\" class=\"dataframe\">\n",
       "  <thead>\n",
       "    <tr style=\"text-align: right;\">\n",
       "      <th></th>\n",
       "      <th>sentiment_score</th>\n",
       "    </tr>\n",
       "    <tr>\n",
       "      <th>Date</th>\n",
       "      <th></th>\n",
       "    </tr>\n",
       "  </thead>\n",
       "  <tbody>\n",
       "    <tr>\n",
       "      <th>2011-11-03 08:50:00</th>\n",
       "      <td>0.361878</td>\n",
       "    </tr>\n",
       "    <tr>\n",
       "      <th>2011-11-03 08:59:00</th>\n",
       "      <td>0.293310</td>\n",
       "    </tr>\n",
       "    <tr>\n",
       "      <th>2011-11-25 01:40:00</th>\n",
       "      <td>0.498885</td>\n",
       "    </tr>\n",
       "    <tr>\n",
       "      <th>2011-12-05 04:58:00</th>\n",
       "      <td>0.384356</td>\n",
       "    </tr>\n",
       "    <tr>\n",
       "      <th>2011-12-07 01:31:00</th>\n",
       "      <td>0.547146</td>\n",
       "    </tr>\n",
       "  </tbody>\n",
       "</table>\n",
       "</div>"
      ],
      "text/plain": [
       "                     sentiment_score\n",
       "Date                                \n",
       "2011-11-03 08:50:00         0.361878\n",
       "2011-11-03 08:59:00         0.293310\n",
       "2011-11-25 01:40:00         0.498885\n",
       "2011-12-05 04:58:00         0.384356\n",
       "2011-12-07 01:31:00         0.547146"
      ]
     },
     "execution_count": 97,
     "metadata": {},
     "output_type": "execute_result"
    }
   ],
   "source": [
    "jpm_stock_topic3.head()"
   ]
  },
  {
   "cell_type": "code",
   "execution_count": 98,
   "metadata": {},
   "outputs": [
    {
     "data": {
      "text/html": [
       "<div>\n",
       "<style scoped>\n",
       "    .dataframe tbody tr th:only-of-type {\n",
       "        vertical-align: middle;\n",
       "    }\n",
       "\n",
       "    .dataframe tbody tr th {\n",
       "        vertical-align: top;\n",
       "    }\n",
       "\n",
       "    .dataframe thead th {\n",
       "        text-align: right;\n",
       "    }\n",
       "</style>\n",
       "<table border=\"1\" class=\"dataframe\">\n",
       "  <thead>\n",
       "    <tr style=\"text-align: right;\">\n",
       "      <th></th>\n",
       "      <th>Closing_price</th>\n",
       "    </tr>\n",
       "    <tr>\n",
       "      <th>Stock_price_date</th>\n",
       "      <th></th>\n",
       "    </tr>\n",
       "  </thead>\n",
       "  <tbody>\n",
       "    <tr>\n",
       "      <th>2011-10-19</th>\n",
       "      <td>0.026987</td>\n",
       "    </tr>\n",
       "    <tr>\n",
       "      <th>2011-10-20</th>\n",
       "      <td>0.033124</td>\n",
       "    </tr>\n",
       "    <tr>\n",
       "      <th>2011-10-21</th>\n",
       "      <td>0.035146</td>\n",
       "    </tr>\n",
       "    <tr>\n",
       "      <th>2011-10-24</th>\n",
       "      <td>0.043166</td>\n",
       "    </tr>\n",
       "    <tr>\n",
       "      <th>2011-10-25</th>\n",
       "      <td>0.035635</td>\n",
       "    </tr>\n",
       "  </tbody>\n",
       "</table>\n",
       "</div>"
      ],
      "text/plain": [
       "                  Closing_price\n",
       "Stock_price_date               \n",
       "2011-10-19             0.026987\n",
       "2011-10-20             0.033124\n",
       "2011-10-21             0.035146\n",
       "2011-10-24             0.043166\n",
       "2011-10-25             0.035635"
      ]
     },
     "execution_count": 98,
     "metadata": {},
     "output_type": "execute_result"
    }
   ],
   "source": [
    "jpm_stock_table1.head()"
   ]
  },
  {
   "cell_type": "code",
   "execution_count": 99,
   "metadata": {},
   "outputs": [
    {
     "name": "stderr",
     "output_type": "stream",
     "text": [
      "C:\\Users\\User\\AppData\\Local\\Temp\\ipykernel_29744\\2232399434.py:2: FutureWarning: In a future version of pandas all arguments of DataFrame.drop except for the argument 'labels' will be keyword-only.\n",
      "  .merge(jpm_stock_table1, left_on='key', right_index=True, how='left').drop('key', 1)\n",
      "C:\\Users\\User\\AppData\\Local\\Temp\\ipykernel_29744\\2232399434.py:4: FutureWarning: In a future version of pandas all arguments of DataFrame.drop except for the argument 'labels' will be keyword-only.\n",
      "  .merge(jpm_stock_table1, left_on='key', right_index=True, how='left').drop('key', 1)\n",
      "C:\\Users\\User\\AppData\\Local\\Temp\\ipykernel_29744\\2232399434.py:6: FutureWarning: In a future version of pandas all arguments of DataFrame.drop except for the argument 'labels' will be keyword-only.\n",
      "  .merge(jpm_stock_table1, left_on='key', right_index=True, how='left').drop('key', 1)\n",
      "C:\\Users\\User\\AppData\\Local\\Temp\\ipykernel_29744\\2232399434.py:8: FutureWarning: In a future version of pandas all arguments of DataFrame.drop except for the argument 'labels' will be keyword-only.\n",
      "  .merge(jpm_stock_table1, left_on='key', right_index=True, how='left').drop('key', 1)\n",
      "C:\\Users\\User\\AppData\\Local\\Temp\\ipykernel_29744\\2232399434.py:10: FutureWarning: In a future version of pandas all arguments of DataFrame.drop except for the argument 'labels' will be keyword-only.\n",
      "  .merge(jpm_stock_table1, left_on='key', right_index=True, how='left').drop('key', 1)\n"
     ]
    }
   ],
   "source": [
    "jpm_stock_topic_final = jpm_stock_topic3.assign(key=jpm_stock_topic3.index.normalize())\\\n",
    "   .merge(jpm_stock_table1, left_on='key', right_index=True, how='left').drop('key', 1)\n",
    "jpm_industry_topic_final = jpm_industry_topic3.assign(key=jpm_industry_topic3.index.normalize())\\\n",
    "   .merge(jpm_stock_table1, left_on='key', right_index=True, how='left').drop('key', 1)\n",
    "jpm_crypto_topic_final = jpm_crypto_topic3.assign(key=jpm_crypto_topic3.index.normalize())\\\n",
    "   .merge(jpm_stock_table1, left_on='key', right_index=True, how='left').drop('key', 1)\n",
    "jpm_competitors_topic_final = jpm_competitors_topic3.assign(key=jpm_competitors_topic3.index.normalize())\\\n",
    "   .merge(jpm_stock_table1, left_on='key', right_index=True, how='left').drop('key', 1)\n",
    "jpm_economy_topic_final = jpm_economy_topic3.assign(key=jpm_economy_topic3.index.normalize())\\\n",
    "   .merge(jpm_stock_table1, left_on='key', right_index=True, how='left').drop('key', 1)"
   ]
  },
  {
   "cell_type": "code",
   "execution_count": 100,
   "metadata": {},
   "outputs": [
    {
     "data": {
      "text/html": [
       "<div>\n",
       "<style scoped>\n",
       "    .dataframe tbody tr th:only-of-type {\n",
       "        vertical-align: middle;\n",
       "    }\n",
       "\n",
       "    .dataframe tbody tr th {\n",
       "        vertical-align: top;\n",
       "    }\n",
       "\n",
       "    .dataframe thead th {\n",
       "        text-align: right;\n",
       "    }\n",
       "</style>\n",
       "<table border=\"1\" class=\"dataframe\">\n",
       "  <thead>\n",
       "    <tr style=\"text-align: right;\">\n",
       "      <th></th>\n",
       "      <th>sentiment_score</th>\n",
       "      <th>Closing_price</th>\n",
       "    </tr>\n",
       "    <tr>\n",
       "      <th>Date</th>\n",
       "      <th></th>\n",
       "      <th></th>\n",
       "    </tr>\n",
       "  </thead>\n",
       "  <tbody>\n",
       "    <tr>\n",
       "      <th>2011-10-21 04:39:00</th>\n",
       "      <td>0.767472</td>\n",
       "      <td>0.035146</td>\n",
       "    </tr>\n",
       "    <tr>\n",
       "      <th>2011-10-21 06:09:00</th>\n",
       "      <td>0.552936</td>\n",
       "      <td>0.035146</td>\n",
       "    </tr>\n",
       "    <tr>\n",
       "      <th>2011-11-01 05:12:00</th>\n",
       "      <td>0.634974</td>\n",
       "      <td>0.030195</td>\n",
       "    </tr>\n",
       "    <tr>\n",
       "      <th>2011-11-07 04:54:00</th>\n",
       "      <td>0.679397</td>\n",
       "      <td>0.040865</td>\n",
       "    </tr>\n",
       "    <tr>\n",
       "      <th>2011-11-10 05:09:00</th>\n",
       "      <td>0.399172</td>\n",
       "      <td>0.030404</td>\n",
       "    </tr>\n",
       "    <tr>\n",
       "      <th>...</th>\n",
       "      <td>...</td>\n",
       "      <td>...</td>\n",
       "    </tr>\n",
       "    <tr>\n",
       "      <th>2022-02-12 09:42:00</th>\n",
       "      <td>0.574530</td>\n",
       "      <td>NaN</td>\n",
       "    </tr>\n",
       "    <tr>\n",
       "      <th>2022-02-15 02:12:00</th>\n",
       "      <td>0.571816</td>\n",
       "      <td>NaN</td>\n",
       "    </tr>\n",
       "    <tr>\n",
       "      <th>2022-02-15 05:02:00</th>\n",
       "      <td>0.750000</td>\n",
       "      <td>NaN</td>\n",
       "    </tr>\n",
       "    <tr>\n",
       "      <th>2022-02-15 06:20:00</th>\n",
       "      <td>0.414612</td>\n",
       "      <td>NaN</td>\n",
       "    </tr>\n",
       "    <tr>\n",
       "      <th>2022-02-15 10:16:00</th>\n",
       "      <td>0.402735</td>\n",
       "      <td>NaN</td>\n",
       "    </tr>\n",
       "  </tbody>\n",
       "</table>\n",
       "<p>1007 rows × 2 columns</p>\n",
       "</div>"
      ],
      "text/plain": [
       "                     sentiment_score  Closing_price\n",
       "Date                                               \n",
       "2011-10-21 04:39:00         0.767472       0.035146\n",
       "2011-10-21 06:09:00         0.552936       0.035146\n",
       "2011-11-01 05:12:00         0.634974       0.030195\n",
       "2011-11-07 04:54:00         0.679397       0.040865\n",
       "2011-11-10 05:09:00         0.399172       0.030404\n",
       "...                              ...            ...\n",
       "2022-02-12 09:42:00         0.574530            NaN\n",
       "2022-02-15 02:12:00         0.571816            NaN\n",
       "2022-02-15 05:02:00         0.750000            NaN\n",
       "2022-02-15 06:20:00         0.414612            NaN\n",
       "2022-02-15 10:16:00         0.402735            NaN\n",
       "\n",
       "[1007 rows x 2 columns]"
      ]
     },
     "execution_count": 100,
     "metadata": {},
     "output_type": "execute_result"
    }
   ],
   "source": [
    "jpm_crypto_topic_final"
   ]
  },
  {
   "cell_type": "code",
   "execution_count": 108,
   "metadata": {},
   "outputs": [],
   "source": [
    "jpm_stock_topic_lstm = jpm_stock_topic_final.dropna()\n",
    "jpm_industry_topic_lstm = jpm_industry_topic_final.dropna()\n",
    "jpm_crypto_topic_lstm = jpm_crypto_topic_final.dropna()\n",
    "jpm_competitors_topic_lstm = jpm_competitors_topic_final.dropna()\n",
    "jpm_economy_topic_lstm = jpm_economy_topic_final.dropna()"
   ]
  },
  {
   "cell_type": "code",
   "execution_count": null,
   "metadata": {},
   "outputs": [],
   "source": []
  },
  {
   "cell_type": "code",
   "execution_count": 109,
   "metadata": {},
   "outputs": [],
   "source": [
    "jpm_stock_topic_lstm.to_csv('jpm_stock_topic_lstm_bert.csv', index = True)\n",
    "jpm_industry_topic_lstm.to_csv('jpm_industry_topic_lstm_bert.csv', index = True)\n",
    "jpm_competitors_topic_lstm.to_csv('jpm_competitors_topic_lstm_bert.csv', index = True)\n",
    "jpm_crypto_topic_lstm.to_csv('jpm_crypto_topic_lstm_bert.csv', index = True)\n",
    "jpm_economy_topic_lstm.to_csv('jpm_economy_topic_lstm_bert.csv', index = True)\n"
   ]
  },
  {
   "cell_type": "code",
   "execution_count": 103,
   "metadata": {},
   "outputs": [],
   "source": [
    "jpm_stock_topic_lstm_ffill = jpm_stock_topic_final.fillna(method = 'bfill')\n",
    "jpm_industry_topic_lstm_ffill = jpm_industry_topic_final.fillna(method = 'bfill')\n",
    "jpm_crypto_topic_lstm_ffill = jpm_crypto_topic_final.fillna(method = 'bfill')\n",
    "jpm_competitors_topic_lstm_ffill = jpm_competitors_topic_final.fillna(method = 'bfill')\n",
    "jpm_economy_topic_lstm_ffill = jpm_economy_topic_final.fillna(method = 'bfill')"
   ]
  },
  {
   "cell_type": "code",
   "execution_count": 107,
   "metadata": {},
   "outputs": [
    {
     "data": {
      "text/plain": [
       "sentiment_score    False\n",
       "Closing_price      False\n",
       "dtype: bool"
      ]
     },
     "execution_count": 107,
     "metadata": {},
     "output_type": "execute_result"
    }
   ],
   "source": [
    "jpm_crypto_topic_lstm_ffill.isnull().any()"
   ]
  },
  {
   "cell_type": "code",
   "execution_count": 105,
   "metadata": {},
   "outputs": [],
   "source": [
    "jpm_stock_topic_lstm_ffill = jpm_stock_topic_final.fillna(method = 'ffill')\n",
    "jpm_crypto_topic_lstm_ffill = jpm_crypto_topic_final.fillna(method = 'ffill')\n",
    "jpm_economy_topic_lstm_ffill = jpm_economy_topic_final.fillna(method = 'ffill')"
   ]
  },
  {
   "cell_type": "code",
   "execution_count": 106,
   "metadata": {},
   "outputs": [],
   "source": [
    "jpm_stock_topic_lstm_ffill.to_csv('jpm_stock_topic_lstm_ffill_bert.csv', index = True)\n",
    "jpm_industry_topic_lstm_ffill.to_csv('jpm_industry_topic_lstm_ffill_bert.csv', index = True)\n",
    "jpm_competitors_topic_lstm_ffill.to_csv('jpm_competitors_topic_lstm_ffill_bert.csv', index = True)\n",
    "jpm_crypto_topic_lstm_ffill.to_csv('jpm_crypto_topic_lstm_ffill_bert.csv', index = True)\n",
    "jpm_economy_topic_lstm_ffill.to_csv('jpm_economy_topic_lstm_ffill_bert.csv', index = True)"
   ]
  },
  {
   "cell_type": "code",
   "execution_count": 111,
   "metadata": {},
   "outputs": [
    {
     "data": {
      "text/plain": [
       "1149"
      ]
     },
     "execution_count": 111,
     "metadata": {},
     "output_type": "execute_result"
    }
   ],
   "source": []
  },
  {
   "cell_type": "code",
   "execution_count": null,
   "metadata": {},
   "outputs": [],
   "source": []
  }
 ],
 "metadata": {
  "interpreter": {
   "hash": "3b7e9cb8e453d6cda0fe8c8dd13f891a1f09162f0e7c66ffeae7751a7aecf00d"
  },
  "kernelspec": {
   "display_name": "Python 3.10.4 64-bit (windows store)",
   "language": "python",
   "name": "python3"
  },
  "language_info": {
   "codemirror_mode": {
    "name": "ipython",
    "version": 3
   },
   "file_extension": ".py",
   "mimetype": "text/x-python",
   "name": "python",
   "nbconvert_exporter": "python",
   "pygments_lexer": "ipython3",
   "version": "3.10.5"
  },
  "orig_nbformat": 4
 },
 "nbformat": 4,
 "nbformat_minor": 2
}
